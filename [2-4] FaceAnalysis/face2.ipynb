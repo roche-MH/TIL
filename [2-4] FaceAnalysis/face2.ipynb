{
 "cells": [
  {
   "cell_type": "code",
   "execution_count": 2,
   "metadata": {
    "ExecuteTime": {
     "end_time": "2020-02-13T07:34:34.028643Z",
     "start_time": "2020-02-13T07:34:34.022611Z"
    }
   },
   "outputs": [],
   "source": [
    "from imutils import face_utils\n",
    "import numpy as np\n",
    "import imutils\n",
    "import dlib\n",
    "import cv2\n",
    "import matplotlib.pyplot as plt\n",
    "import face_recognition\n",
    "import os\n",
    "from imutils import paths\n",
    "import pickle\n",
    "\n",
    "\n",
    "imagePaths = list(paths.list_images(\"faces\"))\n",
    " \n",
    "knownEncodings = []\n",
    "knownNames = []\n",
    "\n",
    "for (i, imagePath) in enumerate(imagePaths):    \n",
    "    name = imagePath.split(os.path.sep)[-2]\n",
    "    print(f\"{name}   -   {imagePath}\") \n",
    "    image = cv2.imread(imagePath)\n",
    "    boxes = face_recognition.face_locations(image)\n",
    "    encodings = face_recognition.face_encodings(image, boxes) \n",
    "\n",
    "    for encoding in encodings:        \n",
    "        knownEncodings.append(encoding)\n",
    "        knownNames.append(name)\n",
    "        \n",
    "\n",
    "data = {\"encodings\": knownEncodings, \"names\": knownNames}\n",
    "f = open(\"known.bin\", \"wb\")\n",
    "f.write(pickle.dumps(data))\n",
    "f.close()        "
   ]
  }
 ],
 "metadata": {
  "kernelspec": {
   "display_name": "Python 3",
   "language": "python",
   "name": "python3"
  },
  "language_info": {
   "codemirror_mode": {
    "name": "ipython",
    "version": 3
   },
   "file_extension": ".py",
   "mimetype": "text/x-python",
   "name": "python",
   "nbconvert_exporter": "python",
   "pygments_lexer": "ipython3",
   "version": "3.6.10"
  },
  "varInspector": {
   "cols": {
    "lenName": 16,
    "lenType": 16,
    "lenVar": 40
   },
   "kernels_config": {
    "python": {
     "delete_cmd_postfix": "",
     "delete_cmd_prefix": "del ",
     "library": "var_list.py",
     "varRefreshCmd": "print(var_dic_list())"
    },
    "r": {
     "delete_cmd_postfix": ") ",
     "delete_cmd_prefix": "rm(",
     "library": "var_list.r",
     "varRefreshCmd": "cat(var_dic_list()) "
    }
   },
   "types_to_exclude": [
    "module",
    "function",
    "builtin_function_or_method",
    "instance",
    "_Feature"
   ],
   "window_display": false
  }
 },
 "nbformat": 4,
 "nbformat_minor": 2
}
