{
 "cells": [
  {
   "cell_type": "markdown",
   "metadata": {},
   "source": [
    "# 피보나치 수열 메모리 제이션 문제 "
   ]
  },
  {
   "cell_type": "code",
   "execution_count": 29,
   "metadata": {
    "ExecuteTime": {
     "end_time": "2020-02-05T01:36:28.960862Z",
     "start_time": "2020-02-05T01:36:28.956920Z"
    }
   },
   "outputs": [],
   "source": [
    "def fibo(n):\n",
    "    if n < 3:\n",
    "        return 1\n",
    "    else:\n",
    "        return fibo(n-1) + fibo(n-2)"
   ]
  },
  {
   "cell_type": "code",
   "execution_count": 20,
   "metadata": {
    "ExecuteTime": {
     "end_time": "2020-02-05T01:25:34.304835Z",
     "start_time": "2020-02-05T01:25:34.301839Z"
    }
   },
   "outputs": [
    {
     "name": "stdout",
     "output_type": "stream",
     "text": [
      "5\n"
     ]
    }
   ],
   "source": [
    "print(fibo(5))"
   ]
  },
  {
   "cell_type": "code",
   "execution_count": 15,
   "metadata": {
    "ExecuteTime": {
     "end_time": "2020-02-05T01:19:14.995888Z",
     "start_time": "2020-02-05T01:16:02.104419Z"
    }
   },
   "outputs": [
    {
     "name": "stdout",
     "output_type": "stream",
     "text": [
      "1134903170\n"
     ]
    }
   ],
   "source": [
    "print(fibo(45)) ## 3분이 걸린다. 스택에 계속 쌓기 때문에"
   ]
  },
  {
   "cell_type": "code",
   "execution_count": 30,
   "metadata": {
    "ExecuteTime": {
     "end_time": "2020-02-05T01:36:30.873540Z",
     "start_time": "2020-02-05T01:36:30.868534Z"
    }
   },
   "outputs": [],
   "source": [
    "pre = {1:1, 2:1}\n",
    "def fibo2(n):\n",
    "    v = pre.get(n)\n",
    "    if v != None:\n",
    "        return v\n",
    "    else:\n",
    "        sum = fibo2(n-1)+ fibo(n-2)\n",
    "        pre[n] = sum\n",
    "        return sum"
   ]
  },
  {
   "cell_type": "code",
   "execution_count": 51,
   "metadata": {
    "ExecuteTime": {
     "end_time": "2020-02-05T01:47:29.275297Z",
     "start_time": "2020-02-05T01:47:29.271296Z"
    }
   },
   "outputs": [
    {
     "name": "stdout",
     "output_type": "stream",
     "text": [
      "1134903170\n",
      "102334155\n"
     ]
    }
   ],
   "source": [
    "## 처음 값은 구하는데 똑같은 시간이 걸리지만 그 밑으로는 빠르게 구할수 있음\n",
    "print(fibo2(45))\n",
    "print(fibo2(40))"
   ]
  },
  {
   "cell_type": "code",
   "execution_count": 53,
   "metadata": {
    "ExecuteTime": {
     "end_time": "2020-02-05T01:48:55.192766Z",
     "start_time": "2020-02-05T01:48:55.187787Z"
    }
   },
   "outputs": [
    {
     "name": "stdout",
     "output_type": "stream",
     "text": [
      "354224848179261915075\n"
     ]
    }
   ],
   "source": [
    "dp = [0] * (100+1)\n",
    "def fibonacci(n):\n",
    "    dp[0] = 0 \n",
    "    dp[1] = 1\n",
    "    for i in range(2,n+1):\n",
    "        dp[i] = dp[i - 1] + dp[i - 2];\n",
    "    return dp[n]\n",
    "print(fibonacci(100))"
   ]
  },
  {
   "cell_type": "code",
   "execution_count": 50,
   "metadata": {
    "ExecuteTime": {
     "end_time": "2020-02-05T01:43:15.509845Z",
     "start_time": "2020-02-05T01:43:15.506853Z"
    }
   },
   "outputs": [
    {
     "name": "stdout",
     "output_type": "stream",
     "text": [
      "354224848179261915075\n"
     ]
    }
   ],
   "source": [
    "print(fibonacci(100))"
   ]
  },
  {
   "cell_type": "code",
   "execution_count": 55,
   "metadata": {
    "ExecuteTime": {
     "end_time": "2020-02-05T01:57:14.295934Z",
     "start_time": "2020-02-05T01:57:14.284314Z"
    }
   },
   "outputs": [
    {
     "name": "stdout",
     "output_type": "stream",
     "text": [
      "354224848179261915075\n"
     ]
    }
   ],
   "source": [
    "num =100\n",
    "arr = [1,1,2]\n",
    "\n",
    "while num !=1 and arr[2] != num:\n",
    "    arr[:] = arr[1], arr[0]+arr[1] , arr[2]+1\n",
    "    \n",
    "print(\"1\") if num==1 else print(arr[1])"
   ]
  }
 ],
 "metadata": {
  "kernelspec": {
   "display_name": "Python 3",
   "language": "python",
   "name": "python3"
  },
  "language_info": {
   "codemirror_mode": {
    "name": "ipython",
    "version": 3
   },
   "file_extension": ".py",
   "mimetype": "text/x-python",
   "name": "python",
   "nbconvert_exporter": "python",
   "pygments_lexer": "ipython3",
   "version": "3.7.4"
  }
 },
 "nbformat": 4,
 "nbformat_minor": 2
}
