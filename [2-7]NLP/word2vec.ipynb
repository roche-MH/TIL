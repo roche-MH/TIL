{
 "cells": [
  {
   "cell_type": "code",
   "execution_count": 52,
   "metadata": {
    "ExecuteTime": {
     "end_time": "2020-02-10T07:08:55.589589Z",
     "start_time": "2020-02-10T07:08:55.584636Z"
    }
   },
   "outputs": [],
   "source": [
    "from gensim.models import Word2Vec\n",
    "import matplotlib.pyplot as plt\n",
    "import codecs\n",
    "from konlpy.tag import Twitter\n",
    "from konlpy.tag import Okt\n",
    "from gensim.models import word2vec\n",
    "from konlpy.utils import pprint\n",
    "from sklearn.manifold import TSNE\n",
    "import numpy as np"
   ]
  },
  {
   "cell_type": "code",
   "execution_count": 2,
   "metadata": {
    "ExecuteTime": {
     "end_time": "2020-02-10T06:12:20.029391Z",
     "start_time": "2020-02-10T06:12:20.012371Z"
    }
   },
   "outputs": [],
   "source": [
    "sentences = [\n",
    "                ['this', 'is', 'a',   'good',      'product'],\n",
    "                ['it',   'is', 'a',   'excellent', 'product'],\n",
    "                ['it',   'is', 'a',   'bad',       'product'],\n",
    "                ['that', 'is', 'the', 'worst',     'product']\n",
    "            ]\n",
    "\n",
    "# 문장을 이용하여 단어와 벡터를 생성한다.\n",
    "model = Word2Vec(sentences, size=5, window=3, min_count=1)"
   ]
  },
  {
   "cell_type": "code",
   "execution_count": 3,
   "metadata": {
    "ExecuteTime": {
     "end_time": "2020-02-10T06:12:20.721464Z",
     "start_time": "2020-02-10T06:12:20.716434Z"
    }
   },
   "outputs": [
    {
     "name": "stdout",
     "output_type": "stream",
     "text": [
      "<gensim.models.keyedvectors.Word2VecKeyedVectors object at 0x0000027F6CB2E048>\n"
     ]
    }
   ],
   "source": [
    "# 단어벡터를 구한다.\n",
    "word_vectors = model.wv\n",
    "print(word_vectors)"
   ]
  },
  {
   "cell_type": "code",
   "execution_count": 4,
   "metadata": {
    "ExecuteTime": {
     "end_time": "2020-02-10T06:12:21.393432Z",
     "start_time": "2020-02-10T06:12:21.389413Z"
    }
   },
   "outputs": [
    {
     "name": "stdout",
     "output_type": "stream",
     "text": [
      "[ 0.09953845  0.01279317  0.02184334 -0.07571183 -0.05901404]\n",
      "[ 0.00975819  0.03784186 -0.05560508  0.06141206 -0.07297619]\n"
     ]
    }
   ],
   "source": [
    "print(word_vectors[\"this\"])\n",
    "print(word_vectors[\"the\"])"
   ]
  },
  {
   "cell_type": "code",
   "execution_count": 5,
   "metadata": {
    "ExecuteTime": {
     "end_time": "2020-02-10T06:12:22.080791Z",
     "start_time": "2020-02-10T06:12:22.075850Z"
    }
   },
   "outputs": [
    {
     "name": "stdout",
     "output_type": "stream",
     "text": [
      "dict_keys(['this', 'is', 'a', 'good', 'product', 'it', 'excellent', 'bad', 'that', 'the', 'worst'])\n"
     ]
    }
   ],
   "source": [
    "vocabs = word_vectors.vocab.keys()\n",
    "print(vocabs)"
   ]
  },
  {
   "cell_type": "code",
   "execution_count": 6,
   "metadata": {
    "ExecuteTime": {
     "end_time": "2020-02-10T06:12:22.872871Z",
     "start_time": "2020-02-10T06:12:22.867914Z"
    }
   },
   "outputs": [
    {
     "name": "stdout",
     "output_type": "stream",
     "text": [
      "[array([ 0.09953845,  0.01279317,  0.02184334, -0.07571183, -0.05901404],\n",
      "      dtype=float32), array([-0.01238685, -0.03268021,  0.05405886, -0.09343708, -0.00935175],\n",
      "      dtype=float32), array([ 0.09482545, -0.00843781,  0.0084598 , -0.07621323, -0.04889252],\n",
      "      dtype=float32), array([ 0.04630049,  0.08231949, -0.04287184,  0.03942706, -0.07782292],\n",
      "      dtype=float32), array([-0.04525888,  0.09389763, -0.02650124,  0.08893128, -0.07002317],\n",
      "      dtype=float32), array([ 0.05736662, -0.01210064,  0.00149961,  0.04841078,  0.08656961],\n",
      "      dtype=float32), array([-0.01347671,  0.07884201,  0.0491432 , -0.03623179, -0.05788369],\n",
      "      dtype=float32), array([ 0.07954287, -0.01926265,  0.03233857,  0.0870996 ,  0.06889183],\n",
      "      dtype=float32), array([-0.09979971,  0.03923905,  0.07233156, -0.00420231, -0.05230707],\n",
      "      dtype=float32), array([ 0.00975819,  0.03784186, -0.05560508,  0.06141206, -0.07297619],\n",
      "      dtype=float32), array([ 0.08644276,  0.08556297,  0.08179906, -0.07837716, -0.03439775],\n",
      "      dtype=float32)]\n"
     ]
    }
   ],
   "source": [
    "word_vectors_list = [word_vectors[v] for v in vocabs]\n",
    "print(word_vectors_list)"
   ]
  },
  {
   "cell_type": "code",
   "execution_count": 7,
   "metadata": {
    "ExecuteTime": {
     "end_time": "2020-02-10T06:12:23.610321Z",
     "start_time": "2020-02-10T06:12:23.604381Z"
    }
   },
   "outputs": [
    {
     "data": {
      "text/plain": [
       "-0.00620535"
      ]
     },
     "execution_count": 7,
     "metadata": {},
     "output_type": "execute_result"
    }
   ],
   "source": [
    "model.wv.similarity(w1='this',w2='the')"
   ]
  },
  {
   "cell_type": "code",
   "execution_count": 8,
   "metadata": {
    "ExecuteTime": {
     "end_time": "2020-02-10T06:12:24.298356Z",
     "start_time": "2020-02-10T06:12:24.292385Z"
    },
    "scrolled": true
   },
   "outputs": [
    {
     "data": {
      "text/plain": [
       "[('bad', 0.9202791452407837),\n",
       " ('worst', -0.13937042653560638),\n",
       " ('a', -0.15606151521205902),\n",
       " ('this', -0.19667452573776245),\n",
       " ('good', -0.20699721574783325),\n",
       " ('the', -0.24646224081516266),\n",
       " ('product', -0.30730730295181274),\n",
       " ('is', -0.4243580102920532),\n",
       " ('excellent', -0.6293504238128662),\n",
       " ('that', -0.672888457775116)]"
      ]
     },
     "execution_count": 8,
     "metadata": {},
     "output_type": "execute_result"
    }
   ],
   "source": [
    "model.wv.most_similar('it')"
   ]
  },
  {
   "cell_type": "code",
   "execution_count": 9,
   "metadata": {
    "ExecuteTime": {
     "end_time": "2020-02-10T06:12:25.142748Z",
     "start_time": "2020-02-10T06:12:24.915890Z"
    }
   },
   "outputs": [],
   "source": [
    "#파일 읽기 함수. 첫줄 헤더를 제외하고 한 줄씩 읽어서 data 에 담아서 리턴 한다.\n",
    "def read_data(filename):\n",
    "    with open(filename, encoding='utf-8', mode='r') as f:\n",
    "        data = [line.split('\\t') for line in f.read().splitlines()]\n",
    "        data = data[1:]   # header 제외\n",
    "    return data\n",
    "\n",
    "ratings_train = read_data('ratings_train.txt')"
   ]
  },
  {
   "cell_type": "code",
   "execution_count": 10,
   "metadata": {
    "ExecuteTime": {
     "end_time": "2020-02-10T06:12:25.624582Z",
     "start_time": "2020-02-10T06:12:25.620593Z"
    }
   },
   "outputs": [
    {
     "name": "stdout",
     "output_type": "stream",
     "text": [
      "['9976970', '아 더빙.. 진짜 짜증나네요 목소리', '0']\n"
     ]
    }
   ],
   "source": [
    "print(ratings_train[0])"
   ]
  },
  {
   "cell_type": "code",
   "execution_count": 11,
   "metadata": {
    "ExecuteTime": {
     "end_time": "2020-02-10T06:12:26.656873Z",
     "start_time": "2020-02-10T06:12:26.548099Z"
    }
   },
   "outputs": [],
   "source": [
    "okt = Okt()\n",
    "\n",
    "def tokens(doc):\n",
    "    return ['/'.join(t) for t in okt.pos(doc, norm=True, stem=True)]"
   ]
  },
  {
   "cell_type": "code",
   "execution_count": 12,
   "metadata": {
    "ExecuteTime": {
     "end_time": "2020-02-10T06:12:29.994992Z",
     "start_time": "2020-02-10T06:12:27.470692Z"
    }
   },
   "outputs": [
    {
     "data": {
      "text/plain": [
       "['아/Exclamation',\n",
       " '더빙/Noun',\n",
       " '../Punctuation',\n",
       " '진짜/Noun',\n",
       " '짜증나다/Adjective',\n",
       " '목소리/Noun']"
      ]
     },
     "execution_count": 12,
     "metadata": {},
     "output_type": "execute_result"
    }
   ],
   "source": [
    "tokens('아 더빙.. 진짜 짜증나네요 목소리')"
   ]
  },
  {
   "cell_type": "code",
   "execution_count": 13,
   "metadata": {
    "ExecuteTime": {
     "end_time": "2020-02-10T06:12:30.993863Z",
     "start_time": "2020-02-10T06:12:30.971948Z"
    }
   },
   "outputs": [
    {
     "name": "stdout",
     "output_type": "stream",
     "text": [
      "['아 더빙.. 진짜 짜증나네요 목소리', '흠...포스터보고 초딩영화줄....오버연기조차 가볍지 않구나', '너무재밓었다그래서보는것을추천한다', '교도소 이야기구먼 ..솔직히 재미는 없다..평점 조정', '사이몬페그의 익살스런 연기가 돋보였던 영화!스파이더맨에서 늙어보이기만 했던 커스틴 던스트가 너무나도 이뻐보였다', '막 걸음마 뗀 3세부터 초등학교 1학년생인 8살용영화.ㅋㅋㅋ...별반개도 아까움.', '원작의 긴장감을 제대로 살려내지못했다.', '별 반개도 아깝다 욕나온다 이응경 길용우 연기생활이몇년인지..정말 발로해도 그것보단 낫겟다 납치.감금만반복반복..이드라마는 가족도없다 연기못하는사람만모엿네', '액션이 없는데도 재미 있는 몇안되는 영화', '왜케 평점이 낮은건데? 꽤 볼만한데.. 헐리우드식 화려함에만 너무 길들여져 있나?']\n"
     ]
    }
   ],
   "source": [
    "#파일중에서 영화 리뷰 데이터만 담기\n",
    "docs = []\n",
    "for row in ratings_train:\n",
    "    docs.append(row[1])\n",
    "print(docs[:10])"
   ]
  },
  {
   "cell_type": "code",
   "execution_count": 14,
   "metadata": {
    "ExecuteTime": {
     "end_time": "2020-02-10T06:17:24.380487Z",
     "start_time": "2020-02-10T06:12:32.324424Z"
    }
   },
   "outputs": [
    {
     "name": "stdout",
     "output_type": "stream",
     "text": [
      "[['아/Exclamation', '더빙/Noun', '../Punctuation', '진짜/Noun', '짜증나다/Adjective', '목소리/Noun'], ['흠/Noun', '.../Punctuation', '포스터/Noun', '보고/Noun', '초딩/Noun', '영화/Noun', '줄/Noun', '..../Punctuation', '오버/Noun', '연기/Noun', '조차/Josa', '가볍다/Adjective', '않다/Verb'], ['너/Modifier', '무재/Noun', '밓었/Noun', '다그/Noun', '래서/Noun', '보다/Verb', '추천/Noun', '한/Josa', '다/Adverb'], ['교도소/Noun', '이야기/Noun', '구먼/Noun', '../Punctuation', '솔직하다/Adjective', '재미/Noun', '는/Josa', '없다/Adjective', '../Punctuation', '평점/Noun', '조정/Noun'], ['사이/Modifier', '몬페/Noun', '그/Determiner', '의/Noun', '익살스럽다/Adjective', '연기/Noun', '가/Josa', '돋보이다/Verb', '영화/Noun', '!/Punctuation', '스파이더맨/Noun', '에서/Josa', '늙다/Verb', '보이다/Verb', '하다/Verb', '커스틴/Noun', '던스트/Noun', '가/Josa', '너무나도/Adverb', '이쁘다/Adjective', '보이다/Verb'], ['막/Noun', '걸음/Noun', '마/Noun', '떼다/Verb', '3/Number', '세/Noun', '부터/Josa', '초등학교/Noun', '1/Number', '학년/Noun', '생인/Noun', '8/Number', '살다/Verb', '영화/Noun', './Punctuation', 'ㅋㅋㅋ/KoreanParticle', '.../Punctuation', '별/Modifier', '반개/Noun', '도/Josa', '아깝다/Adjective', '움/Noun', './Punctuation'], ['원작/Noun', '의/Josa', '긴장감/Noun', '을/Josa', '제대로/Noun', '살리다/Verb', '하다/Verb', './Punctuation'], ['별/Noun', '반개/Noun', '도/Josa', '아깝다/Adjective', '욕/Noun', '나오다/Verb', '이응경/Noun', '길용우/Noun', '연/Modifier', '기/Modifier', '생활/Noun', '이/Josa', '몇/Modifier', '년/Noun', '인지/Josa', '../Punctuation', '정말/Noun', '발/Noun', '로/Josa', '해도/Noun', '그것/Noun', '보단/Josa', '낫다/Verb', '납치/Noun', './Punctuation', '감금/Noun', '만/Josa', '반복/Noun', '반복/Noun', '../Punctuation', '이/Determiner', '드라마/Noun', '는/Josa', '가족/Noun', '도/Josa', '없다/Adjective', '연기/Noun', '못/VerbPrefix', '하다/Verb', '사람/Noun', '만/Josa', '모/Modifier', '엿/Modifier', '네/Noun'], ['액션/Noun', '이/Josa', '없다/Adjective', '재미/Noun', '있다/Adjective', '몇/Noun', '안되다/Adjective', '영화/Noun'], ['왜/Noun', '이렇게/Adverb', '평점/Noun', '이/Josa', '낮다/Adjective', '?/Punctuation', '꽤/Noun', '볼/Noun', '만/Josa', '한/Determiner', '데/Noun', '../Punctuation', '헐리우드/Noun', '식/Suffix', '화려하다/Adjective', '너무/Adverb', '길들이다/Verb', '있다/Adjective', '?/Punctuation']]\n"
     ]
    }
   ],
   "source": [
    "data = [tokens(d) for d in  docs]\n",
    "print(data[:10])"
   ]
  },
  {
   "cell_type": "code",
   "execution_count": 15,
   "metadata": {
    "ExecuteTime": {
     "end_time": "2020-02-10T06:17:37.931727Z",
     "start_time": "2020-02-10T06:17:33.196005Z"
    }
   },
   "outputs": [],
   "source": [
    "w2v_model = word2vec.Word2Vec(data,size =100, window=3, min_count=2)"
   ]
  },
  {
   "cell_type": "code",
   "execution_count": 16,
   "metadata": {
    "ExecuteTime": {
     "end_time": "2020-02-10T06:17:39.004275Z",
     "start_time": "2020-02-10T06:17:38.827795Z"
    }
   },
   "outputs": [],
   "source": [
    "w2v_model.save('naver.model')"
   ]
  },
  {
   "cell_type": "code",
   "execution_count": 17,
   "metadata": {
    "ExecuteTime": {
     "end_time": "2020-02-10T06:17:39.727422Z",
     "start_time": "2020-02-10T06:17:39.723449Z"
    }
   },
   "outputs": [
    {
     "name": "stdout",
     "output_type": "stream",
     "text": [
      "27477\n"
     ]
    }
   ],
   "source": [
    "vocabs = w2v_model.wv.vocab.keys()\n",
    "print(len(vocabs))"
   ]
  },
  {
   "cell_type": "code",
   "execution_count": 18,
   "metadata": {
    "ExecuteTime": {
     "end_time": "2020-02-10T06:17:41.297117Z",
     "start_time": "2020-02-10T06:17:41.278206Z"
    }
   },
   "outputs": [
    {
     "name": "stdout",
     "output_type": "stream",
     "text": [
      "[('여자/Noun', 0.815803050994873), ('여주/Noun', 0.7381370067596436), ('아빠/Noun', 0.7048577070236206), ('여자애/Noun', 0.7016197443008423), ('몸매/Noun', 0.6979788541793823)]\n"
     ]
    }
   ],
   "source": [
    "print(w2v_model.wv.most_similar(positive=tokens('남자 여배우'), negative=tokens('배우'), topn=5))"
   ]
  },
  {
   "cell_type": "code",
   "execution_count": 32,
   "metadata": {
    "ExecuteTime": {
     "end_time": "2020-02-10T06:44:44.696995Z",
     "start_time": "2020-02-10T06:44:44.691049Z"
    }
   },
   "outputs": [
    {
     "name": "stdout",
     "output_type": "stream",
     "text": [
      "[('답답하다/Adjective', 0.7746868133544922), ('어이없다/Adjective', 0.7245328426361084), ('지겹다/Adjective', 0.7230473756790161), ('오글거리다/Verb', 0.7214547395706177), ('재미없다/Adjective', 0.7210409045219421), ('화나다/Verb', 0.7144299745559692), ('빡치다/Adjective', 0.7033597230911255), ('졸리다/Verb', 0.7008399367332458), ('역겹다/Adjective', 0.6815516948699951), ('이상하다/Adjective', 0.6624871492385864)]\n"
     ]
    }
   ],
   "source": [
    "print(w2v_model.wv.most_similar(positive=tokens('짜증나'),topn=10))"
   ]
  },
  {
   "cell_type": "code",
   "execution_count": 20,
   "metadata": {
    "ExecuteTime": {
     "end_time": "2020-02-10T06:17:47.078956Z",
     "start_time": "2020-02-10T06:17:45.787988Z"
    }
   },
   "outputs": [
    {
     "name": "stderr",
     "output_type": "stream",
     "text": [
      "C:\\Users\\Student\\AppData\\Local\\Continuum\\anaconda3\\lib\\site-packages\\ipykernel_launcher.py:2: DeprecationWarning: Call to deprecated `__getitem__` (Method will be removed in 4.0.0, use self.wv.__getitem__() instead).\n",
      "  \n"
     ]
    }
   ],
   "source": [
    "vocab = list(w2v_model.wv.vocab)\n",
    "X = w2v_model[vocab]\n",
    "tsne = TSNE(n_components=2) ## 고차원 데이터를 저차원으로 내려서 시각화해준다.\n",
    "X_tsne = tsne.fit_transform(X[:300,:])# n**2 의 속도를 가지고 있기때문에 많으면 힘들다"
   ]
  },
  {
   "cell_type": "code",
   "execution_count": 21,
   "metadata": {
    "ExecuteTime": {
     "end_time": "2020-02-10T06:17:57.632499Z",
     "start_time": "2020-02-10T06:17:57.619645Z"
    }
   },
   "outputs": [
    {
     "name": "stdout",
     "output_type": "stream",
     "text": [
      "(300, 2)\n",
      "[[-3.16323996e+00  6.73234701e+00]\n",
      " [ 7.73720264e+00 -4.02564478e+00]\n",
      " [ 7.02186346e+00  1.16638098e+01]\n",
      " [ 4.47930765e+00 -1.40811510e+01]\n",
      " [-1.96423900e+00  1.17269478e+01]\n",
      " [-9.90015888e+00 -7.90586996e+00]\n",
      " [-3.50746846e+00  6.03858042e+00]\n",
      " [ 6.97614288e+00  1.15504580e+01]\n",
      " [-2.15252852e+00 -2.78975296e+00]\n",
      " [ 9.54110050e+00  2.34174824e+00]\n",
      " [-1.04935846e+01  5.05515194e+00]\n",
      " [ 9.73489285e+00 -1.10610313e+01]\n",
      " [ 1.27654467e+01 -2.93264246e+00]\n",
      " [ 6.94697237e+00  1.14215612e+01]\n",
      " [ 7.86145091e-01 -6.70417595e+00]\n",
      " [-9.88156986e+00 -8.77350140e+00]\n",
      " [ 2.48751545e+00 -3.47998810e+00]\n",
      " [ 1.23412061e+00 -5.36804056e+00]\n",
      " [ 1.87572777e+00 -1.13541756e+01]\n",
      " [-7.81368542e+00  1.34924889e+00]\n",
      " [-5.65564111e-02  1.62697363e+00]\n",
      " [-1.78351510e+00 -1.21970105e+00]\n",
      " [-2.10740113e+00  2.06101418e+00]\n",
      " [ 9.13685322e+00  2.87424564e+00]\n",
      " [-1.38282652e+01 -1.04191961e+01]\n",
      " [-3.62099266e+00 -1.61286583e+01]\n",
      " [ 5.16483212e+00 -3.78265120e-02]\n",
      " [-2.14189410e+00 -1.37685001e-01]\n",
      " [ 8.04228306e+00 -8.87308598e+00]\n",
      " [-8.58261406e-01  2.52444768e+00]\n",
      " [-4.98475504e+00  6.94667482e+00]\n",
      " [ 5.12147951e+00 -7.83985710e+00]\n",
      " [ 4.34275389e+00  7.03034687e+00]\n",
      " [-2.46327925e+00 -1.00761509e+01]\n",
      " [-7.47713041e+00  1.18765707e+01]\n",
      " [-2.31989121e+00  3.13703465e+00]\n",
      " [-3.77504873e+00 -9.26717937e-01]\n",
      " [ 9.74896848e-01  2.21939635e+00]\n",
      " [ 1.28661785e+01 -8.71087742e+00]\n",
      " [-1.10158062e+01 -1.01267624e+00]\n",
      " [ 6.62435591e-01  1.46513566e-01]\n",
      " [-7.02735710e+00 -6.48756313e+00]\n",
      " [ 1.72940445e+00 -7.61553478e+00]\n",
      " [ 1.22261009e+01  9.22711945e+00]\n",
      " [-4.65865993e+00  2.35502172e+00]\n",
      " [ 6.13084841e+00  4.21915579e+00]\n",
      " [-9.98384953e+00 -4.71785450e+00]\n",
      " [-1.28389702e+01 -5.39491558e+00]\n",
      " [-2.57366800e+00 -1.40422421e+01]\n",
      " [ 6.41915619e-01  1.96034896e+00]\n",
      " [ 8.46005678e-01  1.71733475e+00]\n",
      " [ 2.52126431e+00 -1.14526281e+01]\n",
      " [-1.04822998e+01 -7.37130594e+00]\n",
      " [ 5.26859522e+00  5.36254048e-01]\n",
      " [-9.46766913e-01 -1.63211083e+00]\n",
      " [-6.46050406e+00  2.29055929e+00]\n",
      " [ 3.44967556e+00 -3.20485520e+00]\n",
      " [-1.02984352e+01  1.04744825e+01]\n",
      " [-8.23674583e+00  2.47062063e+00]\n",
      " [-8.91071224e+00  5.48986292e+00]\n",
      " [-8.65486622e+00  4.91426706e+00]\n",
      " [-1.01702032e+01  1.05218706e+01]\n",
      " [-8.61360073e+00  3.84730530e+00]\n",
      " [-2.38765508e-01  1.30626762e+00]\n",
      " [-7.74974108e+00  1.10695915e+01]\n",
      " [-9.60812855e+00 -5.24506378e+00]\n",
      " [ 7.42186403e+00  1.21776361e+01]\n",
      " [-2.49502063e+00  8.22081566e+00]\n",
      " [-7.58799696e+00  1.11617022e+01]\n",
      " [-5.75861168e+00  1.09056244e+01]\n",
      " [ 2.52471995e+00 -4.44001484e+00]\n",
      " [-3.28508806e+00  1.16798840e+01]\n",
      " [ 2.31867790e+00 -9.75503540e+00]\n",
      " [ 7.37408686e+00 -5.44519281e+00]\n",
      " [-1.17020912e+01 -1.29032755e+00]\n",
      " [ 4.46531820e+00 -7.98849630e+00]\n",
      " [ 8.40134239e+00  5.83213139e+00]\n",
      " [ 5.30068922e+00 -3.69643974e+00]\n",
      " [ 2.24534416e+00 -2.48877454e+00]\n",
      " [-5.87597847e+00  1.09351797e+01]\n",
      " [ 6.20459509e+00 -8.03510785e-01]\n",
      " [-1.27811718e+01 -4.90269423e+00]\n",
      " [ 3.71620245e-02  5.03387749e-01]\n",
      " [ 3.69145840e-01  1.38699782e+00]\n",
      " [-9.54386139e+00 -1.86815262e+00]\n",
      " [-1.00636396e+01  3.25876862e-01]\n",
      " [-7.04676199e+00 -2.35579920e+00]\n",
      " [ 8.92656040e+00  7.18160582e+00]\n",
      " [ 5.53719234e+00  2.71003294e+00]\n",
      " [-5.74920559e+00 -3.17013717e+00]\n",
      " [ 3.62131715e-01  7.20409441e+00]\n",
      " [ 4.20056295e+00 -1.38893118e+01]\n",
      " [-2.20887709e+00 -4.22997427e+00]\n",
      " [ 5.32540083e+00  7.28041315e+00]\n",
      " [ 4.13929892e+00 -1.82117450e+00]\n",
      " [-8.78059864e-01 -9.28108883e+00]\n",
      " [-3.03072309e+00  4.05516720e+00]\n",
      " [-3.87870431e+00  4.88903761e+00]\n",
      " [-4.10004902e+00  4.23948109e-01]\n",
      " [-1.07352269e+00  4.69276965e-01]\n",
      " [ 7.62593746e+00  6.78394222e+00]\n",
      " [ 4.35772562e+00 -5.20228577e+00]\n",
      " [-1.15460405e+01  5.28209066e+00]\n",
      " [ 9.75940132e+00 -1.10856361e+01]\n",
      " [-7.60227060e+00 -3.77880192e+00]\n",
      " [ 6.71540117e+00 -2.07104206e+00]\n",
      " [-5.90472698e+00 -4.63271952e+00]\n",
      " [-8.21934319e+00  6.08966529e-01]\n",
      " [-1.85683227e+00  5.52804947e+00]\n",
      " [-6.94269514e+00  1.87839544e+00]\n",
      " [ 3.72789359e+00 -7.95858145e+00]\n",
      " [-2.27743220e+00 -9.97235870e+00]\n",
      " [ 2.55206728e+00 -1.41050851e+00]\n",
      " [-1.22645390e+00 -1.24015074e+01]\n",
      " [-3.74868941e+00 -3.69201112e+00]\n",
      " [ 6.13843918e+00 -1.30277977e+01]\n",
      " [-4.93513441e+00  6.23068237e+00]\n",
      " [ 5.69159937e+00  1.09424849e+01]\n",
      " [ 1.00451727e+01 -6.69142485e+00]\n",
      " [-1.35323477e+01 -5.99923086e+00]\n",
      " [-3.63893199e+00 -1.61544895e+01]\n",
      " [ 1.16922684e+01 -2.43184280e+00]\n",
      " [-3.62382698e+00 -6.17603064e+00]\n",
      " [-4.32122946e+00 -5.92890120e+00]\n",
      " [ 2.18147755e+00 -7.47092962e+00]\n",
      " [ 2.42123151e+00 -1.43706608e+01]\n",
      " [-1.78256106e+00 -4.37204570e-01]\n",
      " [-1.96029437e+00  8.65843678e+00]\n",
      " [-2.79164028e+00  2.82703608e-01]\n",
      " [ 1.33750448e+01  5.47772551e+00]\n",
      " [-7.86312056e+00 -1.20492029e+01]\n",
      " [ 1.33695974e+01  5.47049475e+00]\n",
      " [ 1.33427801e+01  5.74752998e+00]\n",
      " [ 9.20632744e+00  1.00110066e+00]\n",
      " [-7.99981737e+00  6.91137695e+00]\n",
      " [ 3.11558151e+00  3.90040231e+00]\n",
      " [-1.08295937e+01 -3.94830942e+00]\n",
      " [-3.77582884e+00 -6.85244370e+00]\n",
      " [-3.60199070e+00 -5.36859798e+00]\n",
      " [ 8.08483410e+00 -7.75830388e-01]\n",
      " [ 4.86409903e+00 -1.01149321e+01]\n",
      " [ 1.22141638e+01  9.24580860e+00]\n",
      " [ 7.45189607e-01  7.62652814e-01]\n",
      " [ 4.83090782e+00 -1.01487637e+01]\n",
      " [ 3.68982816e+00 -5.44246244e+00]\n",
      " [-3.00941467e+00 -6.71645117e+00]\n",
      " [-3.22820926e+00 -1.12307239e+00]\n",
      " [ 1.20673676e+01  9.44831181e+00]\n",
      " [ 7.00818872e+00  2.45144272e+00]\n",
      " [ 6.00293636e+00  3.77692628e+00]\n",
      " [-5.76705790e+00 -1.95104373e+00]\n",
      " [-8.61125851e+00 -4.21661186e+00]\n",
      " [ 1.94235742e+00  8.20618916e+00]\n",
      " [-7.68831849e-01 -1.35907844e-01]\n",
      " [ 9.43236351e+00  7.60132372e-01]\n",
      " [ 5.78858566e+00  2.34847617e+00]\n",
      " [ 4.22283173e+00  5.17978132e-01]\n",
      " [-8.10534859e+00  4.95428514e+00]\n",
      " [ 4.40231657e+00  3.15004253e+00]\n",
      " [-3.59270954e+00 -2.01239109e+00]\n",
      " [-7.99613371e-02  5.13192940e+00]\n",
      " [ 1.47129846e+00 -5.44187546e+00]\n",
      " [ 1.96716881e+00 -5.96969843e+00]\n",
      " [ 1.46803010e+00 -6.45875263e+00]\n",
      " [-8.66487885e+00 -2.90263474e-01]\n",
      " [-8.26860619e+00 -6.13982677e-02]\n",
      " [-9.40995884e+00 -1.72026321e-01]\n",
      " [ 4.88438559e+00  6.62312365e+00]\n",
      " [ 4.06388903e+00  1.62206340e+00]\n",
      " [-1.07270586e+00  2.11337328e+00]\n",
      " [ 1.28469963e+01 -8.71686649e+00]\n",
      " [-6.55791664e+00 -1.11213808e+01]\n",
      " [-9.46971118e-01 -9.38438797e+00]\n",
      " [-6.68368864e+00 -5.84445524e+00]\n",
      " [ 8.60126019e+00  7.21836567e+00]\n",
      " [ 6.25168502e-01 -1.98326409e+00]\n",
      " [-8.97112966e-01 -2.05523443e+00]\n",
      " [-5.73109674e+00 -8.78202438e+00]\n",
      " [ 4.10398960e+00  9.11644745e+00]\n",
      " [ 7.38560009e+00  2.73424721e+00]\n",
      " [-5.69773769e+00 -8.77912331e+00]\n",
      " [ 3.10773778e+00 -1.22295370e+01]\n",
      " [-3.00476384e+00  9.56781197e+00]\n",
      " [-6.03476191e+00  3.95005703e-01]\n",
      " [ 4.90702915e+00 -9.35583210e+00]\n",
      " [-6.64649963e+00 -1.09226227e+01]\n",
      " [ 7.38044500e+00 -9.35772514e+00]\n",
      " [-1.71747255e+00 -4.26797581e+00]\n",
      " [-2.12098169e+00  6.63228559e+00]\n",
      " [-2.32496524e+00 -1.60795701e+00]\n",
      " [ 3.53280807e+00  2.51140857e+00]\n",
      " [ 4.58247948e+00 -5.12156582e+00]\n",
      " [-1.92636168e+00 -1.33081245e+01]\n",
      " [ 1.20009685e+00  1.17838507e+01]\n",
      " [ 3.10054278e+00  4.15648794e+00]\n",
      " [ 3.92365265e+00 -1.38020182e+01]\n",
      " [ 1.55688620e+00  1.13895578e+01]\n",
      " [-7.80801177e-01  1.25465024e+00]\n",
      " [-4.60526848e+00  7.73729622e-01]\n",
      " [ 2.69098067e+00  7.46019316e+00]\n",
      " [ 7.12494373e-01 -5.44644952e-01]\n",
      " [-3.72941780e+00 -7.37028074e+00]\n",
      " [ 4.32221985e+00  5.91620874e+00]\n",
      " [ 6.06383991e+00  8.80207658e-01]\n",
      " [-2.95706773e+00  1.01241672e+00]\n",
      " [-3.71290040e+00 -3.10366273e+00]\n",
      " [-8.54676151e+00 -1.29221992e+01]\n",
      " [ 3.35198998e+00  1.08440131e-01]\n",
      " [-1.56734967e+00  8.48208332e+00]\n",
      " [ 2.64805675e+00 -2.70985007e-01]\n",
      " [-9.57680881e-01  4.28076506e+00]\n",
      " [-1.35750809e+01 -4.59823817e-01]\n",
      " [-2.97407460e+00  2.46392876e-01]\n",
      " [-4.79665637e-01  5.05085349e-01]\n",
      " [ 6.73190022e+00 -5.50939655e+00]\n",
      " [-6.14231730e+00 -1.17329245e+01]\n",
      " [ 4.33890533e+00  1.33803806e+01]\n",
      " [ 7.43809175e+00  1.19532883e+00]\n",
      " [-1.35675251e+00 -5.23669481e+00]\n",
      " [-5.04627168e-01  4.07021427e+00]\n",
      " [-4.30065775e+00 -1.39984202e+00]\n",
      " [-8.97321224e+00 -8.41166401e+00]\n",
      " [-1.42719860e+01 -1.52629411e+00]\n",
      " [ 1.27345383e+00  1.01865089e+00]\n",
      " [-3.02959037e+00 -1.40953655e+01]\n",
      " [ 1.49181437e+00  7.84008360e+00]\n",
      " [-3.26126277e-01 -8.22490215e-01]\n",
      " [ 2.31756210e+00  5.25904083e+00]\n",
      " [ 1.58469617e+00  4.68428165e-01]\n",
      " [ 5.49907494e+00 -3.76021314e+00]\n",
      " [ 1.49143398e+00  1.92922401e+00]\n",
      " [-3.72521615e+00  1.37535393e+00]\n",
      " [ 6.57460213e-01  9.15819824e-01]\n",
      " [-6.81073046e+00 -2.00668752e-01]\n",
      " [ 5.43900061e+00  6.24266481e+00]\n",
      " [-1.10896444e+01  2.00076604e+00]\n",
      " [-1.52666003e-01 -2.63059473e+00]\n",
      " [ 3.21014810e+00 -6.14936733e+00]\n",
      " [-8.00909996e-02  6.89222431e+00]\n",
      " [-1.11025457e+01  5.18514156e+00]\n",
      " [-5.62481213e+00 -4.08284044e+00]\n",
      " [-9.82961178e+00 -4.74727583e+00]\n",
      " [ 1.06653976e+00 -2.47664380e+00]\n",
      " [-9.90683079e-01 -6.83781481e+00]\n",
      " [ 1.07061253e+01 -2.48508120e+00]\n",
      " [-1.57732737e+00  5.26100349e+00]\n",
      " [ 1.00395508e+01 -6.69320965e+00]\n",
      " [ 4.89720225e-01 -4.60779047e+00]\n",
      " [ 1.78787947e-01 -8.69972610e+00]\n",
      " [ 1.26677551e+01 -2.90678406e+00]\n",
      " [-6.31199598e+00 -3.17152452e+00]\n",
      " [-6.43569326e+00 -2.47215796e+00]\n",
      " [-5.35098410e+00 -6.08274102e-01]\n",
      " [ 2.00423622e+00  1.09378433e+01]\n",
      " [ 1.19600763e+01 -2.66428900e+00]\n",
      " [ 1.08222699e+00 -3.40708780e+00]\n",
      " [-1.72868228e+00  1.22831860e+01]\n",
      " [-1.59832692e+00  1.25875578e+01]\n",
      " [-1.36833887e+01  3.20250273e-01]\n",
      " [-1.33154404e+00 -3.09510374e+00]\n",
      " [-3.31787467e+00  2.70638466e+00]\n",
      " [-5.76660585e+00  4.74667501e+00]\n",
      " [ 1.25003052e+00  1.44851971e+00]\n",
      " [-1.41437173e-01 -2.25040078e-01]\n",
      " [-2.66726398e+00 -1.46013088e+01]\n",
      " [ 2.21286154e+00 -1.44787607e+01]\n",
      " [-1.17317494e-03  2.77636647e+00]\n",
      " [-1.66898608e+00  9.79453373e+00]\n",
      " [ 1.19604797e+01 -3.00804675e-01]\n",
      " [-5.28562641e+00  8.03430080e+00]\n",
      " [ 6.59519672e+00 -1.70711327e+00]\n",
      " [-9.58524764e-01  2.34630048e-01]\n",
      " [ 2.34513617e+00 -9.36420155e+00]\n",
      " [ 8.07679272e+00  6.68228912e+00]\n",
      " [-9.43482304e+00 -4.98644024e-01]\n",
      " [-8.61635494e+00 -3.47157419e-01]\n",
      " [-4.76436615e+00  3.51625156e+00]\n",
      " [-1.75010884e+00  9.74282169e+00]\n",
      " [ 3.55082810e-01 -5.55500412e+00]\n",
      " [ 6.60023832e+00 -6.60560083e+00]\n",
      " [-8.47934246e+00 -1.28562107e+01]\n",
      " [ 4.12077856e+00 -1.41045773e+00]\n",
      " [ 5.41507304e-02  2.12874842e+00]\n",
      " [ 7.72669792e+00 -9.03914738e+00]\n",
      " [ 1.23378575e+00  4.56628418e+00]\n",
      " [ 8.12608421e-01  7.40736055e+00]\n",
      " [-5.40266085e+00  4.83194780e+00]\n",
      " [ 2.35107112e+00 -1.87477624e+00]\n",
      " [ 2.05178797e-01 -9.12810612e+00]\n",
      " [ 7.12448582e-02 -4.44436264e+00]\n",
      " [-1.38267679e+01 -1.04188251e+01]\n",
      " [-1.02848024e+01  1.04793816e+01]\n",
      " [-1.67230141e+00  1.18224978e+00]\n",
      " [-1.85346437e+00  4.81836617e-01]\n",
      " [-2.61823916e+00  1.35925364e+00]\n",
      " [ 5.28073311e+00  1.22928154e+00]\n",
      " [-6.66139007e-01  8.23811948e-01]\n",
      " [-3.56194043e+00 -6.61222994e-01]\n",
      " [-9.65841866e+00 -8.12120533e+00]\n",
      " [-3.23344398e+00  4.90267086e+00]]\n"
     ]
    }
   ],
   "source": [
    "print(X_tsne.shape)\n",
    "print(X_tsne)"
   ]
  },
  {
   "cell_type": "code",
   "execution_count": 26,
   "metadata": {
    "ExecuteTime": {
     "end_time": "2020-02-10T06:29:30.153156Z",
     "start_time": "2020-02-10T06:29:29.595584Z"
    }
   },
   "outputs": [
    {
     "data": {
      "image/png": "[encoded data removed]",
      "text/plain": [
       "<Figure size 432x288 with 1 Axes>"
      ]
     },
     "metadata": {
      "needs_background": "light"
     },
     "output_type": "display_data"
    }
   ],
   "source": [
    "from matplotlib import font_manager, rc\n",
    "import matplotlib as mpl\n",
    "import matplotlib.pyplot as plt\n",
    "font_name = font_manager.FontProperties(fname=\"c:/Windows/Fonts/malgun.ttf\").get_name()\n",
    "rc('font', family=font_name) # 한글 폰트\n",
    "\n",
    "\n",
    "mpl.rcParams['axes.unicode_minus'] = False # -1가 깨지지 않게\n",
    "\n",
    "plt.scatter(X_tsne[:,0], X_tsne[:,1], c='red')\n",
    "\n",
    "\n",
    "words = vocab[:100]    \n",
    "for i, word in enumerate(words):\n",
    "    plt.text(X_tsne[i,0], X_tsne[i,1 ], word, fontsize=8) \n",
    "plt.savefig('out.png', dpi=200)\n"
   ]
  },
  {
   "cell_type": "markdown",
   "metadata": {},
   "source": [
    "<img src=out.png?2 >"
   ]
  },
  {
   "cell_type": "code",
   "execution_count": 72,
   "metadata": {
    "ExecuteTime": {
     "end_time": "2020-02-10T07:10:54.391601Z",
     "start_time": "2020-02-10T07:10:54.096351Z"
    }
   },
   "outputs": [
    {
     "name": "stderr",
     "output_type": "stream",
     "text": [
      "C:\\Users\\Student\\AppData\\Local\\Continuum\\anaconda3\\lib\\site-packages\\ipykernel_launcher.py:3: DeprecationWarning: Call to deprecated `__getitem__` (Method will be removed in 4.0.0, use self.wv.__getitem__() instead).\n",
      "  This is separate from the ipykernel package so we can avoid doing imports until\n",
      "C:\\Users\\Student\\AppData\\Local\\Continuum\\anaconda3\\lib\\site-packages\\ipykernel_launcher.py:7: DeprecationWarning: Call to deprecated `__getitem__` (Method will be removed in 4.0.0, use self.wv.__getitem__() instead).\n",
      "  import sys\n"
     ]
    },
    {
     "data": {
      "text/plain": [
       "<matplotlib.collections.PathCollection at 0x27f1d80de08>"
      ]
     },
     "execution_count": 72,
     "metadata": {},
     "output_type": "execute_result"
    },
    {
     "data": {
      "image/png": "[encoded data removed]",
      "text/plain": [
       "<Figure size 432x288 with 1 Axes>"
      ]
     },
     "metadata": {
      "needs_background": "light"
     },
     "output_type": "display_data"
    }
   ],
   "source": [
    "group1 = w2v_model.wv.most_similar(tokens('예쁘다'), topn=30)\n",
    "group1 = [w for ( w,  s )  in  group1 ]\n",
    "X1 = w2v_model[group1]\n",
    "\n",
    "group2 = w2v_model.wv.most_similar(tokens('못생겼다'), topn=30)\n",
    "group2 = [w for ( w,  s )  in  group2 ]\n",
    "X2 = w2v_model[group2]\n",
    "\n",
    "X_tsne =tsne.fit_transform(np.vstack([X1, X2]))\n",
    "\n",
    "label = np.hstack([0*np.ones(30), np.ones(30)  ])\n",
    "c = [ 'red'  if l == 0  else 'blue'  for l in label ]\n",
    "\n",
    "\n",
    "plt.scatter(X_tsne[:,0], X_tsne[:,1], color=c)\n",
    "\n",
    "\n",
    "## 값을 할때 마다 그래프가 계속 바뀐다.\n",
    "#2차원으로 값을 줄일때마다 값이 바뀜\n",
    "# 범인 X_tsne 초기값이 랜덤하게 바뀌기 때문에 fit 값으로 주지 않고\n",
    "# 시각화 할경우에만 사용한다."
   ]
  }
 ],
 "metadata": {
  "kernelspec": {
   "display_name": "Python 3",
   "language": "python",
   "name": "python3"
  },
  "language_info": {
   "codemirror_mode": {
    "name": "ipython",
    "version": 3
   },
   "file_extension": ".py",
   "mimetype": "text/x-python",
   "name": "python",
   "nbconvert_exporter": "python",
   "pygments_lexer": "ipython3",
   "version": "3.7.4"
  }
 },
 "nbformat": 4,
 "nbformat_minor": 2
}
