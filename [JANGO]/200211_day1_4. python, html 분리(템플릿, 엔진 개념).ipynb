{
 "cells": [
  {
   "cell_type": "markdown",
   "metadata": {},
   "source": [
    "# python과 html을 분리하기"
   ]
  },
  {
   "cell_type": "markdown",
   "metadata": {},
   "source": [
    "# 1. 템플릿 개념\n",
    "- @out\n",
    "- html을 제일 위로, 파이선 코드를 아래로 옯기고\n",
    "- replace 함수 이용"
   ]
  },
  {
   "cell_type": "code",
   "execution_count": 1,
   "metadata": {
    "ExecuteTime": {
     "end_time": "2020-02-11T07:14:42.568263Z",
     "start_time": "2020-02-11T07:14:42.560296Z"
    }
   },
   "outputs": [
    {
     "data": {
      "text/plain": [
       "'\\nhtml = \"\"\"\\n<html>\\n   <head>\\n      <meta charset=\"utf-8\">\\n   </head>\\n\\n   <body>\\n       <font color=red> @out</font>\\n   </body>\\n</html>\\n\"\"\"\\n\\nhtml = html.replace(\"@out\",  \"제목출력\")\\n\\nprint(html)\\n'"
      ]
     },
     "execution_count": 1,
     "metadata": {},
     "output_type": "execute_result"
    }
   ],
   "source": [
    "# test2.py (templit.py)\n",
    "'''\n",
    "html = \"\"\"\n",
    "<html>\n",
    "   <head>\n",
    "      <meta charset=\"utf-8\">\n",
    "   </head>\n",
    "\n",
    "   <body>\n",
    "       <font color=red> @out</font>\n",
    "   </body>\n",
    "</html>\n",
    "\"\"\"\n",
    "\n",
    "html = html.replace(\"@out\",  \"제목출력\")\n",
    "\n",
    "print(html)\n",
    "'''\n"
   ]
  },
  {
   "cell_type": "code",
   "execution_count": null,
   "metadata": {
    "ExecuteTime": {
     "start_time": "2020-02-11T07:48:55.138Z"
    }
   },
   "outputs": [
    {
     "name": "stdout",
     "output_type": "stream",
     "text": [
      "listening\n",
      "accepting\n",
      "GET /5.engine.py HTTP/1.1\n",
      "Host: 127.0.0.1\n",
      "Connection: keep-alive\n",
      "Upgrade-Insecure-Requests: 1\n",
      "User-Agent: Mozilla/5.0 (Windows NT 10.0; Win64; x64) AppleWebKit/537.36 (KHTML, like Gecko) Chrome/79.0.3945.130 Safari/537.36\n",
      "Sec-Fetch-User: ?1\n",
      "Accept: text/html,application/xhtml+xml,application/xml;q=0.9,image/webp,image/apng,*/*;q=0.8,application/signed-exchange;v=b3;q=0.9\n",
      "Sec-Fetch-Site: none\n",
      "Sec-Fetch-Mode: navigate\n",
      "Accept-Encoding: gzip, deflate, br\n",
      "Accept-Language: ko-KR,ko;q=0.9,en-US;q=0.8,en;q=0.7\n",
      "\n",
      "accepting\n",
      "\n",
      "\n",
      "list index out of range\n"
     ]
    }
   ],
   "source": [
    "import socket\n",
    "import threading\n",
    "from datetime import datetime\n",
    "import subprocess\n",
    "\n",
    "def httpprocess(client_socket) :\n",
    "    data = client_socket.recv(65535)   \n",
    "    data = data.decode()\n",
    "    print(data)\n",
    "    try :    \n",
    "        headers = data.split(\"\\r\\n\")\n",
    "        filename = headers[0].split(\" \")[1]\n",
    "        \n",
    "        if '.py' in filename:\n",
    "            \n",
    "            html = subprocess.check_output(['python.exe', '.' + filename])\n",
    "            html = html.decode('cp949')\n",
    "            \n",
    "            header = 'HTTP/1.0 200 OK\\r\\n'               \n",
    "            client_socket.send(header.encode(\"utf-8\"))\n",
    "            client_socket.send(\"Content-Type: text/html\\r\\n\\r\\n\".encode())                                    \n",
    "            client_socket.send(html.encode(\"utf-8\"))            \n",
    "        elif '.html' in filename:\n",
    "            file = open(\".\"+ filename, 'rt', encoding='utf-8')\n",
    "            html = file.read()    \n",
    "            header = 'HTTP/1.0 200 OK\\r\\n'               \n",
    "            client_socket.send(header.encode(\"utf-8\"))\n",
    "            client_socket.send(\"Content-Type: text/html\\r\\n\\r\\n\".encode())            \n",
    "            client_socket.send(html.encode(\"utf-8\"))\n",
    "        elif '.jpg' in filename or '.png' in filename:         \n",
    "            client_socket.send('HTTP/1.1 200 OK\\r\\n'.encode())\n",
    "            client_socket.send(\"Content-Type: image/jpg\\r\\n\".encode())\n",
    "            client_socket.send(\"Accept-Ranges: bytes\\r\\n\\r\\n\".encode())\n",
    "            file = open(\".\" + filename, \"rb\")            \n",
    "            client_socket.send(file.read())  \n",
    "            file.close()               \n",
    "        else :\n",
    "            header = 'HTTP/1.0 404 File Not Found\\r\\n\\r\\n'        \n",
    "            client_socket.send(header.encode(\"utf-8\"))\n",
    "    except Exception as e :\n",
    "        print(e)         \n",
    "    client_socket.close()\n",
    "\n",
    "\n",
    "server_socket = socket.socket(socket.AF_INET, socket.SOCK_STREAM)\n",
    "server_socket.bind(('localhost', 80))\n",
    "server_socket.listen(0)\n",
    "print(\"listening\")\n",
    "\n",
    "while  True :\n",
    "    client_socket, addr = server_socket.accept()\n",
    "    print(\"accepting\")\n",
    "    t = threading.Thread(target=httpprocess, args=(client_socket,))\n",
    "    t.start()"
   ]
  },
  {
   "cell_type": "markdown",
   "metadata": {},
   "source": [
    "> 브라우저에서 \n",
    "- http://127.0.0.1/templit.py"
   ]
  },
  {
   "cell_type": "code",
   "execution_count": null,
   "metadata": {},
   "outputs": [],
   "source": [
    "# templit2.py\n",
    "'''\n",
    "html = \"\"\"\n",
    "<html>\n",
    "   <head>\n",
    "      <meta charset=\"utf-8\">\n",
    "   </head>\n",
    "\n",
    "   <body>\n",
    "       <font color=red> @out</font>\n",
    "       <table borker = 2>\n",
    "            <tr>\n",
    "                <td> 이름</td> <td> @name </td>\n",
    "            </tr>\n",
    "            <tr>\n",
    "                <td> e-mail</td> <td> @email </td>\n",
    "            </tr>\n",
    "              \n",
    "   </body>\n",
    "</html>\n",
    "\"\"\"\n",
    "\n",
    "html = html.replace(\"@out\",  \"제목출력\")\n",
    "html = html.replace(\"@name\",  \"이순신\")\n",
    "html = html.replace(\"@email\",  \"lee@gmail.com\")\n",
    "\n",
    "\n",
    "print(html)\n",
    "'''"
   ]
  },
  {
   "cell_type": "markdown",
   "metadata": {},
   "source": [
    "#### 템플릿 개념\n"
   ]
  },
  {
   "cell_type": "code",
   "execution_count": 1,
   "metadata": {
    "ExecuteTime": {
     "end_time": "2020-02-11T07:24:17.678355Z",
     "start_time": "2020-02-11T07:24:17.669426Z"
    }
   },
   "outputs": [
    {
     "data": {
      "text/plain": [
       "'hello안녕하세요  test이순신님   item거북선'"
      ]
     },
     "execution_count": 1,
     "metadata": {},
     "output_type": "execute_result"
    }
   ],
   "source": [
    "html = 'hello@v1  test@v2   item@v3'\n",
    "\n",
    "html = html.replace('@v1', '안녕하세요')\n",
    "html = html.replace('@v2', '이순신님')\n",
    "html = html.replace('@v3', '거북선')\n",
    "html"
   ]
  },
  {
   "cell_type": "markdown",
   "metadata": {},
   "source": [
    "# 2. 엔진 개념\n",
    "- dict 이용\n",
    "\n",
    "- py파일과 html파일을 따로 분리해서 관리"
   ]
  },
  {
   "cell_type": "code",
   "execution_count": 26,
   "metadata": {
    "ExecuteTime": {
     "end_time": "2020-02-11T07:42:47.354287Z",
     "start_time": "2020-02-11T07:42:47.348354Z"
    }
   },
   "outputs": [],
   "source": [
    "def render(html, data):\n",
    "    for v in data:\n",
    "        html = html.replace('@'+v, data[v])\n",
    "    return html\n",
    "\n",
    "def renderfile(file, data):\n",
    "    html = open(file, 'rt', encoding = 'utf=8').read()\n",
    "    for v in data:\n",
    "        html = html.replace('@' + v, data[v])\n",
    "    return html\n",
    "        \n"
   ]
  },
  {
   "cell_type": "code",
   "execution_count": 27,
   "metadata": {
    "ExecuteTime": {
     "end_time": "2020-02-11T07:43:04.784454Z",
     "start_time": "2020-02-11T07:43:04.779482Z"
    }
   },
   "outputs": [
    {
     "data": {
      "text/plain": [
       "'hello안녕하세요  test이순신   item거북선'"
      ]
     },
     "execution_count": 27,
     "metadata": {},
     "output_type": "execute_result"
    }
   ],
   "source": [
    "html = 'hello@v1  test@v2   item@v3'\n",
    "\n",
    "data = {'v1': '안녕하세요',\n",
    "       'v2': '이순신',\n",
    "       'v3': '거북선'}\n",
    "\n",
    "html = render(html, data)\n",
    "html"
   ]
  },
  {
   "cell_type": "code",
   "execution_count": 30,
   "metadata": {
    "ExecuteTime": {
     "end_time": "2020-02-11T07:44:53.248024Z",
     "start_time": "2020-02-11T07:44:53.242962Z"
    }
   },
   "outputs": [
    {
     "name": "stdout",
     "output_type": "stream",
     "text": [
      "\n",
      "<!-- saved from url=(0031)http://10.5.4.100/template.html -->\n",
      "<html><head><meta http-equiv=\"Content-Type\" content=\"text/html; charset=UTF-8\">\n",
      "      \n",
      "   </head>\n",
      "\n",
      "   <body>\n",
      "       <font color=\"blue\"> 나의 홈페이지</font>\n",
      "     <table border=\"1\">\n",
      "             <tbody><tr bgcolor=\"yellow\">\n",
      "                  <td> 이름 </td>  <td> 이순신 </td> \n",
      "             </tr>  \n",
      "             <tr>\n",
      "                  <td> email </td>  <td> ^^ </td> \n",
      "             </tr>\n",
      "     </tbody></table>\n",
      "   \n",
      "</body></html>\n"
     ]
    }
   ],
   "source": [
    "data = {\"title\":\"나의 홈페이지\",  \"name\":\"이순신\", \"email\":\"^^\"}\n",
    "\n",
    "\n",
    "print(renderfile('template.html', data))"
   ]
  },
  {
   "cell_type": "code",
   "execution_count": null,
   "metadata": {},
   "outputs": [],
   "source": [
    "# template.html\n",
    "'''\n",
    "<!-- saved from url=(0031)http://10.5.4.100/template.html -->\n",
    "<html><head><meta http-equiv=\"Content-Type\" content=\"text/html; charset=UTF-8\">\n",
    "      \n",
    "   </head>\n",
    "\n",
    "   <body>\n",
    "       <font color=\"blue\"> @title</font>\n",
    "     <table border=\"1\">\n",
    "             <tbody><tr bgcolor=\"yellow\">\n",
    "                  <td> 이름 </td>  <td> @name </td> \n",
    "             </tr>  \n",
    "             <tr>\n",
    "                  <td> email </td>  <td> @email </td> \n",
    "             </tr>\n",
    "     </tbody></table>\n",
    "   \n",
    "</body></html>\n",
    "'''"
   ]
  },
  {
   "cell_type": "code",
   "execution_count": null,
   "metadata": {
    "ExecuteTime": {
     "start_time": "2020-02-11T07:49:34.297Z"
    }
   },
   "outputs": [],
   "source": [
    "# engine.py\n",
    "'''\n",
    "def renderfile(file, data) :\n",
    "    html = open(file, \"rt\", encoding=\"utf-8\").read()\n",
    "    for v in data :\n",
    "        html = html.replace(\"@\"+v, data[v])\n",
    "    return html\n",
    "\n",
    "data = {\"title\":\"나의 홈페이지\",  \"name\":\"이순신\", \"email\":\"lee@gmail.com\"}\n",
    "print(renderfile(\"template.html\", data))\n",
    "''''''"
   ]
  },
  {
   "cell_type": "markdown",
   "metadata": {},
   "source": [
    "> 브라우저에서\n",
    "- http://127.0.0.1/5.engine.py"
   ]
  },
  {
   "cell_type": "code",
   "execution_count": null,
   "metadata": {},
   "outputs": [],
   "source": []
  }
 ],
 "metadata": {
  "kernelspec": {
   "display_name": "Python 3",
   "language": "python",
   "name": "python3"
  },
  "language_info": {
   "codemirror_mode": {
    "name": "ipython",
    "version": 3
   },
   "file_extension": ".py",
   "mimetype": "text/x-python",
   "name": "python",
   "nbconvert_exporter": "python",
   "pygments_lexer": "ipython3",
   "version": "3.7.5"
  },
  "toc": {
   "base_numbering": 1,
   "nav_menu": {},
   "number_sections": false,
   "sideBar": true,
   "skip_h1_title": false,
   "title_cell": "Table of Contents",
   "title_sidebar": "Contents",
   "toc_cell": false,
   "toc_position": {},
   "toc_section_display": true,
   "toc_window_display": true
  },
  "varInspector": {
   "cols": {
    "lenName": 16,
    "lenType": 16,
    "lenVar": 40
   },
   "kernels_config": {
    "python": {
     "delete_cmd_postfix": "",
     "delete_cmd_prefix": "del ",
     "library": "var_list.py",
     "varRefreshCmd": "print(var_dic_list())"
    },
    "r": {
     "delete_cmd_postfix": ") ",
     "delete_cmd_prefix": "rm(",
     "library": "var_list.r",
     "varRefreshCmd": "cat(var_dic_list()) "
    }
   },
   "types_to_exclude": [
    "module",
    "function",
    "builtin_function_or_method",
    "instance",
    "_Feature"
   ],
   "window_display": false
  }
 },
 "nbformat": 4,
 "nbformat_minor": 2
}
