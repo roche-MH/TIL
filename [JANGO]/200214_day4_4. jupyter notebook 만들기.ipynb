{
 "cells": [
  {
   "cell_type": "markdown",
   "metadata": {},
   "source": [
    "# jupyter notebook\n",
    "\n",
    "> 실행: 서버\n",
    " - print()함수; 표준 출력 함수 -> 모니터로 출력되는 함수이므로\n",
    " - string으로 반환하는 것이아님.\n",
    " - print()함수가 표준 출력 장치로 보내므로 데이터를 가로채야 함.\n",
    " \n",
    "> 스트링 버퍼\n",
    "- print()함수가 메모리 off에 모아놓으면 내가 그 값을 갖고와서 표준출력장치로 출력"
   ]
  },
  {
   "cell_type": "code",
   "execution_count": 5,
   "metadata": {
    "ExecuteTime": {
     "end_time": "2020-02-14T07:20:30.494861Z",
     "start_time": "2020-02-14T07:20:30.491908Z"
    }
   },
   "outputs": [],
   "source": [
    "code = '''\n",
    "a = 20\n",
    "print(a)\n",
    "'''\n",
    "\n",
    "exec(code)"
   ]
  },
  {
   "cell_type": "code",
   "execution_count": 11,
   "metadata": {
    "ExecuteTime": {
     "end_time": "2020-02-14T07:32:14.839984Z",
     "start_time": "2020-02-14T07:32:14.836916Z"
    }
   },
   "outputs": [],
   "source": [
    "import sys\n",
    "from io import StringIO\n",
    "\n",
    "original_stdout = sys.stdout\n",
    "\n",
    "# 출력 결과를 메모리에 보관하기 위한 함수-> 메모리 버퍼로 출력\n",
    "sys.stdout = StringIO()\n",
    "\n",
    "exec(code)\n",
    "\n",
    "# 표준출력결과로 보내려던 데이터들 보간\n",
    "contents = sys.stdout.getvalue()\n",
    "sys.stdout = original_stdout\n",
    "print(contents)\n"
   ]
  },
  {
   "cell_type": "code",
   "execution_count": 9,
   "metadata": {
    "ExecuteTime": {
     "end_time": "2020-02-14T07:32:07.328022Z",
     "start_time": "2020-02-14T07:32:07.324071Z"
    }
   },
   "outputs": [],
   "source": []
  },
  {
   "cell_type": "code",
   "execution_count": 12,
   "metadata": {
    "ExecuteTime": {
     "end_time": "2020-02-14T07:32:32.300679Z",
     "start_time": "2020-02-14T07:32:32.291758Z"
    }
   },
   "outputs": [
    {
     "data": {
      "text/plain": [
       "'\\ndef runpythonForm(request):\\n    return render(request, \\'ajax/runpython.html\\')\\n\\n\\n# dict로 지역변수, 전역변수를 저장\\nglo = {}\\nloc = {}\\n\\ndef runpython(request):\\n    code = request.GET[\\'code\\']\\n    print(code)\\n\\n    original_stdout = sys.stdout\\n    sys.stdout = StringIO()\\n    # glo: 전역변수\\n    # loc: 지역변수를 저장하는 공간\\n    exec(code, glo, loc)\\n    contents = sys.stdout.getvalue()\\n    sys.stdout = original_stdout\\n    contents = contents.replace(\"\\n\", \"<br>\")\\n\\n    contents = \"<font color=red>result</font><br>\" + contents\\n    return HttpResponse(contents)\\n\\n'"
      ]
     },
     "execution_count": 12,
     "metadata": {},
     "output_type": "execute_result"
    }
   ],
   "source": [
    "# views.py\n",
    "'''\n",
    "# dict로 지역변수, 전역변수를 저장\n",
    "glo = {}\n",
    "loc = {}\n",
    "\n",
    "def runpython(request) :\n",
    "    code = request.GET[\"code\"]\n",
    "\n",
    "    original_stdout = sys.stdout\n",
    "    sys.stdout = StringIO()\n",
    "    exec(code, glo, loc)\n",
    "    contents = sys.stdout.getvalue()\n",
    "    sys.stdout = original_stdout\n",
    "    contents = contents.replace(\"\\n\", \"<br>\")\n",
    "\n",
    "    contents = \"<font color=red>result</font><br>\" + contents\n",
    "    return HttpResponse(contents)\n",
    "'''"
   ]
  },
  {
   "cell_type": "code",
   "execution_count": null,
   "metadata": {},
   "outputs": [],
   "source": [
    "# urls.py\n",
    "'''\n",
    "from django.urls import path\n",
    "from . import views \n",
    "\n",
    "urlpatterns = [\n",
    "    path('', views.index),\n",
    "    path('calcform', views.calcForm),\n",
    "    path('calc', views.calc),\n",
    "\n",
    "    path('loginform', views.loginForm),\n",
    "    path('login', views.login),\n",
    "\n",
    "    path('dateform', views.dateForm),\n",
    "    path('date', views.date),\n",
    "\n",
    "    path('uploadform', views.uploadForm),\n",
    "    path('upload', views.upload),\n",
    "\n",
    "    path('runpythonform', views.runpythonForm),\n",
    "    path('runpython', views.runpython),\n",
    "]\n",
    "'''"
   ]
  },
  {
   "cell_type": "code",
   "execution_count": null,
   "metadata": {},
   "outputs": [],
   "source": [
    "# runpython.html\n",
    "'''\n",
    "<script src=\"http://code.jquery.com/jquery-1.11.3.min.js\"></script>\n",
    "<script src=\"http://code.jquery.com/jquery-migrate-1.2.1.min.js\"></script>\n",
    "\n",
    "\n",
    "<button id=\"btnAdd\">add cell</button>\n",
    "<div id=\"cells\" >\n",
    "    <div id=\"cell\">\n",
    "        <textarea rows=\"10\" cols=\"40\" id=\"code\"> </textarea>\n",
    "        <button id=\"btnRun\">실행</button>\n",
    "    <div id=\"result\"> result </div>\n",
    "    </div>\n",
    "</div>\n",
    "\n",
    "<script>\n",
    "    $(\"#btnRun\").click( function() {\n",
    "          var param = {code:$(\"#code\").val()};\n",
    "          $.get(\"/ajax/runpython\", param, function(data) {\n",
    "             $(\"#result\").html(data)\n",
    "          });\n",
    "    });\n",
    "\n",
    "    $(\"#btnAdd\").click( function() {\n",
    "       $(\"#cells\").append($(\"#cell\").clone())\n",
    "     });\n",
    "\n",
    "</script>\n",
    "\n",
    "'''"
   ]
  }
 ],
 "metadata": {
  "kernelspec": {
   "display_name": "Python 3",
   "language": "python",
   "name": "python3"
  },
  "language_info": {
   "codemirror_mode": {
    "name": "ipython",
    "version": 3
   },
   "file_extension": ".py",
   "mimetype": "text/x-python",
   "name": "python",
   "nbconvert_exporter": "python",
   "pygments_lexer": "ipython3",
   "version": "3.7.4"
  },
  "toc": {
   "base_numbering": 1,
   "nav_menu": {},
   "number_sections": false,
   "sideBar": true,
   "skip_h1_title": false,
   "title_cell": "Table of Contents",
   "title_sidebar": "Contents",
   "toc_cell": false,
   "toc_position": {},
   "toc_section_display": true,
   "toc_window_display": false
  },
  "varInspector": {
   "cols": {
    "lenName": 16,
    "lenType": 16,
    "lenVar": 40
   },
   "kernels_config": {
    "python": {
     "delete_cmd_postfix": "",
     "delete_cmd_prefix": "del ",
     "library": "var_list.py",
     "varRefreshCmd": "print(var_dic_list())"
    },
    "r": {
     "delete_cmd_postfix": ") ",
     "delete_cmd_prefix": "rm(",
     "library": "var_list.r",
     "varRefreshCmd": "cat(var_dic_list()) "
    }
   },
   "types_to_exclude": [
    "module",
    "function",
    "builtin_function_or_method",
    "instance",
    "_Feature"
   ],
   "window_display": false
  }
 },
 "nbformat": 4,
 "nbformat_minor": 2
}
