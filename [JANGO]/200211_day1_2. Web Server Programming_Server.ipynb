{
 "cells": [
  {
   "cell_type": "markdown",
   "metadata": {},
   "source": [
    "# Web Server Programming\n",
    "\n",
    "# 1. OSI(Open System Interconnection)\n",
    "> 계층화\n",
    "- 통신 기술의 도입과 통신 기능의 확장을 쉽게 하려고 프로토콜을 몇 개의 계층으로 나누느 것\n",
    "- 통신 기능을 7계층으로 분류하여 각 계층마다 프로토콜을 규정한 규격\n",
    "\n",
    "> OSI 7\n",
    "- 하드웨어 기반의 dependency를 소프트웨어 쪽에서 해결 위해 만듦\n",
    "- 송신측 시스템(데이터 흐름):  응용>표현>세션>전송>네트워크>데이터링크>물리\n",
    "- 수신측:물리> 데이터링크>네트워크>전송>세션>표현>응용\n",
    "- 하드웨어 측면: os의 소켓기능을 활용해서 해결(물리적 장비들을 이용해서 보냄)\n",
    "\n",
    "\n",
    "> OSI7을 크게 2개로 보면\n",
    "- 서로 독립적이라 다른 계층의 변경이 다른 계층에는 영향을 미치지 않음.\n",
    "- 사용자와 접속: 응용, 표현, 세션, 전송\n",
    "- 망과 접속: 네트워크, 데이터링크, 물리\n",
    "- 127.0.0.1 : 랜카드 업어도 동작, 사용자와의 접속 층(응용>표현>세션>전송)층까지만 왔다갔다 함.\n",
    "\n",
    "### 전송계층\n",
    "- 실제 데이터를 보내느 것.\n",
    "- 프로토콜(tcp, udp)과 관련된 계층으로 오류복구와 흐름 제어 등을 담당\n",
    "- 두 시스템 간에 신뢰성 있는 데이터를 전송\n",
    "- 네트워크 계층에서 온 데이터를 세션 계층의 어느 애플리케이션에 보낼 것인지 판독하고네트워크 계층으로 전송할 경로를 선택\n",
    "- 4번째 증\n",
    "\n",
    "> tcp: 많이 사용\n",
    "- 등기 같은 개념\n",
    "- tpc의 핵심이 ip\n",
    "- 프로토콜(tcp, udp)와 관련된 계층으로\n",
    "- ip를 정의(컴퓨터를 구분,랜카드에 부여된 고유값이 ip)\n",
    "- 신뢰도가 높음.\n",
    "\n",
    "> udp\n",
    "- 신뢰성이 낮음. 데이터를 보내고 책임을 안짐. \n",
    "- 데이터가 간다는 보장이 안되기 때문에 \n",
    "- 우편의 개념. \n",
    "- 빠르다는 장점(동영상 등)\n",
    "- 요즘은 네트워크가 많이 빨라졌기때문에 잘 사용하지 않음.\n",
    "- 데이터가 변하지는 않음. 늦게 도착하거나 없어지거나.\n",
    "\n",
    "> port\n",
    "- ip: 컴퓨터를 구분하는 것\n",
    "- ip 위에 응용계층이 있는데, port가 없으면 어디로 보낼지 결정\n",
    "- 컴퓨터에 있는 것을 어느 으용계층으로 보낼 것인지 결정\n",
    "- 포트번호 :16비트\n",
    "- http는 보통 80번 사용 -> 응용계층의 서비스들이 사용하고 있으므로 되도록 80은 사용하면 안됨.\n",
    "\n",
    "\n",
    "### 응용 계층\n",
    "- 응용계층과 사용자(사람, 소프트웨어), 표현 계층간의 관계를 보여줌.\n",
    "- 수신: 표현 계층의 메시지를 응용계층의 사람, 애플리케이션으로 보냄\n",
    "- 송신: 응용계층의 사람, 애플리케이션, 브라우저가 표현계층으로 메시지를 보냄.\n",
    "- 세션, 표현, 응용 계층에서 모두 응용 프로그램(SMTP, FTP, 텔넷, DMS, NFS 사용)\n",
    "\n",
    "\n",
    "### tcp/ip의 이해\n",
    "- 네트워크 접속 계층: 물리 주소(모뎀, 네트워크)\n",
    "\n",
    "> TCP/IP 주소의 구조\n",
    ">> 물리주소\n",
    ">>ip 주소 (인터넷 프로토콜) \n",
    "\n",
    "\n",
    ">> port 번호 \n",
    "- 리스닝(웹 브라우저는 80번 포트를 계속 리스닝하고 있음.)\n",
    "\n",
    "\n",
    "\n",
    "# 2.python Socker 프로그래밍\n",
    "> 소켓\n",
    "- os에서 제공하는 인터페이션\n",
    "- 물리계층 -> 어플리케이션: 데이터를 보내고 받을 수 있는 표준화된 api\n",
    "- 편지봉투같은 개념\n",
    "- 필요한 데이터를 담아서 보내고, 소켓에서 데이터를 꺼내어 받음.\n",
    "- 실제로 통신이 이루어지는 것.\n"
   ]
  },
  {
   "cell_type": "markdown",
   "metadata": {
    "ExecuteTime": {
     "end_time": "2020-02-11T00:41:13.393635Z",
     "start_time": "2020-02-11T00:41:13.389701Z"
    }
   },
   "source": [
    "# 3.서버 만들기"
   ]
  },
  {
   "cell_type": "markdown",
   "metadata": {},
   "source": [
    "## 3.1. server socket"
   ]
  },
  {
   "cell_type": "code",
   "execution_count": 1,
   "metadata": {
    "ExecuteTime": {
     "end_time": "2020-02-11T01:18:49.786407Z",
     "start_time": "2020-02-11T01:18:47.810379Z"
    }
   },
   "outputs": [
    {
     "name": "stdout",
     "output_type": "stream",
     "text": [
      "lestening\n",
      "hello\n",
      "send to client\n",
      "종료\n"
     ]
    }
   ],
   "source": [
    "import socket\n",
    "\n",
    "# 서버 소켓 만들기\n",
    "server_socket = socket.socket(socket.AF_INET, # 통신 채널 선택, TCP/IP를 쓰겠다\n",
    "                              socket.SOCK_STREAM)# TCP방식으로 만들겠다\n",
    "\n",
    "\n",
    "# 연결\n",
    "server_socket.bind(('localhost',  # 127.0.0.1과 같음.-> 자기port 자기가 리스닝\n",
    "                    12345))  # port 번호\n",
    "# 데이터가 오는지 안오는지 확인\n",
    "server_socket.listen(0) # 관리하는 port 개수(0:알아서 관리, )\n",
    "print('lestening')\n",
    "\n",
    "# 클라이언트가 접속\n",
    "client_socket, addr = server_socket.accept()\n",
    "\n",
    "\n",
    "# 데이터를 64k로 나누어서 받음.\n",
    "data = client_socket.recv(65535) # 최대 64k를 받을 수 있음.\n",
    "\n",
    "print(data.decode())\n",
    "\n",
    "client_socket.send(data)\n",
    "print('send to client')\n",
    "\n",
    "\n",
    "# 메시지 보내고 서버 종료\n",
    "client_socket.close()\n",
    "print('종료')"
   ]
  },
  {
   "cell_type": "code",
   "execution_count": null,
   "metadata": {},
   "outputs": [],
   "source": []
  },
  {
   "cell_type": "markdown",
   "metadata": {},
   "source": [
    "## 3.2. 웹서버(HTTP 서버): port: 80번(브라우저가 보내주는 값을 확인할 수 있음.)"
   ]
  },
  {
   "cell_type": "code",
   "execution_count": 1,
   "metadata": {
    "ExecuteTime": {
     "end_time": "2020-02-11T01:38:32.240429Z",
     "start_time": "2020-02-11T01:38:24.800898Z"
    }
   },
   "outputs": [
    {
     "name": "stdout",
     "output_type": "stream",
     "text": [
      "lestening\n",
      "accepting\n",
      "receice data: POST / HTTP/1.1\n",
      "Host: 127.0.0.1\n",
      "Connection: keep-alive\n",
      "Content-Length: 8\n",
      "Cache-Control: max-age=0\n",
      "Upgrade-Insecure-Requests: 1\n",
      "Origin: null\n",
      "Content-Type: application/x-www-form-urlencoded\n",
      "User-Agent: Mozilla/5.0 (Windows NT 10.0; Win64; x64) AppleWebKit/537.36 (KHTML, like Gecko) Chrome/79.0.3945.130 Safari/537.36\n",
      "Sec-Fetch-User: ?1\n",
      "Accept: text/html,application/xhtml+xml,application/xml;q=0.9,image/webp,image/apng,*/*;q=0.8,application/signed-exchange;v=b3;q=0.9\n",
      "Sec-Fetch-Site: cross-site\n",
      "Sec-Fetch-Mode: navigate\n",
      "Accept-Encoding: gzip, deflate, br\n",
      "Accept-Language: ko-KR,ko;q=0.9,en-US;q=0.8,en;q=0.7\n",
      "\n",
      "id=hello\n"
     ]
    }
   ],
   "source": [
    "import socket\n",
    "\n",
    "# 서버 소켓 만들기\n",
    "server_socket = socket.socket(socket.AF_INET, # 통신 채널 선택, TCP/IP를 쓰겠다\n",
    "                              socket.SOCK_STREAM)# TCP방식으로 만들겠다\n",
    "\n",
    "\n",
    "# 연결\n",
    "server_socket.bind(('localhost',  # 127.0.0.1과 같음.-> 자기port 자기가 리스닝\n",
    "                    80))  # port 번호\n",
    "# 데이터가 오는지 안오는지 확인\n",
    "server_socket.listen(0) # 관리하는 port 개수(0:알아서 관리, )\n",
    "print('lestening')\n",
    "\n",
    "# 클라이언트가 접속\n",
    "client_socket, addr = server_socket.accept()\n",
    "print('accepting')\n",
    "\n",
    "# 데이터를 64k로 나누어서 받음.\n",
    "data = client_socket.recv(65535) # 최대 64k를 받을 수 있음.\n",
    "\n",
    "print('receice data:', data.decode())\n",
    "client_socket.send(data)\n",
    "\n",
    "\n",
    "# 메시지 보내고 서버 종료\n",
    "client_socket.close()\n"
   ]
  },
  {
   "cell_type": "markdown",
   "metadata": {},
   "source": [
    "#### get 방식1"
   ]
  },
  {
   "cell_type": "markdown",
   "metadata": {},
   "source": [
    "> 브라우저 열고\n",
    "- http://127.0.0.1/80 (http://localhost/80)\n",
    "- 브라우저도 하나의 소켓\n",
    "\n",
    "> get 방식으로 보내기\n",
    "- 실제로 url과 다른 정보들도 많이 보냄"
   ]
  },
  {
   "cell_type": "code",
   "execution_count": null,
   "metadata": {
    "ExecuteTime": {
     "start_time": "2020-02-11T01:27:36.719Z"
    }
   },
   "outputs": [],
   "source": [
    "'''\n",
    "GET / HTTP/1.1\n",
    "Host: 127.0.0.1\n",
    "Connection: keep-alive\n",
    "Upgrade-Insecure-Requests: 1\n",
    "User-Agent: Mozilla/5.0 (Windows NT 10.0; Win64; x64) AppleWebKit/537.36 (KHTML, like Gecko) Chrome/79.0.3945.130 Safari/537.36\n",
    "Sec-Fetch-User: ?1\n",
    "Accept: text/html,application/xhtml+xml,application/xml;q=0.9,image/webp,image/apng,*/*;q=0.8,application/signed-exchange;v=b3;q=0.9\n",
    "Sec-Fetch-Site: none\n",
    "Sec-Fetch-Mode: navigate\n",
    "Accept-Encoding: gzip, deflate, br\n",
    "Accept-Language: ko-KR,ko;q=0.9,en-US;q=0.8,en;q=0.7\n",
    "'''"
   ]
  },
  {
   "cell_type": "markdown",
   "metadata": {},
   "source": [
    "> get 방식\n",
    "- http://127.0.0.1/80/fef?abc=%20sdfefsdfsdf 이렇게 보내면"
   ]
  },
  {
   "cell_type": "code",
   "execution_count": null,
   "metadata": {},
   "outputs": [],
   "source": [
    "'''\n",
    "GET /80/fef?abc=%20sdfefsdfsdf HTTP/1.1   # 1.1. 이어받기 가능한 구조\n",
    "Host: 127.0.0.1\n",
    "Connection: keep-alive\n",
    "Upgrade-Insecure-Requests: 1\n",
    "User-Agent: Mozilla/5.0 (Windows NT 10.0; Win64; x64) AppleWebKit/537.36 (KHTML, like Gecko) Chrome/79.0.3945.130 Safari/537.36\n",
    "Sec-Fetch-User: ?1\n",
    "Accept: text/html,application/xhtml+xml,application/xml;q=0.9,image/webp,image/apng,*/*;q=0.8,application/signed-exchange;v=b3;q=0.9\n",
    "Sec-Fetch-Site: none\n",
    "Sec-Fetch-Mode: navigate\n",
    "Accept-Encoding: gzip, deflate, br\n",
    "Accept-Language: ko-KR,ko;q=0.9,en-US;q=0.8,en;q=0.7\n",
    "\n",
    "'''    "
   ]
  },
  {
   "cell_type": "markdown",
   "metadata": {},
   "source": [
    "#### get 방식2"
   ]
  },
  {
   "cell_type": "code",
   "execution_count": null,
   "metadata": {},
   "outputs": [],
   "source": [
    "> form.html 파일 만들기\n",
    "- 브라우저에서 실행하고\n",
    "- text에 hello를 주면 "
   ]
  },
  {
   "cell_type": "code",
   "execution_count": 2,
   "metadata": {
    "ExecuteTime": {
     "end_time": "2020-02-11T01:35:36.352234Z",
     "start_time": "2020-02-11T01:35:36.343281Z"
    }
   },
   "outputs": [
    {
     "data": {
      "text/plain": [
       "'\\n<!-- 절대경로로 주기 -->\\n<form action = \\'http://127.0.0.1\\'>\\n    <input type=text name = id>\\n    <input type=submit value= \"send\">\\n\\n</form> \\n'"
      ]
     },
     "execution_count": 2,
     "metadata": {},
     "output_type": "execute_result"
    }
   ],
   "source": [
    "# form.html\n",
    "'''\n",
    "<!-- 절대경로로 주기 -->\n",
    "<form action = 'http://127.0.0.1'>\n",
    "    <input type=text name = id>\n",
    "    <input type=submit value= \"send\">\n",
    "\n",
    "</form> \n",
    "'''"
   ]
  },
  {
   "cell_type": "markdown",
   "metadata": {},
   "source": [
    "> 서버가 받은 데이터는"
   ]
  },
  {
   "cell_type": "code",
   "execution_count": null,
   "metadata": {},
   "outputs": [],
   "source": [
    "'''\n",
    "GET /?id=hello HTTP/1.1\n",
    "Host: 127.0.0.1\n",
    "Connection: keep-alive\n",
    "Upgrade-Insecure-Requests: 1\n",
    "User-Agent: Mozilla/5.0 (Windows NT 10.0; Win64; x64) AppleWebKit/537.36 (KHTML, like Gecko) Chrome/79.0.3945.130 Safari/537.36\n",
    "Sec-Fetch-User: ?1\n",
    "Accept: text/html,application/xhtml+xml,application/xml;q=0.9,image/webp,image/apng,*/*;q=0.8,application/signed-exchange;v=b3;q=0.9\n",
    "Sec-Fetch-Site: cross-site\n",
    "Sec-Fetch-Mode: navigate\n",
    "Accept-Encoding: gzip, deflate, br\n",
    "Accept-Language: ko-KR,ko;q=0.9,en-US;q=0.8,en;q=0.7\n",
    "'''"
   ]
  },
  {
   "cell_type": "markdown",
   "metadata": {},
   "source": [
    "#### post방식"
   ]
  },
  {
   "cell_type": "code",
   "execution_count": null,
   "metadata": {},
   "outputs": [],
   "source": [
    "> form.html 파일 만들기\n",
    "- 브라우저에서 실행하고\n",
    "- text에 hello를 주면 "
   ]
  },
  {
   "cell_type": "code",
   "execution_count": 2,
   "metadata": {
    "ExecuteTime": {
     "end_time": "2020-02-11T01:35:36.352234Z",
     "start_time": "2020-02-11T01:35:36.343281Z"
    }
   },
   "outputs": [
    {
     "data": {
      "text/plain": [
       "'\\n<!-- 절대경로로 주기 -->\\n<form action = \\'http://127.0.0.1\\'>\\n    <input type=text name = id>\\n    <input type=submit value= \"send\">\\n\\n</form> \\n'"
      ]
     },
     "execution_count": 2,
     "metadata": {},
     "output_type": "execute_result"
    }
   ],
   "source": [
    "# form.html\n",
    "'''\n",
    "<!-- 절대경로로 주기 -->\n",
    "<form action = 'http://127.0.0.1' method = 'post'>\n",
    "    <input type=text name = id>\n",
    "    <input type=submit value= \"send\">\n",
    "\n",
    "</form> \n",
    "'''"
   ]
  },
  {
   "cell_type": "markdown",
   "metadata": {},
   "source": [
    "> 서버가 받은 데이터는"
   ]
  },
  {
   "cell_type": "code",
   "execution_count": null,
   "metadata": {
    "ExecuteTime": {
     "start_time": "2020-02-11T08:13:51.882Z"
    }
   },
   "outputs": [],
   "source": [
    "'''\n",
    "# header정보\n",
    "POST / HTTP/1.1\n",
    "Host: 127.0.0.1\n",
    "Connection: keep-alive\n",
    "Content-Length: 8\n",
    "Cache-Control: max-age=0\n",
    "Upgrade-Insecure-Requests: 1\n",
    "Origin: null\n",
    "Content-Type: application/x-www-form-urlencoded\n",
    "User-Agent: Mozilla/5.0 (Windows NT 10.0; Win64; x64) AppleWebKit/537.36 (KHTML, like Gecko) Chrome/79.0.3945.130 Safari/537.36\n",
    "Sec-Fetch-User: ?1\n",
    "Accept: text/html,application/xhtml+xml,application/xml;q=0.9,image/webp,image/apng,*/*;q=0.8,application/signed-exchange;v=b3;q=0.9\n",
    "Sec-Fetch-Site: cross-site\n",
    "Sec-Fetch-Mode: navigate\n",
    "Accept-Encoding: gzip, deflate, br\n",
    "Accept-Language: ko-KR,ko;q=0.9,en-US;q=0.8,en;q=0.7\n",
    "\n",
    "\n",
    "# body정보\n",
    "id=hello\n",
    "'''"
   ]
  },
  {
   "cell_type": "code",
   "execution_count": null,
   "metadata": {},
   "outputs": [],
   "source": []
  }
 ],
 "metadata": {
  "kernelspec": {
   "display_name": "Python 3",
   "language": "python",
   "name": "python3"
  },
  "language_info": {
   "codemirror_mode": {
    "name": "ipython",
    "version": 3
   },
   "file_extension": ".py",
   "mimetype": "text/x-python",
   "name": "python",
   "nbconvert_exporter": "python",
   "pygments_lexer": "ipython3",
   "version": "3.7.5"
  },
  "toc": {
   "base_numbering": 1,
   "nav_menu": {},
   "number_sections": false,
   "sideBar": true,
   "skip_h1_title": false,
   "title_cell": "Table of Contents",
   "title_sidebar": "Contents",
   "toc_cell": false,
   "toc_position": {
    "height": "calc(100% - 180px)",
    "left": "10px",
    "top": "150px",
    "width": "191.594px"
   },
   "toc_section_display": true,
   "toc_window_display": true
  },
  "varInspector": {
   "cols": {
    "lenName": 16,
    "lenType": 16,
    "lenVar": 40
   },
   "kernels_config": {
    "python": {
     "delete_cmd_postfix": "",
     "delete_cmd_prefix": "del ",
     "library": "var_list.py",
     "varRefreshCmd": "print(var_dic_list())"
    },
    "r": {
     "delete_cmd_postfix": ") ",
     "delete_cmd_prefix": "rm(",
     "library": "var_list.r",
     "varRefreshCmd": "cat(var_dic_list()) "
    }
   },
   "types_to_exclude": [
    "module",
    "function",
    "builtin_function_or_method",
    "instance",
    "_Feature"
   ],
   "window_display": false
  }
 },
 "nbformat": 4,
 "nbformat_minor": 2
}
