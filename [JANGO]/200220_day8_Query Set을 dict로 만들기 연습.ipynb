{
 "cells": [
  {
   "cell_type": "code",
   "execution_count": 7,
   "metadata": {
    "ExecuteTime": {
     "end_time": "2020-02-20T02:33:22.978774Z",
     "start_time": "2020-02-20T02:33:22.975752Z"
    }
   },
   "outputs": [],
   "source": [
    "from myboard import models"
   ]
  },
  {
   "cell_type": "code",
   "execution_count": 8,
   "metadata": {
    "ExecuteTime": {
     "end_time": "2020-02-20T02:33:27.198657Z",
     "start_time": "2020-02-20T02:33:27.191717Z"
    }
   },
   "outputs": [
    {
     "data": {
      "text/plain": [
       "<QuerySet [<Board: 나얼ㄴ얼>, <Board: ㄴ알낭란어>, <Board: kjkjkjjjkkkkk>, <Board: 초콜릿>, <Board: hjjhkjhjk>, <Board: hjhkjhj>, <Board: kjkjkjkjkj>]>"
      ]
     },
     "execution_count": 8,
     "metadata": {},
     "output_type": "execute_result"
    }
   ],
   "source": [
    "datas = models.Board.objects.all().filter(category = 'common')\n",
    "datas"
   ]
  },
  {
   "cell_type": "code",
   "execution_count": 10,
   "metadata": {
    "ExecuteTime": {
     "end_time": "2020-02-20T02:34:48.346115Z",
     "start_time": "2020-02-20T02:34:48.342126Z"
    }
   },
   "outputs": [],
   "source": [
    "page=int(page)"
   ]
  },
  {
   "cell_type": "code",
   "execution_count": 11,
   "metadata": {
    "ExecuteTime": {
     "end_time": "2020-02-20T02:34:49.436494Z",
     "start_time": "2020-02-20T02:34:49.431488Z"
    }
   },
   "outputs": [
    {
     "name": "stdout",
     "output_type": "stream",
     "text": [
      "<QuerySet [<Board: 나얼ㄴ얼>, <Board: ㄴ알낭란어>, <Board: kjkjkjjjkkkkk>]>\n"
     ]
    }
   ],
   "source": [
    "page = 1\n",
    "subs = datas[(page-1)*3: (page) * 3]\n",
    "print(subs)"
   ]
  },
  {
   "cell_type": "markdown",
   "metadata": {},
   "source": [
    "# dict로 만들기 -> jsonResponse를 상용하기 위해서"
   ]
  },
  {
   "cell_type": "code",
   "execution_count": 18,
   "metadata": {
    "ExecuteTime": {
     "end_time": "2020-02-20T02:37:34.090245Z",
     "start_time": "2020-02-20T02:37:34.079590Z"
    }
   },
   "outputs": [
    {
     "data": {
      "text/plain": [
       "<bound method QuerySet.values of <QuerySet [<Board: 나얼ㄴ얼>, <Board: ㄴ알낭란어>, <Board: kjkjkjjjkkkkk>]>>"
      ]
     },
     "execution_count": 18,
     "metadata": {},
     "output_type": "execute_result"
    }
   ],
   "source": [
    "subs.values"
   ]
  },
  {
   "cell_type": "code",
   "execution_count": 21,
   "metadata": {
    "ExecuteTime": {
     "end_time": "2020-02-20T02:38:56.012528Z",
     "start_time": "2020-02-20T02:38:56.006465Z"
    }
   },
   "outputs": [
    {
     "data": {
      "text/plain": [
       "<bound method QuerySet.dates of <QuerySet [<Board: 나얼ㄴ얼>, <Board: ㄴ알낭란어>, <Board: kjkjkjjjkkkkk>]>>"
      ]
     },
     "execution_count": 21,
     "metadata": {},
     "output_type": "execute_result"
    }
   ],
   "source": [
    "subs."
   ]
  },
  {
   "cell_type": "code",
   "execution_count": 17,
   "metadata": {
    "ExecuteTime": {
     "end_time": "2020-02-20T02:36:43.172503Z",
     "start_time": "2020-02-20T02:36:43.158547Z"
    }
   },
   "outputs": [
    {
     "data": {
      "text/plain": [
       "3"
      ]
     },
     "execution_count": 17,
     "metadata": {},
     "output_type": "execute_result"
    }
   ],
   "source": [
    "len(subs)"
   ]
  },
  {
   "cell_type": "code",
   "execution_count": 24,
   "metadata": {
    "ExecuteTime": {
     "end_time": "2020-02-20T02:42:42.963634Z",
     "start_time": "2020-02-20T02:42:42.958670Z"
    }
   },
   "outputs": [
    {
     "data": {
      "text/plain": [
       "[{'pk': 1, 'title': '나얼ㄴ얼', 'cnd': 0},\n",
       " {'pk': 2, 'title': 'ㄴ알낭란어', 'cnd': 2},\n",
       " {'pk': 3, 'title': 'kjkjkjjjkkkkk', 'cnd': 2}]"
      ]
     },
     "execution_count": 24,
     "metadata": {},
     "output_type": "execute_result"
    }
   ],
   "source": [
    "datas = []\n",
    "for data in subs:\n",
    "    dict_subs ={}\n",
    "    dict_subs['pk'] = data.pk\n",
    "    dict_subs['title'] = data.title\n",
    "    dict_subs['cnd'] = data.cnt\n",
    "    datas.append(dict_subs)\n",
    "\n",
    "datas\n",
    "    "
   ]
  },
  {
   "cell_type": "code",
   "execution_count": 29,
   "metadata": {
    "ExecuteTime": {
     "end_time": "2020-02-20T02:45:13.427164Z",
     "start_time": "2020-02-20T02:45:13.422223Z"
    }
   },
   "outputs": [],
   "source": [
    "datas = {'datas': [{'pk': data.pk, 'title': data.title, 'cnt': data.cnt} for data in subs]}"
   ]
  },
  {
   "cell_type": "code",
   "execution_count": 30,
   "metadata": {
    "ExecuteTime": {
     "end_time": "2020-02-20T02:45:17.636025Z",
     "start_time": "2020-02-20T02:45:17.621958Z"
    }
   },
   "outputs": [
    {
     "data": {
      "text/plain": [
       "{'datas': [{'pk': 1, 'title': '나얼ㄴ얼', 'cnt': 0},\n",
       "  {'pk': 2, 'title': 'ㄴ알낭란어', 'cnt': 2},\n",
       "  {'pk': 3, 'title': 'kjkjkjjjkkkkk', 'cnt': 2}]}"
      ]
     },
     "execution_count": 30,
     "metadata": {},
     "output_type": "execute_result"
    }
   ],
   "source": [
    "datas"
   ]
  },
  {
   "cell_type": "code",
   "execution_count": null,
   "metadata": {},
   "outputs": [],
   "source": []
  }
 ],
 "metadata": {
  "kernelspec": {
   "display_name": "Django Shell-Plus",
   "language": "python",
   "name": "django_extensions"
  },
  "language_info": {
   "codemirror_mode": {
    "name": "ipython",
    "version": 3
   },
   "file_extension": ".py",
   "mimetype": "text/x-python",
   "name": "python",
   "nbconvert_exporter": "python",
   "pygments_lexer": "ipython3",
   "version": "3.6.10"
  },
  "toc": {
   "base_numbering": 1,
   "nav_menu": {},
   "number_sections": false,
   "sideBar": true,
   "skip_h1_title": false,
   "title_cell": "Table of Contents",
   "title_sidebar": "Contents",
   "toc_cell": false,
   "toc_position": {},
   "toc_section_display": true,
   "toc_window_display": false
  },
  "varInspector": {
   "cols": {
    "lenName": 16,
    "lenType": 16,
    "lenVar": 40
   },
   "kernels_config": {
    "python": {
     "delete_cmd_postfix": "",
     "delete_cmd_prefix": "del ",
     "library": "var_list.py",
     "varRefreshCmd": "print(var_dic_list())"
    },
    "r": {
     "delete_cmd_postfix": ") ",
     "delete_cmd_prefix": "rm(",
     "library": "var_list.r",
     "varRefreshCmd": "cat(var_dic_list()) "
    }
   },
   "types_to_exclude": [
    "module",
    "function",
    "builtin_function_or_method",
    "instance",
    "_Feature"
   ],
   "window_display": false
  }
 },
 "nbformat": 4,
 "nbformat_minor": 4
}
