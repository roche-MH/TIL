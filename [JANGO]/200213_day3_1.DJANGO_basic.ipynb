{
 "cells": [
  {
   "cell_type": "markdown",
   "metadata": {},
   "source": [
    "# web application에서 알아야 하는 3가지\n",
    "- 어떻게 출력할 것인가? : html\n",
    "- 어떻게 입력을 받을 것인가? : get, post\n",
    "- session (state를 저장하지 않음.)"
   ]
  },
  {
   "cell_type": "markdown",
   "metadata": {},
   "source": [
    "# 웹 서버 3가지\n",
    "### 1. 플라스크\n",
    "- 간단한 웹 서버 프레임워크\n",
    "- 서버가 죽을 수 있음.\n",
    "\n",
    "\n",
    "### 2. low level 웹 서버(소켓 베이스)\n",
    "#### 단점\n",
    "> 매번 py.파일 실행(서버 사이드 프로그램)\n",
    "- 비효율적(매번 process 생성, kill)\n",
    "- 프로세스 기반\n",
    "- 해결: ram에 상주시킴\n",
    "    \n",
    "> url 분석해야 함(파라미터 분석)\n",
    "- 플라스크: url 자동 매핑(@app.rout('./')\n",
    "\n",
    "### 3. 장고\n",
    "- 세분화가 많이 되어있음.\n",
    "- "
   ]
  },
  {
   "cell_type": "markdown",
   "metadata": {},
   "source": [
    "# 장고\n",
    "\n",
    "## 1. MVC(=MTV)\n",
    "> Model\n",
    "- 안전하게 데이터를 저장\n",
    "- 데이터를 어떻게 저장할 것인가?\n",
    "- 데이터 저장을 위한 별도의 모듈을 만듦. -> DB와 연계\n",
    "\n",
    "> View\n",
    "- 데이터를 적절하게 유저에게 보여줌\n",
    "- 그래프, 템플릿 등을 활용\n",
    "- 장고에서는 Control의 역할을 하기도 함.\n",
    "\n",
    "> Control, Template(Django)\n",
    "- 사용자의 입력과 이벤트에 반응하여 Model과 View를 업데이트\n",
    "- Control: 모델과 뷰를 연결하는 기능\n",
    "- Template: 데이터를 보여주는 용도(렌더링을 이용해서 보여줌)\n",
    "\n",
    "> MVC/ MTV\n",
    "- MCV:\n",
    "\n",
    "## 2. 장고의 구조\n",
    "### MVC 모델\n",
    "- Web Server > VIWE(TEMPLATE) > MODEL > DB\n",
    "\n",
    "> Web Server\n",
    "- 장고에서 기본적으로 제공\n",
    "\n",
    "> VIEW, TEMPLATE\n",
    "- 플라스크에서는 자동으로 @app.route해서 사용했는데\n",
    "- 장고는 수동으로 연결해야함. \n",
    "- url이 들어오면 어떤 함수를 실행할지, 어떤 template를 연결할지 지정해야 함.\n",
    "\n",
    "> DB\n",
    "- (장고에서는 기본적으로 제공해줌)\n",
    "\n",
    "> 장고만으로 웹 서비스만드로 만들수는 없음.\n",
    "- 비효율적\n",
    "- 아파치 등 서버를 이용하는 것이 경제적, 안정적\n",
    "- static file들은 아파치 서버에 저장, 운영해야 함.!"
   ]
  },
  {
   "cell_type": "markdown",
   "metadata": {
    "ExecuteTime": {
     "end_time": "2020-02-13T00:26:50.670478Z",
     "start_time": "2020-02-13T00:26:50.666547Z"
    }
   },
   "source": [
    "## 3. Project와 APP\n",
    "> 프로제그 생성\n",
    "- $ django-admin startproject tutorial\n",
    "\n",
    "> app 생성\n",
    "- 프로젝트 안에 들어가있는 작은 프로그램\n",
    "- $./manage.py startapp connunity\n",
    "\n"
   ]
  },
  {
   "cell_type": "markdown",
   "metadata": {},
   "source": [
    "# 4. 장고 설치"
   ]
  },
  {
   "cell_type": "markdown",
   "metadata": {},
   "source": [
    "### promp창에서 실행\n",
    "> 장고 설치\n",
    "- pip install django\n",
    "\n",
    "> 설치 확인\n",
    "- django-admin\n",
    "\n",
    "> 프로젝트 만들기\n",
    "- django-admin startproject 프로젝트이름\n",
    "- django-admin startproject mysite\n",
    "- 확인: mysite 안에 mysite, manage.py파일 생성\n",
    "- mysite: 설정 파일들이 들어가있음.\n"
   ]
  },
  {
   "cell_type": "markdown",
   "metadata": {
    "ExecuteTime": {
     "end_time": "2020-02-13T00:35:05.529862Z",
     "start_time": "2020-02-13T00:35:05.515450Z"
    }
   },
   "source": [
    "####  mysite dir: 설정관련 파일\n",
    "> setting.py\n",
    "- template, DataBase, Static 등에 대한 정보를 갖고 있음.\n",
    "\n",
    "> urls.py\n",
    "- 경로명에 대한 정보\n",
    "- url정보가 들어왔을 때 어떤 함수를 실행할지 등에 대한 정보\n",
    "\n",
    "\n",
    "#### manage.py\n",
    "- errer 처리\n",
    "- 프로젝트의 시작점 -> 실행하면 프로젝트의 파일들이 실행되서 웹서비스 운영 가능\n",
    "\n"
   ]
  },
  {
   "cell_type": "markdown",
   "metadata": {
    "ExecuteTime": {
     "end_time": "2020-02-13T00:37:48.092056Z",
     "start_time": "2020-02-13T00:37:48.080144Z"
    }
   },
   "source": [
    "# 5. 장고 실행해보기\n",
    "## 5.1. 설치후 바로 기본적인 실행 가능\n",
    "- python manage.py runserver\n",
    "- 기본적으로 8000번 포트를 이용\n",
    "- 접속: 127.0.0.1:8000"
   ]
  },
  {
   "cell_type": "markdown",
   "metadata": {
    "ExecuteTime": {
     "end_time": "2020-02-13T00:40:32.058758Z",
     "start_time": "2020-02-13T00:40:32.039908Z"
    }
   },
   "source": [
    "> 서버 오류 \n",
    "- 플라스크에서는 컴파일 오류나면 중단되지만\n",
    "- 장고는 오류 안남()\n",
    "- 동적으로 서비스가 추가되도 인식 가능\n",
    "- manamge.py가 계속 실행(다른데서 오류나도 ok)"
   ]
  },
  {
   "cell_type": "markdown",
   "metadata": {
    "ExecuteTime": {
     "end_time": "2020-02-13T00:42:56.549095Z",
     "start_time": "2020-02-13T00:42:56.534724Z"
    }
   },
   "source": [
    "## 5.2. app 만들기\n",
    "- python manage.py startapp myapp\n",
    "- myapp 생성\n"
   ]
  },
  {
   "cell_type": "markdown",
   "metadata": {
    "ExecuteTime": {
     "end_time": "2020-02-13T00:44:18.448663Z",
     "start_time": "2020-02-13T00:44:18.439659Z"
    }
   },
   "source": [
    "## 5.3. Hello world 출력하기\n",
    "- views.py 코딩 시작"
   ]
  },
  {
   "cell_type": "code",
   "execution_count": null,
   "metadata": {},
   "outputs": [],
   "source": [
    "# view.py\n",
    "'''\n",
    "from django.shortcuts import render\n",
    "from django.http import HttpResponse\n",
    "\n",
    "# 함수명 상관없지만 home이므로 관행적으로 index 사용\n",
    "# request: 변수명 상관없지만, 관행적으로 request 사용( 브라우저가 전송한 정보를 갖고있는 변수임)\n",
    "def index(request):\n",
    "    # 문자열(html) 리턴하기\n",
    "    # 반드시 HttpResponse 함수 이용해서 출력하기\n",
    "    return HttpResponse('Hello DJango!!!')\n",
    "'''"
   ]
  },
  {
   "cell_type": "markdown",
   "metadata": {},
   "source": [
    "> 실행(콘솔에서)\n",
    "- python manage.py runserver\n",
    "- 실행안됨 (flask처럼 @app.route~~로 매핑이 안되었기 때문)\n",
    "- 설정파일 바꾸기: mysite>urls.py"
   ]
  },
  {
   "cell_type": "code",
   "execution_count": 11,
   "metadata": {
    "ExecuteTime": {
     "end_time": "2020-02-13T01:08:59.611667Z",
     "start_time": "2020-02-13T01:08:59.606726Z"
    }
   },
   "outputs": [
    {
     "data": {
      "text/plain": [
       "\"\\nfrom django.contrib import admin\\nfrom django.urls import path, include\\n\\n# 우리가 만든 app을 정의해야 함.\\n# 어플리케이션이 추가될 때마다 추가해야 함.\\nurlpatterns = [\\n    # defalut로 만들어진 url\\n    # 127.0.0.1:8000/admin으로 확인 가능\\n    # admin.site.urls: 실제 패키지를 사용\\n    path('admin/', admin.site.urls),\\n    # 첫번째 변수 아무것도 안주면: root\\n    # 두번째 변수: myapp.urls라는 문자열은 include하라는 뜻\\n    # 내가 만든 어플리 케이션을 추가시켜주세요~~~\\n    # myapp아래 urls.py파일을 포함시켜주세용\\n    \\n    path('', include('myapp.urls'))\\n]\\n\""
      ]
     },
     "execution_count": 11,
     "metadata": {},
     "output_type": "execute_result"
    }
   ],
   "source": [
    "# mysite>urls.py\n",
    "'''\n",
    "from django.contrib import admin\n",
    "from django.urls import path, include\n",
    "\n",
    "# 우리가 만든 app을 정의해야 함.\n",
    "# 어플리케이션이 추가될 때마다 추가해야 함.\n",
    "urlpatterns = [\n",
    "    # defalut로 만들어진 url\n",
    "    # 127.0.0.1:8000/admin으로 확인 가능\n",
    "    # admin.site.urls: 실제 패키지를 사용\n",
    "    path('admin/', admin.site.urls),\n",
    "    # 첫번째 변수 아무것도 안주면: root\n",
    "    # 두번째 변수: myapp.urls라는 문자열은 include하라는 뜻\n",
    "    # 내가 만든 어플리 케이션을 추가시켜주세요~~~\n",
    "    # myapp아래 urls.py파일을 포함시켜주세용\n",
    "    \n",
    "    path('', include('myapp.urls'))\n",
    "]\n",
    "'''"
   ]
  },
  {
   "cell_type": "markdown",
   "metadata": {},
   "source": [
    "> <font color = 'red'> urls.py파일이 2개 있음!</font>\n",
    "- mysite> urls.py : 전체적인 application path을 추가 \n",
    "- myapp> urls.py: 앱마다 존재, 세부적인 내용 정의(사용할 url 라우터 주소 등 정의)\n"
   ]
  },
  {
   "cell_type": "code",
   "execution_count": null,
   "metadata": {},
   "outputs": [],
   "source": [
    "# myapp > urls.py\n",
    "'''\n",
    "from django.urls import path\n",
    "from . import views  # current 폴더에 있는 views.py import\n",
    "\n",
    "# 우리가 만든 app을 정의해야 함.\n",
    "# 어플리케이션이 추가될 때마다 추가해야 함.\n",
    "urlpatterns = [\n",
    "    # root url이 요청되면 \n",
    "    # current 폴더에 있는 view.py 파일에 있는 index 함수를 실행하기\n",
    "    path('', views.index)\n",
    "]\n",
    "\n",
    "'''"
   ]
  },
  {
   "cell_type": "markdown",
   "metadata": {},
   "source": [
    "> 실행\n",
    "- 브라우저에서 : 127.0.0.1:8000\n",
    "        \n",
    "        \n",
    "> reload\n",
    "- 플라스크: 항상 파일내 모든 부분을 재실행-> 느림\n",
    "- 장고: 변한 부분만 reload-> 빠름\n",
    "\n",
    "> root 경로 주의\n",
    "- 상대경로임\n",
    "- mysite의 urls.py의 ''뒤에\n",
    "- myapp의 urls.py의 'test'가 붙으면\n",
    "- 경로: root/test가 됨.\n",
    "\n",
    "\n",
    "> views.py\n",
    "- 실제로 controler + view의 기능을 담당"
   ]
  },
  {
   "cell_type": "markdown",
   "metadata": {},
   "source": [
    "## 5.4. 템플릿 사용해서 글자 리턴하기\n",
    "\n",
    "> 템플릿 사용\n",
    "- 플라스크과 탬플릿 사용 방법은 같으나 전달방법만 다름\n",
    "- 플라스크는 탬플릿 폴더 안에 저장. render_template함수 사용\n",
    "- 장고: render함수 사용\n",
    "\n",
    "> mysite>template dir안에\n",
    "- template > template.html만들기\n",
    "\n",
    "> template.html setting\n",
    "- mysite>setting.py변경\n"
   ]
  },
  {
   "cell_type": "code",
   "execution_count": null,
   "metadata": {},
   "outputs": [],
   "source": [
    "# mysite>setting.py\n",
    "'''\n",
    "TEMPLATES = [\n",
    "    {\n",
    "        'BACKEND': 'django.template.backends.django.DjangoTemplates',\n",
    "        \n",
    "        # templates dir에서 읽어오기\n",
    "        'DIRS': ['templates'],\n",
    "        \n",
    "        'APP_DIRS': True,\n",
    "        'OPTIONS': {\n",
    "            'context_processors': [\n",
    "                'django.template.context_processors.debug',\n",
    "                'django.template.context_processors.request',\n",
    "                'django.contrib.auth.context_processors.auth',\n",
    "                'django.contrib.messages.context_processors.messages',\n",
    "            ],\n",
    "        },\n",
    "    },\n",
    "]\n",
    "'''\n"
   ]
  },
  {
   "cell_type": "code",
   "execution_count": null,
   "metadata": {},
   "outputs": [],
   "source": [
    "# template.html\n",
    "'''\n",
    "<h1>야호!!! Django도 재밌구만!</h1>\n",
    "    <h1> 받은 메시지:  {{message}}</h1>\n",
    "'''\n"
   ]
  },
  {
   "cell_type": "markdown",
   "metadata": {},
   "source": [
    "> 파라미터를 html으로 보낼 때\n",
    "- 플라스크: namevalue를 이용\n",
    "_ 장고: dict로 넘김"
   ]
  },
  {
   "cell_type": "code",
   "execution_count": 12,
   "metadata": {
    "ExecuteTime": {
     "end_time": "2020-02-13T01:47:58.914272Z",
     "start_time": "2020-02-13T01:47:58.909263Z"
    }
   },
   "outputs": [
    {
     "data": {
      "text/plain": [
       "\"\\ndef test(request):\\n    # 문자열(html) 리턴하기\\n    # 반드시 HttpResponse 함수 이용해서 출력하기\\n    return render(request,  # 전달받은 파라미터\\n                 'template.html', # 사용할 템플릿 파일\\n                {'message': '안녕'} # 플라스크에서는 dict형태로 넘김\\n                )\\n\""
      ]
     },
     "execution_count": 12,
     "metadata": {},
     "output_type": "execute_result"
    }
   ],
   "source": [
    "# views.py\n",
    "'''\n",
    "def test(request):\n",
    "    return render(request,  # 전달받은 파라미터\n",
    "                 'template.html', # 사용할 템플릿 파일\n",
    "                {'message': '안녕'} # 플라스크에서는 dict형태로 넘김\n",
    "                )\n",
    "'''"
   ]
  },
  {
   "cell_type": "markdown",
   "metadata": {},
   "source": [
    "> reguest\n",
    "- 변수명일뿐\n",
    "- 플라스크에서는 request.get:으로 전역변수로 사용\n",
    "- 장고에서는 전역변수로 사용\n",
    "- url에서 전송하는 정보를 갖고있는 변수명"
   ]
  },
  {
   "cell_type": "markdown",
   "metadata": {},
   "source": [
    "## 5.5. dict, list형태로 html로 보내기"
   ]
  },
  {
   "cell_type": "code",
   "execution_count": null,
   "metadata": {},
   "outputs": [],
   "source": [
    "# views.py\n",
    "'''\n",
    "def test(request):\n",
    "    print(request)\n",
    "\n",
    "    # 데이터를 dict, list 형으로 보낼 수 있음.\n",
    "    dict_data = {'img': 'test.png'}\n",
    "    list_data = [1,2,3,4,5]\n",
    "    data = {'s': dict_data, 'list': list_data}\n",
    "\n",
    "    return render(request,  # 전달받은 파라미터\n",
    "                 'template.html', # 사용할 템플릿 파일\n",
    "                 data )\n",
    "'''"
   ]
  },
  {
   "cell_type": "code",
   "execution_count": null,
   "metadata": {},
   "outputs": [],
   "source": [
    "# template.html\n",
    "'''\n",
    "<h1>야호!!! Django도 재밌구만!</h1>\n",
    "    <h1> 받은 메시지: {{s.img}} </h1>\n",
    "\n",
    "    {% for  l in list %}\n",
    "\n",
    "    {{l}} <br>\n",
    "\n",
    "    {% endfor %}\n",
    "'''"
   ]
  },
  {
   "cell_type": "code",
   "execution_count": null,
   "metadata": {},
   "outputs": [],
   "source": []
  }
 ],
 "metadata": {
  "kernelspec": {
   "display_name": "Python 3",
   "language": "python",
   "name": "python3"
  },
  "language_info": {
   "codemirror_mode": {
    "name": "ipython",
    "version": 3
   },
   "file_extension": ".py",
   "mimetype": "text/x-python",
   "name": "python",
   "nbconvert_exporter": "python",
   "pygments_lexer": "ipython3",
   "version": "3.7.5"
  },
  "toc": {
   "base_numbering": 1,
   "nav_menu": {},
   "number_sections": false,
   "sideBar": true,
   "skip_h1_title": false,
   "title_cell": "Table of Contents",
   "title_sidebar": "Contents",
   "toc_cell": false,
   "toc_position": {},
   "toc_section_display": true,
   "toc_window_display": true
  },
  "varInspector": {
   "cols": {
    "lenName": 16,
    "lenType": 16,
    "lenVar": 40
   },
   "kernels_config": {
    "python": {
     "delete_cmd_postfix": "",
     "delete_cmd_prefix": "del ",
     "library": "var_list.py",
     "varRefreshCmd": "print(var_dic_list())"
    },
    "r": {
     "delete_cmd_postfix": ") ",
     "delete_cmd_prefix": "rm(",
     "library": "var_list.r",
     "varRefreshCmd": "cat(var_dic_list()) "
    }
   },
   "types_to_exclude": [
    "module",
    "function",
    "builtin_function_or_method",
    "instance",
    "_Feature"
   ],
   "window_display": false
  }
 },
 "nbformat": 4,
 "nbformat_minor": 2
}
