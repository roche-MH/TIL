{
 "cells": [
  {
   "cell_type": "markdown",
   "metadata": {},
   "source": [
    "# 1. login 한 후, 게시판 옆에 user명 나오게 하기\n",
    "\n",
    "\n",
    "- login한 username를 session 변수에넣어서 관리하기\n",
    "\n"
   ]
  },
  {
   "cell_type": "code",
   "execution_count": null,
   "metadata": {},
   "outputs": [],
   "source": [
    "# base.html\n",
    "'''\n",
    "\n",
    "My blog<br>\n",
    "\n",
    "사용자: {{username}}\n",
    "\n",
    "\n",
    "<!--  나중에 바뀌는 부분-> sub template를 통해서 rendering되는 부분 -->\n",
    "{% block content %}\n",
    "{% endblock %}\n",
    "\n",
    "\n",
    "copy right.....<br>\n",
    "서울 특별시\n",
    "'''"
   ]
  },
  {
   "cell_type": "code",
   "execution_count": null,
   "metadata": {},
   "outputs": [],
   "source": [
    "# views.py\n",
    "'''\n",
    "\n",
    "def list(request):\n",
    "    data =Post.objects.all()\n",
    "    username = request.session.get('username', '')\n",
    "    context = {'data': data,'username': username}\n",
    "    return render (request,'blog/list.html', context)\n",
    "\n",
    "\n",
    "class LoginView(View):\n",
    "    def get(self, request):\n",
    "        return render(request, 'blog/login.html')\n",
    "\n",
    "    def post(self, request):\n",
    "\n",
    "        # user table의 password는 암호화되어 들어가있음.-> 간접적으로 비교 해야 함.\n",
    "        username = request.POST.get('username')\n",
    "        password = request.POST.get('password')\n",
    "\n",
    "        # 장고에서 지원하는 함수\n",
    "        user = authenticate(username =username, password = password)\n",
    "        if user == None:\n",
    "            return redirect('login')\n",
    "\n",
    "        request.session['username'] = username\n",
    "\n",
    "        return redirect('list')\n",
    "\n",
    "'''"
   ]
  },
  {
   "cell_type": "markdown",
   "metadata": {},
   "source": [
    "# 2. html 파일에서 경로 해결\n",
    "\n",
    "> urls.py에서\n",
    "- /붙이면 directory 의미\n",
    "- /없으면 resorce를 의미\n",
    "- name을 지정하기 "
   ]
  },
  {
   "cell_type": "markdown",
   "metadata": {},
   "source": [
    "- {url 'url-name' param1 param2, param3 %} 형태"
   ]
  },
  {
   "cell_type": "code",
   "execution_count": null,
   "metadata": {},
   "outputs": [],
   "source": [
    "'''\n",
    "<!-- import, includ 개념 -->\n",
    "{% extends 'blog/base.html' %}\n",
    "\n",
    "\n",
    "<!-- base template안의 위치 지정 -->\n",
    "\n",
    "{% block content %}\n",
    "\n",
    "    sub-template<br>\n",
    "\n",
    "    {% for d in data%}\n",
    "\n",
    "    <!-- get 방식으로 보내려면: a href: /blog/id =... -->\n",
    "    <!-- 동적 url을 가져오려면 -->\n",
    "        <!-- # 절대경로로 쓰기 위해서\n",
    "        # 이름이 detail인 urls.py의 절대 경로를 계산함.\n",
    "        # pk 파라미터가 있기 때문에: 제일 적합한 방법  -->\n",
    "        <a href=\"{% url 'detail' d.pk %}\">{{d.title}}</a><br>\n",
    "\n",
    "        <!-- 절대 경로로 쓰는 것은 ok -->\n",
    "        <a href=\"/blog/{{d.pk}}/detail\">{{d.title}}</a><br>\n",
    "\n",
    "        <!-- 정적 방법: 파라미터 네임벨유를 통한 방법 -->\n",
    "        <a href=\"/blog/detail?id={{d.pk}}\">{{d.title}}</a><br>\n",
    "\n",
    "\n",
    "        <!-- # view 기반으로 하면서 상대경로로 쓰면 안됨. -->\n",
    "        <a href=\"{{d.pk}}/detail\">{{d.title}}</a><br>\n",
    "        <!-- {{d.text|linebreaks}}    # 목록만 보여주도록 하기 위해서 빼기-->\n",
    "        <!-- linebreaks: enter -> <br>로 바꿔줌 -->\n",
    "        <hr>\n",
    "    {%endfor%}\n",
    "\n",
    "\n",
    "    \n",
    "\n",
    "{% endblock %}\n",
    "\n",
    "\n",
    "\n",
    "'''"
   ]
  },
  {
   "cell_type": "code",
   "execution_count": 1,
   "metadata": {
    "ExecuteTime": {
     "end_time": "2020-02-18T07:10:41.140521Z",
     "start_time": "2020-02-18T07:10:41.133578Z"
    },
    "variables": {
     "d.pk": "<p><strong>NameError</strong>: name &#39;d&#39; is not defined</p>\n",
     "d.title": "<p><strong>NameError</strong>: name &#39;d&#39; is not defined</p>\n"
    }
   },
   "outputs": [
    {
     "ename": "SyntaxError",
     "evalue": "invalid syntax (<ipython-input-1-a9dadf6f449f>, line 1)",
     "output_type": "error",
     "traceback": [
      "\u001b[1;36m  File \u001b[1;32m\"<ipython-input-1-a9dadf6f449f>\"\u001b[1;36m, line \u001b[1;32m1\u001b[0m\n\u001b[1;33m    > view 클래스를 사용하기 전에는\u001b[0m\n\u001b[1;37m    ^\u001b[0m\n\u001b[1;31mSyntaxError\u001b[0m\u001b[1;31m:\u001b[0m invalid syntax\n"
     ]
    }
   ],
   "source": [
    "> view 클래스를 사용하기 전에는\n",
    "- 상대경로를 사용할 수 있음.\n",
    "\n",
    "> view 클래스를 사용한 이후에는 \n",
    "- 경로를 name으로 사용하기 때문 상대경로로 쓰면 안됨.\n",
    "- 1. a href=\"{% url 'detail' d.pk %}\">{{d.title}}</a><br>\n",
    "- 2. 절대 경로( 동적 url 생성 방식):  <a href=\"/blog/{{d.pk}}/detail\">{{d.title}}</a><br>\n",
    "- 3. get 방식: <a href=\"/blog/detail?id={{d.pk}}\">{{d.title}}</a><br>"
   ]
  },
  {
   "cell_type": "markdown",
   "metadata": {},
   "source": [
    "### view 클래스를 쓰는 이유\n",
    "- get, post 방식을 구조화시켜서 사용하기 위함\n",
    "- 하나의 클래스에서 get, post 방식으로 모두 사용하도록 하기 위해서 사용\n",
    "- 모든 함수를 view 클래스를 쓸 필요는 없음."
   ]
  },
  {
   "cell_type": "markdown",
   "metadata": {},
   "source": [
    "# 3. 글 올리기"
   ]
  },
  {
   "cell_type": "code",
   "execution_count": null,
   "metadata": {},
   "outputs": [],
   "source": [
    "# edit.html\n",
    "'''\n",
    "\n",
    "\n",
    "<!-- <form action = '' method = post> -->\n",
    "    <!-- 정확하게 경로를 지정하기 위해서 urls.py에서 지정한 name이름 쓰기 -->\n",
    "<form action=\"{% url 'add' %}\" method = post>\n",
    "    {% csrf_token %}\n",
    "   title <input input = text name = 'title' ><br>\n",
    "   text <textarea rows =10 clos = 30 name = 'text'><br>\n",
    "\n",
    "    <input type=\"submit\" value = '글 올리기'>\n",
    "</form>\n",
    "\n",
    "\n",
    "'''"
   ]
  },
  {
   "cell_type": "code",
   "execution_count": null,
   "metadata": {},
   "outputs": [],
   "source": [
    "# urls.py\n",
    "'''\n",
    " path('add/', views.PostView.as_view(), name = 'add')\n",
    "\n",
    "'''"
   ]
  },
  {
   "cell_type": "code",
   "execution_count": null,
   "metadata": {},
   "outputs": [],
   "source": [
    "# views.py\n",
    "'''\n",
    "class PostView(View):\n",
    "        \n",
    "    def get(self, request):\n",
    "        return render(request, 'blog/edit.html')\n",
    "    def post(self, request):\n",
    "\n",
    "        title = request.POST.get('title')\n",
    "        text = request.POST.get('text')\n",
    "        username = request.session['username']\n",
    "        user = User.objects.get(username = username)\n",
    "\n",
    "        Post.objects.create(title = title, text=text, author = user)\n",
    "\n",
    "        return HttpResponse('post ok')\n",
    "'''"
   ]
  },
  {
   "cell_type": "markdown",
   "metadata": {},
   "source": [
    "# 4. form 객체 사용해서 post수정하기\n",
    "\n",
    "- 처음부터 작성하는 것이 아니라\n",
    "- 데이터를 다시 읽어와서 default값으로 넣어주고, 수정해야 함."
   ]
  },
  {
   "cell_type": "markdown",
   "metadata": {},
   "source": [
    "### form 객체 이용하기\n",
    "- db에 있는 내용을 읽고 쓰는 방법\n",
    "- html에서 만든 input tag, 등의 ui요소를 장고가 만들어줌.\n",
    "- html에서 연동된 field를 만들지 않고 form 객체를 이용하기"
   ]
  },
  {
   "cell_type": "code",
   "execution_count": null,
   "metadata": {},
   "outputs": [],
   "source": [
    "# urls.py\n",
    "'''\n",
    "    path('<int:pk>/edit/', views.PostEditView.as_view(), name = 'edit')\n",
    "\n",
    "'''\n"
   ]
  },
  {
   "cell_type": "markdown",
   "metadata": {},
   "source": [
    "## 4.1. data 보여주기\n",
    "\n",
    "> form instance를 만들어서 보여주는데\n",
    "- 내가 수정할 글을 form 객체에 넣어서 초기하해서 보여주는 개념\n"
   ]
  },
  {
   "cell_type": "markdown",
   "metadata": {},
   "source": [
    "> 실행\n",
    "- 127.0.0.1:8000/blog/1/edit/"
   ]
  },
  {
   "cell_type": "code",
   "execution_count": null,
   "metadata": {},
   "outputs": [],
   "source": [
    "# views.py\n",
    "'''\n",
    "class PostForm(Form):\n",
    "    title = CharField(label = '제목', max_length = 20)\n",
    "    text = CharField(label = '내용', widget = Textarea) # widget: ui를 의미\n",
    "\n",
    "\n",
    "\n",
    "# 특정 post를 수정해야 함 -> 파라미터를 받아야 함(pk= id)\n",
    "class PostEditView(View):\n",
    "    def get(self, request, pk):\n",
    "\n",
    "        # # 데이터에 초기값 지정\n",
    "        # post = Post.objects.get(pk = pk)\n",
    "        # # 모든 변수를 모두 매핑하면 복잡해지므로\n",
    "        # # Form data를 사용하기\n",
    "        # form = PostForm()\n",
    "        post = get_object_or_404(Post, pk = pk)\n",
    "        form = PostForm(initial = {'title': post.title, 'text': post.text})\n",
    "        return render(request, 'blog/edit.html', {'form': form ,'pk':pk})\n",
    "\n",
    "    def post(self, request, pk):\n",
    "        # create가 아님\n",
    "        # 이미 만들어진 객체를 갖고오기\n",
    "        # 만든 객체를 rendering\n",
    "\n",
    "        form = PostForm(request.POST)\n",
    "        post = get_object_or_404(Post, pk = pk)\n",
    "        post.title = form['title'].value()\n",
    "        post.text = form['text'].value()\n",
    "        post.publish()\n",
    "\n",
    "        return redirect('list')\n",
    "'''"
   ]
  },
  {
   "cell_type": "code",
   "execution_count": null,
   "metadata": {},
   "outputs": [],
   "source": [
    "#edit.html\n",
    "'''\n",
    "\n",
    "<form action=\"{% url 'edit' pk %}\" method=post>\n",
    "    {% csrf_token %}\n",
    " \n",
    "        {{ form.as_p }}\n",
    " \n",
    "    <input type=\"submit\" value=\"작성\" >\n",
    " \n",
    " </form>\n",
    " \n",
    "'''"
   ]
  },
  {
   "cell_type": "markdown",
   "metadata": {},
   "source": [
    "### from객체 장점\n",
    "\n",
    "> requiered 속성\n",
    "- 속성 중 required: 반드시 존재해야 하는 값\n",
    "- html 속성이고, 이 값이 있어서 서버로 전송해주는데, \n",
    "- 이 값이 없으면 전송을 안해줌.\n",
    "- html에서 하려면, 하나하나 입력해줘야 하는데 \n",
    "- 이 기능을 form이 대신 해줌\n",
    "\n",
    "\n",
    "> validators기능\n",
    "- 입력값이 정상값인지 아닌지 확인\n",
    "- 길이가 너무 짧게 입력했을 때\n",
    "- errer가 나오고 서버로 전송이 안됨."
   ]
  },
  {
   "cell_type": "code",
   "execution_count": null,
   "metadata": {},
   "outputs": [],
   "source": [
    "'''\n",
    "def validator(value):\n",
    "    if len(value) < 5 : raise  ValidationError('길이가 너무 짧아요')\n",
    "\n",
    "class PostForm(Form):\n",
    "    title = CharField(label = '제목', max_length = 20, validators=[validator])\n",
    "    text = CharField(label = '내용', widget = Textarea) # widget: ui를 의미\n",
    "\n",
    "'''"
   ]
  }
 ],
 "metadata": {
  "kernelspec": {
   "display_name": "Python 3",
   "language": "python",
   "name": "python3"
  },
  "language_info": {
   "codemirror_mode": {
    "name": "ipython",
    "version": 3
   },
   "file_extension": ".py",
   "mimetype": "text/x-python",
   "name": "python",
   "nbconvert_exporter": "python",
   "pygments_lexer": "ipython3",
   "version": "3.6.10"
  },
  "toc": {
   "base_numbering": 1,
   "nav_menu": {},
   "number_sections": false,
   "sideBar": true,
   "skip_h1_title": false,
   "title_cell": "Table of Contents",
   "title_sidebar": "Contents",
   "toc_cell": false,
   "toc_position": {
    "height": "calc(100% - 180px)",
    "left": "10px",
    "top": "150px",
    "width": "212.882px"
   },
   "toc_section_display": true,
   "toc_window_display": true
  },
  "varInspector": {
   "cols": {
    "lenName": 16,
    "lenType": 16,
    "lenVar": 40
   },
   "kernels_config": {
    "python": {
     "delete_cmd_postfix": "",
     "delete_cmd_prefix": "del ",
     "library": "var_list.py",
     "varRefreshCmd": "print(var_dic_list())"
    },
    "r": {
     "delete_cmd_postfix": ") ",
     "delete_cmd_prefix": "rm(",
     "library": "var_list.r",
     "varRefreshCmd": "cat(var_dic_list()) "
    }
   },
   "types_to_exclude": [
    "module",
    "function",
    "builtin_function_or_method",
    "instance",
    "_Feature"
   ],
   "window_display": false
  }
 },
 "nbformat": 4,
 "nbformat_minor": 4
}
