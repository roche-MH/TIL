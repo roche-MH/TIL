{
 "cells": [
  {
   "cell_type": "markdown",
   "metadata": {},
   "source": [
    "\n",
    "# 2. Ajax로 login만들기"
   ]
  },
  {
   "cell_type": "code",
   "execution_count": 2,
   "metadata": {
    "ExecuteTime": {
     "end_time": "2020-02-14T06:35:47.943879Z",
     "start_time": "2020-02-14T06:35:47.938891Z"
    }
   },
   "outputs": [
    {
     "data": {
      "text/plain": [
       "\"\\nurlpatterns = [\\n    path('', views.index),\\n    path('calcform', views.calcForm),\\n    path('calc', views.calc),\\n    path('login', view.login),\\n]\\n\""
      ]
     },
     "execution_count": 2,
     "metadata": {},
     "output_type": "execute_result"
    }
   ],
   "source": [
    "# urls.py\n",
    "'''\n",
    "urlpatterns = [\n",
    "    path('', views.index),\n",
    "    path('calcform', views.calcForm),\n",
    "    path('calc', views.calc),\n",
    "    path('login', view.login),\n",
    "]\n",
    "'''"
   ]
  },
  {
   "cell_type": "code",
   "execution_count": 3,
   "metadata": {
    "ExecuteTime": {
     "end_time": "2020-02-14T06:35:48.565555Z",
     "start_time": "2020-02-14T06:35:48.561520Z"
    }
   },
   "outputs": [
    {
     "data": {
      "text/plain": [
       "'\\n<script src=\"http://code.jquery.com/jquery-1.11.3.min.js\"></script>\\n <script src=\"http://code.jquery.com/jquery-migrate-1.2.1.min.js\"></script>\\n\\n아이디 <input type= text name = id id = \\'id\\' value = \\'123\\'><br>\\n암호 <input type = text name = pwd id = \\'pwd\\' value = \\'123\\'><br>\\n<button id = \\'btnCalc\\'>로그인</button>\\n\\n\\n<script>\\n    $(\"#btnCalc\").click(function() {\\n        id = $(\\'#id\\').val();\\n        pwd = $(\\'#pwd\\').val();\\n        alert(id + \\'님 로그인중!!!\\' );\\n\\n       \\n        var param = {id: $(\\'#id\\').val(), pwd: $(\\'#pwd\\').val()};\\n        $.get(\\'/ajax/login\\', param, function(data){\\n            console.log(JSON.stringify(data));\\n            if (data.error == 0) location.href = \\'/ajax\\' ;\\n            else {\\n                //  커서가 id를 입력할 수 있도록 이동\\n                $(\\'#id\\').focus();\\n                $(\"#id\").val(\\'\\');\\n                $(\\'#pwd\\').val(\\'\\');\\n                alert(data.message);\\n            }\\n        });\\n\\n    });\\n</script>\\n\\n\\n'"
      ]
     },
     "execution_count": 3,
     "metadata": {},
     "output_type": "execute_result"
    }
   ],
   "source": [
    "#login.html\n",
    "'''\n",
    "<script src=\"http://code.jquery.com/jquery-1.11.3.min.js\"></script>\n",
    " <script src=\"http://code.jquery.com/jquery-migrate-1.2.1.min.js\"></script>\n",
    "\n",
    "아이디 <input type= text name = id id = 'id' value = '123'><br>\n",
    "암호 <input type = text name = pwd id = 'pwd' value = '123'><br>\n",
    "<button id = 'btnCalc'>로그인</button>\n",
    "\n",
    "\n",
    "<script>\n",
    "    $(\"#btnCalc\").click(function() {\n",
    "        id = $('#id').val();\n",
    "        pwd = $('#pwd').val();\n",
    "        alert(id + '님 로그인중!!!' );\n",
    "\n",
    "       \n",
    "        var param = {id: $('#id').val(), pwd: $('#pwd').val()};\n",
    "        $.get('/ajax/login', param, function(data){\n",
    "            console.log(JSON.stringify(data));\n",
    "            if (data.error == 0) location.href = '/ajax' ;\n",
    "            else {\n",
    "                //  커서가 id를 입력할 수 있도록 이동\n",
    "                $('#id').focus();\n",
    "                $(\"#id\").val('');\n",
    "                $('#pwd').val('');\n",
    "                alert(data.message);\n",
    "            }\n",
    "        });\n",
    "\n",
    "    });\n",
    "</script>\n",
    "\n",
    "\n",
    "'''"
   ]
  },
  {
   "cell_type": "code",
   "execution_count": 4,
   "metadata": {
    "ExecuteTime": {
     "end_time": "2020-02-14T06:35:50.334827Z",
     "start_time": "2020-02-14T06:35:50.328888Z"
    }
   },
   "outputs": [
    {
     "ename": "SyntaxError",
     "evalue": "EOF while scanning triple-quoted string literal (<ipython-input-4-43b1ed7768eb>, line 13)",
     "output_type": "error",
     "traceback": [
      "\u001b[1;36m  File \u001b[1;32m\"<ipython-input-4-43b1ed7768eb>\"\u001b[1;36m, line \u001b[1;32m13\u001b[0m\n\u001b[1;33m    '''\u001b[0m\n\u001b[1;37m       ^\u001b[0m\n\u001b[1;31mSyntaxError\u001b[0m\u001b[1;31m:\u001b[0m EOF while scanning triple-quoted string literal\n"
     ]
    }
   ],
   "source": [
    "#views.py\n",
    "'''\n",
    "def loginForm(request):\n",
    "    return render(request, 'ajax/login.html')\n",
    "\n",
    "def login(request):\n",
    "    id = request.GET[\"id\"]\n",
    "    pwd = request.GET[\"pwd\"]\n",
    "    if id == pwd:\n",
    "        request.session['user'] = id\n",
    "        return JsonResponse({'error': 0})\n",
    "    return JsonResponse({'error': -1, 'message': '\"id/pwd\"를 확인해주세요'})\n",
    "'''"
   ]
  },
  {
   "cell_type": "code",
   "execution_count": null,
   "metadata": {},
   "outputs": [],
   "source": []
  }
 ],
 "metadata": {
  "kernelspec": {
   "display_name": "Python 3",
   "language": "python",
   "name": "python3"
  },
  "language_info": {
   "codemirror_mode": {
    "name": "ipython",
    "version": 3
   },
   "file_extension": ".py",
   "mimetype": "text/x-python",
   "name": "python",
   "nbconvert_exporter": "python",
   "pygments_lexer": "ipython3",
   "version": "3.7.4"
  },
  "toc": {
   "base_numbering": 1,
   "nav_menu": {},
   "number_sections": false,
   "sideBar": true,
   "skip_h1_title": false,
   "title_cell": "Table of Contents",
   "title_sidebar": "Contents",
   "toc_cell": false,
   "toc_position": {},
   "toc_section_display": true,
   "toc_window_display": false
  },
  "varInspector": {
   "cols": {
    "lenName": 16,
    "lenType": 16,
    "lenVar": 40
   },
   "kernels_config": {
    "python": {
     "delete_cmd_postfix": "",
     "delete_cmd_prefix": "del ",
     "library": "var_list.py",
     "varRefreshCmd": "print(var_dic_list())"
    },
    "r": {
     "delete_cmd_postfix": ") ",
     "delete_cmd_prefix": "rm(",
     "library": "var_list.r",
     "varRefreshCmd": "cat(var_dic_list()) "
    }
   },
   "types_to_exclude": [
    "module",
    "function",
    "builtin_function_or_method",
    "instance",
    "_Feature"
   ],
   "window_display": false
  }
 },
 "nbformat": 4,
 "nbformat_minor": 2
}
