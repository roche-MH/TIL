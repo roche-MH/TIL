{
 "cells": [
  {
   "cell_type": "markdown",
   "metadata": {},
   "source": [
    "# Jquery\n",
    "\n",
    "\n",
    "### Dom\n",
    "- HTML을 트리 구조로 표현한 것.\n",
    "- parent, child구조가 가능\n",
    "\n",
    "\n",
    ">static> jquery_test.html\n",
    "- url에서 바로 static에 접근해서 결과를 확인하기 위해서\n",
    "- 실행: 127.0.0.1:8000/static/jquerytest.html"
   ]
  },
  {
   "cell_type": "markdown",
   "metadata": {
    "ExecuteTime": {
     "end_time": "2020-02-20T04:31:46.427528Z",
     "start_time": "2020-02-20T04:31:46.423480Z"
    }
   },
   "source": [
    "## 1. data 추가하기"
   ]
  },
  {
   "cell_type": "code",
   "execution_count": null,
   "metadata": {},
   "outputs": [],
   "source": [
    "'''\n",
    " <script src=\"http://code.jquery.com/jquery-1.11.3.min.js\"></script>\n",
    " <script src=\"http://code.jquery.com/jquery-migrate-1.2.1.min.js\"></script>\n",
    "\n",
    "<button id = 'btnCalc'>로그인</button>\n",
    "\n",
    "\n",
    " <!-- data를 동적으로 만들기 -->\n",
    "<div id = \"view\">\n",
    "<a href=\"list?id = 4\"> 데이터 1</a>\n",
    "\n",
    "\n",
    "\n",
    "</div>\n",
    "\n",
    "\n",
    "\n",
    "\n",
    "<script>\n",
    "    \n",
    "    $('#view').append('<a href = skdjfksjdkf> 데이터2 </a><br>')\n",
    "    $('#view').append('<a href = skdjfksjdkf> 데이터2 </a><br>')\n",
    "    $('#view').append('<a href = skdjfksjdkf> 데이터2 </a><br>')\n",
    "\n",
    "    \n",
    "</script>\n",
    "\n",
    "\n",
    "'''"
   ]
  },
  {
   "cell_type": "markdown",
   "metadata": {},
   "source": [
    "## 2. 버튼 클릭하면 데이터 추가하기"
   ]
  },
  {
   "cell_type": "code",
   "execution_count": null,
   "metadata": {},
   "outputs": [],
   "source": [
    "'''\n",
    "\n",
    "<script>\n",
    "    \n",
    "    $('#view').append('<a href = skdjfksjdkf> 데이터2 </a><br>')\n",
    "\n",
    "\n",
    "\n",
    "    $('btnADD').click(function(){\n",
    "        $('#view').append(\"<a href = skdjfksjdkf> 데이터2 </a><br>\");\n",
    "        \n",
    "    \n",
    "    });\n",
    "\n",
    "    \n",
    "</script>\n",
    "'''"
   ]
  },
  {
   "cell_type": "markdown",
   "metadata": {},
   "source": [
    "## 3. 노드를 복사\n",
    ">  개선사항\n",
    "- html코드가 너무 길어지면 복잡하므로\n",
    "- 노드를 복사해서 붙이기\n"
   ]
  },
  {
   "cell_type": "code",
   "execution_count": null,
   "metadata": {},
   "outputs": [],
   "source": [
    "'''\n",
    "<div id = \"view\">\n",
    "    <div id = 'item'>\n",
    "        <a href=\"list?id = 4\"> 조회수</a> 데이터: 5 <br>\n",
    "    </div>\n",
    "</div>\n",
    "\n",
    "\n",
    "<script>\n",
    "  item = $('#item').colne() \n",
    "    $('#View').append(item)\n",
    "</script>\n",
    "\n",
    "'''"
   ]
  },
  {
   "cell_type": "markdown",
   "metadata": {},
   "source": [
    "## 4. 노드의 일부 변경(3방법은 모두 똑같으므로)"
   ]
  },
  {
   "cell_type": "code",
   "execution_count": null,
   "metadata": {},
   "outputs": [],
   "source": [
    "'''\n",
    " <!-- data를 동적으로 만들기 -->\n",
    "<div id = \"view\">\n",
    "    <div id = 'item'>\n",
    "        <a href=\"list?id = 4\"> <span id = title>조회수</span></a> 데이터: 5 <br>\n",
    "    </div>\n",
    "</div>\n",
    "\n",
    "<script>\n",
    " \n",
    "    item = $('#item').colne() \n",
    "    $('#title').html('제목1')  \n",
    "    $('#cnt').text('10')\n",
    "    $('#View').append(item)\n",
    "\n",
    "$('btnADD').click(function(){\n",
    "    $('#view').append(item);\n",
    "        });\n",
    "\n",
    "</script>\n",
    "\n",
    "\n",
    "'''\n",
    "\n"
   ]
  },
  {
   "cell_type": "markdown",
   "metadata": {},
   "source": [
    "- 값을 바꿀 수는 있으나,\n",
    "- 복사한 item이 여러개이므로 같은 title, 같은 item값이 너무 많음.\n",
    "- 전체 문서에서 title을 찾는 것이 아니라 clone한 item에서 title, cnt값을 찾아야 함."
   ]
  },
  {
   "cell_type": "code",
   "execution_count": null,
   "metadata": {},
   "outputs": [],
   "source": [
    "'''\n",
    "<div id = \"view\">\n",
    "    <div id = 'item'>\n",
    "        <a href=\"list?id = 4\"> <span id = title>제목</span></a>\n",
    "         조회수 <span id = 'cnt'> 5 </span><br>\n",
    "    </div>\n",
    "</div>\n",
    "\n",
    "\n",
    "<script>\n",
    "    \n",
    "    \n",
    "   var index= 0;\n",
    "\n",
    "    $('#btnAdd').click(function(){\n",
    "        item = $('#item').colne()\n",
    "    //원래는 전체 dom 중에서 item을 찾아라는 뜻:  item = $('#item', document).colne() \n",
    "        $('#title', item).html('제목' + index)  ;\n",
    "        $('#cnt', item).text('index');\n",
    "        $('#View').append(item);\n",
    "        index ++;\n",
    "\n",
    "    });\n",
    "</script>\n",
    "\n",
    "    '''"
   ]
  },
  {
   "cell_type": "markdown",
   "metadata": {},
   "source": [
    "## 5. 첫번째 샘플 요소 hide하기"
   ]
  },
  {
   "cell_type": "code",
   "execution_count": null,
   "metadata": {},
   "outputs": [],
   "source": [
    "'''\n",
    ">div id = \"view\">\n",
    "    <div id = 'item'>\n",
    "        <a href=\"list?id = 4\"> <span id = title>제목</span></a>\n",
    "         조회수 <span id = 'cnt'> 5 </span><br>\n",
    "    </div>\n",
    "</div>\n",
    "\n",
    "\n",
    "<script>\n",
    "\n",
    "\n",
    "    //방법 5:  첫번째 샘플hide\n",
    "    $('#item').hide()\n",
    "\n",
    "    var index= 0;\n",
    "\n",
    "    $('btnAdd').click(function(){\n",
    "        item = $('#item').colne();\n",
    "        item.show();\n",
    "        $('#title', item).html('제목' + index)  ;\n",
    "        $('#cnt', item).text('index');\n",
    "        $('#View').append(item);\n",
    "        index ++;\n",
    "\n",
    "});\n",
    "\n",
    "\n",
    "</script>\n",
    "\n",
    "'''"
   ]
  },
  {
   "cell_type": "markdown",
   "metadata": {},
   "source": [
    "## 6. 데이터에서 출력하기 연습"
   ]
  },
  {
   "cell_type": "code",
   "execution_count": null,
   "metadata": {},
   "outputs": [],
   "source": [
    "'''\n",
    "// 방법 6: 실제 데이터에서 받기\n",
    " $('#item').hide();\n",
    "\n",
    "    var index= 0;\n",
    "    \n",
    "    $('#btnAdd').click(function() {\n",
    "        json = {\"datas\": [{\"pk\": 2, \"title\": \"\\u3134\\uc54c\\ub0ad\\ub780\\uc5b4\", \"cnt\": 2}, \n",
    "                    {\"pk\": 3, \"title\": \"kjkjkjjjkkkkk\", \"cnt\": 2},\n",
    "                    {\"pk\": 4, \"title\": \"\\ucd08\\ucf5c\\ub9bf\", \"cnt\": 0}]}\n",
    "        \n",
    "        // 디버깅\n",
    "        console.log(json.datas[0].title)\n",
    "        console.log(json.datas[1].title)\n",
    "\n",
    "\n",
    "        item = $('#item').clone();\n",
    "        item.show();\n",
    "        $('#title', item).html('제목' + index)  ;\n",
    "        $('#cnt', item).text('index');\n",
    "        $('#view').append(item);\n",
    "        index++;\n",
    "\n",
    "});\n",
    "\n",
    "\n",
    "'''"
   ]
  },
  {
   "cell_type": "markdown",
   "metadata": {},
   "source": [
    "## 7. 데이터 개수만큼 for문 사용"
   ]
  },
  {
   "cell_type": "code",
   "execution_count": null,
   "metadata": {},
   "outputs": [],
   "source": [
    "'''\n",
    "$('#item').hide();\n",
    "\n",
    "    var index= 0;\n",
    "    \n",
    "    $('#btnAdd').click(function() {\n",
    "        json = {\"datas\": [{\"pk\": 2, \"title\": \"\\u3134\\uc54c\\ub0ad\\ub780\\uc5b4\", \"cnt\": 2}, \n",
    "                    {\"pk\": 3, \"title\": \"kjkjkjjjkkkkk\", \"cnt\": 2},\n",
    "                    {\"pk\": 4, \"title\": \"\\ucd08\\ucf5c\\ub9bf\", \"cnt\": 0}]}\n",
    "        \n",
    "        for (i = 0; i < json.datas.length; i++) {\n",
    "            console.log(json.datas[i].title);\n",
    "            item = $('#item').clone();\n",
    "            item.show();\n",
    "            $('#title', item).html(json.datas[i].title)  ;\n",
    "            $('#cnt', item).text(json.datas[i].cnt);\n",
    "            $('#view').append(item);\n",
    "        }\n",
    "    });\n",
    "\n",
    "'''"
   ]
  },
  {
   "cell_type": "markdown",
   "metadata": {},
   "source": [
    "## 8. 함수로 만들기"
   ]
  },
  {
   "cell_type": "code",
   "execution_count": null,
   "metadata": {},
   "outputs": [],
   "source": [
    "'''\n",
    "function getPage(page){\n",
    "    json = {\"datas\": [{\"pk\": 2, \"title\": \"\\u3134\\uc54c\\ub0ad\\ub780\\uc5b4\", \"cnt\": 2}, \n",
    "                    {\"pk\": 3, \"title\": \"kjkjkjjjkkkkk\", \"cnt\": 2},\n",
    "                    {\"pk\": 4, \"title\": \"\\ucd08\\ucf5c\\ub9bf\", \"cnt\": 0}]}\n",
    "        \n",
    "        for (i = 0; i < json.datas.length; i++) {\n",
    "            item = $('#item').clone();\n",
    "            item.show();\n",
    "            $('#title', item).html(json.datas[i].title)  ;\n",
    "            $('#cnt', item).text(json.datas[i].cnt);\n",
    "            $('#view').append(item);\n",
    "        }\n",
    "    }\n",
    "$('#btnAdd').click(function() {\n",
    "    getPage(2);\n",
    "});\n",
    "'''"
   ]
  },
  {
   "cell_type": "markdown",
   "metadata": {},
   "source": [
    "## 9.  방법8: 함수로 만들기2 -> page 하나씩 늘리면서 append\n"
   ]
  },
  {
   "cell_type": "code",
   "execution_count": null,
   "metadata": {},
   "outputs": [],
   "source": [
    "'''\n",
    "function getPage(page){\n",
    "    json = {\"datas\": [{\"pk\": 2, \"title\": \"\\u3134\\uc54c\\ub0ad\\ub780\\uc5b4\", \"cnt\": 2}, \n",
    "                    {\"pk\": 3, \"title\": \"kjkjkjjjkkkkk\", \"cnt\": 2},\n",
    "                    {\"pk\": 4, \"title\": \"\\ucd08\\ucf5c\\ub9bf\", \"cnt\": 0}]}\n",
    "        \n",
    "        for (i = 0; i < json.datas.length; i++) {\n",
    "            item = $('#item').clone();\n",
    "            item.show();\n",
    "            $('#title', item).html(json.datas[i].title)  ;\n",
    "            $('#cnt', item).text(json.datas[i].cnt);\n",
    "            $('#view').append(item);\n",
    "        }\n",
    "    }\n",
    "\n",
    "$('#btnAdd').click(function() {\n",
    "    page++;\n",
    "    getPage(page);\n",
    "});\n",
    "''' "
   ]
  },
  {
   "cell_type": "markdown",
   "metadata": {},
   "source": [
    "## 10. 방법 9: 서버를 사용하려면: .get 함수"
   ]
  },
  {
   "cell_type": "code",
   "execution_count": null,
   "metadata": {},
   "outputs": [],
   "source": [
    "'''\n",
    "$.get('mybard/ajaxget', {page: 1}, function(json){\n",
    "    console.log(JSON.stringify(json));\n",
    "\n",
    "\n",
    "'''"
   ]
  },
  {
   "cell_type": "markdown",
   "metadata": {},
   "source": [
    "## 11. 방법 10: 서버에서 데이터를 받아서 처리하기\n"
   ]
  },
  {
   "cell_type": "code",
   "execution_count": null,
   "metadata": {},
   "outputs": [],
   "source": [
    "'''\n",
    "$(\"#item\").hide();  \n",
    "   \n",
    "   var page = 1\n",
    "   \n",
    "   function getPage(page) {\n",
    "\t\t//json = {\"datas\": [{\"pk\": 1, \"title\": \"자동차 검출44343\", \"cnt\": 5}, {\"pk\": 2, \"title\": \"32321321\", \"cnt\": 0}, {\"pk\": 3, \"title\": \"32312323123\", \"cnt\": 0}]}\n",
    "\t\t\n",
    "\t   $.get(\"/myboard/ajaxget\", {page:page}, function(json) {\t   \n",
    "\t\t\tconsole.log(JSON.stringify(json));\n",
    "\t\t\tfor (i = 0; i < json.datas.length; i++) {\t\t\n",
    "\t\t\t\titem = $(\"#item\").clone();\n",
    "\t\t\t\titem.show();\n",
    "\t\t\t\t$(\"#title\", item).html(json.datas[i].title);\n",
    "\t\t\t\t$(\"#cnt\", item).text(json.datas[i].cnt);      \t\t\n",
    "\t\t\t\t$(\"#view\").append(item);   \t\t\t\t\t\n",
    "\t\t\t}   \n",
    "\t\t});\t\t\n",
    "   }    \n",
    "   $(\"#btnAdd\").click( function() {  \n",
    "\t\t\tpage++;\n",
    "\t\t\tgetPage(page);\n",
    "   });\n",
    "   \n",
    "   getPage(page);   \n",
    "   \n",
    "\n",
    "\n",
    "\n",
    "</script>\n",
    "\n",
    "\n",
    "'''"
   ]
  },
  {
   "cell_type": "markdown",
   "metadata": {
    "ExecuteTime": {
     "end_time": "2020-02-20T06:23:35.163370Z",
     "start_time": "2020-02-20T06:23:35.159381Z"
    }
   },
   "source": [
    "# get함수의 이해"
   ]
  },
  {
   "cell_type": "code",
   "execution_count": 2,
   "metadata": {
    "ExecuteTime": {
     "end_time": "2020-02-20T06:23:26.716418Z",
     "start_time": "2020-02-20T06:23:26.708424Z"
    }
   },
   "outputs": [
    {
     "data": {
      "text/plain": [
       "'\\ndef get(url, f):\\n    http를 요청하는 thread 생성\\n    \\n    \\n    \\ndef httf(url, f){\\n    네트워크 연결\\n    데이터 가져오기\\n    f(데이터) 함수 호출\\n}\\n'"
      ]
     },
     "execution_count": 2,
     "metadata": {},
     "output_type": "execute_result"
    }
   ],
   "source": [
    "'''\n",
    "def get(url, f):\n",
    "    http를 요청하는 thread 생성\n",
    "    \n",
    "    \n",
    "    \n",
    "def httf(url, f){\n",
    "    네트워크 연결\n",
    "    데이터 가져오기\n",
    "    f(데이터) 함수 호출\n",
    "}\n",
    "'''"
   ]
  },
  {
   "cell_type": "markdown",
   "metadata": {},
   "source": [
    "> thread: 바로 함수 끝내기\n",
    "- http함수는 오래 걸리수도 잇므.   \n",
    "\n",
    "> 함수의 정의, 실행이 분리되어 있으므로\n",
    "- 함수를 합쳐보자 컨셉: get 함수\n",
    "- 익명함수 개념 \n",
    "- function(): 함수의 이름 없이` 함수 자체를 넣는 개념\n",
    "\n",
    "\n",
    "> 전통적인 함수는 여러번 쓰기 위해 정의. 실행을 분리\n",
    "- jquery: 한번만 실행하면 되므로..."
   ]
  },
  {
   "cell_type": "code",
   "execution_count": null,
   "metadata": {},
   "outputs": [],
   "source": []
  }
 ],
 "metadata": {
  "kernelspec": {
   "display_name": "Python 3",
   "language": "python",
   "name": "python3"
  },
  "language_info": {
   "codemirror_mode": {
    "name": "ipython",
    "version": 3
   },
   "file_extension": ".py",
   "mimetype": "text/x-python",
   "name": "python",
   "nbconvert_exporter": "python",
   "pygments_lexer": "ipython3",
   "version": "3.6.10"
  },
  "toc": {
   "base_numbering": 1,
   "nav_menu": {},
   "number_sections": false,
   "sideBar": true,
   "skip_h1_title": false,
   "title_cell": "Table of Contents",
   "title_sidebar": "Contents",
   "toc_cell": false,
   "toc_position": {},
   "toc_section_display": true,
   "toc_window_display": true
  },
  "varInspector": {
   "cols": {
    "lenName": 16,
    "lenType": 16,
    "lenVar": 40
   },
   "kernels_config": {
    "python": {
     "delete_cmd_postfix": "",
     "delete_cmd_prefix": "del ",
     "library": "var_list.py",
     "varRefreshCmd": "print(var_dic_list())"
    },
    "r": {
     "delete_cmd_postfix": ") ",
     "delete_cmd_prefix": "rm(",
     "library": "var_list.r",
     "varRefreshCmd": "cat(var_dic_list()) "
    }
   },
   "types_to_exclude": [
    "module",
    "function",
    "builtin_function_or_method",
    "instance",
    "_Feature"
   ],
   "window_display": false
  }
 },
 "nbformat": 4,
 "nbformat_minor": 4
}
