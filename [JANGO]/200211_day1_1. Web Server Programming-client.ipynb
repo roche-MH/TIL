{
 "cells": [
  {
   "cell_type": "markdown",
   "metadata": {
    "ExecuteTime": {
     "end_time": "2020-02-11T00:41:13.393635Z",
     "start_time": "2020-02-11T00:41:13.389701Z"
    }
   },
   "source": [
    "## 2.1. 클라이언트 만들기"
   ]
  },
  {
   "cell_type": "markdown",
   "metadata": {},
   "source": [
    "> 왜 파이썬은 인코딩, 디코딩을 해야 하나?\n",
    "- 자바, c언어 등은 기본적으로 byte data(binary)를 사용\n",
    "- 파이썬은 유니코트, 등 data를 사용하므로"
   ]
  },
  {
   "cell_type": "markdown",
   "metadata": {},
   "source": [
    "### client socket"
   ]
  },
  {
   "cell_type": "code",
   "execution_count": 5,
   "metadata": {
    "ExecuteTime": {
     "end_time": "2020-02-11T01:18:49.786407Z",
     "start_time": "2020-02-11T01:18:49.778405Z"
    }
   },
   "outputs": [
    {
     "name": "stdout",
     "output_type": "stream",
     "text": [
      "서버 접속 성공\n",
      "send message\n",
      "receive: hello\n",
      "종료\n"
     ]
    }
   ],
   "source": [
    "import socket\n",
    "\n",
    "sock = socket.socket(socket.AF_INET, socket.SOCK_STREAM)\n",
    "\n",
    "# 내 서버 접속\n",
    "sock.connect(('localhost', 12345))\n",
    "print('서버 접속 성공')\n",
    "\n",
    "# 서버로 보내기\n",
    "sock.send('hello'.encode())\n",
    "print('send message')\n",
    "# \n",
    "data = sock.recv(65535)\n",
    "\n",
    "# 서버가 보낸 data 출력\n",
    "print('receive:', data.decode())\n",
    "print('종료')"
   ]
  },
  {
   "cell_type": "code",
   "execution_count": null,
   "metadata": {},
   "outputs": [],
   "source": []
  }
 ],
 "metadata": {
  "kernelspec": {
   "display_name": "Python 3",
   "language": "python",
   "name": "python3"
  },
  "language_info": {
   "codemirror_mode": {
    "name": "ipython",
    "version": 3
   },
   "file_extension": ".py",
   "mimetype": "text/x-python",
   "name": "python",
   "nbconvert_exporter": "python",
   "pygments_lexer": "ipython3",
   "version": "3.7.5"
  },
  "toc": {
   "base_numbering": 1,
   "nav_menu": {},
   "number_sections": false,
   "sideBar": true,
   "skip_h1_title": false,
   "title_cell": "Table of Contents",
   "title_sidebar": "Contents",
   "toc_cell": false,
   "toc_position": {},
   "toc_section_display": true,
   "toc_window_display": true
  },
  "varInspector": {
   "cols": {
    "lenName": 16,
    "lenType": 16,
    "lenVar": 40
   },
   "kernels_config": {
    "python": {
     "delete_cmd_postfix": "",
     "delete_cmd_prefix": "del ",
     "library": "var_list.py",
     "varRefreshCmd": "print(var_dic_list())"
    },
    "r": {
     "delete_cmd_postfix": ") ",
     "delete_cmd_prefix": "rm(",
     "library": "var_list.r",
     "varRefreshCmd": "cat(var_dic_list()) "
    }
   },
   "types_to_exclude": [
    "module",
    "function",
    "builtin_function_or_method",
    "instance",
    "_Feature"
   ],
   "window_display": false
  }
 },
 "nbformat": 4,
 "nbformat_minor": 2
}
