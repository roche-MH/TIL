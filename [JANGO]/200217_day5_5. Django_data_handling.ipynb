{
 "cells": [
  {
   "cell_type": "markdown",
   "metadata": {},
   "source": [
    "# Django_shell_plus에서 data handling하기"
   ]
  },
  {
   "cell_type": "code",
   "execution_count": 1,
   "metadata": {
    "ExecuteTime": {
     "end_time": "2020-02-17T06:38:05.163711Z",
     "start_time": "2020-02-17T06:38:05.154287Z"
    }
   },
   "outputs": [],
   "source": [
    "from myapp.models import User"
   ]
  },
  {
   "cell_type": "markdown",
   "metadata": {},
   "source": [
    "### 1. select"
   ]
  },
  {
   "cell_type": "code",
   "execution_count": 2,
   "metadata": {
    "ExecuteTime": {
     "end_time": "2020-02-17T06:38:06.022716Z",
     "start_time": "2020-02-17T06:38:06.014764Z"
    }
   },
   "outputs": [
    {
     "name": "stdout",
     "output_type": "stream",
     "text": [
      "이순신 / 이순신/ 50\n",
      "김유신 / 김유신/ 46\n",
      "홍길동 / 홍길동/ 20\n"
     ]
    }
   ],
   "source": [
    "data = User.objects.all()\n",
    "\n",
    "for d in data:\n",
    "    print(d)"
   ]
  },
  {
   "cell_type": "code",
   "execution_count": 3,
   "metadata": {
    "ExecuteTime": {
     "end_time": "2020-02-17T06:38:06.495399Z",
     "start_time": "2020-02-17T06:38:06.486423Z"
    }
   },
   "outputs": [
    {
     "data": {
      "text/plain": [
       "<User: 이순신 / 이순신/ 50>"
      ]
     },
     "execution_count": 3,
     "metadata": {},
     "output_type": "execute_result"
    }
   ],
   "source": [
    "data[0]"
   ]
  },
  {
   "cell_type": "code",
   "execution_count": 4,
   "metadata": {
    "ExecuteTime": {
     "end_time": "2020-02-17T06:38:06.867227Z",
     "start_time": "2020-02-17T06:38:06.862288Z"
    }
   },
   "outputs": [
    {
     "data": {
      "text/plain": [
       "50"
      ]
     },
     "execution_count": 4,
     "metadata": {},
     "output_type": "execute_result"
    }
   ],
   "source": [
    "data[0].age"
   ]
  },
  {
   "cell_type": "code",
   "execution_count": 5,
   "metadata": {
    "ExecuteTime": {
     "end_time": "2020-02-17T06:38:07.258641Z",
     "start_time": "2020-02-17T06:38:07.254697Z"
    }
   },
   "outputs": [
    {
     "name": "stdout",
     "output_type": "stream",
     "text": [
      "이순신 / 이순신/ 50\n",
      "김유신 / 김유신/ 46\n"
     ]
    }
   ],
   "source": [
    "# 데이터가 많은 경우, 속도가 너무 느림 -> db에서 처리해야 함.(요청)\n",
    "for d in data:\n",
    "    if d.age>=40:\n",
    "        print(d)"
   ]
  },
  {
   "cell_type": "markdown",
   "metadata": {},
   "source": [
    "### 2. filter"
   ]
  },
  {
   "cell_type": "code",
   "execution_count": 6,
   "metadata": {
    "ExecuteTime": {
     "end_time": "2020-02-17T06:38:07.919115Z",
     "start_time": "2020-02-17T06:38:07.861760Z"
    }
   },
   "outputs": [
    {
     "ename": "NameError",
     "evalue": "name 'age' is not defined",
     "output_type": "error",
     "traceback": [
      "\u001b[1;31m---------------------------------------------------------------------------\u001b[0m",
      "\u001b[1;31mNameError\u001b[0m                                 Traceback (most recent call last)",
      "\u001b[1;32m<ipython-input-6-ed836dc56203>\u001b[0m in \u001b[0;36m<module>\u001b[1;34m\u001b[0m\n\u001b[1;32m----> 1\u001b[1;33m \u001b[0mprint\u001b[0m\u001b[1;33m(\u001b[0m\u001b[0mdata\u001b[0m\u001b[1;33m.\u001b[0m\u001b[0mfilter\u001b[0m\u001b[1;33m(\u001b[0m\u001b[0mage\u001b[0m\u001b[1;33m>\u001b[0m\u001b[1;36m50\u001b[0m\u001b[1;33m)\u001b[0m\u001b[1;33m)\u001b[0m\u001b[1;33m\u001b[0m\u001b[1;33m\u001b[0m\u001b[0m\n\u001b[0m\u001b[0;32m      2\u001b[0m \u001b[1;33m\u001b[0m\u001b[0m\n\u001b[0;32m      3\u001b[0m \u001b[1;31m# 파이썬에서는 age라는 변수가 없으므로 불가 & 파이썬은 T,F로 출력됨.\u001b[0m\u001b[1;33m\u001b[0m\u001b[1;33m\u001b[0m\u001b[1;33m\u001b[0m\u001b[0m\n",
      "\u001b[1;31mNameError\u001b[0m: name 'age' is not defined"
     ]
    }
   ],
   "source": [
    "print(data.filter(age>50))\n",
    "\n",
    "# 파이썬에서는 age라는 변수가 없으므로 불가 & 파이썬은 T,F로 출력됨.\n"
   ]
  },
  {
   "cell_type": "code",
   "execution_count": 7,
   "metadata": {
    "ExecuteTime": {
     "end_time": "2020-02-17T06:38:11.724974Z",
     "start_time": "2020-02-17T06:38:11.719986Z"
    }
   },
   "outputs": [
    {
     "name": "stdout",
     "output_type": "stream",
     "text": [
      "<QuerySet [<User: 이순신 / 이순신/ 50>]>\n"
     ]
    }
   ],
   "source": [
    "print(data.filter(age__gte=50))\n",
    "\n",
    "# 원래 갖고 있는 속성의 의미를 파악해서, sql 문장을 만들어줌. \n",
    "# gte: 크거나 같음."
   ]
  },
  {
   "cell_type": "code",
   "execution_count": 10,
   "metadata": {
    "ExecuteTime": {
     "end_time": "2020-02-17T06:39:20.876407Z",
     "start_time": "2020-02-17T06:39:20.871366Z"
    }
   },
   "outputs": [
    {
     "name": "stdout",
     "output_type": "stream",
     "text": [
      "<QuerySet [<User: 김유신 / 김유신/ 46>]>\n",
      "<QuerySet [<User: 김유신 / 김유신/ 46>]>\n"
     ]
    }
   ],
   "source": [
    "print(data.filter(name = '김유신', age__gte = 40))\n",
    "print(data.filter(name = '김유신').filter(age__gte = 40))"
   ]
  },
  {
   "cell_type": "code",
   "execution_count": 12,
   "metadata": {
    "ExecuteTime": {
     "end_time": "2020-02-17T06:41:37.419795Z",
     "start_time": "2020-02-17T06:41:37.414840Z"
    }
   },
   "outputs": [
    {
     "name": "stdout",
     "output_type": "stream",
     "text": [
      "<QuerySet [<User: 김유신 / 김유신/ 46>]>\n"
     ]
    }
   ],
   "source": [
    "print(data.filter(name__contains='김'))"
   ]
  },
  {
   "cell_type": "code",
   "execution_count": 13,
   "metadata": {
    "ExecuteTime": {
     "end_time": "2020-02-17T06:41:58.322681Z",
     "start_time": "2020-02-17T06:41:58.317724Z"
    }
   },
   "outputs": [
    {
     "name": "stdout",
     "output_type": "stream",
     "text": [
      "<QuerySet [<User: 김유신 / 김유신/ 46>]>\n"
     ]
    }
   ],
   "source": [
    "# i: ignore -> 대소문자를 가리지 않음.\n",
    "print(data.filter(name__icontains='김'))"
   ]
  },
  {
   "cell_type": "markdown",
   "metadata": {},
   "source": [
    "### 3. filter(AND, NOT, OR) with Q"
   ]
  },
  {
   "cell_type": "code",
   "execution_count": 18,
   "metadata": {
    "ExecuteTime": {
     "end_time": "2020-02-17T06:46:19.796423Z",
     "start_time": "2020-02-17T06:46:19.790468Z"
    }
   },
   "outputs": [
    {
     "data": {
      "text/plain": [
       "<QuerySet [<User: 이순신 / 이순신/ 50>, <User: 김유신 / 김유신/ 46>]>"
      ]
     },
     "execution_count": 18,
     "metadata": {},
     "output_type": "execute_result"
    }
   ],
   "source": [
    "from django.db.models import Q\n",
    "data.filter(Q(age__gte=50) | Q(name__contains='유'))"
   ]
  },
  {
   "cell_type": "markdown",
   "metadata": {},
   "source": [
    "### 4. get: data가 정확히 1개인 경우만 사용"
   ]
  },
  {
   "cell_type": "code",
   "execution_count": 19,
   "metadata": {
    "ExecuteTime": {
     "end_time": "2020-02-17T06:51:13.508476Z",
     "start_time": "2020-02-17T06:51:13.504501Z"
    }
   },
   "outputs": [
    {
     "data": {
      "text/plain": [
       "<User: 이순신 / 이순신/ 50>"
      ]
     },
     "execution_count": 19,
     "metadata": {},
     "output_type": "execute_result"
    }
   ],
   "source": [
    "data.get(name = '이순신')"
   ]
  },
  {
   "cell_type": "markdown",
   "metadata": {},
   "source": [
    "### 5. ordering"
   ]
  },
  {
   "cell_type": "code",
   "execution_count": 21,
   "metadata": {
    "ExecuteTime": {
     "end_time": "2020-02-17T06:51:56.460634Z",
     "start_time": "2020-02-17T06:51:56.455674Z"
    }
   },
   "outputs": [
    {
     "data": {
      "text/plain": [
       "<QuerySet [<User: 홍길동 / 홍길동/ 20>, <User: 김유신 / 김유신/ 46>, <User: 이순신 / 이순신/ 50>]>"
      ]
     },
     "execution_count": 21,
     "metadata": {},
     "output_type": "execute_result"
    }
   ],
   "source": [
    "# 오름차순 정렬\n",
    "data.order_by('age')"
   ]
  },
  {
   "cell_type": "code",
   "execution_count": 22,
   "metadata": {
    "ExecuteTime": {
     "end_time": "2020-02-17T06:52:07.921939Z",
     "start_time": "2020-02-17T06:52:07.916964Z"
    }
   },
   "outputs": [
    {
     "data": {
      "text/plain": [
       "<QuerySet [<User: 이순신 / 이순신/ 50>, <User: 김유신 / 김유신/ 46>, <User: 홍길동 / 홍길동/ 20>]>"
      ]
     },
     "execution_count": 22,
     "metadata": {},
     "output_type": "execute_result"
    }
   ],
   "source": [
    "# 내림차순 정렬\n",
    "data.order_by('-age')"
   ]
  },
  {
   "cell_type": "code",
   "execution_count": 23,
   "metadata": {
    "ExecuteTime": {
     "end_time": "2020-02-17T06:52:34.883612Z",
     "start_time": "2020-02-17T06:52:34.877623Z"
    }
   },
   "outputs": [
    {
     "data": {
      "text/plain": [
       "<QuerySet [<User: 홍길동 / 홍길동/ 20>, <User: 김유신 / 김유신/ 46>, <User: 이순신 / 이순신/ 50>]>"
      ]
     },
     "execution_count": 23,
     "metadata": {},
     "output_type": "execute_result"
    }
   ],
   "source": [
    "# multi-order\n",
    "data.order_by('age', 'name')"
   ]
  },
  {
   "cell_type": "markdown",
   "metadata": {},
   "source": [
    "### 6. insert with instance"
   ]
  },
  {
   "cell_type": "code",
   "execution_count": null,
   "metadata": {},
   "outputs": [],
   "source": [
    "a = User(userid: 'lee', name : '임꺽정', age: 40, 'ho)"
   ]
  }
 ],
 "metadata": {
  "kernelspec": {
   "display_name": "Django Shell-Plus",
   "language": "python",
   "name": "django_extensions"
  },
  "language_info": {
   "codemirror_mode": {
    "name": "ipython",
    "version": 3
   },
   "file_extension": ".py",
   "mimetype": "text/x-python",
   "name": "python",
   "nbconvert_exporter": "python",
   "pygments_lexer": "ipython3",
   "version": "3.6.10"
  },
  "toc": {
   "base_numbering": 1,
   "nav_menu": {},
   "number_sections": false,
   "sideBar": true,
   "skip_h1_title": false,
   "title_cell": "Table of Contents",
   "title_sidebar": "Contents",
   "toc_cell": false,
   "toc_position": {},
   "toc_section_display": true,
   "toc_window_display": false
  },
  "varInspector": {
   "cols": {
    "lenName": 16,
    "lenType": 16,
    "lenVar": 40
   },
   "kernels_config": {
    "python": {
     "delete_cmd_postfix": "",
     "delete_cmd_prefix": "del ",
     "library": "var_list.py",
     "varRefreshCmd": "print(var_dic_list())"
    },
    "r": {
     "delete_cmd_postfix": ") ",
     "delete_cmd_prefix": "rm(",
     "library": "var_list.r",
     "varRefreshCmd": "cat(var_dic_list()) "
    }
   },
   "types_to_exclude": [
    "module",
    "function",
    "builtin_function_or_method",
    "instance",
    "_Feature"
   ],
   "window_display": false
  }
 },
 "nbformat": 4,
 "nbformat_minor": 4
}
