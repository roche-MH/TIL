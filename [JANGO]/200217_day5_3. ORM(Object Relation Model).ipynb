{
 "cells": [
  {
   "cell_type": "markdown",
   "metadata": {},
   "source": [
    "# 장고는 ORM 기반\n",
    "- MVC를 주장...-> 객체 기반으로 해야 함\n",
    "- 객체 관계 매핑기술(정확히 모델링 기술 아니고 매핑 기술)\n",
    "\n",
    "\n",
    "> ORM 매핑\n",
    "- python object: 객체\n",
    "- DB/ table\n",
    "- 레코드 추가: 객체를 만드는 개념\n",
    "- 파이썬으로 만든 코드를 자동으로 SQL로 변환해줌. \n",
    "- 파이썬 코드와 db사이의 인터페이스 역할\n",
    "\n",
    "> 장점\n",
    "- 사람은 객체 개념이 더 직관적이고 이해학 쉬움\n",
    "- db마다 다른 sql명령문을 사용할 때, 그것고 상관없이 사람은 파이썬 코드만 짜면 됨.\n",
    "- 분산 db 환경을 만들어줌\n",
    "- db에 대해 몰라도 db를 사용할 수 있음.\n",
    "\n",
    "> 단점\n",
    "- 모든 것이 API이기 때문에 신경쓸 것이 많ㅇㅁ."
   ]
  },
  {
   "cell_type": "markdown",
   "metadata": {},
   "source": [
    "# 1. setting"
   ]
  },
  {
   "cell_type": "markdown",
   "metadata": {},
   "source": [
    "## 1.1 관리자 및 uers 생성: \n",
    "-     pthon manage.py createsuperuser\n",
    "    \n",
    "## 1.2 setting.py \n",
    "- installed app에 우리가 만든 app을 추가해야 함.-> db를 사용할 수 있음.\n",
    "- INSTALLED_APPS  [앱명.apps.앱명Config]\n",
    "- DB 관련 설정은 app별로 설정해야함.\n",
    "\n",
    "INSTALLED_APPS = [\n",
    "    'django.contrib.admin',\n",
    "    'django.contrib.auth',\n",
    "    'django.contrib.contenttypes',\n",
    "    'django.contrib.sessions',\n",
    "    'django.contrib.messages',\n",
    "    'django.contrib.staticfiles',\n",
    "    'myapp'   # 폴더명(앱 이름)\n",
    "] \n",
    "\n",
    "\n",
    "> 정확하게는\n",
    "- myapp> apps.py>\n",
    "- class MyappConfig(AppConfig):\n",
    "    name = 'myapp'\n",
    "- 여기에 정의된 이름을 setting.py에 쓰는 것\n",
    "- 네이밍 규칙: 'app이름 첫글자 대문자 + config'\n",
    "\n",
    "## 1.3 models.py : table 만들기"
   ]
  },
  {
   "cell_type": "code",
   "execution_count": null,
   "metadata": {},
   "outputs": [],
   "source": [
    "'''\n",
    "from django.db import models\n",
    "from django.utils import timezone\n",
    "\n",
    "# Create your models here.\n",
    "\n",
    "\n",
    "class User(models.Model):\n",
    "    userid = models.CharField(max_length = 10, primary_key = True)\n",
    "    name = models.CharField(max_length= 10)\n",
    "    age = model.IntegerField()\n",
    "    hobby = models.CharField(max_length = 20)\n",
    "\n",
    "    # 시스템함수\n",
    "    # print()할 때 자동으로 출력됨.\n",
    "    def __str__(self):\n",
    "        # return self.userid + '/' + self.name + '/' + self.age\n",
    "        return f\"{self.userid} / {self.name}/ {self.age}\"\n",
    "        \n",
    "\n",
    "'''"
   ]
  },
  {
   "cell_type": "markdown",
   "metadata": {},
   "source": [
    "## 1.4 앱별로 db관리 -> admin.py\n",
    "\n",
    "- table 추가할 때마다 해야 함."
   ]
  },
  {
   "cell_type": "code",
   "execution_count": 1,
   "metadata": {
    "ExecuteTime": {
     "end_time": "2020-02-17T05:16:00.987306Z",
     "start_time": "2020-02-17T05:16:00.979378Z"
    }
   },
   "outputs": [
    {
     "data": {
      "text/plain": [
       "'\\nfrom django.contrib import admin\\nfrom myapp.models import User  # User table import\\n\\n# Register your models here.\\nadmin.site.register(User)\\n'"
      ]
     },
     "execution_count": 1,
     "metadata": {},
     "output_type": "execute_result"
    }
   ],
   "source": [
    "'''\n",
    "from django.contrib import admin\n",
    "from myapp.models import User  # User table import\n",
    "\n",
    "# Register your models here.\n",
    "admin.site.register(User)\n",
    "'''"
   ]
  },
  {
   "cell_type": "markdown",
   "metadata": {},
   "source": [
    "## 1.5 바뀐 db의 이력 추척 + 실행\n",
    "> migrations > 0001_....py\n",
    "- db의 이력을 추척하는 것임.\n",
    "- python manage.py makemigrations myapp\n",
    "- 실제 db에 적용하지 않음. 변경 내뇽을 수짐, 조사-> 변경 사항을 python 코드로 만들기\n",
    "\n",
    "\n",
    "> 실행\n",
    "- python mange.py migrate"
   ]
  },
  {
   "cell_type": "markdown",
   "metadata": {},
   "source": [
    "## 1.6. sglite 에서도 myapp_user table이 만들어진 것 확인"
   ]
  },
  {
   "cell_type": "markdown",
   "metadata": {},
   "source": [
    "\n",
    "# 2. shell에서 table 다루기\n",
    "- python manage.py shell\n",
    "- 장고 관련 db 패키지가 다 import 되어있음.\n",
    "\n",
    "#### 객체 기반으로 data handling하기"
   ]
  },
  {
   "cell_type": "code",
   "execution_count": null,
   "metadata": {},
   "outputs": [],
   "source": [
    "'''\n",
    "# table import\n",
    "from myapp.models import User\n",
    "\n",
    "\n",
    "# table내용을 변수에 담기\n",
    "# models를 상속받았으므로, 사용할 수 있는 기능\n",
    "datas = User.objects.all()  # SELECT * FROM user\n",
    "\n",
    "datas\n",
    "#<QuerySet [<User: 이순신 / 이순신/ 50>, <User: 김유신 / 김유신/ 46>, <User: 홍길동 / 홍길동/ 20>]>\n",
    "# QuerySet: 여러개의 data를 보관할 수 있는 자료형\n",
    "\n",
    "In [5]: for d in datas: print(d)\n",
    "이순신 / 이순신/ 50\n",
    "김유신 / 김유신/ 46\n",
    "홍길동 / 홍길동/ 20\n",
    "\n",
    "\n",
    "# 나이만 출력=> 클래스의 인스턴스 출력\n",
    "In [6]: for d in datas: print(d.age)\n",
    "50\n",
    "46\n",
    "20\n",
    "\n",
    "\n",
    "# 데이터 추가\n",
    "u = User()   # 인스턴스 생성(객체 생성)\n",
    "u = User(userid = 'lee', Name='임꺽정', age = 40, hobby = '봉사')  \n",
    "# DB에 반영\n",
    "u.save()\n",
    "\n",
    "# 데이터 수정\n",
    " u.name = '임꺽정3'\n",
    "\n",
    " u.age = 80\n",
    "\n",
    " u.save()\n",
    " \n",
    " # 레코드 지우기\n",
    " u.delete()\n",
    " Out[20]: (1, {'myapp.User': 1})# table에서 지워진 row 수\n",
    "''''''"
   ]
  },
  {
   "cell_type": "markdown",
   "metadata": {
    "ExecuteTime": {
     "end_time": "2020-02-17T05:47:06.896877Z",
     "start_time": "2020-02-17T05:47:06.885387Z"
    }
   },
   "source": [
    "> 컴퓨터를 껏다 켜도 데이터가 남아있음."
   ]
  },
  {
   "cell_type": "code",
   "execution_count": null,
   "metadata": {},
   "outputs": [],
   "source": []
  }
 ],
 "metadata": {
  "kernelspec": {
   "display_name": "Python 3",
   "language": "python",
   "name": "python3"
  },
  "language_info": {
   "codemirror_mode": {
    "name": "ipython",
    "version": 3
   },
   "file_extension": ".py",
   "mimetype": "text/x-python",
   "name": "python",
   "nbconvert_exporter": "python",
   "pygments_lexer": "ipython3",
   "version": "3.7.5"
  },
  "toc": {
   "base_numbering": 1,
   "nav_menu": {},
   "number_sections": false,
   "sideBar": true,
   "skip_h1_title": false,
   "title_cell": "Table of Contents",
   "title_sidebar": "Contents",
   "toc_cell": false,
   "toc_position": {
    "height": "calc(100% - 180px)",
    "left": "10px",
    "top": "150px",
    "width": "174.176px"
   },
   "toc_section_display": true,
   "toc_window_display": true
  },
  "varInspector": {
   "cols": {
    "lenName": 16,
    "lenType": 16,
    "lenVar": 40
   },
   "kernels_config": {
    "python": {
     "delete_cmd_postfix": "",
     "delete_cmd_prefix": "del ",
     "library": "var_list.py",
     "varRefreshCmd": "print(var_dic_list())"
    },
    "r": {
     "delete_cmd_postfix": ") ",
     "delete_cmd_prefix": "rm(",
     "library": "var_list.r",
     "varRefreshCmd": "cat(var_dic_list()) "
    }
   },
   "types_to_exclude": [
    "module",
    "function",
    "builtin_function_or_method",
    "instance",
    "_Feature"
   ],
   "window_display": false
  }
 },
 "nbformat": 4,
 "nbformat_minor": 2
}
