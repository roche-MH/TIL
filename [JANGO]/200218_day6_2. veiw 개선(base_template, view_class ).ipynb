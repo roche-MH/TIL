{
 "cells": [
  {
   "cell_type": "markdown",
   "metadata": {},
   "source": [
    "#  view를 개선하기\n",
    "\n",
    "> 모든 페이지에 항상 나오는 내용\n",
    "- 저작권, 주소 등...반복되는 요소들을 매번 html마다 반복하지 않고, 한번에 처리\n",
    "\n",
    "> base template, sub template\n",
    "- 템플릿 안에 템플릿을 넣는 개념\n",
    "- 변경되는 템블릿만 수정\n",
    "- base template: 저작권, 기본사항 등 -> 한번만 하기\n",
    "- sub template: 안의 부분만 rendering하는 부분"
   ]
  },
  {
   "cell_type": "markdown",
   "metadata": {},
   "source": [
    "# 1. base templage만들기: base.html"
   ]
  },
  {
   "cell_type": "markdown",
   "metadata": {
    "ExecuteTime": {
     "end_time": "2020-02-18T02:31:53.294458Z",
     "start_time": "2020-02-18T02:31:53.289472Z"
    }
   },
   "source": [
    "> base template를 사용하려면\n",
    "- sub template에는 base를 import하고, base 안어 들어갈 부분을 block으로 묶기\n",
    "- base teplate에서는 sub template를 넣을 부분을 block문으로 알려주기"
   ]
  },
  {
   "cell_type": "code",
   "execution_count": null,
   "metadata": {},
   "outputs": [],
   "source": [
    "# base.html\n",
    "'''\n",
    "My blog<br>\n",
    "\n",
    "\n",
    "<!--  나중에 바뀌는 부분-> 페이지에서 rendering되는 부분 -->\n",
    "{% block content %}\n",
    "{% endblock %}\n",
    "\n",
    "\n",
    "copy right.....<br>\n",
    "서울 특별시\n",
    "\n",
    "'''"
   ]
  },
  {
   "cell_type": "code",
   "execution_count": null,
   "metadata": {},
   "outputs": [],
   "source": [
    "# list.html\n",
    "'''\n",
    "<!-- import, includ 개념 -->\n",
    "{% extends 'blog/base.html' %}\n",
    "\n",
    "\n",
    "<!-- base template안의 위치 지정 -->\n",
    "\n",
    "{% block content %}\n",
    "\n",
    "sub-template<br>\n",
    "\n",
    "{% for d in data%}\n",
    "    {{d.title}}<br>\n",
    "    {{d.text|linebreaks}}  \n",
    "    <!-- linebreaks: enter -> <br>로 바꿔줌 -->\n",
    "    <hr>\n",
    "{%endfor%}\n",
    "\n",
    "{% endblock %}\n",
    "\n",
    "'''"
   ]
  },
  {
   "cell_type": "markdown",
   "metadata": {},
   "source": [
    "# 2. detail view만들기: title을 클릭하면 게시물 1개를 보여주기"
   ]
  },
  {
   "cell_type": "markdown",
   "metadata": {},
   "source": [
    "#### 동적 url로 title 보여주기"
   ]
  },
  {
   "cell_type": "code",
   "execution_count": null,
   "metadata": {},
   "outputs": [],
   "source": [
    "# liist.htmp\n",
    "'''\n",
    "<!-- import, includ 개념 -->\n",
    "{% extends 'blog/base.html' %}\n",
    "\n",
    "\n",
    "<!-- base template안의 위치 지정 -->\n",
    "\n",
    "{% block content %}\n",
    "\n",
    "sub-template<br>\n",
    "\n",
    "{% for d in data%}\n",
    "\n",
    "<!-- get 방식으로 보내려면: a href: /blog/id =... -->\n",
    "<!-- 동적 url을 가져오려면 -->\n",
    "    <a href=\"{{d.pk}}/detail\"></a>{{d.title}}</a><br>\n",
    "    <!-- {{d.text|linebreaks}}    # 목록만 보여주도록 하기 위해서 빼기-->\n",
    "    <!-- linebreaks: enter -> <br>로 바꿔줌 -->\n",
    "    <hr>\n",
    "{%endfor%}\n",
    "\n",
    "{% endblock %}\n",
    "\n",
    "\n",
    "'''"
   ]
  },
  {
   "cell_type": "code",
   "execution_count": null,
   "metadata": {},
   "outputs": [],
   "source": [
    "# detail.html\n",
    "'''\n",
    "\n",
    "<!-- import, includ 개념 -->\n",
    "{% extends 'blog/base.html' %}\n",
    "\n",
    "\n",
    "<!-- base template안의 위치 지정 -->\n",
    "\n",
    "{% block content %}\n",
    "\n",
    "게시물을 보여줘<br>\n",
    "\n",
    "    {{d.text|linebreaks}}  \n",
    "    <!-- linebreaks: enter -> <br>로 바꿔줌 -->\n",
    "\n",
    "\n",
    "{% endblock %}\n",
    "\n",
    "'''"
   ]
  },
  {
   "cell_type": "code",
   "execution_count": null,
   "metadata": {},
   "outputs": [],
   "source": [
    "# view.py\n",
    "'''\n",
    "def list(request):\n",
    "    data =Post.objects.all()\n",
    "    return render (request,'blog/list.html', {'data':data})\n",
    "\n",
    "def detail(request, pk):\n",
    "    p = get_object_or_404(Post, pk = pk)\n",
    "    return render(request, 'blog/detail.html', {'d': p})\n",
    "'''"
   ]
  },
  {
   "cell_type": "markdown",
   "metadata": {},
   "source": [
    "# 3. View를 객체로 바꾸기\n",
    "- 특정 url이 들어오면 함수를 호출하는 개념\n",
    "- 모델 만들것처럼 view 객체를 만들어서 처리\n",
    "\n",
    "\n",
    "> 항상 url이 2개 (login, loginform)\n",
    "- request.method == post, get으로 if문으로 분기할 수도 있고\n",
    "- class를 사용할 수도 있고"
   ]
  },
  {
   "cell_type": "markdown",
   "metadata": {},
   "source": [
    "## 3.1. 연습"
   ]
  },
  {
   "cell_type": "code",
   "execution_count": null,
   "metadata": {},
   "outputs": [],
   "source": [
    "# urls.py\n",
    "\n",
    "'''\n",
    "urlpatterns = [\n",
    "    path('', views.index),\n",
    "    # 동적 url 다루기\n",
    "    path('<name>/', views.index2),  # 임의의 문자가 다 올 수 있음.\n",
    "    # path('<int:pk>/detail', views.index3),\n",
    "    path('<int:pk>/detail', views.detail),\n",
    "\n",
    "\n",
    "    # 함수 기반\n",
    "    path('list', views.list)\n",
    "\n",
    "    # class 기반\n",
    "    path('list2', views.PostView.as_view())    # as_view()함수를 가지고 PostView 객체 생성\n",
    "]\n",
    "\n",
    "'''"
   ]
  },
  {
   "cell_type": "code",
   "execution_count": null,
   "metadata": {},
   "outputs": [],
   "source": [
    "# views.py\n",
    "'''\n",
    "# View를 상속받아서 정의\n",
    "# get, post 나눠서 정의\n",
    "# 특정 url이 호출되면 PoseView instance가 생성\n",
    "class PostView(View):\n",
    "        \n",
    "    def get(self, request):\n",
    "        return HttpResponse('get ok~~')\n",
    "\n",
    "    def post(self, request):\n",
    "        return HttpResponse('post ok~~~')\n",
    "\n",
    "'''"
   ]
  },
  {
   "cell_type": "markdown",
   "metadata": {},
   "source": [
    "> 실행\n",
    "- 127.0.0.1:8000/blog/list2\n",
    "- get 방식으로 접속\n",
    "- post로 하려면 form tag로 사용해야 함.!!"
   ]
  },
  {
   "cell_type": "markdown",
   "metadata": {},
   "source": [
    "## 3.2. login을 class로 처리하기"
   ]
  },
  {
   "cell_type": "code",
   "execution_count": null,
   "metadata": {},
   "outputs": [],
   "source": [
    "# urls.py\n",
    "'''\n",
    "urlpatterns = [\n",
    "    path('', views.index),\n",
    "    # 동적 url 다루기\n",
    "    path('<name>/', views.index2),  # 임의의 문자가 다 올 수 있음.\n",
    "    # path('<int:pk>/detail', views.index3),\n",
    "    path('<int:pk>/detail', views.detail),\n",
    "\n",
    "\n",
    "    # 함수 기반\n",
    "    path('list', views.list),\n",
    "\n",
    "    # class 기반\n",
    "    path('list2', views.PostView.as_view()),    # as_view()함수를 가지고 PostView 객체 생성\n",
    "    path('login', views.LoginView.as_view()),\n",
    "]\n",
    "\n",
    "'''"
   ]
  },
  {
   "cell_type": "code",
   "execution_count": null,
   "metadata": {},
   "outputs": [],
   "source": [
    "# login.html\n",
    "'''\n",
    "<form action = '' method = post>\n",
    "    {% csrf_token %}\n",
    "    username<input type=text name = username> <br>\n",
    "    password <input type = password name = password><br>\n",
    "    <input type = submit value = 'login'>\n",
    "</form>\n",
    "\n",
    "'''"
   ]
  },
  {
   "cell_type": "code",
   "execution_count": null,
   "metadata": {},
   "outputs": [],
   "source": [
    "# views.py\n",
    "'''\n",
    "class LoginView(View):\n",
    "    def get(self, request):\n",
    "        return render(request, 'blog/login.html')\n",
    "\n",
    "\n",
    "\n",
    "    def post(self, request):\n",
    "        \n",
    "        return redirect('list')\n",
    "\n",
    "'''"
   ]
  },
  {
   "cell_type": "markdown",
   "metadata": {},
   "source": [
    "> 실행\n",
    "- http://127.0.0.1:8000/blog/login"
   ]
  },
  {
   "cell_type": "markdown",
   "metadata": {},
   "source": [
    "### pass 암호하는 방법\n",
    "- 장고가 사용하는 인증방법 사용해야 함.\n",
    "- home pass: home"
   ]
  },
  {
   "cell_type": "code",
   "execution_count": null,
   "metadata": {},
   "outputs": [],
   "source": [
    "'''\n",
    "from django.contrib.auth import authenticate\n",
    "\n",
    "\n",
    "user = authenticate(usernema = 'home', password = '1234')\n",
    "user\n",
    "''''''\n"
   ]
  },
  {
   "cell_type": "code",
   "execution_count": null,
   "metadata": {},
   "outputs": [],
   "source": [
    "> views.py\n",
    "'''\n",
    "class LoginView(View):\n",
    "    def get(self, request):\n",
    "        return render(request, 'blog/login.html')\n",
    "\n",
    "    def post(self, request):\n",
    "\n",
    "        # user table의 password는 암호화되어 들어가있음.-> 간접적으로 비교 해야 함.\n",
    "        username = request.POST.get('username')\n",
    "        password = request.POST.get('password')\n",
    "\n",
    "        user = authenticate(username =username, password = password)\n",
    "        if user == None:\n",
    "\n",
    "            # return HttpResponse('암호 틀림')\n",
    "            return redirect('/blog/login')\n",
    "        # return HttpResponse('인증 완료')\n",
    "        return redirect('/blog/list')\n",
    "\n",
    "\n",
    "'''\n",
    "\n"
   ]
  },
  {
   "cell_type": "markdown",
   "metadata": {},
   "source": [
    "## 3.3. 경로를 name으로 처리하기\n",
    "- redirect('name')쓰기"
   ]
  },
  {
   "cell_type": "code",
   "execution_count": null,
   "metadata": {},
   "outputs": [],
   "source": [
    "# urls.py\n",
    "'''\n",
    "urlpatterns = [\n",
    "    path('', views.index),\n",
    "    # 동적 url 다루기\n",
    "    path('<name>/', views.index2),  # 임의의 문자가 다 올 수 있음.\n",
    "    # path('<int:pk>/detail', views.index3),\n",
    "    path('<int:pk>/detail', views.detail),\n",
    "\n",
    "\n",
    "    # 함수 기반\n",
    "    path('list', views.list, name = 'list'),\n",
    "\n",
    "    # class 기반\n",
    "    path('list2', views.PostView.as_view()),    # as_view()함수를 가지고 PostView 객체 생성\n",
    "    path('login', views.LoginView.as_view()), name = 'login',\n",
    "\n",
    "    # 이름: 경로 신경쓰지 말고 name을 경로로 사용할 수 있음.\n",
    "]\n",
    "'''"
   ]
  },
  {
   "cell_type": "code",
   "execution_count": null,
   "metadata": {},
   "outputs": [],
   "source": [
    "#views.py\n",
    "'''\n",
    "class LoginView(View):\n",
    "    def get(self, request):\n",
    "        return render(request, 'blog/login.html')\n",
    "\n",
    "    def post(self, request):\n",
    "\n",
    "        # user table의 password는 암호화되어 들어가있음.-> 간접적으로 비교 해야 함.\n",
    "        username = request.POST.get('username')\n",
    "        password = request.POST.get('password')\n",
    "\n",
    "        # 장고에서 지원하는 함수\n",
    "        user = authenticate(username =username, password = password)\n",
    "        if user == None:\n",
    "\n",
    "            # return HttpResponse('암호 틀림')\n",
    "            # return redirect('/blog/login')\n",
    "            return redirect('login')\n",
    "        # return HttpResponse('인증 완료')\n",
    "        # return redirect('/blog/list'): web 표준은 경로명(/를 써서 urls.py에서 찾음)을 쓰는 것이 맞음.\n",
    "        return redirect('list')\n",
    "\n",
    "'''"
   ]
  }
 ],
 "metadata": {
  "kernelspec": {
   "display_name": "Python 3",
   "language": "python",
   "name": "python3"
  },
  "language_info": {
   "codemirror_mode": {
    "name": "ipython",
    "version": 3
   },
   "file_extension": ".py",
   "mimetype": "text/x-python",
   "name": "python",
   "nbconvert_exporter": "python",
   "pygments_lexer": "ipython3",
   "version": "3.6.10"
  },
  "toc": {
   "base_numbering": 1,
   "nav_menu": {},
   "number_sections": false,
   "sideBar": true,
   "skip_h1_title": false,
   "title_cell": "Table of Contents",
   "title_sidebar": "Contents",
   "toc_cell": false,
   "toc_position": {},
   "toc_section_display": true,
   "toc_window_display": true
  },
  "varInspector": {
   "cols": {
    "lenName": 16,
    "lenType": 16,
    "lenVar": 40
   },
   "kernels_config": {
    "python": {
     "delete_cmd_postfix": "",
     "delete_cmd_prefix": "del ",
     "library": "var_list.py",
     "varRefreshCmd": "print(var_dic_list())"
    },
    "r": {
     "delete_cmd_postfix": ") ",
     "delete_cmd_prefix": "rm(",
     "library": "var_list.r",
     "varRefreshCmd": "cat(var_dic_list()) "
    }
   },
   "types_to_exclude": [
    "module",
    "function",
    "builtin_function_or_method",
    "instance",
    "_Feature"
   ],
   "window_display": false
  }
 },
 "nbformat": 4,
 "nbformat_minor": 4
}
