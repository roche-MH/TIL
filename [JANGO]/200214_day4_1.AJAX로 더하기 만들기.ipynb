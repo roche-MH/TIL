{
 "cells": [
  {
   "cell_type": "markdown",
   "metadata": {},
   "source": [
    "# Web application 설계\n",
    "\n",
    "## Aiax: 비동기 통신방식\n",
    "\n",
    "> 네이버에서 코로나 치면 추천단어 나옴.\n",
    "- html: jsp, ASp, 모두 request, response 방식의 페이지 단위로 움직임.\n",
    "- 입력에 맞는 데이터가 보여줌(일부만 보임)\n",
    "- 새로운 페이지로 refresh 되는 것이 아니라, 조그만 바뀜.=> 비동기식\n",
    "\n",
    "> 동기적\n",
    "- 내가 타이핑하는 동안 다른 부분은 멈추거나 느려져야 함.\n",
    "- 데이터를 페이지 단위로 해결\n",
    "\n",
    "> 비동기적\n",
    "- 페이지 단위가 아니라..\n",
    "- 구글 지도에서 지도 움직일 떄 페이지가 바뀌지 않음.\n",
    "- 필요할 때만 서버에 호출\n",
    "\n",
    "## 1. Asynchronous SavaScript and XML\n",
    "- 서버와 데이터를 교환하는 기술\n",
    "- 이전: HTTP Request ->HTML파일을 보내줌\n",
    "- 지금: XML HPPT REquest -> XML ( 함수실행시키고, 결과를 보내주면 특정 html에 렌더링하는 개념)\n",
    "\n",
    "> 비동기\n",
    "- thread로 요청\n",
    "- 사용자에게 홈페이지가 갱신되는 느낌을 주지 않고\n",
    "- 서버의 함수를 호출하는 개념\n",
    "- 페이지 단위 컨셈이 아님.\n",
    "-\n",
    "> 페이지 단위\n",
    "- 데이터 하나만 삭제해도 전체 페이지를 불러오기 옴\n",
    "\n",
    "\n",
    "### 동작원리\n",
    "- 자바스크립트의 XMLHttpRegues api 사용\n",
    "- html 요소를 동적으로 제어\n",
    "- 클라이언트 사이드에서 렌더링\n",
    "- 1. 서버가 xML메시지를 클라이언트로 보내면 \n",
    "- 2. HTML 페이지(클라이언트)에서 DOM과 자바크크립트의  XMLHttpRegues를 사용해서 처리\n",
    "\n",
    "\n",
    "> 클라이언트 사이드\n",
    "- 클라이언트에서 데이터를 렌더링-> 서버의 부담이 적어짐.\n",
    "\n",
    "\n",
    "> 서버 사이드\n",
    "- 화면과 서버의 렌더링을 서버가 담당\n",
    "\n",
    "\n",
    "### JQuery를 이용해서 하기\n",
    "- 자바스크립트리트를 사용한 상위 api"
   ]
  },
  {
   "cell_type": "markdown",
   "metadata": {},
   "source": [
    "# 덧셈 예제\n",
    "- 두 수 입력받아서 등호 버튼 누르면 8 나오기\n",
    "- 페이지가 바뀌는 것이 아니라 "
   ]
  },
  {
   "cell_type": "markdown",
   "metadata": {},
   "source": [
    "## 1. app만들기\n",
    "- django-admin startproject mysite\n",
    "- cd mysite\n",
    "- python manage.py startapp ajax\n",
    "- python manage.py runserver\n",
    "\n",
    "> urls.py\n",
    "- \n",
    "\n",
    "## 2. 동기 방식으로 덧셈 form, 결과 나오게 하기\n",
    "\n",
    "###  서버에 다녀와서 페이지 방식으로 처리\n",
    "> form\n",
    "- 하면 서버 요청됨\n",
    "- 서버 요청 가는 것은 페이지가 바뀌는 개념\n"
   ]
  },
  {
   "cell_type": "code",
   "execution_count": null,
   "metadata": {},
   "outputs": [],
   "source": [
    "# urls.py\n",
    "'''\n",
    "urlpatterns = [\n",
    "    path('', views.index),\n",
    "    path('calcform', views.calcForm),\n",
    "    path('calc', views.calc)\n",
    "]\n",
    "'''"
   ]
  },
  {
   "cell_type": "code",
   "execution_count": null,
   "metadata": {},
   "outputs": [],
   "source": [
    "# views.py\n",
    "'''\n",
    "from django.shortcuts import render\n",
    "from django.http import HttpResponse\n",
    "# Create your views here.\n",
    "\n",
    "\n",
    "def index(request):\n",
    "    return HttpResponse('Hello~~~')\n",
    "\n",
    "\n",
    "def calcForm(request):\n",
    "    return render(request, 'ajax/calc.html')\n",
    "\n",
    "\n",
    "# 실제 계산\n",
    "def calc(request):\n",
    "    op1 = int(request.GET('op1'))\n",
    "    op2 = int(request.GET('op2'))\n",
    "    result = op1 + op2\n",
    "    return HttpResponse(f'result = {result}')\n",
    "\n",
    "'''"
   ]
  },
  {
   "cell_type": "code",
   "execution_count": null,
   "metadata": {},
   "outputs": [],
   "source": [
    "# calc.html\n",
    "'''\n",
    "\n",
    "<form action = 'calc'></form>\n",
    "<input type= text name = op1 id = 'op1'>+ <input type = text name = op2 id = 'op2'>\n",
    "<button id = 'btnCalc'>=</button><input type = text name = 'result' id = 'result'>\n",
    "</form>\n",
    "\n",
    "'''"
   ]
  },
  {
   "cell_type": "markdown",
   "metadata": {},
   "source": [
    "## 3. 비동기 방식으로 하기 \n",
    "> form 안쓰면\n",
    "- 비동기방식으로 서버에 요청하지 않고\n",
    "- 클라이언트에서 처리 가능\n",
    "\n",
    "> html \n",
    "- '': 써도 되고 안써도 되지만 값임을 구분하기 위해 쓰기\n",
    "- name: name을 적어야 namevalue로 서버로 전송됨-> 어떤 것을 보낼지 말지 컨드롤\n",
    "- id: component를 구분하기 위함. 자바스크립트에서 변수값을 가져오기 위해 지정\n",
    "- 서버사이드에서는 name을 사용\n",
    "- 자바 스크립트에서는 id를 사용 => 관행상 name과 id를 같게 하기\n",
    "- value:  사용자 입력값.  default를 줄 수 있음.\n",
    "\n",
    "> JQuery\n",
    "- 자바 스크립트 상위 버전\n",
    "\n",
    "\n",
    "> 네트워크 함수\n",
    "- 클라이언트에서  함수를 호출해서 서버에 갔다오기\n",
    "- 함수로 http를 보내고 나서 그 아래 작업들은 계속 실행\n",
    "- (네이버에서 검색단어 입력해도 다른 작업들이 계속 실행되는 개념)\n",
    "- 코드 순서대로 실행되지 않음.\n",
    "\n",
    "> 렌더링\n",
    "- 데이터와 뷰를 바인딩\n",
    "- 클라이언트단에서 함수에 매핑헤서 서버에 보내기\n",
    "\n",
    "## <font color = 'red'> Ajax의 핵심</font>\n",
    "- 함수 call개념\n",
    "- 주고 받은 data를 html을 받는 것이 아니라 데이터로 받기(json파일)\n",
    "- 비동기 방식"
   ]
  },
  {
   "cell_type": "markdown",
   "metadata": {},
   "source": [
    "### 3.1. 자바스크립트로 처리하기"
   ]
  },
  {
   "cell_type": "code",
   "execution_count": null,
   "metadata": {},
   "outputs": [],
   "source": [
    "# calc.html\n",
    "'''\n",
    "<script>\n",
    "    op1= document.getElementById('op1');\n",
    "    op1.value = 20;\n",
    "    alert(op1.value);\n",
    "\n",
    "</script>\n",
    "\n",
    "'''"
   ]
  },
  {
   "cell_type": "markdown",
   "metadata": {},
   "source": [
    "### 3.2. JQuery로 클라이언트에서 처리하기"
   ]
  },
  {
   "cell_type": "code",
   "execution_count": null,
   "metadata": {},
   "outputs": [],
   "source": [
    "# 간단 개념\n",
    "'''\n",
    "<script>\n",
    "     $('#op1').val(40);\n",
    "     alert($(#op1).val());\n",
    "</script>\n",
    "'''"
   ]
  },
  {
   "cell_type": "code",
   "execution_count": null,
   "metadata": {},
   "outputs": [],
   "source": [
    "# calc.html\n",
    "'''\n",
    "<script>\n",
    "$(\"#btnCalc\").click(function() {\n",
    "        op1 = parseInt($('#op1').val());\n",
    "        op2 = parseInt($('#op2').val());\n",
    "        alert('ok!!!' + (op1 + op2));\n",
    "\n",
    "</script>\n",
    "\n",
    "'''"
   ]
  },
  {
   "cell_type": "markdown",
   "metadata": {},
   "source": [
    "### 3.3. JQuery로 클라이언트에서 처리하면서 get함수로 서버에서 처리하기"
   ]
  },
  {
   "cell_type": "code",
   "execution_count": null,
   "metadata": {},
   "outputs": [],
   "source": [
    "# calc.html\n",
    "'''\n",
    "<script>\n",
    "$(\"#btnCalc\").click(function() {\n",
    "        op1 = parseInt($('#op1').val());\n",
    "        op2 = parseInt($('#op2').val());\n",
    "        alert('ok!!!' + (op1 + op2));\n",
    "\n",
    "         var param = {op1: $('#op1').val(), op2: $('#op2').val()}\n",
    "         $.get('calc', param, function(data){\n",
    "              $('#result').val(data.result)\n",
    "          });\n",
    "\n",
    "\n",
    "    });\n",
    "</script>\n",
    "\n",
    "\n",
    "</script>\n",
    "\n",
    "\n",
    "'''"
   ]
  },
  {
   "cell_type": "code",
   "execution_count": null,
   "metadata": {},
   "outputs": [],
   "source": [
    "# view.py\n",
    "'''\n",
    "def calcForm(request):\n",
    "    return render(request, 'ajax/calc.html')\n",
    "\n",
    "\n",
    "# 실제 계산\n",
    "def calc(request):\n",
    "    op1 = int(request.GET('op1'))\n",
    "    op2 = int(request.GET('op2'))\n",
    "    result = op1 + op2\n",
    "    # return HttpResponse(f'result = {result}')\n",
    "\n",
    "    # data를 json형식으로 return하기-> dict이기 때문에 클라이언트가 인식 못함(문자열로 처리)\n",
    "    # return HttpResponse(\"{'result':\" + str(result) + '}') \n",
    "\n",
    "    # dict를 json으로 변환하는 함수 사용\n",
    "    # jsonResponse: 헤어정보로 json파임임을 명시\n",
    "    JsonResponse({'error': 0, 'result': result})\n",
    "    '''"
   ]
  },
  {
   "cell_type": "markdown",
   "metadata": {
    "ExecuteTime": {
     "end_time": "2020-02-14T06:12:32.498958Z",
     "start_time": "2020-02-14T06:12:32.494911Z"
    }
   },
   "source": [
    "## 3.4. alert 대신 디버깅 위해 consol.log사용\n",
    "## form은 동기식, 비동기식 상관 없음"
   ]
  },
  {
   "cell_type": "code",
   "execution_count": null,
   "metadata": {},
   "outputs": [],
   "source": []
  }
 ],
 "metadata": {
  "kernelspec": {
   "display_name": "Python 3",
   "language": "python",
   "name": "python3"
  },
  "language_info": {
   "codemirror_mode": {
    "name": "ipython",
    "version": 3
   },
   "file_extension": ".py",
   "mimetype": "text/x-python",
   "name": "python",
   "nbconvert_exporter": "python",
   "pygments_lexer": "ipython3",
   "version": "3.7.4"
  },
  "toc": {
   "base_numbering": 1,
   "nav_menu": {},
   "number_sections": false,
   "sideBar": true,
   "skip_h1_title": false,
   "title_cell": "Table of Contents",
   "title_sidebar": "Contents",
   "toc_cell": false,
   "toc_position": {},
   "toc_section_display": true,
   "toc_window_display": true
  },
  "varInspector": {
   "cols": {
    "lenName": 16,
    "lenType": 16,
    "lenVar": 40
   },
   "kernels_config": {
    "python": {
     "delete_cmd_postfix": "",
     "delete_cmd_prefix": "del ",
     "library": "var_list.py",
     "varRefreshCmd": "print(var_dic_list())"
    },
    "r": {
     "delete_cmd_postfix": ") ",
     "delete_cmd_prefix": "rm(",
     "library": "var_list.r",
     "varRefreshCmd": "cat(var_dic_list()) "
    }
   },
   "types_to_exclude": [
    "module",
    "function",
    "builtin_function_or_method",
    "instance",
    "_Feature"
   ],
   "window_display": false
  }
 },
 "nbformat": 4,
 "nbformat_minor": 2
}
