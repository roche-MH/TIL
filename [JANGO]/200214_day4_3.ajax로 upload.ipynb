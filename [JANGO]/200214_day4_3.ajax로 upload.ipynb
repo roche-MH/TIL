{
 "cells": [
  {
   "cell_type": "markdown",
   "metadata": {},
   "source": [
    "\n",
    "# 3. Ajax로 upload\n"
   ]
  },
  {
   "cell_type": "code",
   "execution_count": 2,
   "metadata": {
    "ExecuteTime": {
     "end_time": "2020-02-14T06:35:47.943879Z",
     "start_time": "2020-02-14T06:35:47.938891Z"
    }
   },
   "outputs": [
    {
     "data": {
      "text/plain": [
       "\"\\nurlpatterns = [\\n    path('', views.index),\\n    path('calcform', views.calcForm),\\n    path('calc', views.calc),\\n    path('login', view.login),\\n]\\n\""
      ]
     },
     "execution_count": 2,
     "metadata": {},
     "output_type": "execute_result"
    }
   ],
   "source": [
    "# urls.py\n",
    "'''\n",
    "from django.urls import path\n",
    "from . import views \n",
    "\n",
    "urlpatterns = [\n",
    "    path('', views.index),\n",
    "    path('calcform', views.calcForm),\n",
    "    path('calc', views.calc),\n",
    "\n",
    "    path('loginform', views.loginForm),\n",
    "    path('login', views.login),\n",
    "\n",
    "    path('dateform', views.dateForm),\n",
    "    path('date', views.date),\n",
    "\n",
    "    path('uploadform', views.uploadForm),\n",
    "    path('upload', views.upload),\n",
    "\n",
    "    path('runpythonform', views.runpythonForm),\n",
    "    path('runpython', views.runpython),\n",
    "]\n",
    "'''"
   ]
  },
  {
   "cell_type": "code",
   "execution_count": 3,
   "metadata": {
    "ExecuteTime": {
     "end_time": "2020-02-14T06:35:48.565555Z",
     "start_time": "2020-02-14T06:35:48.561520Z"
    }
   },
   "outputs": [
    {
     "data": {
      "text/plain": [
       "'\\n<script src=\"http://code.jquery.com/jquery-1.11.3.min.js\"></script>\\n <script src=\"http://code.jquery.com/jquery-migrate-1.2.1.min.js\"></script>\\n\\n아이디 <input type= text name = id id = \\'id\\' value = \\'123\\'><br>\\n암호 <input type = text name = pwd id = \\'pwd\\' value = \\'123\\'><br>\\n<button id = \\'btnCalc\\'>로그인</button>\\n\\n\\n<script>\\n    $(\"#btnCalc\").click(function() {\\n        id = $(\\'#id\\').val();\\n        pwd = $(\\'#pwd\\').val();\\n        alert(id + \\'님 로그인중!!!\\' );\\n\\n       \\n        var param = {id: $(\\'#id\\').val(), pwd: $(\\'#pwd\\').val()};\\n        $.get(\\'/ajax/login\\', param, function(data){\\n            console.log(JSON.stringify(data));\\n            if (data.error == 0) location.href = \\'/ajax\\' ;\\n            else {\\n                //  커서가 id를 입력할 수 있도록 이동\\n                $(\\'#id\\').focus();\\n                $(\"#id\").val(\\'\\');\\n                $(\\'#pwd\\').val(\\'\\');\\n                alert(data.message);\\n            }\\n        });\\n\\n    });\\n</script>\\n\\n\\n'"
      ]
     },
     "execution_count": 3,
     "metadata": {},
     "output_type": "execute_result"
    }
   ],
   "source": [
    "#login.html\n",
    "'''\n",
    "\n",
    "<html>\n",
    "<head>\n",
    "  <meta charset=\"utf-8\">\n",
    "  <meta name=\"viewport\" content=\"width=device-width, initial-scale=1.0\">\n",
    "</head>\n",
    "\n",
    "<style>\n",
    "  .progress { position:relative; width:400px; border: 1px solid #ddd; padding: 1px; border-radius: 3px; }\n",
    "  .bar { background-color: #ff0000; width:0%; height:20px; border-radius: 15px; }\n",
    "  .percent { position:absolute; display:inline-block; top:3px; left:48%; }\n",
    "</style>\n",
    "\n",
    "<script src=\"https://code.jquery.com/jquery-3.3.1.min.js\"></script>\n",
    "<script src=\"http://malsup.github.com/jquery.form.js\"></script>\n",
    "\n",
    "\n",
    "<form action=\"upload\" enctype=\"multipart/form-data\" method=\"POST\">\n",
    "    {% csrf_token %}\n",
    "      <input name=\"title\" value=\"테스트1\"/>\n",
    "      <input name=\"contents\" value=\"테스트 자료입니다.\"/>\n",
    "      <input type=\"file\" name=\"file1\"/>\n",
    "      <input type=\"submit\" value=\"upload\">\n",
    "</form>\n",
    "\n",
    "<div class=\"progress\">\n",
    "    <div class=\"bar\" ></div>\n",
    "    <div class=\"percent\">0%</div>\n",
    "</div>\n",
    "\n",
    "\n",
    "<div id=\"status\"></div>\n",
    "\n",
    "\n",
    "<script>\n",
    "$(function() {\n",
    "    var bar = $('div div.bar');\n",
    "    var percent = $('.percent');\n",
    "    var status = $('#status');\n",
    "    $('form').ajaxForm({\n",
    "        beforeSend: function() {\n",
    "            status.empty();\n",
    "            var percentVal = '0%';\n",
    "            bar.width(percentVal);\n",
    "            percent.html(percentVal);\n",
    "        },\n",
    "        uploadProgress: function(event, position, total, percentComplete) {\n",
    "            var percentVal = percentComplete + '%';\n",
    "            bar.width(percentVal);\n",
    "            percent.html(percentVal);\n",
    "        },\n",
    "        complete: function(xhr) {\n",
    "           status.html(xhr.responseText)\n",
    "        },\n",
    "       error:function(e){\n",
    "          status.html(\"실패\")\n",
    "       }\n",
    "    });\n",
    "});\n",
    "\n",
    " </script>\n",
    "\n",
    "\n",
    "\n",
    "\n",
    "'''"
   ]
  },
  {
   "cell_type": "code",
   "execution_count": 4,
   "metadata": {
    "ExecuteTime": {
     "end_time": "2020-02-14T06:35:50.334827Z",
     "start_time": "2020-02-14T06:35:50.328888Z"
    }
   },
   "outputs": [
    {
     "ename": "SyntaxError",
     "evalue": "EOF while scanning triple-quoted string literal (<ipython-input-4-43b1ed7768eb>, line 13)",
     "output_type": "error",
     "traceback": [
      "\u001b[1;36m  File \u001b[1;32m\"<ipython-input-4-43b1ed7768eb>\"\u001b[1;36m, line \u001b[1;32m13\u001b[0m\n\u001b[1;33m    '''\u001b[0m\n\u001b[1;37m       ^\u001b[0m\n\u001b[1;31mSyntaxError\u001b[0m\u001b[1;31m:\u001b[0m EOF while scanning triple-quoted string literal\n"
     ]
    }
   ],
   "source": [
    "#views.py\n",
    "'''\n",
    "def uploadForm(request) :\n",
    "    return render(request, \"ajax/upload.html\")\n",
    "\n",
    "def upload(request) :\n",
    "    file = request.FILES['file1']\n",
    "    filename = file._name\n",
    "    fp = open(settings.BASE_DIR + \"/static/\" + filename, \"wb\")\n",
    "    for chunk in file.chunks() :\n",
    "        fp.write(chunk)\n",
    "    fp.close()\n",
    "    return HttpResponse(\"upload~\")\n",
    "'''"
   ]
  },
  {
   "cell_type": "code",
   "execution_count": null,
   "metadata": {},
   "outputs": [],
   "source": []
  }
 ],
 "metadata": {
  "kernelspec": {
   "display_name": "Python 3",
   "language": "python",
   "name": "python3"
  },
  "language_info": {
   "codemirror_mode": {
    "name": "ipython",
    "version": 3
   },
   "file_extension": ".py",
   "mimetype": "text/x-python",
   "name": "python",
   "nbconvert_exporter": "python",
   "pygments_lexer": "ipython3",
   "version": "3.7.4"
  },
  "toc": {
   "base_numbering": 1,
   "nav_menu": {},
   "number_sections": false,
   "sideBar": true,
   "skip_h1_title": false,
   "title_cell": "Table of Contents",
   "title_sidebar": "Contents",
   "toc_cell": false,
   "toc_position": {},
   "toc_section_display": true,
   "toc_window_display": false
  },
  "varInspector": {
   "cols": {
    "lenName": 16,
    "lenType": 16,
    "lenVar": 40
   },
   "kernels_config": {
    "python": {
     "delete_cmd_postfix": "",
     "delete_cmd_prefix": "del ",
     "library": "var_list.py",
     "varRefreshCmd": "print(var_dic_list())"
    },
    "r": {
     "delete_cmd_postfix": ") ",
     "delete_cmd_prefix": "rm(",
     "library": "var_list.r",
     "varRefreshCmd": "cat(var_dic_list()) "
    }
   },
   "types_to_exclude": [
    "module",
    "function",
    "builtin_function_or_method",
    "instance",
    "_Feature"
   ],
   "window_display": false
  }
 },
 "nbformat": 4,
 "nbformat_minor": 2
}
