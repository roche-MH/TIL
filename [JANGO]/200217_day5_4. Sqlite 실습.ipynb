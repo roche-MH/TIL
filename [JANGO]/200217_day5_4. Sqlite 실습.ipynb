{
 "cells": [
  {
   "cell_type": "markdown",
   "metadata": {},
   "source": [
    "# 1. DB내용 통째로 보여주기"
   ]
  },
  {
   "cell_type": "code",
   "execution_count": null,
   "metadata": {},
   "outputs": [],
   "source": [
    "## views.py\n",
    "\n",
    "'''\n",
    "from myapp.models import User\n",
    "\n",
    "def listUser(request):\n",
    "    return render(request, 'template2.html', {'data': User.objects.all()})\n",
    "'''"
   ]
  },
  {
   "cell_type": "code",
   "execution_count": null,
   "metadata": {},
   "outputs": [],
   "source": [
    "# template2.html\n",
    "\n",
    "'''\n",
    "<!DOCTYPE html>\n",
    "<html>\n",
    "<head>\n",
    "  <meta charset=\"utf-8\">\n",
    "  <meta name=\"viewport\" content=\"width=device-width\">\n",
    "  <title>Django Start</title>\n",
    "</head>\n",
    "<body>\n",
    "\n",
    "\n",
    "    <h1>야호!!! Django도 재밌구만!</h1>\n",
    "    <h1> 받은 메시지: {{s.img}} </h1>\n",
    "\n",
    "    {% for  d in data %}\n",
    "\n",
    "        이름{{d.name}}  age{{d.age}} <br>\n",
    "\n",
    "    {% endfor %}\n",
    "\n",
    "\n",
    "</body>\n",
    "</html>\n",
    "\n",
    "'''"
   ]
  },
  {
   "cell_type": "code",
   "execution_count": null,
   "metadata": {},
   "outputs": [],
   "source": [
    "# urls.py\n",
    "'''\n",
    "\n",
    "from django.urls import path\n",
    "from . import views  # current 폴더에 있는 views.py import\n",
    "\n",
    "# 우리가 만든 app을 정의해야 함.\n",
    "# 어플리케이션이 추가될 때마다 추가해야 함.\n",
    "urlpatterns = [\n",
    "    # root url이 요청되면 \n",
    "    # current 폴더에 있는 view.py 파일에 있는 index 함수를 실행하기\n",
    "    path('', views.index),\n",
    "    path('test', views.test),\n",
    "    path('login2', views.login2),\n",
    "    path('login', views.login),\n",
    "    path('service', views.service),\n",
    "    path('loginout', views.loginout),\n",
    "    path('uploadimage', views.uploadimage),\n",
    "    path('listuser', views.listuser),\n",
    "\n",
    "]\n",
    "\n",
    "'''"
   ]
  },
  {
   "cell_type": "markdown",
   "metadata": {},
   "source": [
    "# 2. 검색기능 구현하기 "
   ]
  },
  {
   "cell_type": "code",
   "execution_count": null,
   "metadata": {},
   "outputs": [],
   "source": [
    "#template2.html\n",
    "'''\n",
    "<body>\n",
    "\n",
    "\n",
    "    <h1>야호!!! Django도 재밌구만!</h1>\n",
    "    <h1> 받은 메시지: {{s.img}} </h1>\n",
    "\n",
    "    {% for  d in data %}\n",
    "\n",
    "        이름{{d.name}}  age{{d.age}} <br>\n",
    "\n",
    "    {% endfor %}\n",
    "\n",
    "     <!-- 별도의 url이 아닌 자기 자신 호출 -->\n",
    "    <form action=''>\n",
    "        <input type = test id = 'q' name = 'q'>\n",
    "        <input type=\"submit\" id = 'bnt' value = 'search'> \n",
    "    </form>\n",
    "\n",
    "'''"
   ]
  },
  {
   "cell_type": "code",
   "execution_count": null,
   "metadata": {},
   "outputs": [],
   "source": [
    "# views.py\n",
    "'''\n",
    "def listuser(request):\n",
    "    q = request.GET.get('q', '')\n",
    "    if q == '':\n",
    "        data = User.objects.all()\n",
    "    else:\n",
    "        data = User.objects.all().filter(name__contains = q)\n",
    "\n",
    "    return render(request, 'template2.html', {'data': data})\n",
    "\n",
    "'''"
   ]
  },
  {
   "cell_type": "markdown",
   "metadata": {},
   "source": [
    "# 3. blog db 만들기"
   ]
  },
  {
   "cell_type": "markdown",
   "metadata": {},
   "source": [
    "### 하나의 url을 사용하기 위해서 \n",
    "- get: 입력 받기\n",
    "- post:  출력, 처리 용도로 사용 -> 처리한 후, 보통 다른 페이지로 연결"
   ]
  },
  {
   "cell_type": "code",
   "execution_count": null,
   "metadata": {},
   "outputs": [],
   "source": [
    "# templates1.html\n",
    "'''\n",
    "<body>\n",
    "\n",
    "\n",
    "    <h1>야호!!! Django도 재밌구만!</h1>\n",
    "    <h1> 받은 메시지: {{s.img}} </h1>\n",
    "\n",
    "    {% for  d in data %}\n",
    "\n",
    "        이름{{d.name}}  age{{d.age}} <br>\n",
    "\n",
    "    {% endfor %}\n",
    "\n",
    "     <!-- 별도의 url이 아닌 자기 자신 호출할 때는 안써도 됨-->\n",
    "    <form action=''>\n",
    "        <input type = test id = 'q' name = 'q'>\n",
    "        <input type=\"submit\" id = 'bnt' value = 'search'> \n",
    "    </form>\n",
    "\n",
    "\n",
    "    <!-- 하나의 url로 처리하기 위해서\n",
    "    get방식으로 입력받고, post 방식으로 처리하기\n",
    "    post 방식에는 넣어주기 -->\n",
    "    <form action=\"listuser\" method = 'post'>\n",
    "        <input type=\"text\" name = 'Userid'>\n",
    "        <input type=\"text\" name = 'Name'>\n",
    "        <input type=\"text\" name = 'Age'>\n",
    "        <input type=\"text\" name = 'Hobby'>\n",
    "        <input type=\"submit\" value = '+'>\n",
    "    </form>\n",
    "\n",
    "</body>\n",
    "'''"
   ]
  },
  {
   "cell_type": "markdown",
   "metadata": {},
   "source": [
    "# 4. delete"
   ]
  },
  {
   "cell_type": "code",
   "execution_count": null,
   "metadata": {},
   "outputs": [],
   "source": [
    "# view.py\n",
    "'''\n",
    "def listuser(request):\n",
    "    # return render(request, 'template3.html', {'data': User.objects.all()})\n",
    "     \n",
    "    if request.method == 'GET': \n",
    "        userid = request.Get.get('userid','')\n",
    "        if userid != \"\":\n",
    "            User.bojects.all().get(serid = userid).delete()\n",
    "            return redirect('/listuser')\n",
    "        \n",
    "        q = request.GET.get('q', '')\n",
    "        data = User.objects.all()\n",
    "\n",
    "        if q != '' :\n",
    "            data = User.objects.all().filter(name__contains = q)\n",
    "        return render(request, 'template2.html', {'data': data})\n",
    "    else:\n",
    "        Userid = request.POST.get('Userid')\n",
    "        Name = request.POST.get('Name')\n",
    "        Age = int(request.POST.get('Age'))\n",
    "        Hobby = request.POST.get('Hobby')\n",
    "\n",
    "        user = User(userid = Userid, name = Name, age = Age, hobby = Hobby)\n",
    "        user.save()\n",
    "\n",
    "        return redirect('/listuser')\n",
    "\n",
    "'''"
   ]
  },
  {
   "cell_type": "code",
   "execution_count": 1,
   "metadata": {
    "ExecuteTime": {
     "end_time": "2020-02-17T08:58:57.973240Z",
     "start_time": "2020-02-17T08:58:57.965262Z"
    }
   },
   "outputs": [
    {
     "data": {
      "text/plain": [
       "'\\n<div id=ordinary>\\n    <h1>야호!!! Django도 재밌구만!</h1>\\n    <h1> 원래  데이터 베이스! {{s.img}} </h1>\\n    user List<button id = \\'add\\' >+</button><br>\\n    {% for  d in data %}\\n\\n        이름{{d.name}}  age{{d.age}} <a href=\"listuser?userid={{d.userid}}\">삭제</a> <br>\\n\\n    {% endfor %}\\n</div>\\n'"
      ]
     },
     "execution_count": 1,
     "metadata": {},
     "output_type": "execute_result"
    }
   ],
   "source": [
    "# html\n",
    "'''\n",
    "<div id=ordinary>\n",
    "    <h1>야호!!! Django도 재밌구만!</h1>\n",
    "    <h1> 원래  데이터 베이스! {{s.img}} </h1>\n",
    "    user List<button id = 'add' >+</button><br>\n",
    "    {% for  d in data %}\n",
    "\n",
    "        이름{{d.name}}  age{{d.age}} <a href=\"listuser?userid={{d.userid}}\">삭제</a> <br>\n",
    "\n",
    "    {% endfor %}\n",
    "</div>\n",
    "'''"
   ]
  },
  {
   "cell_type": "code",
   "execution_count": null,
   "metadata": {},
   "outputs": [],
   "source": []
  }
 ],
 "metadata": {
  "kernelspec": {
   "display_name": "Python 3",
   "language": "python",
   "name": "python3"
  },
  "language_info": {
   "codemirror_mode": {
    "name": "ipython",
    "version": 3
   },
   "file_extension": ".py",
   "mimetype": "text/x-python",
   "name": "python",
   "nbconvert_exporter": "python",
   "pygments_lexer": "ipython3",
   "version": "3.6.10"
  },
  "toc": {
   "base_numbering": 1,
   "nav_menu": {},
   "number_sections": false,
   "sideBar": true,
   "skip_h1_title": false,
   "title_cell": "Table of Contents",
   "title_sidebar": "Contents",
   "toc_cell": false,
   "toc_position": {},
   "toc_section_display": true,
   "toc_window_display": true
  },
  "varInspector": {
   "cols": {
    "lenName": 16,
    "lenType": 16,
    "lenVar": 40
   },
   "kernels_config": {
    "python": {
     "delete_cmd_postfix": "",
     "delete_cmd_prefix": "del ",
     "library": "var_list.py",
     "varRefreshCmd": "print(var_dic_list())"
    },
    "r": {
     "delete_cmd_postfix": ") ",
     "delete_cmd_prefix": "rm(",
     "library": "var_list.r",
     "varRefreshCmd": "cat(var_dic_list()) "
    }
   },
   "types_to_exclude": [
    "module",
    "function",
    "builtin_function_or_method",
    "instance",
    "_Feature"
   ],
   "window_display": false
  }
 },
 "nbformat": 4,
 "nbformat_minor": 2
}
