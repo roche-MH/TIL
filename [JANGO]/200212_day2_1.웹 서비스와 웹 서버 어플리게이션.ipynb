{
 "cells": [
  {
   "cell_type": "markdown",
   "metadata": {},
   "source": [
    "# 1. 웹 서비스\n",
    "\n",
    "- 웹 클라이언트로부터 전송되어 오는 서비스 요청에 대한 결과인 html문서를 해당 웹 클라이언트에 제공\n",
    "- 가장 대표적으로 아파치 서버 이용\n",
    "\n",
    "# HTML\n",
    "- 클라이언트와 서버 사이에 이루어지는 요청/응답 프로토콜\n",
    "\n",
    "\n",
    "> 포트번호\n",
    "- 포트번호를 모르면 어디를 리스닝해야 할지 모름\n",
    "- 브라우저: 80번 -> 웹 서버: 80번\n",
    "- 데이터를 보내면 소켓 접속을 끊어버림.\n",
    "\n",
    "> 소켓: stateless\n",
    "- 채팅: 지속적으로 소켓연결을 유지함\n",
    "- 일반적으로는 데이터 보내고 끊어버림\n",
    "\n",
    "## 1. Http method\n",
    "- 데이터를 전송하는 방법\n",
    "> get\n",
    "- url을 통해 data 전송\n",
    "- 전송할 수 있는 data크기가 한계가 있음.\n",
    "\n",
    "\n",
    "> post\n",
    "- body를 통해 data 전송\n",
    "- head와 body구분: 빈줄\n",
    "\n",
    "## 2. HTML\n",
    "- 하이퍼링크로 서로 연결시킬 수 있는 무서의 구조\n",
    "- 참조(하이퍼링크)를 통해 한 문서에서 다른 문서로 즉시 접근할 수 있는 텍스트\n",
    "- hyper: 초월, 과도한-> 다른 문서로 뛰어넘는\n",
    "- 핵심 태그: <a href> </a>\n",
    "\n",
    "> 문서의 구조\n",
    "- 기존 문서: 순차적, 서열적, 트리구조, 그리드\n",
    "- 하이퍼텍스트: 연관된 문서들을 어떠한 행위(클릭)에 따라 자유롭게 이동\n",
    "- 검색 엔진과 더불어 정보습득의 새로운 장을 인류에게 가져다 줌 -> 거미줄 구조\n",
    "\n",
    "\n",
    "> 태그\n",
    "- opening tag: 텍스트가 없는 tag들\n",
    "- closing tag: 텍스트가 있는 tag\n",
    "- XHTML: <img>가 아닌 <img/> 사용-> rm 파일 들\n",
    "\n",
    "## 3. HTML(data)과 CSS(view)\n",
    "> 1. 명확성\n",
    "- 명확한 코드로 코드 자체를 좀더 엄격하제 제어\n",
    "- 논리적으로 명확한 구조와 코드의 엄격한 제어\n",
    "\n",
    "> 2. 확장성\n",
    "- 다양한 접속환경(운영체제, 브라우저, 미디어)\n",
    "- 구조에 관계없이 표현부분만 별도의 CSS로 분리하여 각 브라우저별 미디어별로 사용\n",
    "\n",
    "> 3. 유지보수 명의성\n",
    "- 명확하게 분리되어 있기 때문에 수정, 유지보수가 편리\n"
   ]
  },
  {
   "cell_type": "code",
   "execution_count": null,
   "metadata": {},
   "outputs": [],
   "source": [
    "### 모바일 지원 HTML\n",
    "> 모바일 viewport 지원\n",
    "- head에 사용\n",
    "- <meta name = 'viewport' content = 'width=divice-width, initial-scale= 1.0'>\n",
    "\n",
    "> 모바일 camera 지원\n",
    "- <input type = 'file' name = 'file1' accept = 'imga/*' capture='camera'/>"
   ]
  },
  {
   "cell_type": "markdown",
   "metadata": {},
   "source": [
    "# 2. 웹 서버 어플리케이션\n",
    "- 웹을 기반으로 서버에서 실행되는 프로그램\n",
    "\n",
    "> 파이썬에서 제공하는 웹서버 방법\n",
    "> 기본 웹 서버\n",
    "- pythn -m http.server 9000\n",
    "> 스크립트기반 웹 서버\n",
    "- SimporHTTPServer 모듈\n",
    "\n",
    "> 웹 프레임워크 기반 웹 서버\n",
    "- 플라스크: 경량 웹 서버\n",
    "- 장고: mvc 기반의 웹 서버\n",
    "\n",
    "# 플라스크\n",
    "> 폴더 기본 구조\n",
    "- 루트 폴더: app\n",
    ">> 정적 파일 폴더: app/ static\n",
    "- 하위에 css, img, js 폴더\n",
    ">> 템플릿 폴더: app/ templates -> 사용자는 알수 없는 파일\n",
    "- templates: html파일 \n",
    "- routes.py, \n",
    "- README.md"
   ]
  },
  {
   "cell_type": "markdown",
   "metadata": {
    "variables": {
     "변수": "<p><strong>NameError</strong>: name &#39;변수&#39; is not defined</p>\n"
    }
   },
   "source": [
    "## 1. template 기반 플라스크\n",
    "\n",
    "#### 변수 공유\n",
    "- {{변수}} 표현을 사용해 python의 객체 접근\n",
    "- return render_template('home.html', name = 'home')\n",
    "- 어제 한거에서 @변수 와 같음 ({{변수}})\n",
    "- 보통은 딕셔러니로 법근\n",
    "\n",
    "#### 지시어 for : 반복문\n",
    "- html내에서 {%for%}, {% endfor %}사용해 반복 처리\n",
    "- 동적인 변수 사용\n",
    "\n",
    "\n"
   ]
  },
  {
   "cell_type": "markdown",
   "metadata": {},
   "source": [
    "### 1.1.  기본 text 출력"
   ]
  },
  {
   "cell_type": "code",
   "execution_count": null,
   "metadata": {},
   "outputs": [],
   "source": [
    "# web.py\n",
    "'''\n",
    "\n",
    "from flask import Flask, render_template\n",
    "\n",
    "app = Flask(__name__)\n",
    "\n",
    "@app.route('/')\n",
    "def home():\n",
    "    return rendor_template('home.html', title = 'my home page')\n",
    "\n",
    "\n",
    "\n",
    "if __name__ =='__main__':\n",
    "    app.run(host ='0.0.0.0', port = 300)\n",
    "'''"
   ]
  },
  {
   "cell_type": "code",
   "execution_count": null,
   "metadata": {},
   "outputs": [],
   "source": [
    "# static > home.html\n",
    "'''\n",
    "<html>\n",
    "    <head>\n",
    "\n",
    "    </head>\n",
    "    <body>\n",
    "        <font color= 'red'><h1>{{title}}</h1></font>\n",
    "    </body>\n",
    "</html>\n",
    "'''"
   ]
  },
  {
   "cell_type": "markdown",
   "metadata": {},
   "source": [
    "### 1.2. 이미지 list출력\n",
    "\n",
    "> 이미지가 몇개 있을지 모르므로\n",
    "- for문으로 사용\n",
    "- 이미지 정렬을 위해 table tag 사용"
   ]
  },
  {
   "cell_type": "code",
   "execution_count": null,
   "metadata": {},
   "outputs": [],
   "source": [
    "# web.py\n",
    "'''\n",
    "@app.route('/image')\n",
    "def image():\n",
    "    listData = ['img1.jpg','img2.jpg','img3.jpg']\n",
    "\n",
    "    # render-template(참고할 html문서, html문서 변수명 = py파일의 변수명)\n",
    "    return render_template('image.html', listData = listData)\n",
    "'''"
   ]
  },
  {
   "cell_type": "code",
   "execution_count": null,
   "metadata": {},
   "outputs": [],
   "source": [
    "# static > image.html\n",
    "'''\n",
    "<div>\n",
    "            <table>\n",
    "                {% for s in listData %}\n",
    "                <tr>\n",
    "                    <td><img src=\"/static/{{s}}\" width = 100></td>\n",
    "                    http://127.0.0.1:300/static/img1.jpg\n",
    "                </tr>\n",
    "                {% endfor %}\n",
    "            </table>\n",
    "        </div>\n",
    "'''"
   ]
  },
  {
   "cell_type": "markdown",
   "metadata": {},
   "source": [
    "### 1.3. img, title 함께 보내기 -> dic 이용"
   ]
  },
  {
   "cell_type": "code",
   "execution_count": null,
   "metadata": {},
   "outputs": [],
   "source": [
    "# static > image.html\n",
    "\n",
    "'''\n",
    "<div>\n",
    "            <table>\n",
    "                {% for s in listData %}\n",
    "                <tr>\n",
    "                    <td><img src=\"/static/{{s.img}}\" width = 100></td>\n",
    "                    <td><h3>{{s.title}}</h3></td>\n",
    "\n",
    "                </tr>\n",
    "                {% endfor %}\n",
    "            </table>\n",
    "        </div>\n",
    "        '''"
   ]
  },
  {
   "cell_type": "code",
   "execution_count": null,
   "metadata": {},
   "outputs": [],
   "source": [
    "'''\n",
    "@app.route('/image')\n",
    "def image():\n",
    "    listData=[{'img':'img1.jpg', 'title': 'notebook'},\n",
    "                {'img':'img2.jpg', 'title': 'people'},\n",
    "                {'img':'img3.jpg', 'title': 'desk'}]\n",
    "    \n",
    "    print(listData)\n",
    "    # render-template(참고할 html문서, html문서 변수명 = py파일의 변수명)\n",
    "    return render_template('image.html', listData = listData) \n",
    "'''"
   ]
  },
  {
   "cell_type": "markdown",
   "metadata": {},
   "source": [
    "## 1.4. 클릭하면 큰 이미지가 나오게 하기\n",
    "\n",
    "- 별도의 view page 필요"
   ]
  },
  {
   "cell_type": "code",
   "execution_count": null,
   "metadata": {},
   "outputs": [],
   "source": [
    "# view.html\n",
    "'''\n",
    "<!DOCTYPE html>\n",
    "\n",
    "<html>\n",
    "    <head>\n",
    "        <meta charset=\"utf-8\">\n",
    "        <meta name=\"viewport\" content=\"width=device-width\">\n",
    "        <title>image view</title>\n",
    "        \n",
    "        </style>\n",
    "    </head>\n",
    "    <body>\n",
    "        <font size = 20>{{s.title}}</font>\n",
    "        <br>\n",
    "        <img src=\"/static/{{s.img}}\" width = 100px>\n",
    "        <br>\n",
    "        <a href=/image> 목록으로 </a>\n",
    "    </body>\n",
    "</html>\n",
    "'''"
   ]
  },
  {
   "cell_type": "code",
   "execution_count": null,
   "metadata": {},
   "outputs": [],
   "source": [
    "#image.html\n",
    "'''\n",
    "<div>\n",
    "            <table>\n",
    "                {% for s in listData %}\n",
    "                <tr>\n",
    "                    <td>\n",
    "                        <a href=/view?id={{s.id}}>\n",
    "                        <img src=\"/static/{{s.img}}\" width = 30>\n",
    "                        </a>\n",
    "                    </td>\n",
    "                    <td><h4>{{s.title}}</h4></td>\n",
    "\n",
    "                </tr>\n",
    "                {% endfor %}\n",
    "            </table>\n",
    "        </div>\n",
    "    '''"
   ]
  },
  {
   "cell_type": "code",
   "execution_count": null,
   "metadata": {},
   "outputs": [],
   "source": [
    "# web.py\n",
    "''\n",
    "'# /view?id=id로 실행\n",
    "@app.route('/view')\n",
    "def view():\n",
    "    id =request.args.get('id')\n",
    "    return render_template('view.html', s = listData[int(id)]) \n",
    "    '''"
   ]
  },
  {
   "cell_type": "markdown",
   "metadata": {},
   "source": [
    "## 1.5. file upload\n",
    "\n",
    "> html\n",
    "- 사용자가 어떤 파일을 선택할지 인터페이스만 제공"
   ]
  },
  {
   "cell_type": "code",
   "execution_count": null,
   "metadata": {},
   "outputs": [],
   "source": [
    "#image.html\n",
    "'''\n",
    "<div id = 'upload'>\n",
    "             <form action=\"/fileUpload\" method = 'POST' enctype=\"multipart/form-data\">\n",
    "                <input type=\"file\" name = 'file1'>\n",
    "                <br>\n",
    "                제목: <input type=\"text\" name = title>\n",
    "                <input type='submit' value = '전송'/>\n",
    "            \n",
    "            \n",
    "            </form>   \n",
    "        </div>\n",
    "        '''"
   ]
  },
  {
   "cell_type": "code",
   "execution_count": null,
   "metadata": {},
   "outputs": [],
   "source": [
    "# web.py\n",
    "'''\n",
    "@app.route('/fileUpload', methods = ['POST'])\n",
    "def fileUpload():\n",
    "    if request.method=='POST':\n",
    "        f = request.files['file1']\n",
    "        # post 방식\n",
    "        title = request.form.get('title')\n",
    "        # 물리적인 폴더 경로 입력\n",
    "        \n",
    "        f.save('./static/' + f.filename)\n",
    "        listData.append({'id': id, 'img': f.filename,'title': title})\n",
    "        print(listData)\n",
    "        return f'파일 \"{title}\" 업로드 성공 <br><img src=/static/{f.filename}>'\n",
    "'''"
   ]
  },
  {
   "cell_type": "markdown",
   "metadata": {},
   "source": [
    "## 1.6. ngrok에서 실행\n",
    "- ngrok http 3000\n",
    "\n",
    "> 브라우저에서\n",
    "- https://c9538869.ngrok.io\n",
    "- https://08fbda89.ngrok.io/image\n",
    "\n"
   ]
  },
  {
   "cell_type": "markdown",
   "metadata": {},
   "source": [
    "## 1.7. file upload 후 성공 메시지 -> 몇 초 후 다시 목록으로 돌아가게\n",
    "\n",
    "> 서버에서 처리하지 않음.\n",
    "- 클라이언트에서 자바 스크립트로처리!\n",
    "\n"
   ]
  },
  {
   "cell_type": "code",
   "execution_count": null,
   "metadata": {},
   "outputs": [],
   "source": [
    "# upload.html\n",
    "'''\n",
    "<script>\n",
    "    alert(\"업로드가 성공했습니다\")\n",
    "</script>\n",
    "\n",
    "ok~~~\n",
    "\n",
    "'''\n",
    "# popup으로 '업로드가 성공했습니다'가 나오고\n",
    "# 화면에는 ok~~~가 나옴"
   ]
  },
  {
   "cell_type": "code",
   "execution_count": null,
   "metadata": {},
   "outputs": [],
   "source": [
    "#web.py\n",
    "'''\n",
    "@app.route('/fileUpload', methods = ['POST'])\n",
    "def fileUpload():\n",
    "    if request.method=='POST':\n",
    "        f = request.files['file1']\n",
    "        # post 방식\n",
    "        title = request.form.get('title')\n",
    "        # 물리적인 폴더 경로 입력\n",
    "        \n",
    "        f.save('./static/' + f.filename)\n",
    "        listData.append({'id': len(listData), 'img': f.filename,'title': title})\n",
    "        # return f'파일 \"{title}\" 업로드 성공 <br><img src=/static/{f.filename}>'\n",
    "\n",
    "        html = '''\n",
    "        <script>\n",
    "            alert(\"업로드가 성공했습니다\")\n",
    "\n",
    "            window.loaction.href = '/image'\n",
    "        </script>\n",
    "        '''\n",
    "        return html\n",
    "        \n",
    "    '''"
   ]
  },
  {
   "cell_type": "markdown",
   "metadata": {},
   "source": [
    "> 실행 순서\n",
    "- return을 하고 나서 브라우저가 해석하면서 자바스크립트를 실행\n",
    "- 이미 서버와의 접속을 끊어진 상태임."
   ]
  },
  {
   "cell_type": "markdown",
   "metadata": {},
   "source": [
    "## 1.8. go url 함수로 만들기"
   ]
  },
  {
   "cell_type": "code",
   "execution_count": null,
   "metadata": {},
   "outputs": [],
   "source": [
    "#web.py\n",
    "def goURL(msg, url):\n",
    "    html = '''\n",
    "            <script>\n",
    "                alert(\"@msg\");\n",
    "                window.location.href = '@url';\n",
    "            </script>\n",
    "            '''\n",
    "    html = html.replace('@msg', msg)\n",
    "    html = html.replace('@url', url)\n",
    "    return html\n",
    "\n",
    "\n",
    "@app.route('/fileUpload', methods = ['POST'])\n",
    "def fileUpload():\n",
    "    if request.method=='POST':\n",
    "        f = request.files['file1']\n",
    "        # post 방식\n",
    "        title = request.form.get('title')\n",
    "        # 물리적인 폴더 경로 입력\n",
    "        \n",
    "        f.save('./static/' + f.filename)\n",
    "        listData.append({'id': len(listData), 'img': f.filename,'title': title})\n",
    "        print(listData)\n",
    "        # return f'파일 \"{title}\" 업로드 성공 <br><img src=/static/{f.filename}>'\n",
    "        return goURL('업로드가 성공했습니다', '/image')"
   ]
  },
  {
   "cell_type": "markdown",
   "metadata": {},
   "source": [
    "## 1.9. 이미지 지우기"
   ]
  },
  {
   "cell_type": "markdown",
   "metadata": {},
   "source": [
    "### 지우도록 하는 인터페이스\n",
    "- html에서 delete 버튼(하이퍼 링크) 만들고\n",
    "- web.py파일에서 처리"
   ]
  },
  {
   "cell_type": "code",
   "execution_count": null,
   "metadata": {},
   "outputs": [],
   "source": [
    "# image.py\n",
    "'''\n",
    "<div>\n",
    "            <table>\n",
    "                {% for s in listData %}\n",
    "                <tr>\n",
    "                    <td>\n",
    "                        <a href=/view?id={{s.id}}>\n",
    "                        <img src=\"/static/{{s.img}}\" width = 200>\n",
    "                        </a>\n",
    "                    </td>\n",
    "                    <td><h4>{{s.title}}</h4></td>\n",
    "                    <td><a href=\"/deleteImage?id={{s.id}}\">delete</a></td>\n",
    "                </tr>\n",
    "                {% endfor %}\n",
    "            </table>\n",
    "        </div>\n",
    "        '''"
   ]
  },
  {
   "cell_type": "code",
   "execution_count": null,
   "metadata": {},
   "outputs": [],
   "source": [
    "# web.py\n",
    "'''\n",
    "@app.route('/deleteImage') # delete?id = 0\n",
    "def deleteImage():\n",
    "    idx = -1\n",
    "    id =int(request.args.get('id'))\n",
    "    for i in range(len(listData)):\n",
    "        if id == listData[i]['id']\n",
    "            idx = i\n",
    "        if idx >= 0: del listData[idx]\n",
    "    return goURL('이미지가 삭제되었습니다', '/image')'''"
   ]
  }
 ],
 "metadata": {
  "kernelspec": {
   "display_name": "Python 3",
   "language": "python",
   "name": "python3"
  },
  "language_info": {
   "codemirror_mode": {
    "name": "ipython",
    "version": 3
   },
   "file_extension": ".py",
   "mimetype": "text/x-python",
   "name": "python",
   "nbconvert_exporter": "python",
   "pygments_lexer": "ipython3",
   "version": "3.7.5"
  },
  "toc": {
   "base_numbering": 1,
   "nav_menu": {},
   "number_sections": false,
   "sideBar": true,
   "skip_h1_title": false,
   "title_cell": "Table of Contents",
   "title_sidebar": "Contents",
   "toc_cell": false,
   "toc_position": {},
   "toc_section_display": true,
   "toc_window_display": true
  },
  "varInspector": {
   "cols": {
    "lenName": 16,
    "lenType": 16,
    "lenVar": 40
   },
   "kernels_config": {
    "python": {
     "delete_cmd_postfix": "",
     "delete_cmd_prefix": "del ",
     "library": "var_list.py",
     "varRefreshCmd": "print(var_dic_list())"
    },
    "r": {
     "delete_cmd_postfix": ") ",
     "delete_cmd_prefix": "rm(",
     "library": "var_list.r",
     "varRefreshCmd": "cat(var_dic_list()) "
    }
   },
   "types_to_exclude": [
    "module",
    "function",
    "builtin_function_or_method",
    "instance",
    "_Feature"
   ],
   "window_display": false
  }
 },
 "nbformat": 4,
 "nbformat_minor": 2
}
