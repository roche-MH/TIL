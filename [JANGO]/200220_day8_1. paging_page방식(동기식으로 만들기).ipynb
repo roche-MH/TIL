{
 "cells": [
  {
   "cell_type": "markdown",
   "metadata": {},
   "source": [
    "# 페이지 네비게이션\n",
    "\n",
    "> 페이지 단위로 나누는 이유\n",
    "- 효율적인 방법\n",
    "- 검색한 데이터를 다 보내지 않고, 쪼개서 보내주는 개념\n",
    "\n",
    "\n",
    "> DB에서 쉘을 통해 검색했을 때=> 2케어층(쉘과 db가 계속 연결되어있음.)\n",
    "- 검색 결과가 10만건일 때\n",
    "- 일단 몇개만 db가 보내주시고\n",
    "- 페치: 나머지 데이터를 갖다주세요 요청하는 것.\n",
    "- 데이터가 많을 때 불필요한 네트워크 리소스를 줄이는 방법\n",
    "- cusor: 조그씩 데이터를 요청할 때마다 가지고 오는 것.\n",
    "- 이미지 업로드할 때 chunk 단위로 받는 것과 같은 개념\n",
    "- 64k, 100k등으로 쪼개서 주고 받음\n",
    "\n",
    "> 3 케어 층?\n",
    "- 구조: db- 클라이언트(django) - 웹서버 - 브라우저\n",
    "- 접속이 끊어지기 때문에\n",
    "- 데이터가 많을 때 브라우저로 모두 보낼 수 없기 때문에 \n",
    "- 페이지 단위로 보내고, 사용자에게 네이게이션을 제공해주자\n",
    "- 페이지를 이동할 수 있는 인터페이스가 필요.(네이게이션)\n",
    "- 페이지 요청할 때마다 매번 select를 계속 실행함.\n",
    "- SQL문을 작성할 때 페이지번호의 개념을 넣어줘야함."
   ]
  },
  {
   "cell_type": "markdown",
   "metadata": {},
   "source": [
    "# 1. 페이지 개념 익히기"
   ]
  },
  {
   "cell_type": "code",
   "execution_count": null,
   "metadata": {},
   "outputs": [],
   "source": [
    "# urls.py\n",
    "'''\n",
    "from django.urls import path\n",
    "from . import views \n",
    "from django.shortcuts import redirect\n",
    "\n",
    "urlpatterns = [\n",
    "    path('', views.page),\n",
    "    path('<category>/<int:pk>/<mode>', views.BoardView.as_view(), name = 'myboard'),\n",
    "    ]\n",
    "\n",
    "'''"
   ]
  },
  {
   "cell_type": "code",
   "execution_count": null,
   "metadata": {},
   "outputs": [],
   "source": [
    "# page.html\n",
    "'''\n",
    "{%for data in datas%}\n",
    "{{data.id}} / {{data.name}} <br>\n",
    "\n",
    "{% endfor %}\n",
    "'''"
   ]
  },
  {
   "cell_type": "markdown",
   "metadata": {},
   "source": [
    "## 1.1. 슬라이싱 개념으로 페이지 보여주기"
   ]
  },
  {
   "cell_type": "code",
   "execution_count": null,
   "metadata": {},
   "outputs": [],
   "source": [
    "# myboard > views.py에서\n",
    "'''\n",
    "def page(request):\n",
    "    datas = [{'id': 1, 'name':  '홍길동1'},\n",
    "            {'id': 2, 'name':  '홍길동2'},\n",
    "            {'id': 3, 'name':  '홍길동3'},\n",
    "            {'id': 4, 'name':  '홍길동4'},\n",
    "            {'id': 5, 'name':  '홍길동5'}]\n",
    "    p = Paginator(datas, 3)# collections 형태의 데이터\n",
    "                \n",
    "                        # 한 페이지에 보여줄 데이터 개수\n",
    "    sub = p.page(1) # 몇번째 페이지를 가지고 올 지 \n",
    "    return render(request, 'myboard/page.html', {'datas': sub})\n",
    "'''"
   ]
  },
  {
   "cell_type": "markdown",
   "metadata": {},
   "source": [
    "## 1.2. 페이지 번호를 파라미터로 받아서 보여주기"
   ]
  },
  {
   "cell_type": "code",
   "execution_count": null,
   "metadata": {},
   "outputs": [],
   "source": [
    "# view.py\n",
    "'''\n",
    "def page(request):\n",
    "    datas = [{'id': 1, 'name':  '홍길동1'},\n",
    "            {'id': 2, 'name':  '홍길동2'},\n",
    "            {'id': 3, 'name':  '홍길동3'},\n",
    "            {'id': 4, 'name':  '홍길동4'},\n",
    "            {'id': 5, 'name':  '홍길동5'}]\n",
    "\n",
    "    page = request.GET.get('page', 1)  #default: 1\n",
    "    p = Paginator(datas, 3)# collections 형태의 데이터,  # 한 페이지에 보여줄 데이터 개수\n",
    "    sub = p.page(page) # 몇번째 페이지를 가지고 올 지 \n",
    "                    # 슬라이싱의 개념과 같음\n",
    "\n",
    "    return render(request, 'myboard/page.html', {'datas': sub})\n",
    "'''"
   ]
  },
  {
   "cell_type": "code",
   "execution_count": null,
   "metadata": {},
   "outputs": [],
   "source": [
    "# page.html\n",
    "'''\n",
    "{%for data in datas%}\n",
    "{{data.id}} / {{data.name}} <br>\n",
    "\n",
    "{% endfor %}\n",
    "\n",
    "\n",
    "<!-- 페이지 개수를 알고있는 경우 -->\n",
    "<a href=\"?page = 1\">처음으로</a>\n",
    "<a href=\"?page = 1\">[1]</a>\n",
    "<a href=\"?page = 2\">[2]</a>\n",
    "<a href=\"?page =3\">[3]</a>\n",
    "<a href=\"?page =3\">마지막으로</a>\n",
    "'''"
   ]
  },
  {
   "cell_type": "markdown",
   "metadata": {},
   "source": [
    "> 실행\n",
    "- http://127.0.0.1:8000/myboard/?page=1"
   ]
  },
  {
   "cell_type": "markdown",
   "metadata": {},
   "source": [
    "## 1.3. 현재 보고있는 page는 링크가 안걸려야 함.\n",
    "\n",
    "> current page에 대한 정보\n",
    "- 내 페이지는 링크가 안되기\n",
    "- 이전으로/ 다음으로 링크 만들기\n",
    "- 첫 페이지에서는 이전으로 개념: disable되어야 하고\n",
    "- 마지막 페이지는 다음으로 개념이 disable되어야 함.\n",
    "- Paginator에서 사용 가능"
   ]
  },
  {
   "cell_type": "code",
   "execution_count": null,
   "metadata": {},
   "outputs": [],
   "source": [
    "# page.html\n",
    "'''\n",
    "{%for data in datas%}\n",
    "{{data.id}} / {{data.name}} <br>\n",
    "\n",
    "{% endfor %}\n",
    "<br>\n",
    "<br>\n",
    "\n",
    "\n",
    "\n",
    "{% if datas.has_other_pages %}\n",
    "    <!-- 이전 페이지 있는지 확인 -->\n",
    "\n",
    "        {% if datas.has_previous %}\n",
    "          <a href=\"?page={{ datas.previous_page_number }}\">&laquo;</a>\n",
    "        {% else %}\n",
    "          <span>&laquo;</span>\n",
    "        {% endif %}\n",
    "<!-- 현재 보고 있는 페이지 확인\n",
    "        index: 1부터 시작 -->\n",
    "\n",
    "        {% for i in datas.paginator.page_range %}\n",
    "          {% if datas.number == i %}\n",
    "            <span>{{ i }} </span>\n",
    "          {% else %}\n",
    "            <a href=\"?page={{ i }}\">{{ i }}</a>\n",
    "          {% endif %}\n",
    "        {% endfor %}\n",
    "<!-- 다음 페이지가 있는지 확인 -->\n",
    "\n",
    "        {% if datas.has_next %}\n",
    "            <a href=\"?page={{ datas.next_page_number }}\">&raquo;</a>\n",
    "        {% else %}\n",
    "            <span>&raquo;</span>\n",
    "        {%endif %}\n",
    "    {%endif%}\n",
    "\n",
    "\n",
    "\n",
    "'''"
   ]
  },
  {
   "cell_type": "code",
   "execution_count": null,
   "metadata": {},
   "outputs": [],
   "source": [
    "# # view.py\n",
    "'''\n",
    "def page(request):\n",
    "    datas = [{'id': 1, 'name':  '홍길동1'},\n",
    "            {'id': 2, 'name':  '홍길동2'},\n",
    "            {'id': 3, 'name':  '홍길동3'},\n",
    "            {'id': 4, 'name':  '홍길동4'},\n",
    "            {'id': 5, 'name':  '홍길동5'},\n",
    "            {'id': 6, 'name':  '홍길동6'},\n",
    "            {'id': 7, 'name':  '홍길동7'},\n",
    "            ]\n",
    "\n",
    "    page = request.GET.get('page', 1)  #default: 1\n",
    "    p = Paginator(datas, 3)# collections 형태의 데이터,  # 한 페이지에 보여줄 데이터 개수\n",
    "    sub = p.page(page) # 몇번째 페이지를 가지고 올 지 \n",
    "                    # 슬라이싱의 개념과 같음\n",
    "\n",
    "    return render(request, 'myboard/page.html', {'datas': sub})\n",
    "'''"
   ]
  },
  {
   "cell_type": "markdown",
   "metadata": {},
   "source": [
    "# 2. BoardView()에 적용(게시판)"
   ]
  },
  {
   "cell_type": "code",
   "execution_count": null,
   "metadata": {},
   "outputs": [],
   "source": [
    "# views.py\n",
    "'''\n",
    "\n",
    "elif mode == 'list':\n",
    "            # pk값 상관없음.\n",
    "            username = request.session.get('username', '')\n",
    "            user = User.objects.get(username =username)\n",
    "            data= models.Board.objects.all().filter(author = user, category = category)\n",
    "            \n",
    "            # page 개념\n",
    "            page = request.GET.get('page', 1)  \n",
    "            p = Paginator(data, 3)\n",
    "            subs = p.page(page) \n",
    "            \n",
    "            context = {'datas': subs,'username': username, 'category': category}\n",
    "            return render (request, apps.APP + '/pagelist.html', context)\n",
    "\n",
    "'''\n",
    "\n"
   ]
  },
  {
   "cell_type": "code",
   "execution_count": null,
   "metadata": {},
   "outputs": [],
   "source": [
    "# pagelist.html\n",
    "'''\n",
    "<!-- import, includ 개념 -->\n",
    "{% extends 'myboard/base.html' %}\n",
    "\n",
    "\n",
    "<!-- base template안의 위치 지정 -->\n",
    "\n",
    "{% block content %}\n",
    "\n",
    "<!-- 게시물 출력 -->\n",
    "    <br>\n",
    "   \n",
    "    <a href=\"{% url 'myboard'  category 0 'add' %}\">Add </a> <br>\n",
    "    여기부터 sub-template<br>\n",
    "\n",
    "    {% for d in datas %}\n",
    "    \n",
    "            <a href=\"{% url 'myboard' category d.pk 'detail' %}\"> {{d.title}} 조회수 {{d.cnt}}</a>\n",
    "       <br>\n",
    "    {% endfor %}\n",
    "\n",
    "\n",
    "<!-- page 번호 출력 -->\n",
    "\n",
    "\n",
    "{% if datas.has_other_pages %}\n",
    "    <!-- 이전 페이지 있는지 확인 -->\n",
    "\n",
    "        {% if datas.has_previous %}\n",
    "          <a href=\"?page={{ datas.previous_page_number }}\">&laquo;</a>\n",
    "        {% else %}\n",
    "          <span>&laquo;</span>\n",
    "        {% endif %}\n",
    "<!-- 현재 보고 있는 페이지 확인\n",
    "        index: 1부터 시작 -->\n",
    "\n",
    "        {% for i in datas.paginator.page_range %}\n",
    "          {% if datas.number == i %}\n",
    "            <span>{{ i }} </span>\n",
    "          {% else %}\n",
    "            <a href=\"?page={{ i }}\">{{ i }}</a>\n",
    "          {% endif %}\n",
    "        {% endfor %}\n",
    "<!-- 다음 페이지가 있는지 확인 -->\n",
    "\n",
    "        {% if datas.has_next %}\n",
    "            <a href=\"?page={{ datas.next_page_number }}\">&raquo;</a>\n",
    "        {% else %}\n",
    "            <span>&raquo;</span>\n",
    "        {%endif %}\n",
    "    {%endif%}\n",
    "\n",
    "\n",
    "\n",
    "\n",
    "\n",
    "\n",
    "{% endblock %}\n",
    "\n",
    "\n",
    "'''"
   ]
  }
 ],
 "metadata": {
  "kernelspec": {
   "display_name": "Python 3",
   "language": "python",
   "name": "python3"
  },
  "language_info": {
   "codemirror_mode": {
    "name": "ipython",
    "version": 3
   },
   "file_extension": ".py",
   "mimetype": "text/x-python",
   "name": "python",
   "nbconvert_exporter": "python",
   "pygments_lexer": "ipython3",
   "version": "3.6.10"
  },
  "toc": {
   "base_numbering": 1,
   "nav_menu": {},
   "number_sections": false,
   "sideBar": true,
   "skip_h1_title": false,
   "title_cell": "Table of Contents",
   "title_sidebar": "Contents",
   "toc_cell": false,
   "toc_position": {
    "height": "calc(100% - 180px)",
    "left": "10px",
    "top": "150px",
    "width": "174.176px"
   },
   "toc_section_display": true,
   "toc_window_display": true
  },
  "varInspector": {
   "cols": {
    "lenName": 16,
    "lenType": 16,
    "lenVar": 40
   },
   "kernels_config": {
    "python": {
     "delete_cmd_postfix": "",
     "delete_cmd_prefix": "del ",
     "library": "var_list.py",
     "varRefreshCmd": "print(var_dic_list())"
    },
    "r": {
     "delete_cmd_postfix": ") ",
     "delete_cmd_prefix": "rm(",
     "library": "var_list.r",
     "varRefreshCmd": "cat(var_dic_list()) "
    }
   },
   "types_to_exclude": [
    "module",
    "function",
    "builtin_function_or_method",
    "instance",
    "_Feature"
   ],
   "window_display": false
  }
 },
 "nbformat": 4,
 "nbformat_minor": 4
}
