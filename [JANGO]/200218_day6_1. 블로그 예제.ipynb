{
 "cells": [
  {
   "cell_type": "markdown",
   "metadata": {},
   "source": [
    "# 1: N 관계 테이블을 ORM으로 구현하기"
   ]
  },
  {
   "cell_type": "markdown",
   "metadata": {},
   "source": [
    "# 1. DB setting\n",
    "\n",
    "## db, table 만들기\n",
    "> app만들기\n",
    "- python manage.py startapp blog\n",
    "\n",
    "> settings.py에서 블로그 앱 설치\n",
    "- 데이터베이스와 연동하려면 만드시 설치\n"
   ]
  },
  {
   "cell_type": "code",
   "execution_count": null,
   "metadata": {},
   "outputs": [],
   "source": [
    "'''\n",
    "INSTALLED_APPS = [\n",
    "    'django.contrib.admin',\n",
    "    'django.contrib.auth',\n",
    "    'django.contrib.contenttypes',\n",
    "    'django.contrib.sessions',\n",
    "    'django.contrib.messages',\n",
    "    'django.contrib.staticfiles',\n",
    "    'myapp',\n",
    "    'django_extensions'\n",
    "    'ajax',\n",
    "    'blog',\n",
    "]\n",
    "\n",
    "'''"
   ]
  },
  {
   "cell_type": "code",
   "execution_count": null,
   "metadata": {},
   "outputs": [],
   "source": [
    ">  urls.py\n",
    "'''\n",
    "urlpatterns = [\n",
    "    path('admin/', admin.site.urls),\n",
    "    path('ajax/', include('ajax.urls')),\n",
    "    path('', include('myapp.urls')),\n",
    "    path('blog/', include('blog.urls')),\n",
    "]\n",
    "\n",
    "\n",
    "'''"
   ]
  },
  {
   "cell_type": "code",
   "execution_count": null,
   "metadata": {},
   "outputs": [],
   "source": [
    "> models.py : db 만들기\n",
    "'''\n",
    "from django.db import models\n",
    "from django.utils import timezone\n",
    "\n",
    "# Create your models here.\n",
    "class Post(models.Model):\n",
    "    # 기본키\n",
    "    # 유저를 지우는 방법\n",
    "    # 1. # 특정 유저를 지우려면, 모든 것을 지우고 모든 것을 지우거나\n",
    "    # 2. 유저를 지울 때 글도 같이 지우라는 뜻-> on_delelte= models.CASCADE\n",
    "    author = models.ForeignKey('auth.User', # 시스템 테이블-> 슈퍼유저 테이블\n",
    "                            on_delete= models.CASCADE, # 단계별로 진행된다는 뜻\n",
    "                            )\n",
    "                                 \n",
    "    title = models.CharField(max_length = 200)\n",
    "    text = models.TextField()  # textarea로 받는 부분\n",
    "    created_data = models.DateTimeField(default =timezone.now)\n",
    "    published_date = models.DateTimeField(blank = True, # application 관점에서 data가 비어도 되는지\n",
    "                                            null = True) # 데이터 베이서 관점에서 널값 허용\n",
    "\n",
    "    # 글을 수정한 날짜\n",
    "    def publish(self):\n",
    "        self.published_date = timezone.now()\n",
    "        self.save()\n",
    "    \n",
    "    # 프린트 함수\n",
    "    def __str__(self):\n",
    "        return self.title\n",
    "\n",
    "\n",
    "''"
   ]
  },
  {
   "cell_type": "code",
   "execution_count": null,
   "metadata": {},
   "outputs": [],
   "source": [
    "> admin.py: db 등록하기\n",
    "    '''\n",
    "from django.contrib import admin\n",
    "from blog.models import Post  # root 기준\n",
    "# Register your models here.\n",
    "\n",
    "admin.site.register(Post)'''\n",
    "\n",
    "'''\n"
   ]
  },
  {
   "cell_type": "markdown",
   "metadata": {},
   "source": [
    "> DB에 반영하기\n",
    "- db 이력 추적: python manage.py makemigrations \n",
    "- db에 반영:python manamge.py migrate"
   ]
  },
  {
   "cell_type": "markdown",
   "metadata": {},
   "source": [
    "## 1.2. db에서 post 추가하기"
   ]
  },
  {
   "cell_type": "markdown",
   "metadata": {},
   "source": [
    "### 1.2.1 브라우저에서 추가\n",
    "- http://127.0.0.1:8000/admin/blog/post/add/\n",
    "\n",
    "> url 주소 보면\n",
    "- post 클릭하면: http://127.0.0.1:8000/admin/blog/post/3/change/\n",
    "- url이 동적으로 만들어지고 있음.\n",
    "\n",
    "\n",
    "> Author\n",
    "- user table이 끼워든거 같은데...\n",
    "\n",
    "> sqlite browser에서 확인하기\n",
    "- 테이블: blog_post"
   ]
  },
  {
   "cell_type": "code",
   "execution_count": null,
   "metadata": {},
   "outputs": [],
   "source": [
    "'''\n",
    "CREATE TABLE \"blog_post\" (\n",
    "\"id\" integer NOT NULL PRIMARY KEY AUTOINCREMENT,\n",
    "\"title\" varchar(200) NOT NULL, \n",
    "\"text\" text NOT NULL,\n",
    "\"created_data\" datetime NOT NULL, \n",
    "\"published_date\" datetime NULL,\n",
    "\"author_id\" integer NOT NULL \n",
    "REFERENCES \"auth_user\" (\"id\") DEFERRABLE INITIALLY DEFERRED)  -> 외래키: auth_user table에서 id로 설정되어 있음.\n",
    "'''"
   ]
  },
  {
   "cell_type": "markdown",
   "metadata": {},
   "source": [
    "> 테이블을 살펴보면-> framewoalk 마다 다름\n",
    "- 장고에서는 id라는 key를 무조건 자동으로 생성함.-> auto increment를 사용\n",
    "- author_id: author table에 있는 id를 갖고와서 외래키로 잡혀 있음.\n",
    "- pk는 검색시 많이 사용하기 때문에 문자보다는 숫자를 많이 사용\n",
    "- user table의 id가 외래키로 사용. post table에서의 기본 키임"
   ]
  },
  {
   "cell_type": "markdown",
   "metadata": {},
   "source": [
    "## 1.3. coding으로 db 추가하기"
   ]
  },
  {
   "cell_type": "markdown",
   "metadata": {
    "ExecuteTime": {
     "end_time": "2020-02-18T01:11:56.669773Z",
     "start_time": "2020-02-18T01:11:56.665784Z"
    }
   },
   "source": [
    "> 콘솔에서\n",
    "- python manage.py shell_plus"
   ]
  },
  {
   "cell_type": "markdown",
   "metadata": {},
   "source": [
    "- 200218_day6_blog db by shell_plus 파일 참조"
   ]
  },
  {
   "cell_type": "markdown",
   "metadata": {},
   "source": [
    "# 2. index함수 만들기"
   ]
  },
  {
   "cell_type": "code",
   "execution_count": null,
   "metadata": {},
   "outputs": [],
   "source": [
    "#views.py\n",
    "'''\n",
    "from django.shortcuts import render\n",
    "from django.http import HttpResponse\n",
    "# Create your views here.\n",
    "\n",
    "\n",
    "def index(request):\n",
    "    return HttpResponse('ok')\n",
    "'''"
   ]
  },
  {
   "cell_type": "code",
   "execution_count": null,
   "metadata": {},
   "outputs": [],
   "source": [
    "# urls.py\n",
    "'''\n",
    "from django.urls import path\n",
    "from . import views \n",
    "\n",
    "urlpatterns = [\n",
    "    path('', views.index),\n",
    "'''"
   ]
  },
  {
   "cell_type": "markdown",
   "metadata": {},
   "source": [
    "# 3. 동적 url 다루기\n",
    "\n",
    "- 정적 url: 고정된 url주소\n",
    "- 동적 url: 파라미터 -> 동적으로 바뀌면서 매핑되는 파라미터 "
   ]
  },
  {
   "cell_type": "code",
   "execution_count": null,
   "metadata": {},
   "outputs": [],
   "source": [
    "# urls.py\n",
    "'''\n",
    "from django.urls import path\n",
    "from . import views \n",
    "\n",
    "urlpatterns = [\n",
    "    path('', views.index),\n",
    "    # 동적 url 다루기\n",
    "    path('<name>/', views.index2),\n",
    "'''"
   ]
  },
  {
   "cell_type": "code",
   "execution_count": null,
   "metadata": {},
   "outputs": [],
   "source": [
    "# views.py\n",
    "'''\n",
    "# 동적 url \n",
    "# name이라는 파라미터를 usr주소에 사용\n",
    "# url: blog/abe -> index2함수 호출\n",
    "def index2(request, name):\n",
    "    return HttpResponse('ok'+name)\n",
    "\n",
    "\n",
    "'''"
   ]
  },
  {
   "cell_type": "markdown",
   "metadata": {},
   "source": [
    "> 실행\n",
    "- 127.0.0.1:8000/abc"
   ]
  },
  {
   "cell_type": "code",
   "execution_count": null,
   "metadata": {},
   "outputs": [],
   "source": [
    "# urls.py\n",
    "'''\n",
    "'''\n",
    "from django.urls import path\n",
    "from . import views \n",
    "\n",
    "urlpatterns = [\n",
    "    path('', views.index),\n",
    "    # 동적 url 다루기\n",
    "    path('<name>/', views.index2),\n",
    "'''\n",
    "'''"
   ]
  },
  {
   "cell_type": "code",
   "execution_count": null,
   "metadata": {},
   "outputs": [],
   "source": [
    "# views.py\n",
    "'''\n",
    "# 동적 url \n",
    "# name이라는 파라미터를 usr주소에 사용\n",
    "# url: blog/abe -> index2함수 호출\n",
    "def index2(request, name):\n",
    "    return HttpResponse('ok'+name)\n",
    "\n",
    "\n",
    "'''"
   ]
  },
  {
   "cell_type": "markdown",
   "metadata": {},
   "source": [
    "> 실행\n",
    "- 127.0.0.1:8000/abc"
   ]
  },
  {
   "cell_type": "code",
   "execution_count": 3,
   "metadata": {
    "ExecuteTime": {
     "end_time": "2020-02-18T01:54:20.668174Z",
     "start_time": "2020-02-18T01:54:20.659199Z"
    }
   },
   "outputs": [
    {
     "data": {
      "text/plain": [
       "\"\\nurlpatterns = [\\n    path('', views.index),\\n    # 동적 url 다루기\\n    path('<name>/', views.index2),  # 임의의 문자가 다 올 수 있음.\\n    path('<int:pk>/detail', views.index3),\\n    \\n]\""
      ]
     },
     "execution_count": 3,
     "metadata": {},
     "output_type": "execute_result"
    }
   ],
   "source": [
    "# urls.py\n",
    "'''\n",
    "urlpatterns = [\n",
    "    path('', views.index),\n",
    "    # 동적 url 다루기\n",
    "    path('<name>/', views.index2),  # 임의의 문자가 다 올 수 있음.\n",
    "    path('<int:pk>/detail', views.index3),\n",
    "    \n",
    "]'''"
   ]
  },
  {
   "cell_type": "code",
   "execution_count": 4,
   "metadata": {
    "ExecuteTime": {
     "end_time": "2020-02-18T01:54:28.806011Z",
     "start_time": "2020-02-18T01:54:28.801974Z"
    }
   },
   "outputs": [
    {
     "data": {
      "text/plain": [
       "\"\\n\\ndef index3(request, pk):\\n    return HttpResponse('ok' + str(pk))\\n\""
      ]
     },
     "execution_count": 4,
     "metadata": {},
     "output_type": "execute_result"
    }
   ],
   "source": [
    "# views.py\n",
    "'''\n",
    "\n",
    "def index3(request, pk):\n",
    "    return HttpResponse('ok' + str(pk))\n",
    "'''"
   ]
  },
  {
   "cell_type": "markdown",
   "metadata": {},
   "source": [
    "> 실행\n",
    "- http://127.0.0.1:8000/blog/123/detail"
   ]
  },
  {
   "cell_type": "markdown",
   "metadata": {
    "ExecuteTime": {
     "end_time": "2020-02-18T01:54:51.222678Z",
     "start_time": "2020-02-18T01:54:51.218628Z"
    }
   },
   "source": [
    "## 3.1. pk(id)에 해당하는 포스트 기사 읽어보기"
   ]
  },
  {
   "cell_type": "code",
   "execution_count": null,
   "metadata": {},
   "outputs": [],
   "source": [
    "#vies.py\n",
    "'''\n",
    "from blog.models import Post\n",
    "\n",
    "\n",
    "def index3(request, pk):\n",
    "    # pk: table에서 직접적을 field명을 알 수 없음(실제로는 id임)\n",
    "    # pk: pk = 1인 값을 찾아야 함.\n",
    "    p = Post.objects.get(pk = pk)\n",
    "    return HttpResponse('ok' + p.title)\n",
    "'''"
   ]
  },
  {
   "cell_type": "markdown",
   "metadata": {
    "ExecuteTime": {
     "end_time": "2020-02-18T02:07:15.919218Z",
     "start_time": "2020-02-18T02:07:15.914265Z"
    }
   },
   "source": [
    "> 실행\n",
    "- http://127.0.0.1:8000/blog/3/detail"
   ]
  },
  {
   "cell_type": "code",
   "execution_count": null,
   "metadata": {},
   "outputs": [],
   "source": [
    "# 예외처리: pk 값이 없는 경우-> Page not found errer 발생\n",
    "'''\n",
    "def index3(request, pk):\n",
    "    # pk: table에서 직접적을 field명을 알 수 없음(실제로는 id임)\n",
    "    # pk: pk = 1인 값을 찾아야 함.\n",
    "    # p = Post.objects.get(pk = pk)\n",
    "\n",
    "    # 예외처리\n",
    "    p = get_object_or_404(Post, pk = pk)\n",
    "    return HttpResponse('ok' + p.title)\n",
    "\n",
    "'''"
   ]
  },
  {
   "cell_type": "markdown",
   "metadata": {},
   "source": [
    "## 3.2. 전체 date 출력"
   ]
  },
  {
   "cell_type": "code",
   "execution_count": null,
   "metadata": {},
   "outputs": [],
   "source": [
    "# urls.py\n",
    "'''\n",
    "\n",
    "urlpatterns = [\n",
    "    path('', views.index),\n",
    "    # 동적 url 다루기\n",
    "    path('<name>/', views.index2),  # 임의의 문자가 다 올 수 있음.\n",
    "    path('<int:pk>/detail', views.index3),\n",
    "    path('list', views.list)\n",
    "    \n",
    "]\n",
    "'''"
   ]
  },
  {
   "cell_type": "code",
   "execution_count": null,
   "metadata": {},
   "outputs": [],
   "source": [
    "# views.py\n",
    "'''\n",
    "\n",
    "def list(request):\n",
    "    data =Post.objects.all()\n",
    "    return render (request,'blog/list.html', {'data':data})\n",
    "\n",
    "'''"
   ]
  },
  {
   "cell_type": "code",
   "execution_count": null,
   "metadata": {},
   "outputs": [],
   "source": [
    "# list.html\n",
    "\n",
    "'''\n",
    "\n",
    "My blog<br>\n",
    "\n",
    "\n",
    "{% for d in data%}\n",
    "{{d.title}}<br>\n",
    "{{d.text}}\n",
    "<hr>\n",
    "\n",
    "{%endfor%}\n",
    "\n",
    "'''"
   ]
  },
  {
   "cell_type": "markdown",
   "metadata": {},
   "source": [
    "> 실행\n",
    "- 127.0.0.1:8000/blog/list"
   ]
  },
  {
   "cell_type": "markdown",
   "metadata": {},
   "source": [
    "# 4.  view를 개선하기\n",
    "\n",
    "> 모든 페이지에 항상 나오는 내용\n",
    "- 저작권, 주소 등...반복되는 요소들을 매번 html마다 반복하지 않고, 한번에 처리\n",
    "\n",
    "> base template, sub template\n",
    "- 템플릿 안에 템플릿을 넣는 개념\n",
    "- 변경되는 템블릿만 수정\n",
    "- base template: 저작권, 기본사항 등 -> 한번만 하기\n",
    "- sub template: 안의 부분만 rendering하는 부분"
   ]
  },
  {
   "cell_type": "markdown",
   "metadata": {},
   "source": [
    "## 4.1. base templage만들기: base.html"
   ]
  },
  {
   "cell_type": "markdown",
   "metadata": {
    "ExecuteTime": {
     "end_time": "2020-02-18T02:31:53.294458Z",
     "start_time": "2020-02-18T02:31:53.289472Z"
    }
   },
   "source": [
    "> base template를 사용하려면\n",
    "- sub template에는 base를 import하고, base 안어 들어갈 부분을 block으로 묶기\n",
    "- base teplate에서는 sub template를 넣을 부분을 block문으로 알려주기"
   ]
  },
  {
   "cell_type": "code",
   "execution_count": null,
   "metadata": {},
   "outputs": [],
   "source": [
    "# base.html\n",
    "'''\n",
    "My blog<br>\n",
    "\n",
    "\n",
    "<!--  나중에 바뀌는 부분-> 페이지에서 rendering되는 부분 -->\n",
    "{% block content %}\n",
    "{% endblock %}\n",
    "\n",
    "\n",
    "copy right.....<br>\n",
    "서울 특별시\n",
    "\n",
    "'''"
   ]
  },
  {
   "cell_type": "code",
   "execution_count": null,
   "metadata": {},
   "outputs": [],
   "source": [
    "# list.html\n",
    "'''\n",
    "<!-- import, includ 개념 -->\n",
    "{% extends 'blog/base.html' %}\n",
    "\n",
    "\n",
    "<!-- base template안의 위치 지정 -->\n",
    "\n",
    "{% block content %}\n",
    "\n",
    "sub-template<br>\n",
    "\n",
    "{% for d in data%}\n",
    "    {{d.title}}<br>\n",
    "    {{d.text|linebreaks}}  \n",
    "    <!-- linebreaks: enter -> <br>로 바꿔줌 -->\n",
    "    <hr>\n",
    "{%endfor%}\n",
    "\n",
    "{% endblock %}\n",
    "\n",
    "'''"
   ]
  },
  {
   "cell_type": "markdown",
   "metadata": {},
   "source": [
    "## 4.2. detail view만들기: title을 클릭하면 게시물 1개를 보여주기"
   ]
  },
  {
   "cell_type": "markdown",
   "metadata": {},
   "source": [
    "#### 동적 url로 title 보여주기"
   ]
  },
  {
   "cell_type": "code",
   "execution_count": null,
   "metadata": {},
   "outputs": [],
   "source": [
    "# liist.htmp\n",
    "'''\n",
    "<!-- import, includ 개념 -->\n",
    "{% extends 'blog/base.html' %}\n",
    "\n",
    "\n",
    "<!-- base template안의 위치 지정 -->\n",
    "\n",
    "{% block content %}\n",
    "\n",
    "sub-template<br>\n",
    "\n",
    "{% for d in data%}\n",
    "\n",
    "<!-- get 방식으로 보내려면: a href: /blog/id =... -->\n",
    "<!-- 동적 url을 가져오려면 -->\n",
    "    <a href=\"{{d.pk}}/detail\"></a>{{d.title}}</a><br>\n",
    "    <!-- {{d.text|linebreaks}}    # 목록만 보여주도록 하기 위해서 빼기-->\n",
    "    <!-- linebreaks: enter -> <br>로 바꿔줌 -->\n",
    "    <hr>\n",
    "{%endfor%}\n",
    "\n",
    "{% endblock %}\n",
    "\n",
    "\n",
    "'''"
   ]
  },
  {
   "cell_type": "code",
   "execution_count": null,
   "metadata": {},
   "outputs": [],
   "source": [
    "# detail.html\n",
    "'''\n",
    "\n",
    "<!-- import, includ 개념 -->\n",
    "{% extends 'blog/base.html' %}\n",
    "\n",
    "\n",
    "<!-- base template안의 위치 지정 -->\n",
    "\n",
    "{% block content %}\n",
    "\n",
    "게시물을 보여줘<br>\n",
    "\n",
    "    {{d.text|linebreaks}}  \n",
    "    <!-- linebreaks: enter -> <br>로 바꿔줌 -->\n",
    "\n",
    "\n",
    "{% endblock %}\n",
    "\n",
    "'''"
   ]
  },
  {
   "cell_type": "code",
   "execution_count": null,
   "metadata": {},
   "outputs": [],
   "source": [
    "# view.py\n",
    "'''\n",
    "def list(request):\n",
    "    data =Post.objects.all()\n",
    "    return render (request,'blog/list.html', {'data':data})\n",
    "\n",
    "def detail(request, pk):\n",
    "    p = get_object_or_404(Post, pk = pk)\n",
    "    return render(request, 'blog/detail.html', {'d': p})\n",
    "'''"
   ]
  }
 ],
 "metadata": {
  "kernelspec": {
   "display_name": "Python 3",
   "language": "python",
   "name": "python3"
  },
  "language_info": {
   "codemirror_mode": {
    "name": "ipython",
    "version": 3
   },
   "file_extension": ".py",
   "mimetype": "text/x-python",
   "name": "python",
   "nbconvert_exporter": "python",
   "pygments_lexer": "ipython3",
   "version": "3.6.10"
  },
  "toc": {
   "base_numbering": 1,
   "nav_menu": {},
   "number_sections": false,
   "sideBar": true,
   "skip_h1_title": false,
   "title_cell": "Table of Contents",
   "title_sidebar": "Contents",
   "toc_cell": false,
   "toc_position": {},
   "toc_section_display": true,
   "toc_window_display": true
  },
  "varInspector": {
   "cols": {
    "lenName": 16,
    "lenType": 16,
    "lenVar": 40
   },
   "kernels_config": {
    "python": {
     "delete_cmd_postfix": "",
     "delete_cmd_prefix": "del ",
     "library": "var_list.py",
     "varRefreshCmd": "print(var_dic_list())"
    },
    "r": {
     "delete_cmd_postfix": ") ",
     "delete_cmd_prefix": "rm(",
     "library": "var_list.r",
     "varRefreshCmd": "cat(var_dic_list()) "
    }
   },
   "types_to_exclude": [
    "module",
    "function",
    "builtin_function_or_method",
    "instance",
    "_Feature"
   ],
   "window_display": false
  }
 },
 "nbformat": 4,
 "nbformat_minor": 4
}
