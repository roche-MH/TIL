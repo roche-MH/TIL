{
 "cells": [
  {
   "cell_type": "markdown",
   "metadata": {},
   "source": [
    "ORM\n",
    "- SQL을 대체할 수 없음.\n",
    "- 접근하는 방법"
   ]
  },
  {
   "cell_type": "markdown",
   "metadata": {},
   "source": [
    "# mysite server 실행하기\n",
    "- python manamge.py runserver\n",
    "- 127.0.0.1:800/admin 실행\n",
    "    \n",
    "    \n",
    "## 1.  login할 수 있는 super user만들기\n",
    "> 다른 콘솔에서\n",
    "- pip install \n",
    "- python manage.py createsuperuser\n",
    "- Username (leave blank to use 'student'):home(super user를 만들 수 있는 계정)\n",
    "- password: home\n",
    "- 127.0.0.1:800/admin 실행-> login하기\n",
    "\n",
    "> user로 들어가면\n",
    "- superuser 1명 있음.\n",
    "- user정보를 갖고있는 시스템 테이블이 잇음.\n",
    "\n",
    "### 1.1 브라우저에서 유저 추가하기\n",
    "> user > add user\n",
    "- 이순신/ 12home12\n",
    "- 장고로 만들어진 application으로 db에 접속해서 넣기\n",
    "\n",
    "> db.sqlite3\n",
    "- 모든 데이터가 저장되어 있음.\n",
    "\n",
    "\n",
    "### 1.2. DB를 control할 수 있는 tool\n",
    "- https://sqlitebrowser.org/dl/\n",
    "\n",
    "> db.sqlite3 정보 확인하기\n",
    "- 데이터베이스 열기\n",
    "- 모든 데이터베이스 정보 확인 가능\n",
    "- 데이터 보기: auth_user (admin에서 만든 table)\n",
    "\n",
    "> 데이터 추가\n",
    "- 직접 sql문으로 넣기\n",
    "- 셀 선택한 후, 쓰고 적용 해도 바로 반영이 안됨\n",
    "- 따로 commit해야 함-> 변경사항 저장하기"
   ]
  },
  {
   "cell_type": "markdown",
   "metadata": {},
   "source": [
    "## 2. SQL 실행\n",
    "\n",
    "### 2.1 table 만들기\n",
    "- 한번 만든 후, 수정 불가(직접 수정 불가)\n",
    "- 지우고 하던가, FILED 수정하는 sql문을 사용해야 함.\n",
    "- table만 만들어지고 row가 없음."
   ]
  },
  {
   "cell_type": "code",
   "execution_count": null,
   "metadata": {},
   "outputs": [],
   "source": [
    "'''\n",
    "CREATE TABLE userTBL -- 회원 테이블 \n",
    "( userID CHAR(8) NOT NULL PRIMARY KEY, -- 사용자 아이디(PK) \n",
    "  userName VARCHAR(10) NOT NULL, -- 이름 \n",
    "  birthYear INT NOT NULL, -- 출생 연도 \n",
    "  addr CHAR(2) NOT NULL, -- 지역(경기, 서울, 경남 식으로 2글자만 입력) \n",
    "  mobile1 CHAR(3), -- 휴대폰의 국번(011, 016, 017, 018, 019, 010 등) \n",
    "  mobile2 CHAR(8), -- 휴대폰의 나머지 번호(하이픈 제외) \n",
    "  height SMALLINT, -- 키 \n",
    "  mDate DATE -- 회원 가입일\n",
    ");\n",
    "CREATE TABLE buyTBL -- 구매 테이블 \n",
    "\n",
    "# AUTO_INCREMENT: sqlite는 안되는 듯.....\n",
    "\n",
    "( num INT AUTO_INCREMENT NOT NULL PRIMARY KEY, -- 순번(PK) \n",
    "  userID CHAR(8) NOT NULL, -- 아이디(FK) \n",
    "  prodName CHAR(6) NOT NULL, -- 물품 \n",
    "  groupName CHAR(4), -- 분류 \n",
    "  price INT NOT NULL, -- 단가 \n",
    "  amount SMALLINT NOT NULL, -- 수량 \n",
    "  FOREIGN KEY (userID) REFERENCES userTBL (userID)\n",
    ");\n",
    "\n",
    ")\n",
    "'''"
   ]
  },
  {
   "cell_type": "markdown",
   "metadata": {},
   "source": [
    "### 2.2data 추가하기"
   ]
  },
  {
   "cell_type": "markdown",
   "metadata": {},
   "source": [
    "#### userTBL 추가"
   ]
  },
  {
   "cell_type": "code",
   "execution_count": null,
   "metadata": {},
   "outputs": [],
   "source": [
    "'''\n",
    "INSERT INTO userTBL VALUES\n",
    "('KHD', '강호동', 1970, '경북', '011', '22222222', 182, '2007-7-7')\n",
    "\n",
    "'''"
   ]
  },
  {
   "cell_type": "markdown",
   "metadata": {},
   "source": [
    "> DATA의 안정성, 무결성 보장\n",
    "- 기본키: NULL이면 안되고, 중복되면 안됨.\n",
    "- USER ID는 기본키이므로 중복되면 암됨\n",
    "- 아래 코드는 실행 안됨.\n",
    "- Result: UNIQUE constraint failed: userTBL.userID"
   ]
  },
  {
   "cell_type": "code",
   "execution_count": null,
   "metadata": {},
   "outputs": [],
   "source": [
    "'''\n",
    "INSERT INTO userTBL VALUES\n",
    "('KHD', '강호동222', 1970, '경북', '011', '22222222', 182, '2007-7-7')\n",
    "\n",
    "'''"
   ]
  },
  {
   "cell_type": "markdown",
   "metadata": {
    "ExecuteTime": {
     "end_time": "2020-02-17T02:26:55.116582Z",
     "start_time": "2020-02-17T02:26:55.112617Z"
    }
   },
   "source": [
    "#### buyTBL추가"
   ]
  },
  {
   "cell_type": "code",
   "execution_count": null,
   "metadata": {},
   "outputs": [],
   "source": [
    "'''\n",
    "INSERT INTO buyTBL VALUES\n",
    "(NULL, 'fef','운동화', NULL, 30, 2);\n",
    "'''"
   ]
  },
  {
   "cell_type": "markdown",
   "metadata": {},
   "source": [
    "> Result: NOT NULL constraint failed: buyTBL.num\n",
    "- 기본키에 user정보가 없기 때문에 오류\n",
    "- 관계가 맺어진 key값만 허용됨."
   ]
  },
  {
   "cell_type": "code",
   "execution_count": 2,
   "metadata": {
    "ExecuteTime": {
     "end_time": "2020-02-17T02:47:30.852763Z",
     "start_time": "2020-02-17T02:47:30.834973Z"
    }
   },
   "outputs": [
    {
     "data": {
      "text/plain": [
       "\"\\nINSERT INTO userTBL VALUES ('KKJ', '김국진', 1965, '서울', '019', '33333333', 171, '2009-9-9');\\nINSERT INTO userTBL VALUES ('KYM', '김용만', 1967, '서울', '010', '44444444', 177, '2015-5-5');\\nINSERT INTO userTBL VALUES ('KJD', '김제동', 1974, '경남', NULL , NULL, 173, '2013-3-3');\\nINSERT INTO userTBL VALUES ('NHS', '남희석', 1971, '충남', '016', '66666666', 180, '2017-4-4');\\nINSERT INTO userTBL VALUES ('SDY', '신동엽', 1971, '경기', NULL, NULL, 176, '2008-10-10');\\nINSERT INTO userTBL VALUES ('LHJ', '이휘재', 1972, '경기', '011', '88888888', 180, '2006-4-4');\\nINSERT INTO userTBL VALUES ('LKK', '이경규', 1960, '경남', '018', '99999999', 170, '2004-12-12');\\nINSERT INTO userTBL VALUES ('PSH', '박수홍', 1970, '서울', '010', '00000000', 183, '2012-5-5');\\n\\nINSERT INTO buyTBL VALUES (1, 'KHD', '운동화', NULL, 30, 2);\\nINSERT INTO buyTBL VALUES (2, 'KHD', '노트북', '전자', 1000, 1);\\nINSERT INTO buyTBL VALUES (3, 'KYM', '모니터', '전자', 200, 1);\\nINSERT INTO buyTBL VALUES (4, 'PSH', '모니터', '전자', 200, 5);\\nINSERT INTO buyTBL VALUES (5, 'KHD', '청바지', '의류', 50, 3);\\nINSERT INTO buyTBL VALUES (6, 'PSH', '메모리', '전자', 80, 10);\\nINSERT INTO buyTBL VALUES (7, 'KJD', '책', '서적', 15, 5);\\nINSERT INTO buyTBL VALUES (8, 'LHJ', '책', '서적', 15, 2);\\nINSERT INTO buyTBL VALUES (9L, 'LHJ', '청바지', '의류', 50, 1);\\nINSERT INTO buyTBL VALUES (10, 'PSH', '운동화', NULL, 30, 2);\\nINSERT INTO buyTBL VALUES (11, 'LHJ', '책', '서적', 15, 1);\\nINSERT INTO buyTBL VALUES (12, 'PSH', '운동화', NULL, 30, 2);\\n\""
      ]
     },
     "execution_count": 2,
     "metadata": {},
     "output_type": "execute_result"
    }
   ],
   "source": [
    "# 일부분만 명시할 경우, coloum명을 mapping해야 함.\n",
    "'''\n",
    "INSERT INTO buyTBL (num, userID, prodName, price, amount)\n",
    "VALUES (1, 'KHD','운동화',30, 2);\n",
    "'''\n",
    "\n",
    "'''\n",
    "INSERT INTO buyTBL (num, userID, prodName, price, amount)\n",
    "VALUES (2, 'KHD','노트북',1000, 1);\n",
    "'''\n",
    "\n",
    "\n",
    "# 전체 데이터\n",
    "'''\n",
    "\n",
    "CREATE TABLE userTBL -- 회원 테이블 \n",
    "( userID CHAR(8) NOT NULL PRIMARY KEY, -- 사용자 아이디(PK) \n",
    "  userName VARCHAR(10) NOT NULL, -- 이름 \n",
    "  birthYear INT NOT NULL, -- 출생 연도 \n",
    "  addr CHAR(2) NOT NULL, -- 지역(경기, 서울, 경남 식으로 2글자만 입력) \n",
    "  mobile1 CHAR(3), -- 휴대폰의 국번(011, 016, 017, 018, 019, 010 등) \n",
    "  mobile2 CHAR(8), -- 휴대폰의 나머지 번호(하이픈 제외) \n",
    "  height SMALLINT, -- 키 \n",
    "  mDate DATE -- 회원 가입일\n",
    ");\n",
    "CREATE TABLE buyTBL -- 구매 테이블 \n",
    "( num INTEGER   PRIMARY KEY AUTOINCREMENT, \n",
    "  userID CHAR(8) NOT NULL, -- 아이디(FK) \n",
    "  prodName CHAR(6) NOT NULL, -- 물품 \n",
    "  groupName CHAR(4), -- 분류 \n",
    "  price INT NOT NULL, -- 단가 \n",
    "  amount SMALLINT NOT NULL, -- 수량 \n",
    "  FOREIGN KEY (userID) REFERENCES userTBL (userID)\n",
    ");\n",
    "\n",
    "INSERT INTO userTBL VALUES ('KHD', '강호동', 1970, '경북', '011', '2222', 182, '2007-7-7');\n",
    "INSERT INTO userTBL VALUES ('KKJ', '김국진', 1965, '서울', '019', '33333333', 171, '2009-9-9');\n",
    "INSERT INTO userTBL VALUES ('KYM', '김용만', 1967, '서울', '010', '44444444', 177, '2015-5-5');\n",
    "INSERT INTO userTBL VALUES ('KJD', '김제동', 1974, '경남', NULL , NULL, 173, '2013-3-3');\n",
    "INSERT INTO userTBL VALUES ('NHS', '남희석', 1971, '충남', '016', '66666666', 180, '2017-4-4');\n",
    "INSERT INTO userTBL VALUES ('SDY', '신동엽', 1971, '경기', NULL, NULL, 176, '2008-10-10');\n",
    "INSERT INTO userTBL VALUES ('LHJ', '이휘재', 1972, '경기', '011', '88888888', 180, '2006-4-4');\n",
    "INSERT INTO userTBL VALUES ('LKK', '이경규', 1960, '경남', '018', '99999999', 170, '2004-12-12');\n",
    "INSERT INTO userTBL VALUES ('PSH', '박수홍', 1970, '서울', '010', '00000000', 183, '2012-5-5');\n",
    "\n",
    "INSERT INTO buyTBL VALUES (NULL, 'KHD', '운동화', NULL, 30, 2);\n",
    "INSERT INTO buyTBL VALUES (NULL, 'KHD', '노트북', '전자', 1000, 1);\n",
    "INSERT INTO buyTBL VALUES (NULL, 'KYM', '모니터', '전자', 200, 1);\n",
    "INSERT INTO buyTBL VALUES (NULL, 'PSH', '모니터', '전자', 200, 5);\n",
    "INSERT INTO buyTBL VALUES (NULL, 'KHD', '청바지', '의류', 50, 3);\n",
    "INSERT INTO buyTBL VALUES (NULL, 'PSH', '메모리', '전자', 80, 10);\n",
    "INSERT INTO buyTBL VALUES (NULL, 'KJD', '책', '서적', 15, 5);\n",
    "INSERT INTO buyTBL VALUES (NULL, 'LHJ', '책', '서적', 15, 2);\n",
    "INSERT INTO buyTBL VALUES (NULL, 'LHJ', '청바지', '의류', 50, 1);\n",
    "INSERT INTO buyTBL VALUES (NULL, 'PSH', '운동화', NULL, 30, 2);\n",
    "INSERT INTO buyTBL VALUES (NULL, 'LHJ', '책', '서적', 15, 1);\n",
    "INSERT INTO buyTBL VALUES (NULL, 'PSH', '운동화', NULL, 30, 2);'''\n"
   ]
  },
  {
   "cell_type": "markdown",
   "metadata": {},
   "source": [
    "### 2.3. SELECT"
   ]
  },
  {
   "cell_type": "markdown",
   "metadata": {
    "ExecuteTime": {
     "end_time": "2020-02-17T02:50:56.628518Z",
     "start_time": "2020-02-17T02:50:56.623487Z"
    }
   },
   "source": [
    "#### group by\n",
    "\n",
    ">지역별로 몇명인지 세기\n",
    "- <font color = 'red'>select 다음에 컬럼명 쓰기</font>"
   ]
  },
  {
   "cell_type": "code",
   "execution_count": null,
   "metadata": {},
   "outputs": [],
   "source": [
    "'''\n",
    "SELECT  addr, count(*) FROM userTBL\n",
    "group by addr;\n",
    "'''\n",
    "# 같은 결과\n",
    "'''\n",
    "SELECT  addr, count(addr) FROM userTBL\n",
    "group by addr;\n",
    "'''"
   ]
  },
  {
   "cell_type": "markdown",
   "metadata": {
    "ExecuteTime": {
     "end_time": "2020-02-17T02:53:25.818500Z",
     "start_time": "2020-02-17T02:53:25.813505Z"
    }
   },
   "source": [
    "> buyTBL에서 품목별로 몇개인지 세기"
   ]
  },
  {
   "cell_type": "code",
   "execution_count": 6,
   "metadata": {
    "ExecuteTime": {
     "end_time": "2020-02-17T02:53:30.508082Z",
     "start_time": "2020-02-17T02:53:30.501087Z"
    }
   },
   "outputs": [
    {
     "data": {
      "text/plain": [
       "'\\nSELECT  groupName, count(*) FROM buyTBL\\ngroup by groupName;\\n\\n'"
      ]
     },
     "execution_count": 6,
     "metadata": {},
     "output_type": "execute_result"
    }
   ],
   "source": [
    "'''\n",
    "SELECT  groupName, count(*) FROM buyTBL\n",
    "group by groupName;\n",
    "\n",
    "'''"
   ]
  },
  {
   "cell_type": "markdown",
   "metadata": {},
   "source": [
    "> 유저별로 낼 돈 계산하기"
   ]
  },
  {
   "cell_type": "code",
   "execution_count": null,
   "metadata": {},
   "outputs": [],
   "source": [
    "'''\n",
    "SELECT  userID, sum(price*amount) from buyTBL\n",
    "group by userID\n",
    "'''"
   ]
  },
  {
   "cell_type": "markdown",
   "metadata": {
    "ExecuteTime": {
     "end_time": "2020-02-17T04:07:58.026496Z",
     "start_time": "2020-02-17T04:07:58.023432Z"
    }
   },
   "source": [
    "### 2.4. table 지우기"
   ]
  },
  {
   "cell_type": "code",
   "execution_count": 7,
   "metadata": {
    "ExecuteTime": {
     "end_time": "2020-02-17T04:07:54.314830Z",
     "start_time": "2020-02-17T04:07:54.311872Z"
    }
   },
   "outputs": [
    {
     "ename": "SyntaxError",
     "evalue": "invalid syntax (<ipython-input-7-46ddd2641055>, line 2)",
     "output_type": "error",
     "traceback": [
      "\u001b[1;36m  File \u001b[1;32m\"<ipython-input-7-46ddd2641055>\"\u001b[1;36m, line \u001b[1;32m2\u001b[0m\n\u001b[1;33m    drop table buyTBL;\u001b[0m\n\u001b[1;37m             ^\u001b[0m\n\u001b[1;31mSyntaxError\u001b[0m\u001b[1;31m:\u001b[0m invalid syntax\n"
     ]
    }
   ],
   "source": [
    "'''\n",
    "drop table buyTBL;\n",
    "drop table userTBL;\n",
    "'''"
   ]
  },
  {
   "cell_type": "markdown",
   "metadata": {},
   "source": [
    "### 2.5. join\n",
    "- 두 개의 table을 묶어서 하나의 결과 테이블을 만드는 것."
   ]
  },
  {
   "cell_type": "markdown",
   "metadata": {},
   "source": [
    "#### 내부 조인\n",
    "- 2개 * 3개 = 6개를 모두 갖고 옴.\n",
    "- 첫번재 record에 두번째 테이블의 모든 row를 갖다 붙이기\n",
    "- 의미 없는 정보가 너무 많음.\n",
    "- 모든 데이터를 포함하는 3개만 갖고와야 함..\n",
    "- userTBL(9개) * buyTBL(12) = 108"
   ]
  },
  {
   "cell_type": "code",
   "execution_count": null,
   "metadata": {},
   "outputs": [],
   "source": [
    "# row 개수 세기\n",
    "'''\n",
    "select count(*) from userTBL\n",
    "'''"
   ]
  },
  {
   "cell_type": "code",
   "execution_count": null,
   "metadata": {},
   "outputs": [],
   "source": [
    "# 내부 조인\n",
    "'''\n",
    "select * from userTBL, buyTBL\n",
    "'''"
   ]
  },
  {
   "cell_type": "markdown",
   "metadata": {},
   "source": [
    "#### 내부 조인 조건 추가"
   ]
  },
  {
   "cell_type": "code",
   "execution_count": null,
   "metadata": {},
   "outputs": [],
   "source": [
    "'''\n",
    "select * from userTBL, buyTBL\n",
    "where userTBL.userid = buyTBL.userID;\n",
    "'''"
   ]
  },
  {
   "cell_type": "code",
   "execution_count": null,
   "metadata": {},
   "outputs": [],
   "source": [
    "'''\n",
    "SELECT userTBL.userID, username, sum(amount), sum(amount*price)\n",
    " from userTBL, buyTBL\n",
    " WHERE userTBL.userID = buyTBL.userID\n",
    " GROUP BY userTBL.userID, username\n",
    "'''\n",
    "\n"
   ]
  },
  {
   "cell_type": "markdown",
   "metadata": {},
   "source": [
    "### 2.6. 정렬"
   ]
  },
  {
   "cell_type": "code",
   "execution_count": 9,
   "metadata": {
    "ExecuteTime": {
     "end_time": "2020-02-17T04:27:09.994678Z",
     "start_time": "2020-02-17T04:27:09.990714Z"
    }
   },
   "outputs": [
    {
     "data": {
      "text/plain": [
       "'\\nSELECT userTBL.userID, username, sum(amount), sum(amount*price)\\n from userTBL, buyTBL\\n WHERE userTBL.userID = buyTBL.userID\\n GROUP BY userTBL.userID, username\\n order by userTBL.userID   \\n\\n'"
      ]
     },
     "execution_count": 9,
     "metadata": {},
     "output_type": "execute_result"
    }
   ],
   "source": [
    "# userID기분으로 정렬\n",
    "'''\n",
    "SELECT userTBL.userID, username, sum(amount), sum(amount*price)\n",
    " from userTBL, buyTBL\n",
    " WHERE userTBL.userID = buyTBL.userID\n",
    " GROUP BY userTBL.userID, username\n",
    " order by userTBL.userID   \n",
    "\n",
    "'''"
   ]
  },
  {
   "cell_type": "markdown",
   "metadata": {},
   "source": [
    "#### as: 별명으로..<font color = 'red'>생략 가능!!!</font>"
   ]
  },
  {
   "cell_type": "code",
   "execution_count": null,
   "metadata": {},
   "outputs": [],
   "source": [
    "'''\n",
    "SELECT userTBL.userID, username, sum(amount), \n",
    "sum(amount*price) total\n",
    " from userTBL, buyTBL\n",
    " WHERE userTBL.userID = buyTBL.userID\n",
    " GROUP BY userTBL.userID, username\n",
    " order by total\n",
    "'''"
   ]
  },
  {
   "cell_type": "code",
   "execution_count": null,
   "metadata": {},
   "outputs": [],
   "source": [
    "'''\n",
    "SELECT u.userID, username, sum(amount), \n",
    "sum(amount*price) total\n",
    " from userTBL u, buyTBL b\n",
    " WHERE u.userID = b.userID\n",
    " GROUP BY u.userID, username\n",
    " order by total\n",
    " '''"
   ]
  },
  {
   "cell_type": "code",
   "execution_count": null,
   "metadata": {},
   "outputs": [],
   "source": [
    "'''\n",
    "SELECT addr, sum(amount), sum(amount*price) total, count(*)\n",
    "from userTBL u, buyTBL b\n",
    "where u.userID= b.userID\n",
    "group by addr\n",
    "order by total\n",
    "\n",
    "'''"
   ]
  },
  {
   "cell_type": "markdown",
   "metadata": {},
   "source": [
    "### 2.7. having: 조건절\n",
    "- where: 데이터를 갖고온 후 사용\n",
    "- having; group by 한 이후에 사용가능"
   ]
  },
  {
   "cell_type": "code",
   "execution_count": null,
   "metadata": {},
   "outputs": [],
   "source": [
    "'''\n",
    "SELECT addr, sum(amount), sum(amount*price) total, count(*)\n",
    "from userTBL u, buyTBL b\n",
    "where u.userID= b.userID\n",
    "group by addr\n",
    "having total > 170\n",
    "order by total\n",
    "'''"
   ]
  }
 ],
 "metadata": {
  "kernelspec": {
   "display_name": "Python 3",
   "language": "python",
   "name": "python3"
  },
  "language_info": {
   "codemirror_mode": {
    "name": "ipython",
    "version": 3
   },
   "file_extension": ".py",
   "mimetype": "text/x-python",
   "name": "python",
   "nbconvert_exporter": "python",
   "pygments_lexer": "ipython3",
   "version": "3.7.5"
  },
  "toc": {
   "base_numbering": 1,
   "nav_menu": {},
   "number_sections": false,
   "sideBar": true,
   "skip_h1_title": false,
   "title_cell": "Table of Contents",
   "title_sidebar": "Contents",
   "toc_cell": false,
   "toc_position": {},
   "toc_section_display": true,
   "toc_window_display": true
  },
  "varInspector": {
   "cols": {
    "lenName": 16,
    "lenType": 16,
    "lenVar": 40
   },
   "kernels_config": {
    "python": {
     "delete_cmd_postfix": "",
     "delete_cmd_prefix": "del ",
     "library": "var_list.py",
     "varRefreshCmd": "print(var_dic_list())"
    },
    "r": {
     "delete_cmd_postfix": ") ",
     "delete_cmd_prefix": "rm(",
     "library": "var_list.r",
     "varRefreshCmd": "cat(var_dic_list()) "
    }
   },
   "types_to_exclude": [
    "module",
    "function",
    "builtin_function_or_method",
    "instance",
    "_Feature"
   ],
   "window_display": false
  }
 },
 "nbformat": 4,
 "nbformat_minor": 2
}
