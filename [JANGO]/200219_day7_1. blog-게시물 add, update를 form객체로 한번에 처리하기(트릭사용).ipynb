{
 "cells": [
  {
   "cell_type": "markdown",
   "metadata": {},
   "source": [
    "# 1. Pk를 사용해서 add, update를 함께 사용하기\n",
    "#### get 방식 : form 띄우기\n",
    "- add할 때는 빈 칸 띄우기\n",
    "- 수정할 때는 이전 데이터 띄우기"
   ]
  },
  {
   "cell_type": "code",
   "execution_count": null,
   "metadata": {},
   "outputs": [],
   "source": [
    "#views.py\n",
    "'''\n",
    "# 특정 post를 수정해야 함 -> 파라미터를 받아야 함(pk= id)\n",
    "class PostEditView(View):\n",
    "    def get(self, request, pk):\n",
    "        # add할 때\n",
    "        if pk == 0:\n",
    "            form = PostForm()\n",
    "\n",
    "        # pk값이 있을 때(수정)\n",
    "        else:\n",
    "            post = get_object_or_404(Post, pk = pk)\n",
    "            form = PostForm(initial = {'title': post.title, 'text': post.text})\n",
    "        return render(request, 'blog/edit.html', {'form': form ,'pk':pk})\n",
    "\n",
    "    def post(self, request, pk):\n",
    "        \n",
    "        form = PostForm(request.POST)\n",
    "        # validator를 통화하면 처리\n",
    "        if form.is_valid():\n",
    "            post = get_object_or_404(Post, pk = pk)\n",
    "            post.title = form['title'].value()\n",
    "            post.text = form['text'].value()\n",
    "            post.publish()\n",
    "\n",
    "            return redirect('list')\n",
    "        return render(request, 'blog/edit.html', {'form': form ,'pk':pk})\n",
    "'''"
   ]
  },
  {
   "cell_type": "markdown",
   "metadata": {},
   "source": [
    "## 트릭: action값을 빼면 -> 자기 자신이 호출됨\n",
    "\n",
    "> 수정전:\n",
    "- action값을 add, edit를 줌\n",
    "- add일 때는 pk가 반드시 필요하기 때문에 action에 pk값을 전달해줌.\n",
    "- 주소값을 pk를 사용할 수 있도록 만듦."
   ]
  },
  {
   "cell_type": "code",
   "execution_count": null,
   "metadata": {},
   "outputs": [],
   "source": [
    "# edit.html 수정 전\n",
    "'''\n",
    "<form action=\"{% url 'edit' pk %}\" method=post>\n",
    "    {% csrf_token %}\n",
    " \n",
    "        {{ form.as_p }}\n",
    " \n",
    "    <input type=\"submit\" value=\"작성\" >\n",
    " \n",
    " </form>\n",
    " \n",
    "\n",
    "\n",
    "'''"
   ]
  },
  {
   "cell_type": "markdown",
   "metadata": {
    "ExecuteTime": {
     "end_time": "2020-02-19T00:26:43.469976Z",
     "start_time": "2020-02-19T00:26:43.464990Z"
    }
   },
   "source": [
    "> 수정후\n",
    "- action을 제거하면 자기 자신을 호출\n",
    "- 이미 url에 pk값을 갖고 있기 때문에 action에서 pk값을 따로 전달할 필요가 없음.\n",
    "- 굳이 pk를 명시하지 않아도 pk를 전달할 수 있음."
   ]
  },
  {
   "cell_type": "code",
   "execution_count": null,
   "metadata": {},
   "outputs": [],
   "source": [
    "# edit.html수정 후\n",
    "'''\n",
    "<script src=\"http://code.jquery.com/jquery-1.11.3.min.js\"></script>\n",
    "<script src=\"http://code.jquery.com/jquery-migrate-1.2.1.min.js\"></script>\n",
    "\n",
    " <style>\n",
    "      .bg { background-color: #eeeeee; }\n",
    "      .bd { border: 1px solid #666666; }\n",
    " </style>\n",
    "\n",
    "{% if form.title.value %}\n",
    "<h1>  수정하기 </h1>\n",
    "{% else %}\n",
    "<h1>  신규작성</h1>\n",
    "{% endif %}\n",
    "\n",
    "\n",
    "<form method=post>\n",
    "   {% csrf_token %}\n",
    "   \t{{ form.as_p }}\n",
    "\n",
    "   <input type=\"submit\" value=\"작성\" >\n",
    "\n",
    "</form>\n",
    "\n",
    "<script>\n",
    "   $(\"#id_title\").addClass('bg bd');\n",
    "</script>\n",
    "\n",
    "\n",
    "'''"
   ]
  },
  {
   "cell_type": "markdown",
   "metadata": {
    "ExecuteTime": {
     "end_time": "2020-02-19T00:28:35.548997Z",
     "start_time": "2020-02-19T00:28:35.544993Z"
    }
   },
   "source": [
    "# 2. form 객체를 꾸미기\n",
    "\n",
    "> html을 사용\n",
    "- 수동적이지만, 자유도가 높음.\n",
    "> form 사용\n",
    "- 편리하지만, 우리가 생성한 것이 아니라 자유도가 낮음 -> jquery 사용"
   ]
  },
  {
   "cell_type": "code",
   "execution_count": null,
   "metadata": {},
   "outputs": [],
   "source": [
    "#  edit.html\n",
    "'''\n",
    "<script src=\"http://code.jquery.com/jquery-1.11.3.min.js\"></script>\n",
    "<script src=\"http://code.jquery.com/jquery-migrate-1.2.1.min.js\"></script>\n",
    "\n",
    " <style>\n",
    "      .bg { background-color: #eeeeee; }\n",
    "      .bd { border: 1px solid #666666; }\n",
    " </style>\n",
    "\n",
    "{% if form.title.value %}\n",
    "<h1>  수정하기 </h1>\n",
    "{% else %}\n",
    "<h1>  신규작성</h1>\n",
    "{% endif %}\n",
    "\n",
    "\n",
    "<form method=post>\n",
    "   {% csrf_token %}\n",
    "   \t{{ form.as_p }}\n",
    "\n",
    "   <input type=\"submit\" value=\"작성\" >\n",
    "\n",
    "</form>\n",
    "\n",
    "<script>\n",
    "    // table에서 id의 title 노드에 bg, bd 속성 적용하기\n",
    "   $(\"#id_title\").addClass('bg bd');\n",
    "</script>\n",
    "\n",
    "'''"
   ]
  },
  {
   "cell_type": "markdown",
   "metadata": {},
   "source": [
    "# 3. update할 때 일일이 값을 넣기 어려움\n",
    "- db와 form이 영향이 없기 때문에(독립적)\n",
    "- 하나하나 매핑해야 함."
   ]
  },
  {
   "cell_type": "code",
   "execution_count": null,
   "metadata": {},
   "outputs": [],
   "source": [
    "# 수정전 Form class 상속 받았을 때\n",
    "'''\n",
    "class PostForm(Form):\n",
    "    title = CharField(label = '제목', max_length = 20, validators=[validator])\n",
    "    text = CharField(label = '내용', widget = Textarea) # widget: ui를 의미\n",
    "'''"
   ]
  },
  {
   "cell_type": "code",
   "execution_count": 3,
   "metadata": {
    "ExecuteTime": {
     "end_time": "2020-02-19T01:20:52.599467Z",
     "start_time": "2020-02-19T01:20:52.589494Z"
    }
   },
   "outputs": [
    {
     "data": {
      "text/plain": [
       "\"\\nPost.objects.create(title = form['title'].value(), text = form['text'].value(), author = user)\\n\\n\\n\""
      ]
     },
     "execution_count": 3,
     "metadata": {},
     "output_type": "execute_result"
    }
   ],
   "source": [
    "# 수정전 vies.py\n",
    "\n",
    "\n",
    "'''\n",
    "post = get_object_or_404(Post, pk = pk)\n",
    "form = PostForm(initial = {'title': post.title, 'text': post.text})\n",
    "\n",
    "'''\n",
    "\n",
    "'''\n",
    "Post.objects.create(title = form['title'].value(), text = form['text'].value(), author = user)\n",
    "\n",
    "\n",
    "'''"
   ]
  },
  {
   "cell_type": "markdown",
   "metadata": {},
   "source": [
    "### form과 model 합리기\n",
    "- form으로 상속받지 않고, ModelForm에서 상속받기\n",
    "\n",
    "### ModelForm class\n",
    "- 일일이 form tag를 만들 필요 없다\n",
    "- 내가 필요한 fiele값만 갖고와서 사용할 수 있다\n",
    "- 주의: 장고model을 사용해서 dab를 구성하는 경우에만 사용가능\n",
    "- 이미 db가 생성되어있어서 장고 orm을 사용할 수 없는 경우에는 그냥 form class를 상속받아서 사용해야 함."
   ]
  },
  {
   "cell_type": "code",
   "execution_count": null,
   "metadata": {},
   "outputs": [],
   "source": [
    "# 수정후: \n",
    "'''\n",
    "def PostForm(formsModelForm):\n",
    "        # 부가적인 정보를 입력하는 calss\n",
    "        class Meta:\n",
    "            # model: 정해진 변수명\n",
    "            model = Post\n",
    "            filed = ['title', 'text']\n",
    "\n",
    "'''"
   ]
  },
  {
   "cell_type": "markdown",
   "metadata": {},
   "source": [
    "### ModelForm에서 validator 설정하기"
   ]
  },
  {
   "cell_type": "code",
   "execution_count": null,
   "metadata": {},
   "outputs": [],
   "source": [
    "'''\n",
    "# ModelForm class를 상속받았을 때\n",
    "def PostForm(formsModelForm):\n",
    "        # 부가적인 정보를 입력하는 calss\n",
    "        class Meta:\n",
    "            # model: 정해진 변수명\n",
    "            model = Post\n",
    "            filed = ['title', 'text']\n",
    "        def __init__(self, *args, **kwargs):\n",
    "            super(PostForm, self).__init__(*args, **kwargs)\n",
    "            self.fileds['title'].validator=[validator]\n",
    "'''"
   ]
  },
  {
   "cell_type": "code",
   "execution_count": null,
   "metadata": {},
   "outputs": [],
   "source": []
  },
  {
   "cell_type": "markdown",
   "metadata": {},
   "source": [
    "# 4. forms.py 따로 관리하기\n",
    "- forms에 관련된 코드를 분리해서 관리하기\n",
    "- 관행적으로 forms, views, models.py가 있음"
   ]
  },
  {
   "cell_type": "code",
   "execution_count": null,
   "metadata": {},
   "outputs": [],
   "source": [
    "#forms.py\n",
    "'''\n",
    "\n",
    "from . import models\n",
    "from django.forms import ValidationError\n",
    "from django import forms\n",
    "\n",
    "\n",
    "def validator(value):\n",
    "    if len(value) < 5 : raise  ValidationError('길이가 너무 짧아요')\n",
    "\n",
    "\n",
    "class PostForm(forms.ModelForm):\n",
    "        # 부가적인 정보를 입력하는 calss\n",
    "    class Meta:\n",
    "        # model: 정해진 변수명\n",
    "        model = models.Post\n",
    "        fields = ['title', 'text']\n",
    "        \n",
    "    def __init__(self, *args, **kwargs):\n",
    "        super(PostForm, self).__init__(*args, **kwargs)\n",
    "        self.fields['title'].validator=[validator]\n",
    "\n",
    "\n",
    "'''"
   ]
  },
  {
   "cell_type": "code",
   "execution_count": null,
   "metadata": {},
   "outputs": [],
   "source": [
    "# views.py\n",
    "'''\n",
    "# ModelForm class를 상속받았을 때\n",
    "class PostEditView(View) :\n",
    "    def get(self, request, pk):\n",
    "        if pk == 0 :\n",
    "            form = forms.PostForm()\n",
    "        else :\n",
    "            post = get_object_or_404(models.Post, pk=pk)\n",
    "            form = forms.PostForm(instance=post)\n",
    "        return render(request, \"blog/edit.html\", {\"form\":form})\n",
    "\n",
    "    def post(self, request, pk):\n",
    "\n",
    "        username = request.session[\"username\"]\n",
    "        user = User.objects.get(username=username)\n",
    "\n",
    "        if pk == 0:\n",
    "            form = forms.PostForm(request.POST)\n",
    "        else:\n",
    "            post = get_object_or_404(Post, pk=pk)\n",
    "            form = forms.PostForm(request.POST, instance=post)\n",
    "\n",
    "        if form.is_valid():\n",
    "            post = form.save(commit=False)\n",
    "            if pk == 0:\n",
    "                post.author = user\n",
    "                post.save()\n",
    "            else :\n",
    "                post.publish()\n",
    "            return redirect(\"list\")\n",
    "        return render(request, \"blog/edit.html\", {\"form\": form})\n",
    "            \n",
    "          \n",
    "\n",
    "'''"
   ]
  },
  {
   "cell_type": "markdown",
   "metadata": {},
   "source": [
    "# 5. 한번 더 모듈화하기"
   ]
  },
  {
   "cell_type": "markdown",
   "metadata": {
    "ExecuteTime": {
     "end_time": "2020-02-19T02:08:20.955674Z",
     "start_time": "2020-02-19T02:08:20.951726Z"
    }
   },
   "source": [
    "> 함수로 구현한 것\n",
    "- get 방식으로 호출하도록 구현했음.\n",
    "\n",
    "###  url를 통일하기\n",
    "- <int: pk> / <mode>로 만들기\n",
    "    "
   ]
  },
  {
   "cell_type": "markdown",
   "metadata": {},
   "source": [
    "> get 방식으로 호출할때 규칙\n",
    "-  리스트를 출력할 때: 0/list\n",
    "-  5번 포스트 보여줘: 5/detail\n",
    "- 신규 데이터 작성: 0/add   -? 버튼 누르면 post 발생\n",
    "- 5번 포스트 수정: 5/edit   -> 버튼 누르면 post 발생"
   ]
  },
  {
   "cell_type": "markdown",
   "metadata": {},
   "source": [
    "## 5.1. get 방식부터 (클라이언트에서 요청할 때)"
   ]
  },
  {
   "cell_type": "code",
   "execution_count": null,
   "metadata": {},
   "outputs": [],
   "source": [
    "# urls.py\n",
    "'''\n",
    "urlpatterns = [\n",
    "    path('', views.index),\n",
    "    path('login/', views.LoginView.as_view(), name ='login'),\n",
    "\n",
    "    # 최종버전\n",
    "    # 이 뷰가 실행되기 위해서는 파라미터가 2개 있어야 함!\n",
    "    path('<int:pk>/<mode>', views.PostEditView.as_view(), name = 'edit')\n",
    "]\n",
    "\n",
    "'''"
   ]
  },
  {
   "cell_type": "code",
   "execution_count": null,
   "metadata": {},
   "outputs": [],
   "source": [
    "# views.py\n",
    "'''\n",
    "class PostEditView(View) :\n",
    "    def get(self, request, pk, mode):\n",
    "        print(pk, mode)\n",
    "        if mode =='add':\n",
    "            # pk값은 상관없음.\n",
    "            form = forms.PostForm()\n",
    "        elif mode == 'list':\n",
    "            # pk값 상관없음.\n",
    "            username = request.session.get('username', '')\n",
    "            user = User.objects.get(username =username)\n",
    "            data= models.Post.objects.all().filter(author = user)\n",
    "            context = {'data': data,'username': username}\n",
    "            return render (request,'blog/list.html', context)\n",
    "        elif mode =='detail':\n",
    "            p = get_object_or_404(Post, pk = pk)\n",
    "            return render(request, 'blog/detail.html', {'d': p})\n",
    "        elif mode == 'edit':\n",
    "            post = get_object_or_404(models.Post, pk=pk)\n",
    "            form = forms.PostForm(instance=post)\n",
    "        elif mode =='delete':\n",
    "            post = get_object_or_404(models.Post, pk=pk)\n",
    "            post.delete()\n",
    "            return redirect('/0/list')\n",
    "        else:\n",
    "            return HttpResponse('mode를 잘 입력하세용')\n",
    "        return render(request, \"blog/edit.html\", {\"form\":form})\n",
    "\n",
    "\n",
    "\n",
    "'''"
   ]
  },
  {
   "cell_type": "code",
   "execution_count": null,
   "metadata": {},
   "outputs": [],
   "source": [
    "# list.html\n",
    "'''\n",
    "<!-- import, includ 개념 -->\n",
    "{% extends 'blog/base.html' %}\n",
    "\n",
    "\n",
    "<!-- base template안의 위치 지정 -->\n",
    "\n",
    "{% block content %}\n",
    "    <br>\n",
    "    <!-- urls.py에 잇는 패턴: edit 밖에 없음.\n",
    "     생성되는 url: blog/0/add/ -->\n",
    "    <a href=\"{% url 'edit' 0 'add' %}\">Add </a> <br>\n",
    "    여기부터 sub-template<br>\n",
    "\n",
    "    {% for d in data%}\n",
    "        <!-- 생성되는 url: /bolg/5/detail -->\n",
    "    \n",
    "            <a href=\"{url 'edit' d.pk 'detail' %}\">{{d.title}}</a>\n",
    "       <br>\n",
    "    {%endfor%}\n",
    "\n",
    "\n",
    "    \n",
    "\n",
    "{% endblock %}\n",
    "\n",
    "\n",
    "\n",
    "'''"
   ]
  }
 ],
 "metadata": {
  "kernelspec": {
   "display_name": "Python 3",
   "language": "python",
   "name": "python3"
  },
  "language_info": {
   "codemirror_mode": {
    "name": "ipython",
    "version": 3
   },
   "file_extension": ".py",
   "mimetype": "text/x-python",
   "name": "python",
   "nbconvert_exporter": "python",
   "pygments_lexer": "ipython3",
   "version": "3.6.10"
  },
  "toc": {
   "base_numbering": 1,
   "nav_menu": {},
   "number_sections": false,
   "sideBar": true,
   "skip_h1_title": false,
   "title_cell": "Table of Contents",
   "title_sidebar": "Contents",
   "toc_cell": false,
   "toc_position": {},
   "toc_section_display": true,
   "toc_window_display": true
  },
  "varInspector": {
   "cols": {
    "lenName": 16,
    "lenType": 16,
    "lenVar": 40
   },
   "kernels_config": {
    "python": {
     "delete_cmd_postfix": "",
     "delete_cmd_prefix": "del ",
     "library": "var_list.py",
     "varRefreshCmd": "print(var_dic_list())"
    },
    "r": {
     "delete_cmd_postfix": ") ",
     "delete_cmd_prefix": "rm(",
     "library": "var_list.r",
     "varRefreshCmd": "cat(var_dic_list()) "
    }
   },
   "types_to_exclude": [
    "module",
    "function",
    "builtin_function_or_method",
    "instance",
    "_Feature"
   ],
   "window_display": false
  }
 },
 "nbformat": 4,
 "nbformat_minor": 4
}
