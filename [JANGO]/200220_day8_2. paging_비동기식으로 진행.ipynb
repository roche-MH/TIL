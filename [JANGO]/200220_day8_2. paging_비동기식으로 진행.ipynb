{
 "cells": [
  {
   "cell_type": "markdown",
   "metadata": {},
   "source": [
    "# AJAX방식으로 구현하기\n",
    "\n",
    "# 1. 수정후, 기존의 page번호가 나오게하기\n",
    "> 수정한 후\n",
    "- 두번째 페이지에서 수정했으면, 수정한 후, 두번째 페이지로 나와야함\n",
    "- 되돌아갈 페이지에 대한 정보가 있어야 함.\n",
    "\n",
    "\n",
    "> 수정한다고 한 이후, 목록으로 다시 가기\n",
    "- 리스트로 가야 하는데 page1로 가면 안되니까\n",
    "- 이전 페이지로 가게 만들어야 함.\n",
    ">> 이전페이지로 가기: \n",
    "- 자바스크립트에서 history.back하면 가능\n",
    "- 그러나 수정된 사항은 반영안됨\n",
    "\n",
    "> add할 때\n",
    "- ordering이 안되어 있으므로 최근거부터 나오게 하기\n",
    "- 상관없음.\n",
    "\n",
    "\n",
    "> 수정을 만들 때 rink에 page번호를 같이 넣어줘야 함.\n",
    "- url 체계에 주는 것이 명확함"
   ]
  },
  {
   "cell_type": "markdown",
   "metadata": {},
   "source": [
    "## 1.1. url체계를 바꾸기\n",
    "\n",
    "### 비동기식으로 데이터 수정을 클라이언트에서 처리\n",
    "> 데이터가 없어지면\n",
    "- redirect하기 때문에 서버가 다시 데이터를 계산해서 다시 렌더링해서 보내야 함.\n",
    "- Ajax 개념 사용하기\n",
    "\n",
    "\n",
    "> Ajax개념\n",
    "- 페이지를 갱신하지 않고,\n",
    "- 페이지방식으로 하면 업데이트 된 것만 지울 수 없음.\n",
    "- 지워주세요 요청하면 화면은 그대로 두고\n",
    "- 특정 url 요청(이 데이터 지워주세요)\n",
    "- 옛날 데이터를 갖고 있는 상태에서 html에서만 지우기\n",
    "\n",
    "> 다시 list를 생성하는 작업\n",
    "- 데이터양도 많고\n",
    "- 사용자도 많으므로\n",
    "- view 화면을 한번 갱신하는 것은 힘든작업\n",
    "- 서버의 가용성을 높일 수 잇음.\n",
    "\n",
    "> 프론트엔드에서\n",
    "- 데이터를 처리\n",
    "- 클라이언트 사이드 처리"
   ]
  },
  {
   "cell_type": "markdown",
   "metadata": {},
   "source": [
    "# 2. 페이지 번호 누르지 않아도 스크롤로 다음 페이지 가져오도록 하기\n",
    "> 데이터 바인딩\n",
    "+ 누르면\n",
    "- 기존의 데이터 아래 새로운 데이터 아래 같이 보여주기\n",
    "- 서버에 부담(네트워크 트래픽 증가)\n",
    "- -> json형태로 갖고와서 클라이언트에서 원래 데이터에 붙이기"
   ]
  },
  {
   "cell_type": "markdown",
   "metadata": {},
   "source": [
    "## 2.1. get 방식\n",
    "### 2.1.1 지워달라는 요청, 데이터를 보내달라는 요청을 따로 처리\n",
    "\n",
    "- ajaxdel(): 지우는 함수\n",
    "- ajaxget(): 데이터 보내는 함수(page번호를 요청했을 때 데이터를 page 단위로 보내주기)"
   ]
  },
  {
   "cell_type": "code",
   "execution_count": 1,
   "metadata": {
    "ExecuteTime": {
     "end_time": "2020-02-20T02:29:05.720980Z",
     "start_time": "2020-02-20T02:29:05.704995Z"
    }
   },
   "outputs": [
    {
     "data": {
      "text/plain": [
       "\"\\nfrom django.urls import path\\nfrom . import views \\nfrom django.shortcuts import redirect\\n\\nurlpatterns = [\\n    path('', views.page),\\n    path('ajaxdel', views.ajaxdel),\\n    path('ajaxget', views.ajaxget),\\n    path('<category>/<int:pk>/<mode>', views.BoardView.as_view(), name = 'myboard'),\\n    ]\\n\\n\""
      ]
     },
     "execution_count": 1,
     "metadata": {},
     "output_type": "execute_result"
    }
   ],
   "source": [
    "# urls.py\n",
    "'''\n",
    "from django.urls import path\n",
    "from . import views \n",
    "from django.shortcuts import redirect\n",
    "\n",
    "urlpatterns = [\n",
    "    path('', views.page),\n",
    "    path('ajaxdel', views.ajaxdel),\n",
    "    path('ajaxget', views.ajaxget),\n",
    "    path('<category>/<int:pk>/<mode>', views.BoardView.as_view(), name = 'myboard'),\n",
    "    ]\n",
    "\n",
    "'''"
   ]
  },
  {
   "cell_type": "code",
   "execution_count": null,
   "metadata": {},
   "outputs": [],
   "source": [
    "# views.py\n",
    "def ajaxdel(request):\n",
    "    pk = request.GET.get('pk')\n",
    "    board = models.Board.objects.all().get(pk = pk)\n",
    "    board.delete()\n",
    "    return JsonResponse({'error': '0'})\n",
    "\n",
    "\n",
    "# 특정 페이지의 모든 데이터 \n",
    "def ajaxget(request):\n",
    "    page = request.GET.get('page', 1)\n",
    "    datas = models.Board.objects.all().filter(category = 'common')\n",
    "    \n",
    "    # page개념이 아니므로 슬라이싱으로 해도 상관없음.\n",
    "    # page = int(page)\n",
    "    # subs = datas[(page-1)*3: (page*3)]\n",
    "    p = Paginator(datas, 3)\n",
    "    subs = p.page(page)\n",
    "\n",
    "    datas = {'datas': [{'pk': data.pk, 'title': data.title, 'cnt': data.cnt} for data in subs]}\n",
    "    return JsonResponse(datas)"
   ]
  },
  {
   "cell_type": "markdown",
   "metadata": {},
   "source": [
    "> 실행\n",
    "- http://127.0.0.1:8000/myboard/ajaxdel?pk=1\n",
    "- http://127.0.0.1:8000/myboard/ajaxget?page=1"
   ]
  },
  {
   "cell_type": "code",
   "execution_count": null,
   "metadata": {},
   "outputs": [],
   "source": [
    "# static > jquery.html ( = jquerytest.html)\n",
    "'''\n",
    "head>\n",
    "    <meta charset=\"UTF-8\">\n",
    "  </head>\n",
    "  \n",
    "  \n",
    "  <script src=\"http://code.jquery.com/jquery-1.11.3.min.js\"></script>\n",
    "  <script src=\"http://code.jquery.com/jquery-migrate-1.2.1.min.js\"></script>\n",
    "  \n",
    "  <button id=\"btnMore\">More</button>\n",
    "  \n",
    "  \n",
    "  \n",
    "  <div id=\"view\">\n",
    "    <div id=\"item\">\n",
    "     <a href=list?id=4> <span id=title>제목~~~~~~~~</span> </a> \n",
    "       조회수<span id=cnt> 0 </span>\n",
    "     <br>\n",
    "    <div> \n",
    "  </div>   \n",
    "  \n",
    "  <script>\n",
    "     //$(\"#view\").append(\"<a href=fefef>데이터2</a><br>\")\n",
    "     //$(\"#view\").append(\"<a href=fefef>데이터2</a><br>\")\n",
    "     //$(\"#title\").html(\"제목1\")\n",
    "     //$(\"#cnt\").text(\"10\")\n",
    "     \n",
    "     $(\"#item\").hide();  \n",
    "     \n",
    "     var page = 1\n",
    "     \n",
    "     function getPage(page) {\n",
    "          //json = {\"datas\": [{\"pk\": 1, \"title\": \"자동차 검출44343\", \"cnt\": 5}, {\"pk\": 2, \"title\": \"32321321\", \"cnt\": 0}, {\"pk\": 3, \"title\": \"32312323123\", \"cnt\": 0}]}\n",
    "          \n",
    "         $.get(\"/myboard/ajaxget\", {page:page}, function(json) {\t   \n",
    "              console.log(JSON.stringify(json));\n",
    "              \n",
    "              if ( json.datas.length == 0) alert(\"마지막페이지 입니다.\");\n",
    "              for (i = 0; i < json.datas.length; i++) {\t\t\n",
    "                  item = $(\"#item\").clone();\n",
    "                  item.show();\n",
    "                  $(\"#title\", item).html(json.datas[i].title);\n",
    "                  $(\"#cnt\", item).text(json.datas[i].cnt);      \t\t\n",
    "                  $(\"#view\").append(item);   \t\t\t\t\t\n",
    "              }   \n",
    "          });\t\t\n",
    "     }    \n",
    "     $(\"#btnMore\").click( function() {  \n",
    "              page++;\n",
    "              getPage(page);\n",
    "     });\n",
    "     \n",
    "     getPage(page);   \n",
    "     \n",
    "  \n",
    "  \n",
    "  \n",
    "  </script>\n",
    "'''"
   ]
  },
  {
   "cell_type": "markdown",
   "metadata": {
    "variables": {
     "data.pagenum": "<p><strong>NameError</strong>: name &#39;data&#39; is not defined</p>\n"
    }
   },
   "source": [
    "## 2.1 url체계를 바꾸기 어려운 경우\n",
    "- url에 있는 파라미터 정보를 넘겨주기\n",
    "\n",
    "> post방식에서 action을 해야 하느네\n",
    "- action값이 자기 자긴이름이므로\n",
    "<input type = 'hidden' name = \"page\" value = {{data.pagenum}}>으로 보이지 않지만 값을 갖고 다니면서 보녀줘야 함."
   ]
  },
  {
   "cell_type": "markdown",
   "metadata": {},
   "source": [
    "## 2.3. 쿠키 정보도 있으나 잘 사용하지 않음.\n",
    "> 또 다른 방법: 쿠키 데이터에 기록할 수도 있음.\n",
    "- 보안상의 문제로 \n",
    "- 쿠키 정보가 없으면 동일한 url임에도 같은 화면이 나오지 않으므로"
   ]
  },
  {
   "cell_type": "markdown",
   "metadata": {},
   "source": [
    "# 3. 삭제"
   ]
  },
  {
   "cell_type": "markdown",
   "metadata": {},
   "source": [
    "### 3.1.삭제 버튼 만들기"
   ]
  },
  {
   "cell_type": "markdown",
   "metadata": {},
   "source": [
    "#### 페이지 바꾸기(동기식)"
   ]
  },
  {
   "cell_type": "code",
   "execution_count": null,
   "metadata": {},
   "outputs": [],
   "source": [
    "'''\n",
    "  <div id=\"view\">\n",
    "    <div id=\"item\">\n",
    "     <a href=list?id=4> <span id=title>제목~~~~~~~~</span> </a> \n",
    "       조회수<span id=cnt> 0 </span>\n",
    "       <a href=\"/myboard/ajaxdel?pk = 1\">지우기</a>\n",
    "     <br>\n",
    "    <div> \n",
    "  </div>   \n",
    "'''"
   ]
  },
  {
   "cell_type": "markdown",
   "metadata": {},
   "source": [
    "### 비동기식으로"
   ]
  },
  {
   "cell_type": "markdown",
   "metadata": {},
   "source": [
    "####  자바 스크립트 함수, 속성값 변경 연습"
   ]
  },
  {
   "cell_type": "code",
   "execution_count": 2,
   "metadata": {
    "ExecuteTime": {
     "end_time": "2020-02-20T06:47:54.546895Z",
     "start_time": "2020-02-20T06:47:54.541908Z"
    }
   },
   "outputs": [
    {
     "data": {
      "text/plain": [
       "'\\n <div id=\"view\">\\n    <div id=\"item\">\\n     <a href=list?id=4> <span id=title>제목~~~~~~~~</span> </a> \\n       조회수<span id=cnt> 0 </span>\\n       <!-- 자바스크립트 함수 호출 -> 페이지가 넘어가지 않음.-->\\n       <a href=\"javascript: deleteBoard(1)\" id = del>지우기</a>\\n     <br>\\n    <div> \\n  </div>   \\n  \\n  <script>\\n    //  tag의 속성값 바꾸기 -> 6이 나와야함.\\n    $(\\'#del\\').attr(\\'href\\', \\'javascript:deleteBoard(6)\\');\\n    function deleteBoard(pk){\\n        alert(pk);\\n    }\\n\\n\\n'"
      ]
     },
     "execution_count": 2,
     "metadata": {},
     "output_type": "execute_result"
    }
   ],
   "source": [
    "'''\n",
    " <div id=\"view\">\n",
    "    <div id=\"item\">\n",
    "     <a href=list?id=4> <span id=title>제목~~~~~~~~</span> </a> \n",
    "       조회수<span id=cnt> 0 </span>\n",
    "       <!-- 자바스크립트 함수 호출 -> 페이지가 넘어가지 않음.-->\n",
    "       <a href=\"javascript: deleteBoard(1)\" id = del>지우기</a>\n",
    "     <br>\n",
    "    <div> \n",
    "  </div>   \n",
    "  \n",
    "  <script>\n",
    "    //  tag의 속성값 바꾸기 -> 6이 나와야함.\n",
    "    $('#del').attr('href', 'javascript:deleteBoard(6)');\n",
    "    function deleteBoard(pk){\n",
    "        alert(pk);\n",
    "    }\n",
    "\n",
    "\n",
    "'''"
   ]
  },
  {
   "cell_type": "markdown",
   "metadata": {},
   "source": [
    "#### pk값으로 자바스크립트가 호출될 수 있도록 하기\n",
    "\n",
    "> item을 지우기\n",
    "- item을 지워야 함.\n",
    "- item을 만들 때 고유 아이디를 만들어서 attribute 값을 바꾸기"
   ]
  },
  {
   "cell_type": "code",
   "execution_count": null,
   "metadata": {},
   "outputs": [],
   "source": [
    "'''\n",
    "<button id=\"btnMore\">More</button>\n",
    "  \n",
    "  \n",
    "  \n",
    "  <div id=\"view\">\n",
    "    <div id=\"item\">\n",
    "     <a href=list?id=4> <span id=title>제목~~~~~~~~</span> </a> \n",
    "       조회수<span id=cnt> 0 </span>\n",
    "       <!-- 자바스크립트 함수 호출 -> 페이지가 넘어가지 않음.-->\n",
    "       <a href=\"javascript: deleteBoard()\" id = 'del'>지우기</a>\n",
    "     <br>\n",
    "    <div> \n",
    "  </div>   \n",
    "  \n",
    "\n",
    "  <script>\n",
    "    //  tag의 속성값 바꾸기 -> 6이 나와야함.\n",
    "    // $('#del').attr('href', 'javascript:deleteBoard(6)');\n",
    "\n",
    "    /////// 지우기\n",
    "    function deleteBoard(pk){\n",
    "        // alert(pk);\n",
    "        $.get('/myboard/ajaxdel', {pk: pk}, function(json){\n",
    "                // alert(json.error);\n",
    "                // db에서 제거한 후, 클라이어트로 넘어옴\n",
    "                $('#item_'+pk).remove();\n",
    "        });\n",
    "        //get 함수 이후에 지우면 db에서 안지워지고, 클라이언트에서만 지워짐. \n",
    "        // $('#item_'+pk).remove();\n",
    "\n",
    "    }\n",
    "    \n",
    "    //////// add -> page 추가 \n",
    "    $(\"#item\").hide();  \n",
    "   \n",
    "   var page = 1;\n",
    "   \n",
    "   function getPage(page) {\n",
    "\t\t\n",
    "\t   $.get(\"/myboard/ajaxget\", {page:page}, function(json) {\t   \n",
    "            console.log(JSON.stringify(json));\n",
    "            \n",
    "            if (json.datas.length == 0) alert('마지막입니다');\n",
    "\t\t\tfor (i = 0; i < json.datas.length; i++) {\t\t\n",
    "                item = $(\"#item\").clone();\n",
    "                // # item의 속성을 pk값으로 바꾸기\n",
    "                item.attr('id', 'item_' + json.datas[i].pk)\n",
    "\t\t\t\titem.show();\n",
    "                $(\"#title\", item).html(json.datas[i].title);\n",
    "                $('#del', item).attr('href', 'javascript:deleteBoard('+json.datas[i].pk+\")\");\n",
    "\t\t\t\t$(\"#cnt\", item).text(json.datas[i].cnt);      \t\t\n",
    "\t\t\t\t$(\"#view\").append(item);   \t\t\t\t\t\n",
    "\t\t\t}   \n",
    "\t\t});\t\t\n",
    "   }    \n",
    "\n",
    "   $(\"#btnMore\").click( function() {  \n",
    "\t\t\tpage++;\n",
    "\t\t\tgetPage(page);\n",
    "   });\n",
    "   \n",
    "   getPage(page);   \n",
    "   \n",
    "\n",
    "\n",
    "\n",
    "</script>\n",
    "'''"
   ]
  }
 ],
 "metadata": {
  "kernelspec": {
   "display_name": "Python 3",
   "language": "python",
   "name": "python3"
  },
  "language_info": {
   "codemirror_mode": {
    "name": "ipython",
    "version": 3
   },
   "file_extension": ".py",
   "mimetype": "text/x-python",
   "name": "python",
   "nbconvert_exporter": "python",
   "pygments_lexer": "ipython3",
   "version": "3.6.10"
  },
  "toc": {
   "base_numbering": 1,
   "nav_menu": {},
   "number_sections": false,
   "sideBar": true,
   "skip_h1_title": false,
   "title_cell": "Table of Contents",
   "title_sidebar": "Contents",
   "toc_cell": false,
   "toc_position": {
    "height": "calc(100% - 180px)",
    "left": "10px",
    "top": "150px",
    "width": "174.176px"
   },
   "toc_section_display": true,
   "toc_window_display": true
  },
  "varInspector": {
   "cols": {
    "lenName": 16,
    "lenType": 16,
    "lenVar": 40
   },
   "kernels_config": {
    "python": {
     "delete_cmd_postfix": "",
     "delete_cmd_prefix": "del ",
     "library": "var_list.py",
     "varRefreshCmd": "print(var_dic_list())"
    },
    "r": {
     "delete_cmd_postfix": ") ",
     "delete_cmd_prefix": "rm(",
     "library": "var_list.r",
     "varRefreshCmd": "cat(var_dic_list()) "
    }
   },
   "types_to_exclude": [
    "module",
    "function",
    "builtin_function_or_method",
    "instance",
    "_Feature"
   ],
   "window_display": false
  }
 },
 "nbformat": 4,
 "nbformat_minor": 4
}
