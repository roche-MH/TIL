{
 "cells": [
  {
   "cell_type": "markdown",
   "metadata": {
    "ExecuteTime": {
     "end_time": "2020-02-13T02:22:10.570786Z",
     "start_time": "2020-02-13T02:22:10.566797Z"
    }
   },
   "source": [
    "# 로그인 화면 만들기\n",
    "\n"
   ]
  },
  {
   "cell_type": "markdown",
   "metadata": {
    "ExecuteTime": {
     "end_time": "2020-02-13T02:23:11.984512Z",
     "start_time": "2020-02-13T02:23:11.980547Z"
    }
   },
   "source": [
    "### mysite > static 폴더 만들기\n",
    "> mysite dir안에 \n",
    "- mysite\n",
    "- myapp\n",
    "- template\n",
    "- static\n",
    "\n",
    "> static dir setting\n",
    "- setting.py 수정\n",
    "- static dir에 있는것을 자동으로 읽어옴.\n",
    "\n",
    "\n",
    "> static dir\n",
    "- 보통은 아파치에서 담당하는 것이 맞음\n",
    "- 장고에서 static까지 하는것은 비효율적\n",
    "- 사용자가 접근할 수 있는 유일한 dir\n"
   ]
  },
  {
   "cell_type": "code",
   "execution_count": 3,
   "metadata": {
    "ExecuteTime": {
     "end_time": "2020-02-13T02:31:04.709146Z",
     "start_time": "2020-02-13T02:31:04.704218Z"
    }
   },
   "outputs": [
    {
     "data": {
      "text/plain": [
       "\"\\nSTATIC_URL = '/static/'\\nSTATICFILES_DIRS = [\\n    os.path.join(BASE_DIR, 'staatic'),\\n]\\n\\n\""
      ]
     },
     "execution_count": 3,
     "metadata": {},
     "output_type": "execute_result"
    }
   ],
   "source": [
    "# setting.py\n",
    "'''\n",
    "STATIC_URL = '/static/'\n",
    "STATICFILES_DIRS = [\n",
    "    os.path.join(BASE_DIR, 'staatic'),\n",
    "]\n",
    "\n",
    "'''\n"
   ]
  },
  {
   "cell_type": "markdown",
   "metadata": {},
   "source": [
    "# 1. get 방식"
   ]
  },
  {
   "cell_type": "markdown",
   "metadata": {
    "ExecuteTime": {
     "end_time": "2020-02-13T02:32:34.685497Z",
     "start_time": "2020-02-13T02:32:34.682505Z"
    }
   },
   "source": [
    "### 1.1. views.py에서 함수로 처리하거나\n",
    "- urls.py바꾸고\n",
    "- views.py 수정\n",
    "- template > login2.html 있어야 함."
   ]
  },
  {
   "cell_type": "code",
   "execution_count": null,
   "metadata": {},
   "outputs": [],
   "source": [
    "'''\n",
    "def login2(request):\n",
    "    return render(request, 'login2.html')\n",
    "'''"
   ]
  },
  {
   "cell_type": "code",
   "execution_count": 6,
   "metadata": {
    "ExecuteTime": {
     "end_time": "2020-02-13T02:48:49.485577Z",
     "start_time": "2020-02-13T02:48:49.481566Z"
    }
   },
   "outputs": [
    {
     "data": {
      "text/plain": [
       "\"\\n<!--    root/login 요청시 -->\\n<form action = login method = get>\\n    id<input type=text name = id> <br>\\n    pwd <input type = text name = pwd>\\n    <input type = submit value = 'login'>\\n</form>\\n\\n\""
      ]
     },
     "execution_count": 6,
     "metadata": {},
     "output_type": "execute_result"
    }
   ],
   "source": [
    "# template> login2.html\n",
    "'''\n",
    "<!--    root/login 요청시 -->\n",
    "<form action = login method = get>\n",
    "    id<input type=text name = id> <br>\n",
    "    pwd <input type = text name = pwd>\n",
    "    <input type = submit value = 'login'>\n",
    "</form>\n",
    "\n",
    "'''"
   ]
  },
  {
   "cell_type": "markdown",
   "metadata": {},
   "source": [
    "> 브라우저에서\n",
    "- 127.0.0.1:8000/login2"
   ]
  },
  {
   "cell_type": "code",
   "execution_count": 7,
   "metadata": {
    "ExecuteTime": {
     "end_time": "2020-02-13T02:51:27.765198Z",
     "start_time": "2020-02-13T02:51:27.761189Z"
    }
   },
   "outputs": [
    {
     "ename": "SyntaxError",
     "evalue": "EOF while scanning triple-quoted string literal (<ipython-input-7-69554985956a>, line 10)",
     "output_type": "error",
     "traceback": [
      "\u001b[1;36m  File \u001b[1;32m\"<ipython-input-7-69554985956a>\"\u001b[1;36m, line \u001b[1;32m10\u001b[0m\n\u001b[1;33m    ]\u001b[0m\n\u001b[1;37m     \n^\u001b[0m\n\u001b[1;31mSyntaxError\u001b[0m\u001b[1;31m:\u001b[0m EOF while scanning triple-quoted string literal\n"
     ]
    }
   ],
   "source": [
    "# urls.py\n",
    "'''\n",
    "urlpatterns = [\n",
    "    # root url이 요청되면 \n",
    "    # current 폴더에 있는 view.py 파일에 있는 index 함수를 실행하기\n",
    "    path('', views.index),\n",
    "    path('test', views.test),\n",
    "    path('login2', views.login2),\n",
    "]\n",
    "'''"
   ]
  },
  {
   "cell_type": "markdown",
   "metadata": {},
   "source": [
    "## 1.1. static > login.html만들기(둘 중 하나로 처리)"
   ]
  },
  {
   "cell_type": "code",
   "execution_count": null,
   "metadata": {},
   "outputs": [],
   "source": [
    "# static> login.html \n",
    "# 경로 주의!!!!!(/login)\n",
    "'''\n",
    "<form action = /login method = get>\n",
    "    id<input type=text name = id> <br>\n",
    "    pwd <input type = text name = pwd>\n",
    "    <input type = submit value = 'login'>\n",
    "</form>\n",
    "\n",
    "'''"
   ]
  },
  {
   "cell_type": "markdown",
   "metadata": {},
   "source": [
    "> 브라우저에서 실행\n",
    "- 127.0.0.1:8000/static/login.html\n",
    "    \n",
    "> 주소\n",
    "- static/login\n",
    "- <font color='red'>/로 시작하지 않으면 상대경로</font>\n",
    "- <font color='red'>/로 시작하면 절대경로</font>\n"
   ]
  },
  {
   "cell_type": "code",
   "execution_count": 5,
   "metadata": {
    "ExecuteTime": {
     "end_time": "2020-02-13T02:44:14.066108Z",
     "start_time": "2020-02-13T02:44:14.062093Z"
    }
   },
   "outputs": [
    {
     "data": {
      "text/plain": [
       "\"\\nurlpatterns = [\\n    # root url이 요청되면 \\n    # current 폴더에 있는 view.py 파일에 있는 index 함수를 실행하기\\n    path('', views.index),\\n    path('test', views.test),\\n    path('login', views.login),\\n\\n]\\n\\n\""
      ]
     },
     "execution_count": 5,
     "metadata": {},
     "output_type": "execute_result"
    }
   ],
   "source": [
    "# urls.py\n",
    "'''\n",
    "urlpatterns = [\n",
    "    # root url이 요청되면 \n",
    "    # current 폴더에 있는 view.py 파일에 있는 index 함수를 실행하기\n",
    "    path('', views.index),\n",
    "    path('test', views.test),\n",
    "    path('login', views.login),\n",
    "\n",
    "]\n",
    "\n",
    "'''"
   ]
  },
  {
   "cell_type": "markdown",
   "metadata": {},
   "source": [
    "### 서버가 받은 데이터 처리\n",
    "- get 방식 : /html?id=ckt&pwd=ckt\n",
    "- views.login()함수로 데이터를 보내줘야 함.\n",
    "- 플라스크는 reguest에서 전역변수로 받아서 사용했는데\n",
    "\n",
    "> 장고에서는\n",
    "- request = {}로 처리해서\n",
    "- views.login(reguest)로 보냄"
   ]
  },
  {
   "cell_type": "code",
   "execution_count": null,
   "metadata": {},
   "outputs": [],
   "source": [
    "# static 안에 login.html이 있는 경우\n",
    "def login(request):\n",
    "    #request:dict 형태로 클라이언트가 보내주는 정보를 담고 있음.\n",
    "    id = request.GET.get('id', 0)\n",
    "    pwd = request.GET.get('pwd',0)\n",
    "    if id == pwd:\n",
    "        return HttpResponse('login 성공')\n",
    "    return HttpResponse('login fail')\n"
   ]
  },
  {
   "cell_type": "markdown",
   "metadata": {},
   "source": [
    "## 1.2. login 성공/ 실패 \n",
    "\n",
    "- 성공시 service 함수 실행\n",
    "- 실패시 다시 login 페이지\n"
   ]
  },
  {
   "cell_type": "code",
   "execution_count": null,
   "metadata": {},
   "outputs": [],
   "source": [
    "# urls.py\n",
    "'''\n",
    "urlpatterns = [\n",
    "    # root url이 요청되면 \n",
    "    # current 폴더에 있는 view.py 파일에 있는 index 함수를 실행하기\n",
    "    path('', views.index),\n",
    "    path('test', views.test),\n",
    "    path('login2', views.login2),\n",
    "    path('login', views.login),\n",
    "    prath('service', view.service),\n",
    "\n",
    "]\n",
    "\n",
    "'''"
   ]
  },
  {
   "cell_type": "code",
   "execution_count": 9,
   "metadata": {
    "ExecuteTime": {
     "end_time": "2020-02-13T04:30:23.639425Z",
     "start_time": "2020-02-13T04:30:23.622644Z"
    }
   },
   "outputs": [
    {
     "data": {
      "text/plain": [
       "\"\\ndef login(request):\\n    #request:dict 형태로 클라이언트가 보내주는 정보를 담고 있음.\\n    id = request.GET.get('id', 0)\\n    pwd = request.GET.get('pwd',0)\\n    if id == pwd:\\n        return HttpResponse('login 성공 <a href=/service>서비스로</a>')\\n    return HttpResponse('login fail <a href=static/login.html>다시로그인</a>' )\\n\""
      ]
     },
     "execution_count": 9,
     "metadata": {},
     "output_type": "execute_result"
    }
   ],
   "source": [
    "# views.py\n",
    "'''\n",
    "def login(request):\n",
    "    #request:dict 형태로 클라이언트가 보내주는 정보를 담고 있음.\n",
    "    id = request.GET.get('id', 0)\n",
    "    pwd = request.GET.get('pwd',0)\n",
    "    if id == pwd:\n",
    "        return HttpResponse('login 성공 <a href=/service>서비스로</a>')\n",
    "    return HttpResponse('login fail <a href=static/login.html>다시로그인</a>' )\n",
    "'''"
   ]
  },
  {
   "cell_type": "markdown",
   "metadata": {
    "ExecuteTime": {
     "end_time": "2020-02-13T04:13:29.877670Z",
     "start_time": "2020-02-13T04:13:29.872630Z"
    }
   },
   "source": [
    "### <font color='red'> 경로 주의 </font>\n",
    "> 경로명\n",
    ">> html파일에서 경로\n",
    "- 브라우저 관점에서\n",
    "- /service : 절대경로-> 127.0.0.1/service\n",
    "\n",
    ">> 파이썬파일에서 경로\n",
    "- 서버 기준으로 고려하기\n",
    "- static/login.html: 웹 서버 주소(127.0.0.1:8000이 앞에 생략)\n",
    "- 127.0.0.1:8000/static/login.html\n",
    "\n",
    "> 주소\n",
    "- static/login\n",
    "- <font color='red'>/로 시작하지 않으면 상대경로</font>\n",
    "- <font color='red'>/로 시작하면 절대경로</font>\n",
    "\n",
    "\n",
    "### 요청한 위치/ 처리한 위치가 다름\n",
    "#### 클라이언트가 요청한 위치\n",
    ">  /static/login.html이라고 요청하면\n",
    ">>  1.서버의 /static/login.html을 실행해라\n",
    "- action= /login -> 절대경로임 => 앞에 127.0.0.1을 붙여줌\n",
    ">> 2. 서버의 views.py에서 login함수 실행\n",
    "- 로그인 실패한 경우\n",
    "-  return HttpResponse('login fail <a href=static/login.html>다시로그인</a>' )을 반환\n",
    "- 서버 위치에서: root/static/login.html을 실행해라\n",
    "\n",
    "\n",
    "\n",
    "\n",
    "\n",
    "- <a href=/service>서비스로</a>': 127.0.0.1/service 실행\n",
    "-  <a href=static/login.html> :   서버의 상대 위치로 이해하기 \n",
    "    \n",
    "> 서버 위치: manamg.py\n",
    "- mysite에 위치함\n",
    "- mysite이 root dicirtory가 됨. -> 127.0.0.1이 됨.     "
   ]
  },
  {
   "cell_type": "markdown",
   "metadata": {
    "ExecuteTime": {
     "end_time": "2020-02-13T04:31:21.745739Z",
     "start_time": "2020-02-13T04:31:21.741707Z"
    }
   },
   "source": [
    "## 1.3. redirect로 로그인 성공.실패 후 페이지 바꾸기\n",
    "\n",
    "> 함수를 실행시키는 것이 아니라, 다른 페이지로 넘어갈 수 있도록 하기\n",
    "- login 함수가 redirect를 반환\n",
    "- 클라이언트가 다시 서버로 다음 페이지로 갈 수 잇도록 요청하기\n",
    "\n",
    "\n",
    "#### 함수 호출과 redirect의 차이점\n",
    "> 함수 호출\n",
    "- url: http://127.0.0.1:8000/login?id=sef&pwd=sef\n",
    "- 요청한 페이지를 보여줌.\n",
    "- 내부적으로 처리헤서 네트워크를 1번만 다녀옴.\n",
    "- 주소창 기반으로 해서 여러가지 문제가 있을 수 있음.\n",
    "- 페이지에서 페이지를 이동할 때는 브라우저에 요청해서 간접적으로 이동해야 함.\n",
    "- 새로고침하면 똑같은 login page를 또 보여주므로 오류임.\n",
    "- 원래는 새로고침하면 main page를 보여줘야 함.\n",
    "\n",
    ">redirect 호출\n",
    "- login url을 실행했음에도 url이 service로 바뀜\n",
    "- 두번 요청(login, servece)\n",
    "- url: http://127.0.0.1:8000/service\n",
    "- 브라우저는 페이지 기반이기 때문에,페이지바뀔 때마다 서버에 요청해야 함\n",
    "- 안그러면 꼬임"
   ]
  },
  {
   "cell_type": "code",
   "execution_count": null,
   "metadata": {},
   "outputs": [],
   "source": [
    "'''\n",
    "# static 안에 login.html이 있는 경우\n",
    "def login(request):\n",
    "    #request:dict 형태로 클라이언트가 보내주는 정보를 담고 있음.\n",
    "    id = request.GET.get('id', 0)\n",
    "    pwd = request.GET.get('pwd',0)\n",
    "    if id == pwd:\n",
    "        # return HttpResponse('login 성공 <a href=/service>서비스로</a>')\n",
    "        \n",
    "        # 함수 요청: 입력은 login page, 출력은 service이므로 꼬일 수 있음.\n",
    "        # return service(reguest)\n",
    "        \n",
    "        # redirect: 브라우저한데 service page를 다시 요청하라고 반환.\n",
    "        # redirect: html값 반환. \n",
    "        #return redirect('/service')\n",
    "        return HttpResponse('''\n",
    "                <script>\n",
    "                window.location.href = '/service'\n",
    "                </srcipt>\n",
    "                ''')\n",
    "\n",
    "    # return HttpResponse('login fail <a href=static/login.html>다시로그인</a>' )\n",
    "    return redirect('/static/login.html')\n",
    "'''"
   ]
  },
  {
   "cell_type": "markdown",
   "metadata": {},
   "source": [
    "## 1.4. Session을 이용해서 사용자 인증\n",
    "\n",
    "### session/ cookie : 둘다 메모리\n",
    "> 쿠키\n",
    "- 공간을 클라이언트에 관리\n",
    "- 쿠키로 하면 보안상 문제가 발생할 수 있음.\n",
    "- 암호화된 보안 문제가 브라우저에 있으므로 사용자가 손댈 수 있음.\n",
    "\n",
    "> 세션\n",
    "- 서버에서 관리\n",
    "- 보안의 문제 해결\n",
    "- 유저마다 세션 id를 부여하므로 유저마다 관리 가능\n",
    "- 웹 브라우저에서 세션값을 다르게 부여 \n"
   ]
  },
  {
   "cell_type": "code",
   "execution_count": null,
   "metadata": {},
   "outputs": [],
   "source": [
    "'''\n",
    "# static 안에 login.html이 있는 경우\n",
    "def login(request):\n",
    "    #request:dict 형태로 클라이언트가 보내주는 정보를 담고 있음.\n",
    "    id = request.GET.get('id', 0)\n",
    "    pwd = request.GET.get('pwd',0)\n",
    "    if id == pwd:\n",
    "        request.session['user'] = id\n",
    "        return redirect('/service')\n",
    "\n",
    "    # return HttpResponse('login fail <a href=static/login.html>다시로그인</a>' )\n",
    "    return redirect('/static/login.html')\n",
    "\n",
    "\n",
    "# login 후 나오는 main page\n",
    "# service main page: 경로명을 알면 바로 접속할 수 있으므로, 인증과정이 필요!\n",
    "def service(request):\n",
    "    # 로그인을 하지 않으면 session 값이 없음.\n",
    "    if request.session.get('user','')=='':\n",
    "        return redirect('/static/login.html')\n",
    "    html = 'Main Service <br>' + request.sessiion.get('user') + '님 감사합니다'\n",
    "    return HttpResponse(html)\n",
    "'''"
   ]
  },
  {
   "cell_type": "markdown",
   "metadata": {},
   "source": [
    "### DB 초기화"
   ]
  },
  {
   "cell_type": "markdown",
   "metadata": {},
   "source": [
    "> 콘솔에서\n",
    "- python manage.py migrate\n",
    "- 세션정보를 보관하기 위한 db 초기화\n",
    "\n",
    "\n",
    "> sql light\n",
    "-  모든 스마트폰에서 사용하는 무료 DB\n",
    "- 장고에서 사용하는 DB    "
   ]
  },
  {
   "cell_type": "code",
   "execution_count": null,
   "metadata": {},
   "outputs": [],
   "source": [
    "> 같은 브라우저안에서는 session 값을 유지하기 때문에\n",
    "- 같은 브라우저에서는 로그인 한번 하고 나면 새창 띄워도 로그인 정보 유니\n",
    "- 다른 브라우저에서는 로그인 다시 해야 함."
   ]
  },
  {
   "cell_type": "markdown",
   "metadata": {},
   "source": [
    "## 1.5. logout기능 만들기"
   ]
  },
  {
   "cell_type": "code",
   "execution_count": null,
   "metadata": {},
   "outputs": [],
   "source": [
    "'''\n",
    "def service(request):\n",
    "    # 로그인을 하지 않으면 session 값이 없음.\n",
    "    if request.session.get('user','')=='':\n",
    "        return redirect('/static/login.html')\n",
    "    html = 'Main Service <br>' + request.session.get('user') + '님 감사합니다' + '<a href=/loginout> logout</a>'\n",
    "    return HttpResponse(html)\n",
    "\n",
    "def loginout(request):\n",
    "    request.session['user'] ==''\n",
    "    #request.session.pop('user')\n",
    "    return redirect('/static/login.html')\n",
    "''''''"
   ]
  },
  {
   "cell_type": "code",
   "execution_count": null,
   "metadata": {},
   "outputs": [],
   "source": [
    "#urls.py\n",
    "'''\n",
    "urlpatterns = [\n",
    "    # root url이 요청되면 \n",
    "    # current 폴더에 있는 view.py 파일에 있는 index 함수를 실행하기\n",
    "    path('', views.index),\n",
    "    path('test', views.test),\n",
    "    path('login2', views.login2),\n",
    "    path('login', views.login),\n",
    "    path('service', views.service),\n",
    "    path('loginout', views.loginout),\n",
    "\n",
    "\n",
    "]\n",
    "'''"
   ]
  },
  {
   "cell_type": "markdown",
   "metadata": {},
   "source": [
    "> session\n",
    "- user마다 전용 공간을 마련해줌.\n",
    "- 브라우저 정보, ip, 로그인 정보를 모두 조합해서 만듦."
   ]
  },
  {
   "cell_type": "markdown",
   "metadata": {},
   "source": [
    "## 1.6. 사진으로 본인 인증"
   ]
  },
  {
   "cell_type": "code",
   "execution_count": null,
   "metadata": {},
   "outputs": [],
   "source": [
    "# ligin.html\n",
    "'''\n",
    "<form action = /login method = get>\n",
    "        id<input type=text name = id> <br>\n",
    "        pwd <input type = text name = pwd>\n",
    "        <input type = submit value = 'login'>\n",
    "          \n",
    "    </form>\n",
    "\n",
    "    <form action = \"/uploadimage\" method = \"POST\" enctype = \"multipart/form-data\">      \n",
    "        <!-- <input type = \"file\" name = \"file1\" /> <br> -->\n",
    "        <input type = 'file' name = 'file1' accept = 'image/*' capture='camera'/> \n",
    "        <br>\n",
    "        <input type = \"submit\" value=\"face recognition\"/>\n",
    "    </form>    \n",
    "\n",
    "'''\n"
   ]
  },
  {
   "cell_type": "code",
   "execution_count": 12,
   "metadata": {
    "ExecuteTime": {
     "end_time": "2020-02-13T06:17:53.609758Z",
     "start_time": "2020-02-13T06:17:53.599231Z"
    }
   },
   "outputs": [
    {
     "data": {
      "text/plain": [
       "\"\\nurlpatterns = [\\n    # root url이 요청되면 \\n    # current 폴더에 있는 view.py 파일에 있는 index 함수를 실행하기\\n    path('', views.index),\\n    path('test', views.test),\\n    path('login2', views.login2),\\n    path('login', views.login),\\n    path('service', views.service),\\n    path('loginout', views.loginout),\\n    path('uploadimage', views.uploadimage),\\n\\n]\\n\""
      ]
     },
     "execution_count": 12,
     "metadata": {},
     "output_type": "execute_result"
    }
   ],
   "source": [
    "'''\n",
    "urlpatterns = [\n",
    "    # root url이 요청되면 \n",
    "    # current 폴더에 있는 view.py 파일에 있는 index 함수를 실행하기\n",
    "    path('', views.index),\n",
    "    path('test', views.test),\n",
    "    path('login2', views.login2),\n",
    "    path('login', views.login),\n",
    "    path('service', views.service),\n",
    "    path('loginout', views.loginout),\n",
    "    path('uploadimage', views.uploadimage),\n",
    "\n",
    "]\n",
    "'''"
   ]
  },
  {
   "cell_type": "markdown",
   "metadata": {},
   "source": [
    "#### Forbidden errer가 남\n",
    "- 보안을 위함.\n",
    "- 플라스크는 이런 기능이 없음.\n",
    "- session이 유지되고 있을 때 글을 업로드하면 글이 서버로 올라감\n",
    "\n",
    "> CSLR 공격\n",
    "- 페이스북 로그인 한 상태에서 다른 사이트를 통해 해킹당하면 페이스북에 엄한 글이 올라감..\n",
    "- 특정 url주소를 요청해서\n",
    "- <form action = 'http://facebook/sdfsdfsdf'\n",
    "-     이 버튼을 누르면 500원 줄께용<input type = submit value = 'send'>\n",
    "-     <input type = hidden name = title value = '친구들아 1000원만 빌려줘>\n",
    "- 버튼을 누르면 특정 데이터들이 facebook으로 감,\n",
    "- 해킹 방법 중 하나\n",
    "   "
   ]
  },
  {
   "cell_type": "markdown",
   "metadata": {},
   "source": [
    " \n",
    "> post 방식을 사용하면 forbidden errer 발생\n",
    "- 예외처리로 해결 가능\n",
    "- 무시해줘"
   ]
  },
  {
   "cell_type": "code",
   "execution_count": 13,
   "metadata": {
    "ExecuteTime": {
     "end_time": "2020-02-13T06:27:45.647543Z",
     "start_time": "2020-02-13T06:27:45.642526Z"
    }
   },
   "outputs": [
    {
     "data": {
      "text/plain": [
       "\"\\n\\n@csrf_excmpt\\ndef uploadimage(request):\\n    return HttpResponse('ok')\\n\""
      ]
     },
     "execution_count": 13,
     "metadata": {},
     "output_type": "execute_result"
    }
   ],
   "source": [
    "'''\n",
    "@csrf_excmpt\n",
    "def uploadimage(request):\n",
    "    return HttpResponse('ok')\n",
    "'''"
   ]
  },
  {
   "cell_type": "markdown",
   "metadata": {},
   "source": [
    "### 사진을 upload했을 때 실제로 어떤 데이터를 받는지 눈으로 확인하기 위해서"
   ]
  },
  {
   "cell_type": "code",
   "execution_count": null,
   "metadata": {},
   "outputs": [],
   "source": [
    "'''\n",
    "<form action = \"http://127.0.0.1:80/uploadimage\" method = \"POST\" enctype = \"multipart/form-data\">      \n",
    "\n",
    "    <!-- <form action = \"/uploadimage\" method = \"POST\" enctype = \"multipart/form-data\">       -->\n",
    "        <!-- <input type = \"file\" name = \"file1\" /> <br> -->\n",
    "        <input type = 'file' name = 'file1' accept = 'image/*' capture='camera'/> \n",
    "        <br>\n",
    "        <input type = \"submit\" value=\"face recognition\"/>\n",
    "    </form>  \n",
    "''''''"
   ]
  },
  {
   "cell_type": "code",
   "execution_count": 14,
   "metadata": {
    "ExecuteTime": {
     "end_time": "2020-02-13T06:38:54.899449Z",
     "start_time": "2020-02-13T06:34:40.916527Z"
    }
   },
   "outputs": [
    {
     "name": "stdout",
     "output_type": "stream",
     "text": [
      "listening\n",
      "accepting\n",
      "receive : GET /static/login.html HTTP/1.1\n",
      "Host: 127.0.0.1\n",
      "Connection: keep-alive\n",
      "Upgrade-Insecure-Requests: 1\n",
      "User-Agent: Mozilla/5.0 (Windows NT 10.0; Win64; x64) AppleWebKit/537.36 (KHTML, like Gecko) Chrome/79.0.3945.130 Safari/537.36\n",
      "Sec-Fetch-User: ?1\n",
      "Accept: text/html,application/xhtml+xml,application/xml;q=0.9,image/webp,image/apng,*/*;q=0.8,application/signed-exchange;v=b3;q=0.9\n",
      "Sec-Fetch-Site: none\n",
      "Sec-Fetch-Mode: navigate\n",
      "Accept-Encoding: gzip, deflate, br\n",
      "Accept-Language: en-US,en;q=0.9,ko-KR;q=0.8,ko;q=0.7\n",
      "Cookie: csrftoken=QHl6SwLGJSzHyt3o7E1YTbUGLfySOt1SOFFS4BYm6U47r8lSPXpLx7QJDWTrdqKy; sessionid=qrr8r9abdaml79gjuxeh5lxi2275iffz\n",
      "\n",
      "\n",
      "sned data\n",
      "종료\n"
     ]
    }
   ],
   "source": [
    "# sofket이용한 서버 열기\n",
    "import socket\n",
    "from datetime import datetime\n",
    "import subprocess\n",
    "\n",
    "server_socket = socket.socket(socket.AF_INET, socket.SOCK_STREAM)\n",
    "\n",
    "server_socket.bind(('localhost', 80))\n",
    "server_socket.listen(0)\n",
    "print(\"listening\")\n",
    "client_socket, addr = server_socket.accept()\n",
    "print(\"accepting\")\n",
    "data = client_socket.recv(65535)\n",
    "\n",
    "print(\"receive : \" + data.decode())\n",
    "\n",
    "client_socket.send(data)\n",
    "print(\"sned data\")\n",
    "client_socket.close()\n",
    "print(\"종료\")\n",
    "\n",
    "\n",
    "# 실행: 127.0.0.1:80/uploadimage"
   ]
  },
  {
   "cell_type": "code",
   "execution_count": null,
   "metadata": {},
   "outputs": [],
   "source": [
    "'''\n",
    "<body>\n",
    "    <form action = /login method = get>\n",
    "        id<input type=text name = id> <br>\n",
    "        pwd <input type = text name = pwd>\n",
    "        <input type = submit value = 'login'>\n",
    "          \n",
    "    </form>\n",
    "    \n",
    "\n",
    "    <!-- <form action = \"http://127.0.0.1:80/uploadimage\" method = \"POST\" enctype = \"multipart/form-data\">       -->\n",
    "\n",
    "    <form action = \"/uploadimage\" method = \"POST\" enctype = \"multipart/form-data\">      \n",
    "        <input type = 'file' name = 'file1' accept = 'image/*' capture='camera'/> \n",
    "        <br>\n",
    "        <input type = \"submit\" value=\"face recognition\"/>\n",
    "    </form>    \n",
    "\n",
    "</body>\n",
    "\n",
    "\n",
    "'''"
   ]
  },
  {
   "cell_type": "code",
   "execution_count": null,
   "metadata": {},
   "outputs": [],
   "source": [
    "'''\n",
    "@csrf_exempt\n",
    "def uploadimage(request):\n",
    "    file = request.FILES['file1']\n",
    "    filename = file._name\n",
    "    # settings.py 파일에 정의된 base dir이 있음.\n",
    "    fp = open(settings.BASE_DIR + '/static/' + filename, 'wb')\n",
    "    for chunk in file.chunks():\n",
    "        fp.write(chunk)\n",
    "    fp.close()\n",
    "    html = 'ok:' + '^^' + filename\n",
    "\n",
    "    result = faceverification(filename)\n",
    "    if result != '':\n",
    "        request.session['user'] = result\n",
    "        return redirict('/service')\n",
    "    return redirect('/static/login.html')\n",
    "'''"
   ]
  },
  {
   "cell_type": "code",
   "execution_count": null,
   "metadata": {},
   "outputs": [],
   "source": [
    "@csrf_exempt\n",
    "def uploadimage(request):\n",
    "    # file 객체를 이용하여 \n",
    "    file = request.FILES['file1']\n",
    "    filename = file._name\n",
    "     \n",
    "    # file크기에 따라 chunk에 따라 나눠서 저장 \n",
    "    # settings.py 파일에 정의된 base dir이 있음.\n",
    "    fp = open(settings.BASE_DIR + '/static/' + filename, 'wb')\n",
    "    for chunk in file.chunks():\n",
    "        fp.write(chunk)\n",
    "    fp.close()\n",
    "\n",
    "    html = 'ok:' + '^^' + filename\n",
    "\n",
    "    model = 'known.bin'\n",
    "    file ='./static/' + filename \n",
    "    # fp.save(file_path)\n",
    "\n",
    "    result = facerecognition(model, file)\n",
    "    request.session['user'] = result\n",
    "    if result !='':\n",
    "        request.session['user'] = result\n",
    "        return redirect('/service')\n",
    "      \n",
    "    return redirect('/static/login.html')\n",
    "\n"
   ]
  }
 ],
 "metadata": {
  "kernelspec": {
   "display_name": "Python 3",
   "language": "python",
   "name": "python3"
  },
  "language_info": {
   "codemirror_mode": {
    "name": "ipython",
    "version": 3
   },
   "file_extension": ".py",
   "mimetype": "text/x-python",
   "name": "python",
   "nbconvert_exporter": "python",
   "pygments_lexer": "ipython3",
   "version": "3.7.5"
  },
  "toc": {
   "base_numbering": 1,
   "nav_menu": {},
   "number_sections": false,
   "sideBar": true,
   "skip_h1_title": false,
   "title_cell": "Table of Contents",
   "title_sidebar": "Contents",
   "toc_cell": false,
   "toc_position": {},
   "toc_section_display": true,
   "toc_window_display": true
  },
  "varInspector": {
   "cols": {
    "lenName": 16,
    "lenType": 16,
    "lenVar": 40
   },
   "kernels_config": {
    "python": {
     "delete_cmd_postfix": "",
     "delete_cmd_prefix": "del ",
     "library": "var_list.py",
     "varRefreshCmd": "print(var_dic_list())"
    },
    "r": {
     "delete_cmd_postfix": ") ",
     "delete_cmd_prefix": "rm(",
     "library": "var_list.r",
     "varRefreshCmd": "cat(var_dic_list()) "
    }
   },
   "types_to_exclude": [
    "module",
    "function",
    "builtin_function_or_method",
    "instance",
    "_Feature"
   ],
   "window_display": false
  }
 },
 "nbformat": 4,
 "nbformat_minor": 2
}
