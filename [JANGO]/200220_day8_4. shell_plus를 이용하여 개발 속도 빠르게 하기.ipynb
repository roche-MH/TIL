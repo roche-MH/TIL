{
 "cells": [
  {
   "cell_type": "markdown",
   "metadata": {},
   "source": [
    "# shell_plus\n",
    "- python manage.py shell_plus --notebook"
   ]
  },
  {
   "cell_type": "code",
   "execution_count": 6,
   "metadata": {
    "ExecuteTime": {
     "end_time": "2020-02-20T08:04:29.772756Z",
     "start_time": "2020-02-20T08:04:29.767774Z"
    }
   },
   "outputs": [],
   "source": [
    "from django.test import RequestFactory\n",
    "from myboard import models\n",
    "rf = RequestFactory()"
   ]
  },
  {
   "cell_type": "markdown",
   "metadata": {},
   "source": [
    "# 1. 웹 서버 실행하지 않고도 실행 가능"
   ]
  },
  {
   "cell_type": "code",
   "execution_count": 7,
   "metadata": {
    "ExecuteTime": {
     "end_time": "2020-02-20T08:04:30.399262Z",
     "start_time": "2020-02-20T08:04:30.383641Z"
    }
   },
   "outputs": [],
   "source": [
    "# 가상의 url\n",
    "url = '/myboard/ajaxget?page=1'\n",
    "request = rf.get(url)"
   ]
  },
  {
   "cell_type": "code",
   "execution_count": 8,
   "metadata": {
    "ExecuteTime": {
     "end_time": "2020-02-20T08:04:30.829474Z",
     "start_time": "2020-02-20T08:04:30.824487Z"
    }
   },
   "outputs": [
    {
     "name": "stdout",
     "output_type": "stream",
     "text": [
      "1\n"
     ]
    }
   ],
   "source": [
    "page = request.GET.get('page', 1)\n",
    "print(page)"
   ]
  },
  {
   "cell_type": "code",
   "execution_count": 10,
   "metadata": {
    "ExecuteTime": {
     "end_time": "2020-02-20T08:04:35.794602Z",
     "start_time": "2020-02-20T08:04:35.783671Z"
    }
   },
   "outputs": [
    {
     "data": {
      "text/plain": [
       "<QuerySet [<Board: hjhkjhj>, <Board: kjkjkjkjkj>, <Board: 추가하자>]>"
      ]
     },
     "execution_count": 10,
     "metadata": {},
     "output_type": "execute_result"
    }
   ],
   "source": [
    "datas = models.Board.objects.all().filter(category = 'common')\n",
    "page = int(page)\n",
    "subs = datas[(page-1)*3: (page*3)]\n",
    "subs"
   ]
  },
  {
   "cell_type": "code",
   "execution_count": 11,
   "metadata": {
    "ExecuteTime": {
     "end_time": "2020-02-20T08:05:09.116664Z",
     "start_time": "2020-02-20T08:05:09.111686Z"
    }
   },
   "outputs": [
    {
     "data": {
      "text/plain": [
       "{'datas': [{'pk': 8, 'title': 'hjhkjhj', 'cnt': 1},\n",
       "  {'pk': 11, 'title': 'kjkjkjkjkj', 'cnt': 0},\n",
       "  {'pk': 12, 'title': '추가하자', 'cnt': 0}]}"
      ]
     },
     "execution_count": 11,
     "metadata": {},
     "output_type": "execute_result"
    }
   ],
   "source": [
    "datas = {'datas': [{'pk': data.pk, 'title': data.title, 'cnt': data.cnt} for data in subs]}\n",
    "datas"
   ]
  },
  {
   "cell_type": "code",
   "execution_count": null,
   "metadata": {},
   "outputs": [],
   "source": [
    "JsonResponse(datas, json_dumps_params = {'ensure_ascii': False})"
   ]
  },
  {
   "cell_type": "markdown",
   "metadata": {},
   "source": [
    "# 2.views에서 호출하기"
   ]
  },
  {
   "cell_type": "code",
   "execution_count": 12,
   "metadata": {
    "ExecuteTime": {
     "end_time": "2020-02-20T08:05:37.943150Z",
     "start_time": "2020-02-20T08:05:37.937070Z"
    }
   },
   "outputs": [],
   "source": [
    "from myboard import views"
   ]
  },
  {
   "cell_type": "code",
   "execution_count": 13,
   "metadata": {
    "ExecuteTime": {
     "end_time": "2020-02-20T08:06:16.997689Z",
     "start_time": "2020-02-20T08:06:16.991745Z"
    },
    "scrolled": true
   },
   "outputs": [
    {
     "name": "stdout",
     "output_type": "stream",
     "text": [
      "<QuerySet [<Board: hjhkjhj>, <Board: kjkjkjkjkj>, <Board: 추가하자>, <Board: ㅏㅓㅏㅓㅣㅓㅏㅣㅓㅣㅏ>, <Board: ㅏㅓㅣㅏㅓㅏㅓㅏㅓㅣ>, <Board: ㅏㅓㅣㅓㅏㅓㅏㅓㅏㅓㅏ>]>\n",
      "<JsonResponse status_code=200, \"application/json\">\n",
      "{\"datas\": [{\"pk\": 8, \"title\": \"hjhkjhj\", \"cnt\": 1}, {\"pk\": 11, \"title\": \"kjkjkjkjkj\", \"cnt\": 0}, {\"pk\": 12, \"title\": \"추가하자\", \"cnt\": 0}]}\n"
     ]
    }
   ],
   "source": [
    "response = views.ajaxget(request)\n",
    "print(response)\n",
    "print(response.content.decode())"
   ]
  },
  {
   "cell_type": "markdown",
   "metadata": {},
   "source": [
    "# 3. 연습"
   ]
  },
  {
   "cell_type": "code",
   "execution_count": 18,
   "metadata": {
    "ExecuteTime": {
     "end_time": "2020-02-20T08:11:44.414461Z",
     "start_time": "2020-02-20T08:11:44.398817Z"
    }
   },
   "outputs": [],
   "source": [
    "from django.core.paginator import Paginator\n",
    "from django.shortcuts import render"
   ]
  },
  {
   "cell_type": "code",
   "execution_count": 19,
   "metadata": {
    "ExecuteTime": {
     "end_time": "2020-02-20T08:11:45.372843Z",
     "start_time": "2020-02-20T08:11:45.366858Z"
    }
   },
   "outputs": [],
   "source": [
    "datas = [{'id': 1, 'name':  '홍길동1'},\n",
    "            {'id': 2, 'name':  '홍길동2'},\n",
    "            {'id': 3, 'name':  '홍길동3'},\n",
    "            {'id': 4, 'name':  '홍길동4'},\n",
    "            {'id': 5, 'name':  '홍길동5'},\n",
    "            {'id': 6, 'name':  '홍길동6'},\n",
    "            {'id': 7, 'name':  '홍길동7'},\n",
    "            ]\n",
    "\n",
    "page = request.GET.get('page', 1)  #default: 1\n",
    "p = Paginator(datas, 3)# collections 형태의 데이터,  # 한 페이지에 보여줄 데이터 개수\n",
    "sub = p.page(page) # 몇번째 페이지를 가지고 올 지 \n",
    "                # 슬라이싱의 개념과 같음"
   ]
  },
  {
   "cell_type": "code",
   "execution_count": 21,
   "metadata": {
    "ExecuteTime": {
     "end_time": "2020-02-20T08:14:47.596270Z",
     "start_time": "2020-02-20T08:14:47.582428Z"
    }
   },
   "outputs": [],
   "source": [
    "response = render(request, 'myboard/page.html', {'datas': sub})"
   ]
  },
  {
   "cell_type": "code",
   "execution_count": 22,
   "metadata": {
    "ExecuteTime": {
     "end_time": "2020-02-20T08:15:08.583123Z",
     "start_time": "2020-02-20T08:15:08.567383Z"
    }
   },
   "outputs": [
    {
     "name": "stdout",
     "output_type": "stream",
     "text": [
      "<HttpResponse status_code=200, \"text/html; charset=utf-8\">\n",
      "\n",
      "1 / 홍길동1 <br>\n",
      "\n",
      "\n",
      "2 / 홍길동2 <br>\n",
      "\n",
      "\n",
      "3 / 홍길동3 <br>\n",
      "\n",
      "\n",
      "<br>\n",
      "<br>\n",
      "\n",
      "\n",
      "\n",
      "\n",
      "\n",
      "    <!-- 이전 페이지 있는지 확인 -->\n",
      "\n",
      "        \n",
      "          <span>&laquo;</span>\n",
      "        \n",
      "<!-- 현재 보고 있는 페이지 확인\n",
      "        index: 1부터 시작 -->\n",
      "\n",
      "        \n",
      "          \n",
      "            <span>1 </span>\n",
      "          \n",
      "        \n",
      "          \n",
      "            <a href=\"?page=2\">2</a>\n",
      "          \n",
      "        \n",
      "          \n",
      "            <a href=\"?page=3\">3</a>\n",
      "          \n",
      "        \n",
      "<!-- 다음 페이지가 있는지 확인 -->\n",
      "\n",
      "        \n",
      "            <a href=\"?page=2\">&raquo;</a>\n",
      "        \n",
      "    \n",
      "\n",
      "\n",
      "\n",
      "\n",
      "\n",
      "\n",
      "\n",
      "\n",
      "<!-- 페이지 개수를 알고있는 경우 -->\n",
      "<!-- <a href=\"?page = 1\">처음으로</a>\n",
      "<a href=\"?page = 1\">[1]</a>\n",
      "<a href=\"?page = 2\">[2]</a>\n",
      "<a href=\"?page =3\">[3]</a>\n",
      "<a href=\"?page =3\">마지막으로</a> -->\n",
      "\n",
      "\n"
     ]
    }
   ],
   "source": [
    "print(response)\n",
    "print(response.content.decode())"
   ]
  }
 ],
 "metadata": {
  "kernelspec": {
   "display_name": "Django Shell-Plus",
   "language": "python",
   "name": "django_extensions"
  },
  "language_info": {
   "codemirror_mode": {
    "name": "ipython",
    "version": 3
   },
   "file_extension": ".py",
   "mimetype": "text/x-python",
   "name": "python",
   "nbconvert_exporter": "python",
   "pygments_lexer": "ipython3",
   "version": "3.6.10"
  },
  "toc": {
   "base_numbering": 1,
   "nav_menu": {},
   "number_sections": false,
   "sideBar": true,
   "skip_h1_title": false,
   "title_cell": "Table of Contents",
   "title_sidebar": "Contents",
   "toc_cell": false,
   "toc_position": {},
   "toc_section_display": true,
   "toc_window_display": false
  },
  "varInspector": {
   "cols": {
    "lenName": 16,
    "lenType": 16,
    "lenVar": 40
   },
   "kernels_config": {
    "python": {
     "delete_cmd_postfix": "",
     "delete_cmd_prefix": "del ",
     "library": "var_list.py",
     "varRefreshCmd": "print(var_dic_list())"
    },
    "r": {
     "delete_cmd_postfix": ") ",
     "delete_cmd_prefix": "rm(",
     "library": "var_list.r",
     "varRefreshCmd": "cat(var_dic_list()) "
    }
   },
   "types_to_exclude": [
    "module",
    "function",
    "builtin_function_or_method",
    "instance",
    "_Feature"
   ],
   "window_display": false
  }
 },
 "nbformat": 4,
 "nbformat_minor": 4
}
