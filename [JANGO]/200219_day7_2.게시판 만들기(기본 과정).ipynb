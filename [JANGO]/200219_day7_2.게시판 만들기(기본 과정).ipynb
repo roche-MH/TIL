{
 "cells": [
  {
   "cell_type": "markdown",
   "metadata": {},
   "source": [
    "# 게시판\n",
    "> 블로그에서 확장되는 개념=> 일반화하기\n",
    "- 조회수, 이미지 upload -> models.py에서 해결\n",
    "- 1개 게시판 -> n개\n",
    "- paging / 동적 loading"
   ]
  },
  {
   "cell_type": "markdown",
   "metadata": {},
   "source": [
    "# 1. setting\n",
    "- python manamge.py startapp myboard\n",
    "\n",
    "> 기존의 app에서 복사할 것\n",
    "- admin.py\n",
    "- forms.py\n",
    "- models.py\n",
    "- urls.py\n",
    "- views.py\n",
    "\n",
    "> template도 복사"
   ]
  },
  {
   "cell_type": "code",
   "execution_count": 3,
   "metadata": {
    "ExecuteTime": {
     "end_time": "2020-02-19T04:37:24.174867Z",
     "start_time": "2020-02-19T04:37:24.171167Z"
    }
   },
   "outputs": [
    {
     "data": {
      "text/plain": [
       "\"\\nINSTALLED_APPS = [\\n    'django.contrib.admin',\\n    'django.contrib.auth',\\n    'django.contrib.contenttypes',\\n    'django.contrib.sessions',\\n    'django.contrib.messages',\\n    'django.contrib.staticfiles',\\n    'myapp',\\n    'django_extensions',\\n    'ajax',\\n    'blog',\\n    'myboard', \\n]\\n\\n\""
      ]
     },
     "execution_count": 3,
     "metadata": {},
     "output_type": "execute_result"
    }
   ],
   "source": [
    "# settings.py\n",
    "'''\n",
    "INSTALLED_APPS = [\n",
    "    'django.contrib.admin',\n",
    "    'django.contrib.auth',\n",
    "    'django.contrib.contenttypes',\n",
    "    'django.contrib.sessions',\n",
    "    'django.contrib.messages',\n",
    "    'django.contrib.staticfiles',\n",
    "    'myapp',\n",
    "    'django_extensions',\n",
    "    'ajax',\n",
    "    'blog',\n",
    "    'myboard', \n",
    "]\n",
    "\n",
    "'''"
   ]
  },
  {
   "cell_type": "code",
   "execution_count": 2,
   "metadata": {
    "ExecuteTime": {
     "end_time": "2020-02-19T04:37:21.825128Z",
     "start_time": "2020-02-19T04:37:21.817151Z"
    }
   },
   "outputs": [
    {
     "data": {
      "text/plain": [
       "\"\\nfrom django.contrib import admin\\nfrom django.urls import path, include\\n\\nurlpatterns = [\\n    path('admin/', admin.site.urls),\\n    path('ajax/', include('ajax.urls')),\\n    path('', include('myapp.urls')),\\n    path('blog/', include('blog.urls')),\\n    path('myboard/', include('myboard.urls')),\\n\\n]\\n\\n\\n\""
      ]
     },
     "execution_count": 2,
     "metadata": {},
     "output_type": "execute_result"
    }
   ],
   "source": [
    "# urls.py\n",
    "'''\n",
    "from django.contrib import admin\n",
    "from django.urls import path, include\n",
    "\n",
    "urlpatterns = [\n",
    "    path('admin/', admin.site.urls),\n",
    "    path('ajax/', include('ajax.urls')),\n",
    "    path('', include('myapp.urls')),\n",
    "    path('blog/', include('blog.urls')),\n",
    "    path('myboard/', include('myboard.urls')),\n",
    "\n",
    "]\n",
    "\n",
    "\n",
    "'''"
   ]
  },
  {
   "cell_type": "markdown",
   "metadata": {},
   "source": [
    "# 2. model 만들기"
   ]
  },
  {
   "cell_type": "code",
   "execution_count": null,
   "metadata": {},
   "outputs": [],
   "source": [
    "# models.py\n",
    "'''\n",
    "from django.db import models\n",
    "from django.utils import timezone\n",
    "\n",
    "# Create your models here.\n",
    "class Board(models.Model):\n",
    "    \n",
    "    author = models.ForeignKey('auth.User',\n",
    "                            on_delete= models.CASCADE, \n",
    "                            )\n",
    "                                 \n",
    "    title = models.CharField(max_length = 200)\n",
    "    text = models.TextField()  # textarea로 받는 부분\n",
    "    created_data = models.DateTimeField(default =timezone.now)\n",
    "    published_date = models.DateTimeField(blank = True, # application 관점에서 data가 비어도 되는지\n",
    "                                            null = True) # 데이터 베이서 관점에서 널값 허용\n",
    "\n",
    "    cnt = models.IntegerField(default = 0)\n",
    "    image = models.CharField(max_length=200, null = True, blank = True)\n",
    "    \n",
    "    # QnA인지 게시판 별 구분할 수 있는 filed\n",
    "    category = models.CharField(max_length = 10, default = 'common')\n",
    "    \n",
    "    # 프린트 함수\n",
    "    def __str__(self):\n",
    "        return self.title\n",
    "\n",
    "\n",
    "'''"
   ]
  },
  {
   "cell_type": "markdown",
   "metadata": {},
   "source": [
    "## admin.py에서 db 등록하기"
   ]
  },
  {
   "cell_type": "code",
   "execution_count": 4,
   "metadata": {
    "ExecuteTime": {
     "end_time": "2020-02-19T04:44:09.428244Z",
     "start_time": "2020-02-19T04:44:09.416671Z"
    }
   },
   "outputs": [
    {
     "data": {
      "text/plain": [
       "'\\nfrom django.contrib import admin\\nfrom . import models\\n# Register your models here.\\n\\nadmin.site.register(Board)\\n'"
      ]
     },
     "execution_count": 4,
     "metadata": {},
     "output_type": "execute_result"
    }
   ],
   "source": [
    "# admin.py\n",
    "'''\n",
    "from django.contrib import admin\n",
    "from . import models\n",
    "# Register your models here.\n",
    "\n",
    "admin.site.register(models.Board)\n",
    "'''"
   ]
  },
  {
   "cell_type": "markdown",
   "metadata": {},
   "source": [
    "# 3. Forms.py 수정"
   ]
  },
  {
   "cell_type": "code",
   "execution_count": null,
   "metadata": {},
   "outputs": [],
   "source": [
    "# forms.py\n",
    "'''\n",
    "\n",
    "from . import models\n",
    "from django.forms import ValidationError\n",
    "from django import forms\n",
    "\n",
    "\n",
    "def validator(value):\n",
    "    if len(value) < 5 : raise  ValidationError('길이가 너무 짧아요')\n",
    "\n",
    "\n",
    "class BoardForm(forms.ModelForm):\n",
    "        # 부가적인 정보를 입력하는 calss\n",
    "    class Meta:\n",
    "        # model: 정해진 변수명\n",
    "        model = models.Borad\n",
    "        fields = ['title', 'text', 'category]\n",
    "\n",
    "        # 입력할 때 category, image도 처리해야 함.-> image field는 추가로 처리하기\n",
    "        \n",
    "    def __init__(self, *args, **kwargs):\n",
    "        super(BoardForm, self).__init__(*args, **kwargs)\n",
    "        self.fields['title'].validator=[validator]\n",
    "\n",
    "\n",
    "'''"
   ]
  },
  {
   "cell_type": "markdown",
   "metadata": {},
   "source": [
    "# urls.py 수정"
   ]
  },
  {
   "cell_type": "code",
   "execution_count": null,
   "metadata": {},
   "outputs": [],
   "source": [
    "'''\n",
    "\n",
    "from . import models\n",
    "from django.forms import ValidationError\n",
    "from django import forms\n",
    "\n",
    "\n",
    "def validator(value):\n",
    "    if len(value) < 5 : raise  ValidationError('길이가 너무 짧아요')\n",
    "\n",
    "\n",
    "class BoardForm(forms.ModelForm):\n",
    "        # 부가적인 정보를 입력하는 calss\n",
    "    class Meta:\n",
    "        # model: 정해진 변수명\n",
    "        model = models.Borad\n",
    "        fields = ['title', 'text', 'category]\n",
    "\n",
    "        # 입력할 때 category, image도 처리해야 함.-> image field는 추가로 처리하기\n",
    "        \n",
    "    def __init__(self, *args, **kwargs):\n",
    "        super(BoardForm, self).__init__(*args, **kwargs)\n",
    "        self.fields['title'].validator=[validator]\n",
    "\n",
    "\n",
    "'''"
   ]
  },
  {
   "cell_type": "markdown",
   "metadata": {},
   "source": [
    "# 4. Views.py 수정"
   ]
  },
  {
   "cell_type": "code",
   "execution_count": null,
   "metadata": {},
   "outputs": [],
   "source": [
    "'''\n",
    "from django.shortcuts import render, get_object_or_404,redirect\n",
    "from django.http import HttpResponse\n",
    "from django.views.generic import View\n",
    "from django.contrib.auth import authenticate\n",
    "from django.contrib.auth.models import User\n",
    "from django.forms import CharField, Textarea, ValidationError\n",
    "from django import forms\n",
    "#from blog.forms import PostForm  # 프로젝트 명이 바뀌면 blog를 바꿔야하므로 좋지 않음\n",
    "from . import models\n",
    "from . import forms\n",
    "\n",
    "# url: bolg -> index함수 실행\n",
    "def index(request):\n",
    "    return HttpResponse('ok')\n",
    "\n",
    "### <int:pk>/ <mode>를 url을 사용하기 위해\n",
    "class BoardView(View) :\n",
    "    def get(self, request, pk, mode):\n",
    "        print(pk, mode)\n",
    "        if mode =='add':\n",
    "            # pk값은 상관없음.\n",
    "            form = forms.BoardForm()\n",
    "            return render(request, 'myboard/edit.html', {'form': form})\n",
    "        elif mode == 'list':\n",
    "            # pk값 상관없음.\n",
    "            username = request.session.get('username', '')\n",
    "            user = User.objects.get(username =username)\n",
    "            data= models.Board.objects.all().filter(author = user)\n",
    "            context = {'data': data,'username': username}\n",
    "            return render (request,'myboard/list.html', context)\n",
    "\n",
    "        elif mode =='detail':\n",
    "            p = get_object_or_404(models.Board, pk = pk)\n",
    "            return render(request, 'myboard/detail.html', {'d': p})\n",
    "\n",
    "        elif mode == 'edit':\n",
    "            post = get_object_or_404(models.Board, pk=pk)\n",
    "            form = forms.BoardForm(instance=post)\n",
    "\n",
    "        elif mode =='delete':\n",
    "            post = get_object_or_404(models.Board, pk=pk)\n",
    "            post.delete()\n",
    "            return redirect('/0/list')\n",
    "        else:\n",
    "            return HttpResponse('mode를 잘 입력하세용')\n",
    "        return render(request, \"myboard/edit.html\", {\"form\":form})\n",
    "\n",
    "\n",
    "\n",
    "    def post(self, request, pk, mode):\n",
    "\n",
    "        username = request.session[\"username\"]\n",
    "        user = User.objects.get(username=username)\n",
    "\n",
    "        if pk == 0:\n",
    "            form = forms.BoardForm(request.POST)\n",
    "        else:\n",
    "            post = get_object_or_404(models.Board, pk=pk)\n",
    "            form = forms.BoardForm(request.POST, instance=post)\n",
    "\n",
    "        if form.is_valid():\n",
    "            post = form.save(commit=False)\n",
    "            # add할 때 저자정보 넣고\n",
    "            if pk == 0:\n",
    "                post.author = user\n",
    "            # 아닐 때는 조회수 1 증가\n",
    "            else :\n",
    "                post.cnt += 1\n",
    "            post.save()\n",
    "            return redirect(\"myboard\", 0, 'list')  \n",
    "        return render(request, \"myboard/edit.html\", {\"form\": form})\n",
    "            \n",
    "          \n",
    "\n",
    "\n",
    "\n",
    "'''"
   ]
  },
  {
   "cell_type": "markdown",
   "metadata": {},
   "source": [
    "# migration\n",
    "- python manage.py makemigrations\n",
    "- python manage.py migrate"
   ]
  },
  {
   "cell_type": "markdown",
   "metadata": {},
   "source": [
    "# 5. template.py 수정"
   ]
  },
  {
   "cell_type": "code",
   "execution_count": null,
   "metadata": {},
   "outputs": [],
   "source": [
    "# list.py\n",
    "'''\n",
    "<!-- import, includ 개념 -->\n",
    "{% extends 'myboard/base.html' %}\n",
    "\n",
    "\n",
    "<!-- base template안의 위치 지정 -->\n",
    "\n",
    "{% block content %}\n",
    "    <br>\n",
    "   \n",
    "    <a href=\"{% url 'myboard' 0 'add' %}\">Add </a> <br>\n",
    "    여기부터 sub-template<br>\n",
    "\n",
    "    {% for d in data %}\n",
    "    \n",
    "            <a href=\"{% url 'myboard' d.pk 'detail' %}\"> {{d.title}}</a>\n",
    "       <br>\n",
    "    {% endfor %}\n",
    "\n",
    "\n",
    "    \n",
    "\n",
    "{% endblock %}\n",
    "\n",
    "'''"
   ]
  },
  {
   "cell_type": "code",
   "execution_count": null,
   "metadata": {},
   "outputs": [],
   "source": [
    "# detail.py\n",
    "'''\n",
    "<!-- import, includ 개념 -->\n",
    "{% extends 'myboard/base.html' %}\n",
    "\n",
    "\n",
    "<!-- base template안의 위치 지정 -->\n",
    "\n",
    "{% block content %}\n",
    "\n",
    "게시물을 보여줘<br>\n",
    "\n",
    "{{ form.as_p }}\n",
    "   \n",
    "\n",
    "    <a href=\"{%  url 'myboard' d.pk 'edit'  %}\">수정</a>\n",
    "\n",
    "{% endblock %}\n",
    "\n",
    "'''"
   ]
  },
  {
   "cell_type": "code",
   "execution_count": null,
   "metadata": {},
   "outputs": [],
   "source": [
    "# edit.py\n",
    "'''\n",
    "\n",
    "<script src=\"http://code.jquery.com/jquery-1.11.3.min.js\"></script>\n",
    "<script src=\"http://code.jquery.com/jquery-migrate-1.2.1.min.js\"></script>\n",
    "\n",
    " <style>\n",
    "      .bg { background-color: #eeeeee; }\n",
    "      .bd { border: 1px solid #666666; }\n",
    " </style>\n",
    "\n",
    "{% if form.title.value %}\n",
    "<h1>  수정하기 </h1>\n",
    "{% else %}\n",
    "<h1>  신규작성</h1>\n",
    "{% endif %}\n",
    "\n",
    "\n",
    "<form method=post>\n",
    "   {% csrf_token %}\n",
    "   \t{{ form.as_p }}\n",
    "\n",
    "   <input type=\"submit\" value=\"작성\" >\n",
    "\n",
    "</form>\n",
    "\n",
    "<script>\n",
    "    // table에서 id의 title 노드에 bg, bd 속성 적용하기\n",
    "   $(\"#id_title\").addClass('bg bd');\n",
    "</script>\n",
    "\n",
    "\n",
    "'''"
   ]
  },
  {
   "cell_type": "code",
   "execution_count": null,
   "metadata": {},
   "outputs": [],
   "source": [
    "# base.html\n",
    "'''\n",
    "<h2>게시판 만들기</h2><br>\n",
    "\n",
    "사용자: {{username}}\n",
    "\n",
    "\n",
    "{% block content %}\n",
    "{% endblock %}\n",
    "\n",
    "\n",
    "\n",
    "<br>\n",
    "<br>\n",
    "<br>\n",
    "\n",
    "copy right.....<br>\n",
    "서울 특별시\n",
    "'''"
   ]
  }
 ],
 "metadata": {
  "kernelspec": {
   "display_name": "Python 3",
   "language": "python",
   "name": "python3"
  },
  "language_info": {
   "codemirror_mode": {
    "name": "ipython",
    "version": 3
   },
   "file_extension": ".py",
   "mimetype": "text/x-python",
   "name": "python",
   "nbconvert_exporter": "python",
   "pygments_lexer": "ipython3",
   "version": "3.6.10"
  },
  "toc": {
   "base_numbering": 1,
   "nav_menu": {},
   "number_sections": false,
   "sideBar": true,
   "skip_h1_title": false,
   "title_cell": "Table of Contents",
   "title_sidebar": "Contents",
   "toc_cell": false,
   "toc_position": {},
   "toc_section_display": true,
   "toc_window_display": true
  },
  "varInspector": {
   "cols": {
    "lenName": 16,
    "lenType": 16,
    "lenVar": 40
   },
   "kernels_config": {
    "python": {
     "delete_cmd_postfix": "",
     "delete_cmd_prefix": "del ",
     "library": "var_list.py",
     "varRefreshCmd": "print(var_dic_list())"
    },
    "r": {
     "delete_cmd_postfix": ") ",
     "delete_cmd_prefix": "rm(",
     "library": "var_list.r",
     "varRefreshCmd": "cat(var_dic_list()) "
    }
   },
   "types_to_exclude": [
    "module",
    "function",
    "builtin_function_or_method",
    "instance",
    "_Feature"
   ],
   "window_display": false
  }
 },
 "nbformat": 4,
 "nbformat_minor": 4
}
