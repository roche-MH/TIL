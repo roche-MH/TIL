{
 "cells": [
  {
   "cell_type": "markdown",
   "metadata": {},
   "source": [
    "# 1. user별 사진을 보관할 수있는 dB 만들기"
   ]
  },
  {
   "cell_type": "markdown",
   "metadata": {
    "ExecuteTime": {
     "end_time": "2020-02-21T04:41:16.887465Z",
     "start_time": "2020-02-21T04:41:16.883475Z"
    }
   },
   "source": [
    "## 1.1. 모델 사용하지 않고 table 만들기\n",
    "> 필요한 필드\n",
    "- 고유번호\n",
    "- 유저명\n",
    "- 이미지 경로명:이미지만 들어가는것이 좋음"
   ]
  },
  {
   "cell_type": "markdown",
   "metadata": {},
   "source": [
    "#### sqlite browser에서 table 만들기"
   ]
  },
  {
   "cell_type": "code",
   "execution_count": 2,
   "metadata": {
    "ExecuteTime": {
     "end_time": "2020-02-21T04:47:02.370630Z",
     "start_time": "2020-02-21T04:47:02.361654Z"
    }
   },
   "outputs": [
    {
     "data": {
      "text/plain": [
       "'\\nCREATE TABLE myboard_image\\n(\\nid INTEGER PRIMARY KEY AUTOINCREMENT,\\nauthor_id INTEGER NOT NULL,\\nfilename VARCHAR(500) NOT NULL,\\nFOREIGN KEY(author_id) REFERENCES auth_user(id)\\n)\\n\\n'"
      ]
     },
     "execution_count": 2,
     "metadata": {},
     "output_type": "execute_result"
    }
   ],
   "source": [
    "'''\n",
    "CREATE TABLE myboard_image\n",
    "(\n",
    "id INTEGER PRIMARY KEY AUTOINCREMENT,\n",
    "author_id INTEGER NOT NULL,\n",
    "filename VARCHAR(500) NOT NULL,\n",
    "FOREIGN KEY(author_id) REFERENCES auth_user(id)\n",
    ")\n",
    "\n",
    "'''"
   ]
  },
  {
   "cell_type": "markdown",
   "metadata": {},
   "source": [
    "#### models.py에서는"
   ]
  },
  {
   "cell_type": "code",
   "execution_count": null,
   "metadata": {},
   "outputs": [],
   "source": [
    "class Image(models.Model):\n",
    "    author = models.ForeignKey('auth.User', on_delete = models.CASCADE)\n",
    "    filename = models.CharField(max_length = 50)"
   ]
  },
  {
   "cell_type": "markdown",
   "metadata": {},
   "source": [
    "### data insert"
   ]
  },
  {
   "cell_type": "markdown",
   "metadata": {},
   "source": [
    "> sqlite brower에서\n",
    "데이터 보기->새 레코드 추가가능"
   ]
  },
  {
   "cell_type": "code",
   "execution_count": 1,
   "metadata": {
    "ExecuteTime": {
     "end_time": "2020-02-21T04:51:12.526811Z",
     "start_time": "2020-02-21T04:51:12.522828Z"
    }
   },
   "outputs": [],
   "source": [
    "from django.contrib.auth.models import User\n",
    "from myboard import models\n",
    "from django.db import connection  # db를 연계할 수 있음.\n",
    "from django.shortcuts import render"
   ]
  },
  {
   "cell_type": "markdown",
   "metadata": {
    "ExecuteTime": {
     "end_time": "2020-02-21T04:50:04.765857Z",
     "start_time": "2020-02-21T04:50:04.762862Z"
    }
   },
   "source": [
    "#### 실제로 데이터를 넣을 때는 username으로 찾아서, 저장해야 함.\n"
   ]
  },
  {
   "cell_type": "code",
   "execution_count": 7,
   "metadata": {
    "ExecuteTime": {
     "end_time": "2020-02-21T05:02:47.544383Z",
     "start_time": "2020-02-21T05:02:47.535400Z"
    }
   },
   "outputs": [
    {
     "data": {
      "text/plain": [
       "2"
      ]
     },
     "execution_count": 7,
     "metadata": {},
     "output_type": "execute_result"
    }
   ],
   "source": [
    "# user의 id를 찾아서 author id와 file name을 넣어야 함.\n",
    "username = 'lee'\n",
    "sql = f\"select id from auth_user where username = '{username}'\"\n",
    "\n",
    "cursor = connection.cursor()\n",
    "cursor.execute(sql)\n",
    "author_id = cursor.fetchone()[0]\n",
    "author_id"
   ]
  },
  {
   "cell_type": "code",
   "execution_count": 8,
   "metadata": {
    "ExecuteTime": {
     "end_time": "2020-02-21T05:02:58.590449Z",
     "start_time": "2020-02-21T05:02:58.586461Z"
    }
   },
   "outputs": [],
   "source": [
    "filename = 'face2.png'\n",
    "\n",
    "sql = f'''\n",
    "INSERT INTO \"main\".\"myboard_image\"\n",
    "(\"id\", \"author_id\", \"filename\")\n",
    "VALUES ({author_id}, '{filename}');\n",
    "'''\n",
    "v = cursor.fetch"
   ]
  },
  {
   "cell_type": "code",
   "execution_count": null,
   "metadata": {},
   "outputs": [],
   "source": []
  }
 ],
 "metadata": {
  "kernelspec": {
   "display_name": "Django Shell-Plus",
   "language": "python",
   "name": "django_extensions"
  },
  "language_info": {
   "codemirror_mode": {
    "name": "ipython",
    "version": 3
   },
   "file_extension": ".py",
   "mimetype": "text/x-python",
   "name": "python",
   "nbconvert_exporter": "python",
   "pygments_lexer": "ipython3",
   "version": "3.6.10"
  },
  "toc": {
   "base_numbering": 1,
   "nav_menu": {},
   "number_sections": false,
   "sideBar": true,
   "skip_h1_title": false,
   "title_cell": "Table of Contents",
   "title_sidebar": "Contents",
   "toc_cell": false,
   "toc_position": {},
   "toc_section_display": true,
   "toc_window_display": false
  },
  "varInspector": {
   "cols": {
    "lenName": 16,
    "lenType": 16,
    "lenVar": 40
   },
   "kernels_config": {
    "python": {
     "delete_cmd_postfix": "",
     "delete_cmd_prefix": "del ",
     "library": "var_list.py",
     "varRefreshCmd": "print(var_dic_list())"
    },
    "r": {
     "delete_cmd_postfix": ") ",
     "delete_cmd_prefix": "rm(",
     "library": "var_list.r",
     "varRefreshCmd": "cat(var_dic_list()) "
    }
   },
   "types_to_exclude": [
    "module",
    "function",
    "builtin_function_or_method",
    "instance",
    "_Feature"
   ],
   "window_display": false
  }
 },
 "nbformat": 4,
 "nbformat_minor": 4
}
