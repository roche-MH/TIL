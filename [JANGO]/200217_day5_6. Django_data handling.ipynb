{
 "cells": [
  {
   "cell_type": "markdown",
   "metadata": {},
   "source": [
    "# Django_shell_plus에서 data handling하기"
   ]
  },
  {
   "cell_type": "code",
   "execution_count": null,
   "metadata": {
    "ExecuteTime": {
     "end_time": "2020-02-17T06:37:29.021437Z",
     "start_time": "2020-02-17T06:36:04.741Z"
    }
   },
   "outputs": [],
   "source": [
    "from myapp.models import User"
   ]
  },
  {
   "cell_type": "code",
   "execution_count": 3,
   "metadata": {
    "ExecuteTime": {
     "end_time": "2020-02-17T06:19:34.222438Z",
     "start_time": "2020-02-17T06:19:34.207703Z"
    }
   },
   "outputs": [
    {
     "name": "stdout",
     "output_type": "stream",
     "text": [
      "이순신 / 이순신/ 50\n",
      "김유신 / 김유신/ 46\n",
      "홍길동 / 홍길동/ 20\n"
     ]
    }
   ],
   "source": [
    "data = User.objects.all()\n",
    "\n",
    "for d in data:\n",
    "    print(d)"
   ]
  },
  {
   "cell_type": "code",
   "execution_count": 4,
   "metadata": {
    "ExecuteTime": {
     "end_time": "2020-02-17T06:30:37.219001Z",
     "start_time": "2020-02-17T06:30:37.212009Z"
    }
   },
   "outputs": [
    {
     "data": {
      "text/plain": [
       "<User: 이순신 / 이순신/ 50>"
      ]
     },
     "execution_count": 4,
     "metadata": {},
     "output_type": "execute_result"
    }
   ],
   "source": [
    "data[0]"
   ]
  },
  {
   "cell_type": "code",
   "execution_count": 6,
   "metadata": {
    "ExecuteTime": {
     "end_time": "2020-02-17T06:31:05.612655Z",
     "start_time": "2020-02-17T06:31:05.607601Z"
    }
   },
   "outputs": [
    {
     "data": {
      "text/plain": [
       "50"
      ]
     },
     "execution_count": 6,
     "metadata": {},
     "output_type": "execute_result"
    }
   ],
   "source": [
    "data[0].age"
   ]
  },
  {
   "cell_type": "code",
   "execution_count": 7,
   "metadata": {
    "ExecuteTime": {
     "end_time": "2020-02-17T06:31:31.531395Z",
     "start_time": "2020-02-17T06:31:31.527420Z"
    }
   },
   "outputs": [
    {
     "name": "stdout",
     "output_type": "stream",
     "text": [
      "이순신 / 이순신/ 50\n",
      "김유신 / 김유신/ 46\n"
     ]
    }
   ],
   "source": [
    "# 데이터가 많은 경우, 속도가 너무 느림 -> db에서 처리해야 함.(요청)\n",
    "for d in data:\n",
    "    if d.age>=40:\n",
    "        print(d)"
   ]
  },
  {
   "cell_type": "code",
   "execution_count": null,
   "metadata": {
    "ExecuteTime": {
     "start_time": "2020-02-17T06:33:48.757Z"
    }
   },
   "outputs": [],
   "source": [
    "print(data.filter(age>50))\n",
    "\n",
    "# 파이썬에서는 age라는 변수가 없으므로 불가 & 파이썬은 T,F로 출력됨.\n"
   ]
  },
  {
   "cell_type": "code",
   "execution_count": null,
   "metadata": {},
   "outputs": [],
   "source": [
    "print(data.filter(age__gte=50))\n",
    "\n",
    "# 원래 갖고 있는 속성의 의미를 파악해서, sql 문장을 만들어줌. \n",
    "# gte: 크거나 같음."
   ]
  }
 ],
 "metadata": {
  "kernelspec": {
   "display_name": "Django Shell-Plus",
   "language": "python",
   "name": "django_extensions"
  },
  "toc": {
   "base_numbering": 1,
   "nav_menu": {},
   "number_sections": false,
   "sideBar": true,
   "skip_h1_title": false,
   "title_cell": "Table of Contents",
   "title_sidebar": "Contents",
   "toc_cell": false,
   "toc_position": {},
   "toc_section_display": true,
   "toc_window_display": false
  },
  "varInspector": {
   "cols": {
    "lenName": 16,
    "lenType": 16,
    "lenVar": 40
   },
   "kernels_config": {
    "python": {
     "delete_cmd_postfix": "",
     "delete_cmd_prefix": "del ",
     "library": "var_list.py",
     "varRefreshCmd": "print(var_dic_list())"
    },
    "r": {
     "delete_cmd_postfix": ") ",
     "delete_cmd_prefix": "rm(",
     "library": "var_list.r",
     "varRefreshCmd": "cat(var_dic_list()) "
    }
   },
   "types_to_exclude": [
    "module",
    "function",
    "builtin_function_or_method",
    "instance",
    "_Feature"
   ],
   "window_display": false
  }
 },
 "nbformat": 4,
 "nbformat_minor": 4
}
