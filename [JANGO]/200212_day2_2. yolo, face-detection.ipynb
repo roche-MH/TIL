{
 "cells": [
  {
   "cell_type": "markdown",
   "metadata": {},
   "source": [
    "# yolo\n"
   ]
  },
  {
   "cell_type": "code",
   "execution_count": null,
   "metadata": {},
   "outputs": [],
   "source": [
    "# web.py\n",
    "'''\n",
    "@app.route('/fileUpload', methods = ['POST'])\n",
    "def fileUpload():\n",
    "    if request.method=='POST':\n",
    "        f = request.files['file1']\n",
    "        # post 방식\n",
    "        # 물리적인 폴더 경로 입력\n",
    "        file_path ='./static/' + f.filename \n",
    "        f.save(file_path)\n",
    "\n",
    "\n",
    "        title = request.form.get('title')\n",
    "        # id = len(Data)\n",
    "        id = int(listData[len(listData)-1]['id']) + 1\n",
    "        listData.append({'id': len(listData), 'img': f.filename,'title': title})\n",
    "\n",
    "\n",
    "        yolo_image =yolo.detectionObject(file_path)\n",
    "        filename = f.filename.replace('.jpg','')\n",
    "        yolo_file_path = f'./static/{filename}_yolo.jpg'\n",
    "        yolo_img_name = f'{filename}_yolo.jpg'\n",
    "        cv2.imwrite(yolo_file_path, yolo_image) \n",
    "\n",
    "        listData.append({'id': len(listData), 'img': yolo_img_name,'title': title})\n",
    "        print(listData)\n",
    "\n",
    "        # 새창에 이미지 보여줄 때\n",
    "        # return f'파일 \"{title}\" 업로드 성공 <br><img src={yolo_file_path}>'\n",
    "        return render_template('image.html', listData = listData) \n",
    "'''"
   ]
  },
  {
   "cell_type": "code",
   "execution_count": null,
   "metadata": {},
   "outputs": [],
   "source": [
    "# image.html\n",
    "'''\n",
    "<table>\n",
    "            <tr>\n",
    "                <td id = 'img'>\n",
    "                {% for s in listData %}\n",
    "            \n",
    "                    <table>\n",
    "                        <tr>\n",
    "                            <td>\n",
    "                                <a href=/view?id={{s.id}}>\n",
    "                                <img src=\"/static/{{s.img}}\" width = 200>\n",
    "                                </a>\n",
    "                            </td>\n",
    "                            <td><h4>{{s.title}}</h4></td>\n",
    "                            <td><a href=\"/deleteImage?id={{s.id}}\">delete</a></td>\n",
    "                        </tr>\n",
    "                    </table>\n",
    "                {% endfor %}\n",
    "\n",
    "                <form action = \"/fileUpload\" method = \"POST\" enctype = \"multipart/form-data\">      \n",
    "                    <!-- <input type = \"file\" name = \"file1\" /> <br> -->\n",
    "                    <input type = 'file' name = 'file1' accept = 'image/*' capture='camera'/> \n",
    "                    <br>\n",
    "                        ì œëª© :<input type=text name=title>\n",
    "                    <input type = \"submit\" value=\"ì „ì†¡\"/>    \n",
    "                </form>\n",
    "                </td>\n",
    "\n",
    "\n",
    "                <td>\n",
    "                    <img src=\"/static/{{listData[-1].img}}\" width = 1000>\n",
    "\n",
    "\n",
    "                </td>\n",
    "            </tr>\n",
    "            </table>\n",
    "            '''"
   ]
  }
 ],
 "metadata": {
  "kernelspec": {
   "display_name": "Python 3",
   "language": "python",
   "name": "python3"
  },
  "language_info": {
   "codemirror_mode": {
    "name": "ipython",
    "version": 3
   },
   "file_extension": ".py",
   "mimetype": "text/x-python",
   "name": "python",
   "nbconvert_exporter": "python",
   "pygments_lexer": "ipython3",
   "version": "3.7.5"
  },
  "toc": {
   "base_numbering": 1,
   "nav_menu": {},
   "number_sections": false,
   "sideBar": true,
   "skip_h1_title": false,
   "title_cell": "Table of Contents",
   "title_sidebar": "Contents",
   "toc_cell": false,
   "toc_position": {},
   "toc_section_display": true,
   "toc_window_display": false
  },
  "varInspector": {
   "cols": {
    "lenName": 16,
    "lenType": 16,
    "lenVar": 40
   },
   "kernels_config": {
    "python": {
     "delete_cmd_postfix": "",
     "delete_cmd_prefix": "del ",
     "library": "var_list.py",
     "varRefreshCmd": "print(var_dic_list())"
    },
    "r": {
     "delete_cmd_postfix": ") ",
     "delete_cmd_prefix": "rm(",
     "library": "var_list.r",
     "varRefreshCmd": "cat(var_dic_list()) "
    }
   },
   "types_to_exclude": [
    "module",
    "function",
    "builtin_function_or_method",
    "instance",
    "_Feature"
   ],
   "window_display": false
  }
 },
 "nbformat": 4,
 "nbformat_minor": 2
}
